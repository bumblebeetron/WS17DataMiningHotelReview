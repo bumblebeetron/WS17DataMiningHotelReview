{
 "cells": [
  {
   "cell_type": "code",
   "execution_count": 124,
   "metadata": {
    "collapsed": true
   },
   "outputs": [],
   "source": [
    "import numpy as np\n",
    "from sklearn import svm\n",
    "from sklearn.model_selection import train_test_split\n",
    "from sklearn.metrics import confusion_matrix\n",
    "import scipy.sparse as sps\n",
    "from sklearn.feature_selection import SelectFromModel\n",
    "import collections\n",
    "from sklearn.linear_model import LogisticRegression\n",
    "from sklearn.multiclass import OneVsRestClassifier\n",
    "from sklearn.svm import LinearSVC\n",
    "from sklearn.preprocessing import MaxAbsScaler\n",
    "import matplotlib.pyplot as plt\n",
    "import itertools"
   ]
  },
  {
   "cell_type": "code",
   "execution_count": 125,
   "metadata": {
    "collapsed": true
   },
   "outputs": [],
   "source": [
    "def plot_confusion_matrix(cm, classes,\n",
    "                          normalize=False,\n",
    "                          title='Confusion matrix',\n",
    "                          cmap=plt.cm.Blues):\n",
    "    \"\"\"\n",
    "    This function prints and plots the confusion matrix.\n",
    "    Normalization can be applied by setting `normalize=True`.\n",
    "    \"\"\"\n",
    "    #rcParams['figure.figsize'] = 6, 6\n",
    "    \n",
    "    if normalize:\n",
    "        cm = cm.astype('float') / cm.sum(axis=1)[:, np.newaxis]\n",
    "        print(\"Normalized confusion matrix\")\n",
    "    else:\n",
    "        print('Confusion matrix, without normalization')\n",
    "\n",
    "    print(cm)\n",
    "\n",
    "    plt.imshow(cm, interpolation='nearest', cmap=cmap)\n",
    "    plt.title(title)\n",
    "    #plt.colorbar()\n",
    "    tick_marks = np.arange(len(classes))\n",
    "    plt.xticks(tick_marks, classes, rotation=45)\n",
    "    plt.yticks(tick_marks, classes)\n",
    "\n",
    "    fmt = '.2f' if normalize else 'd'\n",
    "    thresh = cm.max() / 2.\n",
    "    for i, j in itertools.product(range(cm.shape[0]), range(cm.shape[1])):\n",
    "        plt.text(j, i, format(cm[i, j], fmt),\n",
    "                 horizontalalignment=\"center\",\n",
    "                 color=\"white\" if cm[i, j] > thresh else \"black\")\n",
    "\n",
    "    plt.tight_layout()\n",
    "    plt.ylabel('True label')\n",
    "    plt.xlabel('Predicted label')"
   ]
  },
  {
   "cell_type": "code",
   "execution_count": 126,
   "metadata": {
    "collapsed": true
   },
   "outputs": [],
   "source": [
    "bins = [[-np.inf, 7.3710848960051774],\n",
    "        [7.3710848960051774, 7.9191325350755957],\n",
    "        [7.9191325350755957, 9.0152278132164323],\n",
    "        [9.0152278132164323, 9.5632754522868506],\n",
    "        [9.5632754522868506, np.inf]]\n",
    "\n",
    "bins5 = [[-np.inf, 7.3710848960051774],\n",
    "        [7.3710848960051774, 7.9191325350755957],\n",
    "        [7.9191325350755957, 9.0152278132164323],\n",
    "        [9.0152278132164323, 9.9],\n",
    "        [9.9, np.inf]]\n",
    "bnames5 = ['very bad', 'bad', 'average', 'good', 'very good']\n",
    "\n",
    "bins4 = [[-np.inf, 7.3710848960051774],\n",
    "        [7.3710848960051774, 9.0152278132164323],\n",
    "        [9.0152278132164323, 9.9],\n",
    "        [9.9, np.inf]]\n",
    "bnames4 = ['bad', 'average', 'good', 'very good']\n",
    "\n",
    "bins3 = [[-np.inf, 8],\n",
    "        [8,9.5],\n",
    "        [9.5, np.inf]]\n",
    "bnames3 = ['bad', 'average', 'good']\n",
    "\n",
    "bins2 = [[-np.inf, 9],\n",
    "        [9, np.inf]]\n",
    "\n",
    "bnames2 = ['below', 'above']"
   ]
  },
  {
   "cell_type": "code",
   "execution_count": 104,
   "metadata": {
    "collapsed": true
   },
   "outputs": [],
   "source": [
    "def scoreLabel(x, bins):\n",
    "    for i in range(len(bins)):\n",
    "        if bins[i][0] < x <= bins[i][1]:\n",
    "            return i\n",
    "def scoreLabelOneHot(x, bins):\n",
    "    for i in range(len(bins)):\n",
    "        if bins[i][0] < x <= bins[i][1]:\n",
    "            retVec = np.zeros(len(bins))\n",
    "            retVec[i] = 1\n",
    "            return retVec"
   ]
  },
  {
   "cell_type": "code",
   "execution_count": 6,
   "metadata": {
    "collapsed": true
   },
   "outputs": [],
   "source": [
    "#featureMatrix = sps.load_npz('./Datasets_2/Regression_Features.npz')\n",
    "featureMatrix = sps.load_npz('./Feature Selected/Regression_Feat_Selection_VarThr.npz')\n",
    "labels = np.load('./Datasets_2/Regression_Labels.npz')['arr_0']"
   ]
  },
  {
   "cell_type": "code",
   "execution_count": 130,
   "metadata": {},
   "outputs": [
    {
     "name": "stdout",
     "output_type": "stream",
     "text": [
      "bad 0.203876923579\n",
      "average 0.287115793938\n",
      "good 0.260024628332\n",
      "very good 0.248982654151\n"
     ]
    }
   ],
   "source": [
    "bins = bins4\n",
    "bnames = bnames4\n",
    "fname = 'bin2classification.png'\n",
    "\n",
    "#clsLabels = np.array([scoreLabelOneHot(i, bins) for i in labels])\n",
    "clsLabels = np.array([scoreLabel(i, bins) for i in labels])\n",
    "\n",
    "cnt = collections.Counter(clsLabels)\n",
    "i = 0\n",
    "for c in cnt:\n",
    "    print bnames[i], 1.0 * cnt[c] / len(clsLabels)\n",
    "    i+=1"
   ]
  },
  {
   "cell_type": "code",
   "execution_count": 122,
   "metadata": {},
   "outputs": [
    {
     "data": {
      "text/plain": [
       "OneVsRestClassifier(estimator=LinearSVC(C=1.0, class_weight='balanced', dual=True, fit_intercept=True,\n",
       "     intercept_scaling=1, loss='squared_hinge', max_iter=1000,\n",
       "     multi_class='ovr', penalty='l2', random_state=0, tol=0.0001,\n",
       "     verbose=0),\n",
       "          n_jobs=1)"
      ]
     },
     "execution_count": 122,
     "metadata": {},
     "output_type": "execute_result"
    }
   ],
   "source": [
    "train, test, train_labels, test_labels = train_test_split(featureMatrix,clsLabels,test_size=.33,random_state=42)\n",
    "train = MaxAbsScaler().fit_transform(train)\n",
    "test = MaxAbsScaler().fit_transform(test)\n",
    "\n",
    "cls = OneVsRestClassifier(LinearSVC(class_weight='balanced', random_state=0))\n",
    "#cls = OneVsRestClassifier(LogisticRegression(class_weight='balanced'))\n",
    "\n",
    "cls.fit(train,train_labels)"
   ]
  },
  {
   "cell_type": "code",
   "execution_count": 123,
   "metadata": {},
   "outputs": [
    {
     "name": "stdout",
     "output_type": "stream",
     "text": [
      "Normalized confusion matrix\n",
      "[[ 0.73888749  0.26111251]\n",
      " [ 0.21848454  0.78151546]]\n"
     ]
    },
    {
     "data": {
      "image/png": "[encoded data removed]",
      "text/plain": [
       "<matplotlib.figure.Figure at 0xb280c88>"
      ]
     },
     "metadata": {},
     "output_type": "display_data"
    }
   ],
   "source": [
    "test_predict = cls.predict(test)\n",
    "\n",
    "cm = confusion_matrix(test_labels,test_predict).astype(float)\n",
    "plot_confusion_matrix(cm.astype(np.int),bnames, normalize=True)\n",
    "plt.savefig(fname)\n",
    "plt.show()"
   ]
  },
  {
   "cell_type": "markdown",
   "metadata": {},
   "source": [
    "# Results"
   ]
  },
  {
   "cell_type": "markdown",
   "metadata": {},
   "source": [
    "Lreg\n",
    "\n",
    "[ 0.95891481  0.04108519]\n",
    "\n",
    "[ 0.0645503  0.9354497]"
   ]
  },
  {
   "cell_type": "markdown",
   "metadata": {},
   "source": [
    "LREG SGD\n",
    "\n",
    "[ 0.95610143  0.04389857]\n",
    "\n",
    "[ 0.06929303  0.93070697]"
   ]
  },
  {
   "cell_type": "markdown",
   "metadata": {},
   "source": [
    "KBest\n",
    "\n",
    "[ 0.94882631  0.05117369]\n",
    "\n",
    "[ 0.06807347  0.93192653]"
   ]
  },
  {
   "cell_type": "markdown",
   "metadata": {},
   "source": [
    "SVC\n",
    "\n",
    "[ 0.94882631  0.05117369]\n",
    "\n",
    "[ 0.06807347  0.93192653]"
   ]
  },
  {
   "cell_type": "markdown",
   "metadata": {},
   "source": [
    "Var Thr\n",
    "\n",
    "[ 0.94882631  0.05117369]\n",
    "\n",
    "[ 0.06807347  0.93192653]"
   ]
  }
 ],
 "metadata": {
  "kernelspec": {
   "display_name": "Python 2",
   "language": "python",
   "name": "python2"
  },
  "language_info": {
   "codemirror_mode": {
    "name": "ipython",
    "version": 2
   },
   "file_extension": ".py",
   "mimetype": "text/x-python",
   "name": "python",
   "nbconvert_exporter": "python",
   "pygments_lexer": "ipython2",
   "version": "2.7.13"
  }
 },
 "nbformat": 4,
 "nbformat_minor": 2
}
