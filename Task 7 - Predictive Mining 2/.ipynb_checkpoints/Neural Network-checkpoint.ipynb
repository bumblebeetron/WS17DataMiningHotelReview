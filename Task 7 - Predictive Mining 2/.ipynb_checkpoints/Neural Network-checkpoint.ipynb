{
 "cells": [
  {
   "cell_type": "code",
   "execution_count": 32,
   "metadata": {
    "collapsed": true
   },
   "outputs": [],
   "source": [
    "import numpy as np\n",
    "from sklearn.neural_network import MLPClassifier\n",
    "from sklearn.model_selection import train_test_split\n",
    "from sklearn.metrics import confusion_matrix\n",
    "import scipy.sparse as sps\n",
    "from sklearn.feature_selection import SelectFromModel"
   ]
  },
  {
   "cell_type": "code",
   "execution_count": 47,
   "metadata": {},
   "outputs": [],
   "source": [
    "featureMatrix = sps.load_npz('./Feature Selected/Feat_Selection_VarThr.npz')\n",
    "labels = np.load('./Feature Selected/Labels.npz')['arr_0']"
   ]
  },
  {
   "cell_type": "code",
   "execution_count": 37,
   "metadata": {},
   "outputs": [],
   "source": [
    "train, test, train_labels, test_labels = train_test_split(featureMatrix,labels,test_size=.33,random_state=42)"
   ]
  },
  {
   "cell_type": "code",
   "execution_count": 48,
   "metadata": {
    "collapsed": true
   },
   "outputs": [],
   "source": [
    "clf = MLPClassifier(solver='lbfgs', alpha=1e-4, hidden_layer_sizes=(100), random_state=1, verbose=True)"
   ]
  },
  {
   "cell_type": "code",
   "execution_count": 49,
   "metadata": {
    "scrolled": false
   },
   "outputs": [
    {
     "data": {
      "text/plain": [
       "MLPClassifier(activation='relu', alpha=0.0001, batch_size='auto', beta_1=0.9,\n",
       "       beta_2=0.999, early_stopping=False, epsilon=1e-08,\n",
       "       hidden_layer_sizes=100, learning_rate='constant',\n",
       "       learning_rate_init=0.001, max_iter=200, momentum=0.9,\n",
       "       nesterovs_momentum=True, power_t=0.5, random_state=1, shuffle=True,\n",
       "       solver='lbfgs', tol=0.0001, validation_fraction=0.1, verbose=True,\n",
       "       warm_start=False)"
      ]
     },
     "execution_count": 49,
     "metadata": {},
     "output_type": "execute_result"
    }
   ],
   "source": [
    "clf.fit(train,train_labels)"
   ]
  },
  {
   "cell_type": "code",
   "execution_count": 52,
   "metadata": {},
   "outputs": [
    {
     "name": "stdout",
     "output_type": "stream",
     "text": [
      "[ 0.95016407  0.04983593]\n",
      "[ 0.06591739  0.93408261]\n"
     ]
    }
   ],
   "source": [
    "test_predict = clf.predict(test)\n",
    "\n",
    "cm = confusion_matrix(test_labels,test_predict).astype(float)\n",
    "cm[0,:] /= cm[0,:].sum()\n",
    "cm[1,:] /= cm[1,:].sum()\n",
    "\n",
    "for c in cm:\n",
    "    print c"
   ]
  },
  {
   "cell_type": "markdown",
   "metadata": {},
   "source": [
    "# Results"
   ]
  },
  {
   "cell_type": "markdown",
   "metadata": {},
   "source": [
    "Lreg\n",
    "\n",
    "[ 0.95891481  0.04108519]\n",
    "\n",
    "[ 0.0645503  0.9354497]"
   ]
  },
  {
   "cell_type": "markdown",
   "metadata": {},
   "source": [
    "LREG SGD\n",
    "\n",
    "[ 0.95610143  0.04389857]\n",
    "\n",
    "[ 0.06929303  0.93070697]"
   ]
  },
  {
   "cell_type": "markdown",
   "metadata": {},
   "source": [
    "KBest\n",
    "\n",
    "[ 0.94882631  0.05117369]\n",
    "\n",
    "[ 0.06807347  0.93192653]"
   ]
  },
  {
   "cell_type": "markdown",
   "metadata": {},
   "source": [
    "SVC\n",
    "\n",
    "[ 0.94882631  0.05117369]\n",
    "\n",
    "[ 0.06807347  0.93192653]"
   ]
  },
  {
   "cell_type": "markdown",
   "metadata": {},
   "source": [
    "Var Thr\n",
    "\n",
    "[ 0.94882631  0.05117369]\n",
    "\n",
    "[ 0.06807347  0.93192653]"
   ]
  }
 ],
 "metadata": {
  "kernelspec": {
   "display_name": "Python 2",
   "language": "python",
   "name": "python2"
  },
  "language_info": {
   "codemirror_mode": {
    "name": "ipython",
    "version": 2
   },
   "file_extension": ".py",
   "mimetype": "text/x-python",
   "name": "python",
   "nbconvert_exporter": "python",
   "pygments_lexer": "ipython2",
   "version": "2.7.13"
  }
 },
 "nbformat": 4,
 "nbformat_minor": 2
}
