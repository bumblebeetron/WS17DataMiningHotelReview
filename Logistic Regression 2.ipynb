{
 "cells": [
  {
   "cell_type": "code",
   "execution_count": 1,
   "metadata": {
    "collapsed": true
   },
   "outputs": [],
   "source": [
    "import itertools\n",
    "import numpy as np\n",
    "import matplotlib.pyplot as plt\n",
    "import pandas as pd\n",
    "import scipy.sparse as sps\n",
    "import matplotlib.pyplot as plt\n",
    "from sklearn.model_selection import train_test_split\n",
    "from sklearn.preprocessing import normalize, MaxAbsScaler\n",
    "from sklearn.linear_model import LogisticRegression\n",
    "from sklearn.metrics import confusion_matrix\n",
    "from pylab import rcParams\n",
    "from nltk.corpus import stopwords\n",
    "from sklearn.feature_extraction.text import TfidfVectorizer\n",
    "import re\n",
    "from sklearn.feature_selection import SelectKBest\n",
    "from sklearn.feature_selection import chi2\n",
    "from sklearn.svm import LinearSVC\n",
    "from sklearn.feature_selection import SelectFromModel\n",
    "import pickle\n",
    "from sklearn.neural_network import MLPClassifier"
   ]
  },
  {
   "cell_type": "code",
   "execution_count": 2,
   "metadata": {
    "collapsed": true
   },
   "outputs": [],
   "source": []
  },
  {
   "cell_type": "code",
   "execution_count": 3,
   "metadata": {
    "collapsed": true
   },
   "outputs": [],
   "source": [
    "def wordSplit(rev, stop_words = stopwords.words('English')):\n",
    "    s = [item for sublist in [f.lower().split() for f in re.findall('\\d+|\\D+',rev.lower())] for item in sublist]\n",
    "    s = [x for x in s if x not in stop_words]\n",
    "    \n",
    "    return s\n",
    "\n",
    "def bagOfWordsShingles(review, k=3, stop_words = stopwords.words('English')):\n",
    "    s = wordSplit(review, stop_words)\n",
    "    if len(s) < k:\n",
    "        tokens = ['']\n",
    "        for s_ in s:\n",
    "            tokens[0] += s_ + ' '\n",
    "        tokens[0] = tokens[0][:-1]\n",
    "        return tokens\n",
    "        \n",
    "    tokens = []\n",
    "    for i in range(len(s) - k + 1):\n",
    "        bag = ''\n",
    "        for j in range(i, i + k):\n",
    "            bag += s[j]+' '\n",
    "        tokens.append(bag[:-1])\n",
    "    return tokens\n",
    "\n",
    "def bagOfWordsShingles2(review, k=3, stop_words = stopwords.words('English')):\n",
    "    s = wordSplit(review, stop_words)\n",
    "    tokens = []\n",
    "    for K in range(0,k):\n",
    "        for i in range(len(s) - (k-K) + 1):\n",
    "            bag = ''\n",
    "            for j in range(i, i + k-K):\n",
    "                bag += s[j]+' '\n",
    "            tokens.append(bag[:-1])\n",
    "\n",
    "    return tokens"
   ]
  },
  {
   "cell_type": "code",
   "execution_count": 4,
   "metadata": {
    "collapsed": true
   },
   "outputs": [],
   "source": [
    "def plot_confusion_matrix(cm, classes,\n",
    "                          normalize=False,\n",
    "                          title='Confusion matrix',\n",
    "                          cmap=plt.cm.Blues):\n",
    "    \"\"\"\n",
    "    This function prints and plots the confusion matrix.\n",
    "    Normalization can be applied by setting `normalize=True`.\n",
    "    \"\"\"\n",
    "    #rcParams['figure.figsize'] = 6, 6\n",
    "    \n",
    "    if normalize:\n",
    "        cm = cm.astype('float') / cm.sum(axis=1)[:, np.newaxis]\n",
    "        print(\"Normalized confusion matrix\")\n",
    "    else:\n",
    "        print('Confusion matrix, without normalization')\n",
    "\n",
    "    print(cm)\n",
    "\n",
    "    plt.imshow(cm, interpolation='nearest', cmap=cmap)\n",
    "    plt.title(title)\n",
    "    #plt.colorbar()\n",
    "    tick_marks = np.arange(len(classes))\n",
    "    plt.xticks(tick_marks, classes, rotation=45)\n",
    "    plt.yticks(tick_marks, classes)\n",
    "\n",
    "    fmt = '.2f' if normalize else 'd'\n",
    "    thresh = cm.max() / 2.\n",
    "    for i, j in itertools.product(range(cm.shape[0]), range(cm.shape[1])):\n",
    "        plt.text(j, i, format(cm[i, j], fmt),\n",
    "                 horizontalalignment=\"center\",\n",
    "                 color=\"white\" if cm[i, j] > thresh else \"black\")\n",
    "\n",
    "    plt.tight_layout()\n",
    "    plt.ylabel('True label')\n",
    "    plt.xlabel('Predicted label')"
   ]
  },
  {
   "cell_type": "code",
   "execution_count": 5,
   "metadata": {
    "collapsed": true
   },
   "outputs": [],
   "source": [
    "def train_test_LR(featMap, trueLabels, testSize=.33):\n",
    "    train, test, train_labels, test_labels = train_test_split(featMap,trueLabels,test_size=testSize,random_state=42)\n",
    "    train = MaxAbsScaler().fit_transform(train)\n",
    "    test = MaxAbsScaler().fit_transform(test)\n",
    "    \n",
    "    lreg = LogisticRegression(tol=0.001)\n",
    "    lreg.fit(train,train_labels)\n",
    "    test_predict = lreg.predict(test)\n",
    "    \n",
    "    confMat = confusion_matrix(test_labels,test_predict).astype(float)\n",
    "    normConfMat = confMat.copy()\n",
    "    normConfMat[0,:] /= confMat[0,:].sum()\n",
    "    normConfMat[1,:] /= confMat[1,:].sum()\n",
    "    return confMat, normConfMat, lreg.score(test, test_labels)"
   ]
  },
  {
   "cell_type": "code",
   "execution_count": 6,
   "metadata": {
    "collapsed": true
   },
   "outputs": [],
   "source": [
    "def extractFeatures(englishReviews, wordThreshold = 0):\n",
    "    thrPosEngRevs = englishReviews.loc[englishReviews['Positive_Processed_Word_Count'] > wordThreshold]['Positive_Review']\n",
    "    thrNegEngRevs = englishReviews.loc[englishReviews['Negative_Processed_Word_Count'] > wordThreshold]['Negative_Review']\n",
    "\n",
    "    allReviews = pd.concat([thrPosEngRevs, thrNegEngRevs])\n",
    "    labels = np.hstack([np.ones(thrPosEngRevs.shape[0]), np.zeros(thrNegEngRevs.shape[0])])\n",
    "    tfidf = TfidfVectorizer(stop_words=stopwords.words('English'),tokenizer=bagOfWordsShingles2, lowercase=True).fit(allReviews)\n",
    "    featureMatrix = tfidf.fit_transform(allReviews)\n",
    "    \n",
    "    return tfidf, featureMatrix, labels"
   ]
  },
  {
   "cell_type": "code",
   "execution_count": null,
   "metadata": {
    "collapsed": true
   },
   "outputs": [],
   "source": [
    "#englishReviews = pd.read_csv('UKReviewsWordCounted.csv')\n",
    "allReviews = pd_read_csv('Hotel_Reviews.csv')\n",
    "englishReviews = allReviews.loc[allReviews['Reviewer_Nationality'] == ' United Kingdom ']"
   ]
  },
  {
   "cell_type": "code",
   "execution_count": 7,
   "metadata": {
    "collapsed": true
   },
   "outputs": [],
   "source": [
    "\n",
    "\n",
    "thrPosEngRevs = englishReviews['Positive_Review']\n",
    "thrNegEngRevs = englishReviews['Negative_Review']\n",
    "\n",
    "allReviews = pd.concat([thrPosEngRevs, thrNegEngRevs])\n",
    "\n",
    "\n",
    "tfidf = TfidfVectorizer(stop_words=stopwords.words('English'),tokenizer=wordSplit, lowercase=True).fit(allReviews)\n",
    "featureMatrix = tfidf.transform(allReviews)\n",
    "labels = np.hstack([np.ones(thrPosEngRevs.shape[0]), np.zeros(thrNegEngRevs.shape[0])])\n",
    "\n",
    "\n",
    "featureMatrix = TfidfVectorizer(stop_words=stopwords.words('English'),tokenizer=wordSplit, lowercase=True).fit_transform(allReviews)\n",
    "labels = np.hstack([np.ones(thrPosEngRevs.shape[0]), np.zeros(thrNegEngRevs.shape[0])])"
   ]
  },
  {
   "cell_type": "code",
   "execution_count": null,
   "metadata": {
    "collapsed": true
   },
   "outputs": [],
   "source": [
    "# Dim Reduce on whole dataset\n",
    "# Don't do this...\n",
    "selector = LinearSVC(tol=0.001).fit(featureMatrix, labels)\n",
    "selector = LogisticRegression(tol = 0.001).fit(featureMatrix, labels)\n",
    "model = SelectFromModel(selector, prefit=True, threshold='1.25*mean')"
   ]
  },
  {
   "cell_type": "markdown",
   "metadata": {},
   "source": [
    "# Train & Test on SVM and LREG"
   ]
  },
  {
   "cell_type": "code",
   "execution_count": 18,
   "metadata": {},
   "outputs": [
    {
     "name": "stdout",
     "output_type": "stream",
     "text": [
      "(328629, 6679) (161863, 6679)\n",
      "[ 0.94804551  0.05195449]\n",
      "[ 0.06734666  0.93265334]\n",
      "[ 0.95074734  0.04925266]\n",
      "[ 0.06691551  0.93308449]\n"
     ]
    }
   ],
   "source": [
    "train, test, train_labels, test_labels = train_test_split(featureMatrix,labels,test_size=.33,random_state=42)\n",
    "\n",
    "selector = LinearSVC(tol=0.001, penalty=\"l1\", dual=False).fit(train,train_labels)\n",
    "#selector = LogisticRegression().fit(train,train_labels)\n",
    "model = SelectFromModel(selector, prefit=True, threshold='2*mean')\n",
    "\n",
    "train = model.transform(train)\n",
    "test = model.transform(test)\n",
    "\n",
    "print train.shape, test.shape\n",
    "\n",
    "### Until here, you have the dimensionality reduction\n",
    "### From then on, do your ML algorithm\n",
    "\n",
    "lsvc = LinearSVC().fit(train, train_labels)\n",
    "test_predict = lsvc.predict(test)\n",
    "\n",
    "cm = confusion_matrix(test_labels,test_predict).astype(float)\n",
    "cm[0,:] /= cm[0,:].sum()\n",
    "cm[1,:] /= cm[1,:].sum()\n",
    "\n",
    "for c in cm:\n",
    "    print c\n",
    "\n",
    "lreg = LogisticRegression().fit(train,train_labels)\n",
    "test_predict = lreg.predict(test)\n",
    "\n",
    "cm = confusion_matrix(test_labels,test_predict).astype(float)\n",
    "cm[0,:] /= cm[0,:].sum()\n",
    "cm[1,:] /= cm[1,:].sum()\n",
    "for c in cm:\n",
    "    print c"
   ]
  },
  {
   "cell_type": "markdown",
   "metadata": {},
   "source": [
    "# SVM\n",
    "SVM:\n",
    "Normalized confusion matrix\n",
    "[[ 0.94740104  0.05259896]\n",
    " [ 0.08559075  0.91440925]]\n",
    "LRGEG:\n",
    "Normalized confusion matrix\n",
    "[[ 0.94666981  0.05333019]\n",
    " [ 0.08183352  0.91816648]]\n",
    "DIM: 376 / 43330"
   ]
  },
  {
   "cell_type": "markdown",
   "metadata": {},
   "source": [
    "# LREG\n",
    "SVM:\n",
    "Normalized confusion matrix\n",
    "[[ 0.94790918  0.05209082]\n",
    " [ 0.06632421  0.93367579]]\n",
    "LRGEG:\n",
    "Normalized confusion matrix\n",
    "[[ 0.9512183   0.0487817 ]\n",
    " [ 0.06607783  0.93392217]]\n",
    "DIM: 9493 / 43330"
   ]
  }
 ],
 "metadata": {
  "kernelspec": {
   "display_name": "Python 2",
   "language": "python",
   "name": "python2"
  },
  "language_info": {
   "codemirror_mode": {
    "name": "ipython",
    "version": 2
   },
   "file_extension": ".py",
   "mimetype": "text/x-python",
   "name": "python",
   "nbconvert_exporter": "python",
   "pygments_lexer": "ipython2",
   "version": "2.7.13"
  }
 },
 "nbformat": 4,
 "nbformat_minor": 2
}
