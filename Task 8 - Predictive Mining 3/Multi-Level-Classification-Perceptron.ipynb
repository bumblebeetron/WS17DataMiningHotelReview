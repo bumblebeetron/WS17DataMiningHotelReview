{
 "cells": [
  {
   "cell_type": "code",
   "execution_count": 1,
   "metadata": {
    "collapsed": true
   },
   "outputs": [],
   "source": [
    "import numpy as np\n",
    "from sklearn import svm\n",
    "from sklearn.model_selection import train_test_split\n",
    "from sklearn.metrics import confusion_matrix\n",
    "import scipy.sparse as sps\n",
    "from sklearn.feature_selection import SelectFromModel\n",
    "import collections\n",
    "from sklearn.linear_model import LogisticRegression\n",
    "from sklearn.multiclass import OneVsRestClassifier\n",
    "from sklearn.svm import LinearSVC\n",
    "from sklearn.preprocessing import MaxAbsScaler\n",
    "import matplotlib.pyplot as plt\n",
    "import itertools\n",
    "from sklearn.neural_network import MLPClassifier"
   ]
  },
  {
   "cell_type": "code",
   "execution_count": 45,
   "metadata": {
    "collapsed": true
   },
   "outputs": [],
   "source": [
    "def plot_confusion_matrix(cm, classes,\n",
    "                          normalize=False,\n",
    "                          title='Confusion matrix',\n",
    "                          cmap=plt.cm.Blues):\n",
    "    \"\"\"\n",
    "    This function prints and plots the confusion matrix.\n",
    "    Normalization can be applied by setting `normalize=True`.\n",
    "    \"\"\"\n",
    "    plt.rcParams[\"figure.figsize\"] = (8,8)\n",
    "    \n",
    "    if normalize:\n",
    "        cm = cm.astype('float') / cm.sum(axis=1)[:, np.newaxis]\n",
    "        print(\"Normalized confusion matrix\")\n",
    "    else:\n",
    "        print('Confusion matrix, without normalization')\n",
    "\n",
    "    print(cm)\n",
    "\n",
    "    plt.imshow(cm, interpolation='nearest', cmap=cmap, vmin = 0.0, vmax = 1.0)\n",
    "    plt.title(title)\n",
    "    #plt.colorbar()\n",
    "    tick_marks = np.arange(len(classes))\n",
    "    plt.xticks(tick_marks, classes, rotation=45)\n",
    "    plt.yticks(tick_marks, classes)\n",
    "\n",
    "    fmt = '.2f' if normalize else 'd'\n",
    "    thresh = cm.max() / 2.\n",
    "    for i, j in itertools.product(range(cm.shape[0]), range(cm.shape[1])):\n",
    "        plt.text(j, i, format(cm[i, j], fmt),\n",
    "                 horizontalalignment=\"center\",\n",
    "                 color=\"white\" if cm[i, j] > thresh else \"black\")\n",
    "\n",
    "    #plt.tight_layout()\n",
    "    plt.ylabel('True label')\n",
    "    plt.xlabel('Predicted label')"
   ]
  },
  {
   "cell_type": "code",
   "execution_count": 3,
   "metadata": {
    "collapsed": true
   },
   "outputs": [],
   "source": [
    "bins0 = [[-np.inf, 7.3710848960051774],\n",
    "        [7.3710848960051774, 7.9191325350755957],\n",
    "        [7.9191325350755957, 9.0152278132164323],\n",
    "        [9.0152278132164323, 9.5632754522868506],\n",
    "        [9.5632754522868506, np.inf]]\n",
    "bnames0 = ['very bad', 'bad', 'average', 'good', 'very good']\n",
    "\n",
    "bins5 = [[-np.inf, 7.3710848960051774],\n",
    "        [7.3710848960051774, 7.9191325350755957],\n",
    "        [7.9191325350755957, 9.0152278132164323],\n",
    "        [9.0152278132164323, 9.9],\n",
    "        [9.9, np.inf]]\n",
    "bnames5 = ['very bad', 'bad', 'average', 'good', 'very good']\n",
    "\n",
    "bins4 = [[-np.inf, 7.3710848960051774],\n",
    "        [7.3710848960051774, 9.0152278132164323],\n",
    "        [9.0152278132164323, 9.9],\n",
    "        [9.9, np.inf]]\n",
    "bnames4 = ['bad', 'average', 'good', 'very good']\n",
    "\n",
    "bins3 = [[-np.inf, 8],\n",
    "        [8,9.5],\n",
    "        [9.5, np.inf]]\n",
    "bnames3 = ['bad', 'average', 'good']\n",
    "\n",
    "bins2 = [[-np.inf, 9],\n",
    "        [9, np.inf]]\n",
    "\n",
    "bnames2 = ['below', 'above']"
   ]
  },
  {
   "cell_type": "code",
   "execution_count": 4,
   "metadata": {
    "collapsed": true
   },
   "outputs": [],
   "source": [
    "binsCheat = [[-np.inf, 7],\n",
    "        [7, 7.5],\n",
    "        [7.5, 9.5],\n",
    "        [9.5, 9.8],\n",
    "        [9.9, np.inf]]\n",
    "bnamesCheat = ['very bad', 'bad', 'average', 'good', 'very good']"
   ]
  },
  {
   "cell_type": "code",
   "execution_count": 5,
   "metadata": {
    "collapsed": true
   },
   "outputs": [],
   "source": [
    "def scoreLabel(x, bins):\n",
    "    for i in range(len(bins)):\n",
    "        if bins[i][0] < x <= bins[i][1]:\n",
    "            return i"
   ]
  },
  {
   "cell_type": "code",
   "execution_count": 6,
   "metadata": {
    "collapsed": true
   },
   "outputs": [],
   "source": [
    "#featureMatrix = sps.load_npz('./Datasets_2/Regression_Features.npz')\n",
    "featureMatrix = sps.load_npz('./Week7Dataset/Regression_Feat_Selection_VarThr.npz')\n",
    "labels = np.load('./Week7Dataset/Regression_Labels.npz')['arr_0']"
   ]
  },
  {
   "cell_type": "code",
   "execution_count": 17,
   "metadata": {},
   "outputs": [
    {
     "name": "stdout",
     "output_type": "stream",
     "text": [
      "very bad 0.203876923579\n",
      "bad 0.127341526467\n",
      "average 0.15977426747\n",
      "good 0.260024628332\n",
      "very good 0.248982654151\n"
     ]
    }
   ],
   "source": [
    "bins = bins5\n",
    "bnames = bnames5\n",
    "#fname = 'bin2classification.png'\n",
    "\n",
    "#clsLabels = np.array([scoreLabelOneHot(i, bins) for i in labels])\n",
    "clsLabels = np.array([scoreLabel(i, bins) for i in labels])\n",
    "\n",
    "cnt = collections.Counter(clsLabels)\n",
    "i = 0\n",
    "for c in cnt:\n",
    "    print bnames[i], 1.0 * cnt[c] / len(clsLabels)\n",
    "    i+=1"
   ]
  },
  {
   "cell_type": "code",
   "execution_count": 18,
   "metadata": {
    "collapsed": true
   },
   "outputs": [],
   "source": [
    "train, test, train_labels, test_labels = train_test_split(featureMatrix,clsLabels,test_size=.33,random_state=42)\n",
    "train = MaxAbsScaler().fit_transform(train)\n",
    "test = MaxAbsScaler().fit_transform(test)"
   ]
  },
  {
   "cell_type": "code",
   "execution_count": 19,
   "metadata": {
    "collapsed": true
   },
   "outputs": [],
   "source": [
    "train_stp1 = train.copy()\n",
    "train_l_stp1 = train_labels.copy()\n",
    "train_l_stp1[np.where(np.logical_and(train_l_stp1>=1, train_l_stp1<=3))] = 1\n",
    "train_l_stp1[train_l_stp1 == 4] = 2\n",
    "\n",
    "train_stp2 = train[np.where(np.logical_and(train_labels>=1, train_labels<=3))].copy()\n",
    "train_l_stp2 = train_labels[np.where(np.logical_and(train_labels>=1, train_labels<=3))].copy() - 1"
   ]
  },
  {
   "cell_type": "code",
   "execution_count": 20,
   "metadata": {
    "collapsed": true
   },
   "outputs": [],
   "source": [
    "test_stp1 = test.copy()\n",
    "test_l_stp1 = test_labels.copy()\n",
    "test_l_stp1[np.where(np.logical_and(test_l_stp1>=1, test_l_stp1<=3))] = 1\n",
    "test_l_stp1[test_l_stp1 == 4] = 2\n",
    "\n",
    "test_stp2 = test[np.where(np.logical_and(test_labels>=1, test_labels<=3))].copy()\n",
    "test_l_stp2 = test_labels[np.where(np.logical_and(test_labels>=1, test_labels<=3))].copy() - 1"
   ]
  },
  {
   "cell_type": "code",
   "execution_count": 21,
   "metadata": {
    "collapsed": true
   },
   "outputs": [
    {
     "name": "stdout",
     "output_type": "stream",
     "text": [
      "Iteration 1, loss = 0.75480480\n",
      "Iteration 2, loss = 0.70074771\n",
      "Iteration 3, loss = 0.68770098\n",
      "Iteration 4, loss = 0.67662198\n",
      "Iteration 5, loss = 0.66426760\n",
      "Iteration 6, loss = 0.65113798\n",
      "Iteration 7, loss = 0.63604286\n",
      "Iteration 8, loss = 0.61866652\n",
      "Iteration 9, loss = 0.59904577\n",
      "Iteration 10, loss = 0.57750873\n",
      "Iteration 11, loss = 0.55391794\n",
      "Iteration 12, loss = 0.52907429\n",
      "Iteration 13, loss = 0.50271024\n",
      "Iteration 14, loss = 0.47601466\n",
      "Iteration 15, loss = 0.44910026\n",
      "Iteration 16, loss = 0.42264716\n",
      "Iteration 17, loss = 0.39634229\n",
      "Iteration 18, loss = 0.37160612\n",
      "Iteration 19, loss = 0.34769475\n",
      "Iteration 20, loss = 0.32468178\n",
      "Iteration 21, loss = 0.30375478\n",
      "Iteration 22, loss = 0.28425530\n",
      "Iteration 23, loss = 0.26515439\n",
      "Iteration 24, loss = 0.24870251\n",
      "Iteration 25, loss = 0.23205149\n",
      "Iteration 26, loss = 0.21756582\n",
      "Iteration 27, loss = 0.20346051\n",
      "Iteration 28, loss = 0.19130586\n",
      "Iteration 29, loss = 0.17948362\n",
      "Iteration 30, loss = 0.16871873\n",
      "Iteration 31, loss = 0.15888782\n",
      "Iteration 32, loss = 0.15030456\n",
      "Iteration 33, loss = 0.14196945\n",
      "Iteration 34, loss = 0.13406954\n",
      "Iteration 35, loss = 0.12758159\n",
      "Iteration 36, loss = 0.12188934\n",
      "Iteration 37, loss = 0.11589388\n",
      "Iteration 38, loss = 0.11084747\n",
      "Iteration 39, loss = 0.10565985\n",
      "Iteration 40, loss = 0.10201266\n"
     ]
    },
    {
     "data": {
      "text/plain": [
       "MLPClassifier(activation='relu', alpha=1e-05, batch_size='auto', beta_1=0.9,\n",
       "       beta_2=0.999, early_stopping=False, epsilon=1e-08,\n",
       "       hidden_layer_sizes=(100,), learning_rate='constant',\n",
       "       learning_rate_init=0.001, max_iter=200, momentum=0.9,\n",
       "       nesterovs_momentum=True, power_t=0.5, random_state=None,\n",
       "       shuffle=True, solver='adam', tol=0.0001, validation_fraction=0.1,\n",
       "       verbose=True, warm_start=False)"
      ]
     },
     "execution_count": 21,
     "metadata": {},
     "output_type": "execute_result"
    }
   ],
   "source": [
    "#cls1 = OneVsRestClassifier(LinearSVC(class_weight='balanced', random_state=0))\n",
    "#cls1 = OneVsRestClassifier(LogisticRegression(class_weight='balanced', random_state=0))\n",
    "#cls1 = OneVsRestClassifier( MLPClassifier(solver='lbfgs', alpha=1e-5,hidden_layer_sizes=(10, 10), random_state=1, verbose=True))\n",
    "cls1 = MLPClassifier(solver='adam', alpha=1e-5, max_iter = 40, validation_fraction=.1, hidden_layer_sizes=(100,),verbose=True)\n",
    "cls1.fit(train_stp1, train_l_stp1)\n",
    "cls1params = cls1.get_params()\n",
    "np.save('cls1params',cls1params)"
   ]
  },
  {
   "cell_type": "code",
   "execution_count": 39,
   "metadata": {
    "collapsed": true
   },
   "outputs": [
    {
     "name": "stdout",
     "output_type": "stream",
     "text": [
      "Iteration 1, loss = 0.98480555\n",
      "Iteration 2, loss = 0.94486509\n",
      "Iteration 3, loss = 0.92716068\n",
      "Iteration 4, loss = 0.90603768\n",
      "Iteration 5, loss = 0.87994797\n",
      "Iteration 6, loss = 0.84947217\n",
      "Iteration 7, loss = 0.81546115\n",
      "Iteration 8, loss = 0.77836986\n",
      "Iteration 9, loss = 0.73900065\n",
      "Iteration 10, loss = 0.69711656\n",
      "Iteration 11, loss = 0.65320133\n",
      "Iteration 12, loss = 0.60831557\n",
      "Iteration 13, loss = 0.56195850\n",
      "Iteration 14, loss = 0.51846175\n",
      "Iteration 15, loss = 0.47533088\n",
      "Iteration 16, loss = 0.43542804\n",
      "Iteration 17, loss = 0.39680602\n",
      "Iteration 18, loss = 0.36168189\n",
      "Iteration 19, loss = 0.33022388\n",
      "Iteration 20, loss = 0.30105187\n",
      "Iteration 21, loss = 0.27380931\n",
      "Iteration 22, loss = 0.25010288\n",
      "Iteration 23, loss = 0.22807770\n",
      "Iteration 24, loss = 0.20861811\n",
      "Iteration 25, loss = 0.19172569\n",
      "Iteration 26, loss = 0.17631068\n",
      "Iteration 27, loss = 0.16315758\n",
      "Iteration 28, loss = 0.15072471\n",
      "Iteration 29, loss = 0.13995951\n",
      "Iteration 30, loss = 0.13039912\n",
      "Iteration 31, loss = 0.12205216\n",
      "Iteration 32, loss = 0.11503343\n",
      "Iteration 33, loss = 0.10832836\n",
      "Iteration 34, loss = 0.10325752\n",
      "Iteration 35, loss = 0.09812385\n",
      "Iteration 36, loss = 0.09343069\n",
      "Iteration 37, loss = 0.08964451\n",
      "Iteration 38, loss = 0.08592362\n",
      "Iteration 39, loss = 0.08304393\n",
      "Iteration 40, loss = 0.08064424\n",
      "Iteration 41, loss = 0.07847049\n",
      "Iteration 42, loss = 0.07554381\n",
      "Iteration 43, loss = 0.07421550\n",
      "Iteration 44, loss = 0.07243094\n",
      "Iteration 45, loss = 0.06995098\n",
      "Iteration 46, loss = 0.06883383\n",
      "Iteration 47, loss = 0.06740575\n",
      "Iteration 48, loss = 0.06646217\n",
      "Iteration 49, loss = 0.06600395\n",
      "Iteration 50, loss = 0.06527916\n",
      "Iteration 51, loss = 0.06276192\n",
      "Iteration 52, loss = 0.06398966\n",
      "Iteration 53, loss = 0.06263957\n",
      "Iteration 54, loss = 0.06253824\n",
      "Iteration 55, loss = 0.06117783\n",
      "Iteration 56, loss = 0.06041096\n",
      "Iteration 57, loss = 0.06011228\n",
      "Iteration 58, loss = 0.06024145\n",
      "Iteration 59, loss = 0.06003435\n",
      "Iteration 60, loss = 0.05901188\n",
      "Iteration 61, loss = 0.05815030\n",
      "Iteration 62, loss = 0.05879500\n",
      "Iteration 63, loss = 0.05729587\n",
      "Iteration 64, loss = 0.05846689\n",
      "Iteration 65, loss = 0.05739133\n",
      "Iteration 66, loss = 0.05695414\n",
      "Iteration 67, loss = 0.05711247\n",
      "Iteration 68, loss = 0.05532408\n",
      "Iteration 69, loss = 0.05652303\n",
      "Iteration 70, loss = 0.05587913\n",
      "Iteration 71, loss = 0.05634730\n",
      "Training loss did not improve more than tol=0.000100 for two consecutive epochs. Stopping.\n"
     ]
    }
   ],
   "source": [
    "#cls2 = OneVsRestClassifier(LinearSVC(class_weight='balanced', random_state=0))\n",
    "#cls2 = OneVsRestClassifier(LogisticRegression(class_weight='balanced', random_state=0))\n",
    "cls2 = MLPClassifier(solver='adam', alpha=1e-5, max_iter = 100, validation_fraction=.1, hidden_layer_sizes=(100,),verbose=True)\n",
    "cls2.fit(train_stp2, train_l_stp2)\n",
    "cls2params = cls1.get_params()\n",
    "np.save('cls2params',cls2params)"
   ]
  },
  {
   "cell_type": "code",
   "execution_count": 48,
   "metadata": {},
   "outputs": [
    {
     "name": "stdout",
     "output_type": "stream",
     "text": [
      "Normalized confusion matrix\n",
      "[[ 0.52156033  0.4440883   0.03435138]\n",
      " [ 0.10353712  0.7047802   0.19168268]\n",
      " [ 0.02391822  0.51056967  0.46551211]]\n"
     ]
    },
    {
     "data": {
      "image/png": "[encoded data removed]",
      "text/plain": [
       "<matplotlib.figure.Figure at 0xc79d828>"
      ]
     },
     "metadata": {},
     "output_type": "display_data"
    }
   ],
   "source": [
    "pred_stp1 = cls1.predict(test_stp1)\n",
    "cm = confusion_matrix(test_l_stp1,pred_stp1).astype(float)\n",
    "plot_confusion_matrix(cm.astype(np.int),['very bad', 'middle', 'very good'], normalize=True)\n",
    "plt.savefig('NNexp1')\n",
    "plt.show()"
   ]
  },
  {
   "cell_type": "code",
   "execution_count": 47,
   "metadata": {},
   "outputs": [
    {
     "name": "stdout",
     "output_type": "stream",
     "text": [
      "Normalized confusion matrix\n",
      "[[ 0.19529366  0.71048317  0.09422317]\n",
      " [ 0.11305161  0.73772026  0.14922813]\n",
      " [ 0.05254157  0.68190024  0.26555819]]\n"
     ]
    },
    {
     "data": {
      "image/png": "[encoded data removed]",
      "text/plain": [
       "<matplotlib.figure.Figure at 0xac3ac88>"
      ]
     },
     "metadata": {},
     "output_type": "display_data"
    }
   ],
   "source": [
    "pred_stp2 = cls1.predict(test_stp2)\n",
    "cm = confusion_matrix(test_l_stp2,pred_stp2).astype(float)\n",
    "plot_confusion_matrix(cm.astype(np.int),['bad', 'average', 'good'], normalize=True)\n",
    "plt.savefig('NNexp2')\n",
    "plt.show()"
   ]
  },
  {
   "cell_type": "code",
   "execution_count": 46,
   "metadata": {},
   "outputs": [
    {
     "name": "stdout",
     "output_type": "stream",
     "text": [
      "Normalized confusion matrix\n",
      "[[ 0.52156033  0.17949803  0.14357424  0.12101603  0.03435138]\n",
      " [ 0.19529366  0.20754171  0.23107339  0.27186807  0.09422317]\n",
      " [ 0.11305161  0.16006549  0.23327616  0.34437861  0.14922813]\n",
      " [ 0.05254157  0.10042755  0.18812352  0.39334917  0.26555819]\n",
      " [ 0.02391822  0.0568678   0.11785431  0.33584756  0.46551211]]\n"
     ]
    },
    {
     "data": {
      "image/png": "[encoded data removed]",
      "text/plain": [
       "<matplotlib.figure.Figure at 0x1123a7b8>"
      ]
     },
     "metadata": {},
     "output_type": "display_data"
    }
   ],
   "source": [
    "pred1 = cls1.predict(test_stp1)\n",
    "midPredicted = test[np.where(pred1 == 1)]\n",
    "pred2 = cls2.predict(midPredicted)\n",
    "finPred = pred1*2\n",
    "finPred[finPred == 2] = pred2 + 1\n",
    "\n",
    "cm = confusion_matrix(test_labels, finPred).astype(float)\n",
    "plot_confusion_matrix(cm.astype(np.int),['very bad', 'bad', 'average', 'good', 'very good'], normalize=True)\n",
    "plt.savefig('NNOverall')\n",
    "plt.show()"
   ]
  }
 ],
 "metadata": {
  "kernelspec": {
   "display_name": "Python 2",
   "language": "python",
   "name": "python2"
  },
  "language_info": {
   "codemirror_mode": {
    "name": "ipython",
    "version": 2
   },
   "file_extension": ".py",
   "mimetype": "text/x-python",
   "name": "python",
   "nbconvert_exporter": "python",
   "pygments_lexer": "ipython2",
   "version": "2.7.13"
  }
 },
 "nbformat": 4,
 "nbformat_minor": 2
}
