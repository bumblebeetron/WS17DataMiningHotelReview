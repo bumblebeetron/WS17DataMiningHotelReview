{
 "cells": [
  {
   "cell_type": "code",
   "execution_count": 1,
   "metadata": {
    "collapsed": true
   },
   "outputs": [],
   "source": [
    "import re\n",
    "import os\n",
    "import pickle\n",
    "from nltk.corpus import stopwords\n",
    "import numpy as np\n",
    "import pandas as pd\n",
    "from nltk import ngrams\n",
    "from collections import Counter\n",
    "import random\n",
    "from markov_autocomplete.autocomplete import Autocomplete"
   ]
  },
  {
   "cell_type": "code",
   "execution_count": null,
   "metadata": {
    "collapsed": true
   },
   "outputs": [],
   "source": [
    "nationality = ' United Kingdom '\n",
    "engReviews = hotelReviews.loc[hotelReviews['Reviewer_Nationality'] == nationality][['Positive_Review','Negative_Review']]\n",
    "allReviews = list(engReviews['Positive_Review'].append(engReviews['Negative_Review']))"
   ]
  },
  {
   "cell_type": "code",
   "execution_count": null,
   "metadata": {
    "collapsed": true
   },
   "outputs": [],
   "source": [
    "def preprocess(rev, stop_words = stopwords.words('English'), punctuations=\"\"\"!\"#$%&\\'()*+,./:;<=>?@[\\\\]^_{|}~\"\"\"):\n",
    "    rev = re.sub('[' + punctuations + ']', ' ', rev).strip()\n",
    "    s = [item for sublist in [rev.lower().split()] for item in sublist]\n",
    "    s = [x for x in s if x not in stop_words]\n",
    "    s = ' '.join(s)\n",
    "    return s"
   ]
  },
  {
   "cell_type": "code",
   "execution_count": null,
   "metadata": {
    "collapsed": true
   },
   "outputs": [],
   "source": [
    "processedReviews = []\n",
    "i = 0\n",
    "for ar in allReviews:\n",
    "    if i % (len(allReviews) / 10) == 0:\n",
    "        print 100.0 * i / len(allReviews)\n",
    "    i+=1\n",
    "    processedReviews.append(preprocess(ar))"
   ]
  },
  {
   "cell_type": "code",
   "execution_count": null,
   "metadata": {},
   "outputs": [],
   "source": [
    "random.shuffle(processedReviews)\n",
    "train = processedReviews[100:]\n",
    "test = processedReviews[:100]"
   ]
  },
  {
   "cell_type": "code",
   "execution_count": null,
   "metadata": {
    "collapsed": true
   },
   "outputs": [],
   "source": [
    "with open('processedReviews.pkl', 'wb') as f:\n",
    "    pickle.dump(processedReviews, f)\n",
    "\n",
    "with open('processedTrain.pkl', 'wb') as f:\n",
    "    pickle.dump(train, f)\n",
    "    \n",
    "with open('processedTest.pkl', 'wb') as f:\n",
    "    pickle.dump(test, f)"
   ]
  },
  {
   "cell_type": "code",
   "execution_count": null,
   "metadata": {
    "collapsed": true
   },
   "outputs": [],
   "source": [
    "with open('processedReviews.pkl', 'rb') as f:\n",
    "    processedReviews = pickle.load(f)\n",
    "    \n",
    "with open('processedTrain.pkl', 'rb') as f:\n",
    "    train = pickle.load(f)\n",
    "    \n",
    "with open('processedTest.pkl', 'rb') as f:\n",
    "    test = pickle.load(f)"
   ]
  },
  {
   "cell_type": "code",
   "execution_count": null,
   "metadata": {
    "collapsed": true
   },
   "outputs": [],
   "source": [
    "def getTestValues(sentences, grams = 1):\n",
    "\n",
    "    testValues = []\n",
    "\n",
    "    for s in sentences:\n",
    "        if grams == 1:\n",
    "            oneGrams = ac.get_ngrams(s,1)\n",
    "            for o in range(len(oneGrams) - 1):\n",
    "                testValues.append([oneGrams[o], oneGrams[o+1]])\n",
    "        if grams == 2:\n",
    "            twoGrams = ac.get_ngrams(s,2)\n",
    "            for o in range(len(twoGrams) - 2):\n",
    "                testValues.append([twoGrams[o], twoGrams[o+1].split()[-1]])\n",
    "        if grams == 3:\n",
    "            threeGrams = ac.get_ngrams(s,3)\n",
    "            for o in range(len(threeGrams) - 3):\n",
    "                testValues.append([threeGrams[o], threeGrams[o+1].split()[-1]])\n",
    "\n",
    "    return testValues"
   ]
  },
  {
   "cell_type": "code",
   "execution_count": null,
   "metadata": {
    "scrolled": false
   },
   "outputs": [
    {
     "name": "stdout",
     "output_type": "stream",
     "text": [
      "Saving the 1-grams in ngram_traintest/1-grams.pickle\n",
      "Saving the 2-grams in ngram_traintest/2-grams.pickle\n"
     ]
    }
   ],
   "source": [
    "with open('processedTrain.pkl', 'rb') as f:\n",
    "    train = pickle.load(f)\n",
    "    \n",
    "with open('processedTest.pkl', 'rb') as f:\n",
    "    test = pickle.load(f)\n",
    "\n",
    "ac = Autocomplete(model_path=\"ngram_traintest\",\n",
    "                  sentences=train,\n",
    "                  n_model=3,\n",
    "                  n_candidates=20,\n",
    "                  match_model=\"start\",\n",
    "                  min_freq=0,\n",
    "                  punctuations=\"\",\n",
    "                  lowercase=True)\n",
    "\n",
    "\n",
    "testValues = getTestValues(test, 1)\n",
    "predictionSuccess = []\n",
    "index = 0\n",
    "for t in testValues:\n",
    "    if index % (len(testValues) / 200) == 0:\n",
    "        print 100.0 * index / len(testValues)\n",
    "    index+=1\n",
    "    \n",
    "    p,v = ac.predictions(t[0])\n",
    "    pPos = [i for i in range(len(p)) if t[1] in p[i]]\n",
    "    if(len(pPos) == 0):\n",
    "        predictionSuccess.append(-1)\n",
    "    else:\n",
    "        predictionSuccess.append(pPos[0])"
   ]
  },
  {
   "cell_type": "code",
   "execution_count": null,
   "metadata": {},
   "outputs": [],
   "source": [
    "1.0*sum(np.array(predictionSuccess) != -1) / len(predictionSuccess)"
   ]
  },
  {
   "cell_type": "code",
   "execution_count": null,
   "metadata": {
    "collapsed": true
   },
   "outputs": [],
   "source": [
    "np.save('ThreeGrams',predictionSuccess)"
   ]
  },
  {
   "cell_type": "code",
   "execution_count": null,
   "metadata": {
    "collapsed": true
   },
   "outputs": [],
   "source": [
    "testsentences = ['''What an amazing experience with really over the top friendly staff!\\\n",
    "                This was one of my first stays with Marriott and they really did everything right.\\\n",
    "                Special bedding orders - everything was arranged.\\\n",
    "                Room size wishes - I was upgraded.\\\n",
    "                The room service was fast and the portion really big with reasonable prices.\\\n",
    "                No need to go somewhere else after a stressful day!\\\n",
    "                Standard decent Marriott hotel.\\\n",
    "                The staff are efficient and the room we had was really quite good - large, clean and comfortable beds.\\\n",
    "                The hotel bar - Champions - is the standard American type bar that Marriotts have.\\\n",
    "                The wait staff at the bar were very nice.\\\n",
    "                An emblematic hotel in the center of Athens.\\\n",
    "                This will take into account the meetings that take place in this hotel.\\\n",
    "                It is a great hotel with excellent modern decoration and clean spaces.\\\n",
    "                The staff is courteous and willing to serve you all with a smile.\\\n",
    "                The meeting rooms are quite large with comfortable seating and a good acoustic.\\\n",
    "                The food is very delicious and it is definitely worth visiting for a meal or a stay.\\\n",
    "                Probably one of the top hotels in Athens, with a top roof bar (Galaxy bar) overlooking the Acropolis and Lycabetus hills.\\\n",
    "                The hotel offers a number of restaurants and boasts an impressive outdoor swimming pool.\\\n",
    "                A great choice to stay while in Athens or visit for drinks or dinner.\\\n",
    "                What amazing views from the Terrace Suite at Four Seasons New York.\\\n",
    "                The staff were all friendly, courteous, and discrete. The hotel lobby, bar, and lounge were beautiful and welcoming.\\\n",
    "                The room in which I stayed, had spectacular views.\\\n",
    "                I will look forward to many returns at this particular Four Seasons Hotel, New York.\\\n",
    "                Super nice staff and rooms are not bad.\\\n",
    "                Redone suite was super nice.\\\n",
    "                Club room has drinks and good snacks.\\\n",
    "                Hotel works as a stop for a night.\\\n",
    "                Not sure I'd book if you want to be in the heart of Munich.\\\n",
    "                It does have shops and restaurants around and good access to mass transit.\\\n",
    "                Room was clean, and was set up nicely.\\\n",
    "                Pool was really nice, and the view from the pool was fantastic.\\\n",
    "                At this point though, not having free wifi in the rooms (even though I'm a member of the club) is completely unacceptable.\\\n",
    "                This is my favorite hotel when visiting London.\\\n",
    "                The accommodations are excellent and the staff is very friendly and efficient.\\\n",
    "                The location is prime with superb views and adjacent parks for walking.\\\n",
    "                Oh yes a near by resistance is Buckingham Palace !!\\\n",
    "                Superior place , enjoyed our stay to the max , the location is excellent , just few minutes walking  to public transportation , there are quite nice good food restaurants and coffee shops very near the hotel ، Lebanese and Turkish restaurants too.\\\n",
    "                Hotel staff and service is great and is clean.\\\n",
    "                Only problem is the decor in lobby and restaurant area.\\\n",
    "                Instead of walking into a hotel in Greece, I felt like I was walking into a hotel in China.\\\n",
    "                I would prefer the greek experience when in Greece.\\\n",
    "                They do book a very large amount of Asians.\\\n",
    "                I guess money talks.\\\n",
    "                This hotel had a nice breakfast and clean rooms.\\\n",
    "                Staff was also helpful.\\\n",
    "                The pool closes at 7.\\\n",
    "                Wonderful bakery across the street!''']"
   ]
  }
 ],
 "metadata": {
  "kernelspec": {
   "display_name": "Python 2",
   "language": "python",
   "name": "python2"
  },
  "language_info": {
   "codemirror_mode": {
    "name": "ipython",
    "version": 2
   },
   "file_extension": ".py",
   "mimetype": "text/x-python",
   "name": "python",
   "nbconvert_exporter": "python",
   "pygments_lexer": "ipython2",
   "version": "2.7.13"
  }
 },
 "nbformat": 4,
 "nbformat_minor": 2
}
