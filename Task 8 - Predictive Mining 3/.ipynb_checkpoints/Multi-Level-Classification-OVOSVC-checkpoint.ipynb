{
 "cells": [
  {
   "cell_type": "code",
   "execution_count": 1,
   "metadata": {
    "collapsed": true
   },
   "outputs": [],
   "source": [
    "import numpy as np\n",
    "from sklearn import svm\n",
    "from sklearn.model_selection import train_test_split\n",
    "from sklearn.metrics import confusion_matrix\n",
    "import scipy.sparse as sps\n",
    "from sklearn.feature_selection import SelectFromModel\n",
    "import collections\n",
    "from sklearn.linear_model import LogisticRegression\n",
    "from sklearn.multiclass import OneVsRestClassifier\n",
    "from sklearn.svm import LinearSVC\n",
    "from sklearn.preprocessing import MaxAbsScaler\n",
    "import matplotlib.pyplot as plt\n",
    "import itertools\n",
    "from sklearn.neural_network import MLPClassifier"
   ]
  },
  {
   "cell_type": "code",
   "execution_count": 2,
   "metadata": {
    "collapsed": true
   },
   "outputs": [],
   "source": [
    "def plot_confusion_matrix(cm, classes,\n",
    "                          normalize=False,\n",
    "                          title='Confusion matrix',\n",
    "                          cmap=plt.cm.Blues):\n",
    "    \"\"\"\n",
    "    This function prints and plots the confusion matrix.\n",
    "    Normalization can be applied by setting `normalize=True`.\n",
    "    \"\"\"\n",
    "    plt.rcParams[\"figure.figsize\"] = (8,8)\n",
    "    \n",
    "    if normalize:\n",
    "        cm = cm.astype('float') / cm.sum(axis=1)[:, np.newaxis]\n",
    "        print(\"Normalized confusion matrix\")\n",
    "    else:\n",
    "        print('Confusion matrix, without normalization')\n",
    "\n",
    "    print(cm)\n",
    "\n",
    "    plt.imshow(cm, interpolation='nearest', cmap=cmap)\n",
    "    plt.title(title)\n",
    "    #plt.colorbar()\n",
    "    tick_marks = np.arange(len(classes))\n",
    "    plt.xticks(tick_marks, classes, rotation=45)\n",
    "    plt.yticks(tick_marks, classes)\n",
    "\n",
    "    fmt = '.2f' if normalize else 'd'\n",
    "    thresh = cm.max() / 2.\n",
    "    for i, j in itertools.product(range(cm.shape[0]), range(cm.shape[1])):\n",
    "        plt.text(j, i, format(cm[i, j], fmt),\n",
    "                 horizontalalignment=\"center\",\n",
    "                 color=\"white\" if cm[i, j] > thresh else \"black\")\n",
    "\n",
    "    plt.tight_layout()\n",
    "    plt.ylabel('True label')\n",
    "    plt.xlabel('Predicted label')"
   ]
  },
  {
   "cell_type": "code",
   "execution_count": 3,
   "metadata": {
    "collapsed": true
   },
   "outputs": [],
   "source": [
    "bins0 = [[-np.inf, 7.3710848960051774],\n",
    "        [7.3710848960051774, 7.9191325350755957],\n",
    "        [7.9191325350755957, 9.0152278132164323],\n",
    "        [9.0152278132164323, 9.5632754522868506],\n",
    "        [9.5632754522868506, np.inf]]\n",
    "bnames0 = ['very bad', 'bad', 'average', 'good', 'very good']\n",
    "\n",
    "bins5 = [[-np.inf, 7.3710848960051774],\n",
    "        [7.3710848960051774, 7.9191325350755957],\n",
    "        [7.9191325350755957, 9.0152278132164323],\n",
    "        [9.0152278132164323, 9.9],\n",
    "        [9.9, np.inf]]\n",
    "bnames5 = ['very bad', 'bad', 'average', 'good', 'very good']\n",
    "\n",
    "bins4 = [[-np.inf, 7.3710848960051774],\n",
    "        [7.3710848960051774, 9.0152278132164323],\n",
    "        [9.0152278132164323, 9.9],\n",
    "        [9.9, np.inf]]\n",
    "bnames4 = ['bad', 'average', 'good', 'very good']\n",
    "\n",
    "bins3 = [[-np.inf, 8],\n",
    "        [8,9.5],\n",
    "        [9.5, np.inf]]\n",
    "bnames3 = ['bad', 'average', 'good']\n",
    "\n",
    "bins2 = [[-np.inf, 9],\n",
    "        [9, np.inf]]\n",
    "\n",
    "bnames2 = ['below', 'above']"
   ]
  },
  {
   "cell_type": "code",
   "execution_count": 4,
   "metadata": {
    "collapsed": true
   },
   "outputs": [],
   "source": [
    "binsCheat = [[-np.inf, 7],\n",
    "        [7, 7.5],\n",
    "        [7.5, 9.5],\n",
    "        [9.5, 9.8],\n",
    "        [9.9, np.inf]]\n",
    "bnamesCheat = ['very bad', 'bad', 'average', 'good', 'very good']"
   ]
  },
  {
   "cell_type": "code",
   "execution_count": 5,
   "metadata": {
    "collapsed": true
   },
   "outputs": [],
   "source": [
    "def scoreLabel(x, bins):\n",
    "    for i in range(len(bins)):\n",
    "        if bins[i][0] < x <= bins[i][1]:\n",
    "            return i"
   ]
  },
  {
   "cell_type": "code",
   "execution_count": 6,
   "metadata": {
    "collapsed": true
   },
   "outputs": [],
   "source": [
    "#featureMatrix = sps.load_npz('./Datasets_2/Regression_Features.npz')\n",
    "featureMatrix = sps.load_npz('./Week7Dataset/Regression_Feat_Selection_VarThr.npz')\n",
    "labels = np.load('./Week7Dataset/Regression_Labels.npz')['arr_0']"
   ]
  },
  {
   "cell_type": "code",
   "execution_count": 7,
   "metadata": {},
   "outputs": [
    {
     "name": "stdout",
     "output_type": "stream",
     "text": [
      "very bad 0.157193185618\n",
      "bad 0.113555368895\n",
      "average 0.334019718976\n",
      "good 0.14624907236\n",
      "very good 0.248982654151\n"
     ]
    }
   ],
   "source": [
    "bins = binsCheat\n",
    "bnames = bnamesCheat\n",
    "#fname = 'bin2classification.png'\n",
    "\n",
    "#clsLabels = np.array([scoreLabelOneHot(i, bins) for i in labels])\n",
    "clsLabels = np.array([scoreLabel(i, bins) for i in labels])\n",
    "\n",
    "cnt = collections.Counter(clsLabels)\n",
    "i = 0\n",
    "for c in cnt:\n",
    "    print bnames[i], 1.0 * cnt[c] / len(clsLabels)\n",
    "    i+=1"
   ]
  },
  {
   "cell_type": "code",
   "execution_count": 8,
   "metadata": {
    "collapsed": true
   },
   "outputs": [],
   "source": [
    "train, test, train_labels, test_labels = train_test_split(featureMatrix,clsLabels,test_size=.33,random_state=42)\n",
    "train = MaxAbsScaler().fit_transform(train)\n",
    "test = MaxAbsScaler().fit_transform(test)"
   ]
  },
  {
   "cell_type": "code",
   "execution_count": 9,
   "metadata": {
    "collapsed": true
   },
   "outputs": [],
   "source": [
    "train_stp1 = train.copy()\n",
    "train_l_stp1 = train_labels.copy()\n",
    "train_l_stp1[np.where(np.logical_and(train_l_stp1>=1, train_l_stp1<=3))] = 1\n",
    "train_l_stp1[train_l_stp1 == 4] = 2\n",
    "\n",
    "train_stp2 = train[np.where(np.logical_and(train_labels>=1, train_labels<=3))].copy()\n",
    "train_l_stp2 = train_labels[np.where(np.logical_and(train_labels>=1, train_labels<=3))].copy() - 1"
   ]
  },
  {
   "cell_type": "code",
   "execution_count": 10,
   "metadata": {
    "collapsed": true
   },
   "outputs": [],
   "source": [
    "test_stp1 = test.copy()\n",
    "test_l_stp1 = test_labels.copy()\n",
    "test_l_stp1[np.where(np.logical_and(test_l_stp1>=1, test_l_stp1<=3))] = 1\n",
    "test_l_stp1[test_l_stp1 == 4] = 2\n",
    "\n",
    "test_stp2 = test[np.where(np.logical_and(test_labels>=1, test_labels<=3))].copy()\n",
    "test_l_stp2 = test_labels[np.where(np.logical_and(test_labels>=1, test_labels<=3))].copy() - 1"
   ]
  },
  {
   "cell_type": "code",
   "execution_count": null,
   "metadata": {},
   "outputs": [
    {
     "name": "stdout",
     "output_type": "stream",
     "text": [
      "Iteration 1, loss = 0.71722260\n",
      "Iteration 2, loss = 0.65870135\n"
     ]
    }
   ],
   "source": [
    "#cls1 = OneVsRestClassifier(LinearSVC(class_weight='balanced', random_state=0))\n",
    "#cls1 = OneVsRestClassifier(LogisticRegression(class_weight='balanced', random_state=0))\n",
    "#cls1 = OneVsRestClassifier( MLPClassifier(solver='lbfgs', alpha=1e-5,hidden_layer_sizes=(10, 10), random_state=1, verbose=True))\n",
    "cls1 = MLPClassifier(solver='adam', alpha=1e-5, validation_fraction=.1, hidden_layer_sizes=(100,),verbose=True)\n",
    "cls1.fit(train_stp1, train_l_stp1)"
   ]
  },
  {
   "cell_type": "code",
   "execution_count": 94,
   "metadata": {},
   "outputs": [
    {
     "data": {
      "text/plain": [
       "OneVsRestClassifier(estimator=LinearSVC(C=1.0, class_weight='balanced', dual=True, fit_intercept=True,\n",
       "     intercept_scaling=1, loss='squared_hinge', max_iter=1000,\n",
       "     multi_class='ovr', penalty='l2', random_state=0, tol=0.0001,\n",
       "     verbose=0),\n",
       "          n_jobs=1)"
      ]
     },
     "execution_count": 94,
     "metadata": {},
     "output_type": "execute_result"
    }
   ],
   "source": [
    "cls2 = OneVsRestClassifier(LinearSVC(class_weight='balanced', random_state=0))\n",
    "#cls2 = OneVsRestClassifier(LogisticRegression(class_weight='balanced', random_state=0))\n",
    "cls2.fit(train_stp2, train_l_stp2)"
   ]
  },
  {
   "cell_type": "code",
   "execution_count": 100,
   "metadata": {},
   "outputs": [
    {
     "name": "stdout",
     "output_type": "stream",
     "text": [
      "Normalized confusion matrix\n",
      "[[ 0.5396663   0.45002361  0.01031009]\n",
      " [ 0.07197238  0.81151974  0.11650788]\n",
      " [ 0.01066892  0.53220524  0.45712584]]\n"
     ]
    },
    {
     "data": {
      "image/png": "[encoded data removed]",
      "text/plain": [
       "<matplotlib.figure.Figure at 0x10bd2f98>"
      ]
     },
     "metadata": {},
     "output_type": "display_data"
    }
   ],
   "source": [
    "pred_stp1 = cls1.predict(test_stp1)\n",
    "cm = confusion_matrix(test_l_stp1,pred_stp1).astype(float)\n",
    "plot_confusion_matrix(cm.astype(np.int),['very bad', 'middle', 'very good'], normalize=True)\n",
    "#plt.savefig(fname)\n",
    "plt.show()"
   ]
  },
  {
   "cell_type": "code",
   "execution_count": 92,
   "metadata": {},
   "outputs": [
    {
     "name": "stdout",
     "output_type": "stream",
     "text": [
      "Normalized confusion matrix\n",
      "[[ 0.43209474  0.47588005  0.09202521]\n",
      " [ 0.19160212  0.559241    0.24915688]\n",
      " [ 0.08429377  0.42542273  0.4902835 ]]\n"
     ]
    },
    {
     "data": {
      "image/png": "[encoded data removed]",
      "text/plain": [
       "<matplotlib.figure.Figure at 0x107c50f0>"
      ]
     },
     "metadata": {},
     "output_type": "display_data"
    }
   ],
   "source": [
    "pred_stp2 = cls1.predict(test_stp2)\n",
    "cm = confusion_matrix(test_l_stp2,pred_stp2).astype(float)\n",
    "plot_confusion_matrix(cm.astype(np.int),['bad', 'average', 'good'], normalize=True)\n",
    "#plt.savefig(fname)\n",
    "plt.show()"
   ]
  },
  {
   "cell_type": "code",
   "execution_count": 95,
   "metadata": {},
   "outputs": [
    {
     "name": "stdout",
     "output_type": "stream",
     "text": [
      "Normalized confusion matrix\n",
      "[[ 0.79938612  0.08547143  0.07106879  0.01896742  0.02510625]\n",
      " [ 0.43209474  0.19035202  0.20610604  0.07942199  0.09202521]\n",
      " [ 0.19160212  0.13816106  0.26079383  0.16028611  0.24915688]\n",
      " [ 0.08429377  0.07604947  0.17792546  0.1714478   0.4902835 ]\n",
      " [ 0.0453553   0.04173283  0.0976578   0.10599444  0.70925963]]\n"
     ]
    },
    {
     "data": {
      "image/png": "[encoded data removed]",
      "text/plain": [
       "<matplotlib.figure.Figure at 0x1d46c208>"
      ]
     },
     "metadata": {},
     "output_type": "display_data"
    }
   ],
   "source": [
    "pred1 = cls1.predict(test_stp1)\n",
    "midPredicted = test[np.where(pred1 == 1)]\n",
    "pred2 = cls2.predict(midPredicted)\n",
    "finPred = pred1*2\n",
    "finPred[finPred == 2] = pred2 + 1\n",
    "\n",
    "cm = confusion_matrix(test_labels, finPred).astype(float)\n",
    "plot_confusion_matrix(cm.astype(np.int),['very bad', 'bad', 'average', 'good', 'very good'], normalize=True)\n",
    "#plt.savefig(fname)\n",
    "plt.show()"
   ]
  }
 ],
 "metadata": {
  "kernelspec": {
   "display_name": "Python 2",
   "language": "python",
   "name": "python2"
  },
  "language_info": {
   "codemirror_mode": {
    "name": "ipython",
    "version": 2
   },
   "file_extension": ".py",
   "mimetype": "text/x-python",
   "name": "python",
   "nbconvert_exporter": "python",
   "pygments_lexer": "ipython2",
   "version": "2.7.13"
  }
 },
 "nbformat": 4,
 "nbformat_minor": 2
}
