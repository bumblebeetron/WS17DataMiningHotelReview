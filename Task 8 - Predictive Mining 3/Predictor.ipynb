{
 "cells": [
  {
   "cell_type": "code",
   "execution_count": 1,
   "metadata": {
    "collapsed": true
   },
   "outputs": [],
   "source": [
    "import numpy as np\n",
    "import pandas as pd\n",
    "from nltk.corpus import stopwords\n",
    "import re\n",
    "import pickle\n",
    "from scipy import sparse as sps\n",
    "from sklearn.preprocessing import normalize"
   ]
  },
  {
   "cell_type": "code",
   "execution_count": 2,
   "metadata": {
    "collapsed": true
   },
   "outputs": [],
   "source": [
    "with open ('one_grams', 'rb') as fp:\n",
    "    grams = pickle.load(fp)"
   ]
  },
  {
   "cell_type": "code",
   "execution_count": 3,
   "metadata": {
    "collapsed": true
   },
   "outputs": [],
   "source": [
    "hotelReviews = pd.read_csv('C:/Users/deniz/Documents/Hotel_Reviews.csv')\n",
    "nationality = ' United Kingdom '\n",
    "engReviews = hotelReviews.loc[hotelReviews['Reviewer_Nationality'] == nationality][['Positive_Review','Negative_Review']]\n",
    "allReviews = list(engReviews['Positive_Review'].append(engReviews['Negative_Review']))"
   ]
  },
  {
   "cell_type": "code",
   "execution_count": 4,
   "metadata": {
    "collapsed": true
   },
   "outputs": [],
   "source": [
    "def wordSplit(rev, stop_words = stopwords.words('English')):\n",
    "    s = [item for sublist in [f.lower().split() for f in re.findall('\\d+|\\D+',rev.lower())] for item in sublist]\n",
    "    s = [x for x in s if x not in stop_words]\n",
    "    \n",
    "    return s\n",
    "\n",
    "def bagOfWordsShingles(review, k=3, stop_words = stopwords.words('English')):\n",
    "    s = wordSplit(review, stop_words)\n",
    "    if len(s) < k:\n",
    "        tokens = ['']\n",
    "        for s_ in s:\n",
    "            tokens[0] += s_ + ' '\n",
    "        tokens[0] = tokens[0][:-1]\n",
    "        return tokens\n",
    "        \n",
    "    tokens = []\n",
    "    for i in range(len(s) - k + 1):\n",
    "        bag = ''\n",
    "        for j in range(i, i + k):\n",
    "            bag += s[j]+' '\n",
    "        tokens.append(bag[:-1])\n",
    "    return tokens\n",
    "\n",
    "def bagOfWordsShingles2(review, k=3, stop_words = stopwords.words('English')):\n",
    "    s = wordSplit(review, stop_words)\n",
    "    tokens = []\n",
    "    for K in range(0,k):\n",
    "        for i in range(len(s) - (k-K) + 1):\n",
    "            bag = ''\n",
    "            for j in range(i, i + k-K):\n",
    "                bag += s[j]+' '\n",
    "            tokens.append(bag[:-1])\n",
    "\n",
    "    return tokens"
   ]
  },
  {
   "cell_type": "code",
   "execution_count": 18,
   "metadata": {
    "collapsed": true
   },
   "outputs": [],
   "source": [
    "grams = []\n",
    "for r in allReviews:\n",
    "    grams.append(wordSplit(r))\n",
    "    \n",
    "with open('one_grams', 'wb') as fp:\n",
    "    pickle.dump(grams, fp)"
   ]
  },
  {
   "cell_type": "code",
   "execution_count": 5,
   "metadata": {
    "collapsed": true,
    "scrolled": true
   },
   "outputs": [],
   "source": [
    "gramSet = []\n",
    "for sublist in grams:\n",
    "    for s in sublist:\n",
    "        gramSet.append(s)\n",
    "        \n",
    "gramSet = list(set(gramSet))"
   ]
  },
  {
   "cell_type": "code",
   "execution_count": 6,
   "metadata": {
    "collapsed": true
   },
   "outputs": [],
   "source": [
    "gramsToIndex = dict()\n",
    "i = 0\n",
    "for g in gramSet:\n",
    "    gramsToIndex[g] = i\n",
    "    i+=1"
   ]
  },
  {
   "cell_type": "code",
   "execution_count": 12,
   "metadata": {},
   "outputs": [],
   "source": [
    "transMat = sps.lil_matrix((len(gramSet), len(gramSet)))\n",
    "for gram in grams:\n",
    "    for i in range(len(gram) - 1):\n",
    "        transMat[gramsToIndex[gram[i]], gramsToIndex[gram[i+1]]] += 1"
   ]
  },
  {
   "cell_type": "code",
   "execution_count": 13,
   "metadata": {
    "collapsed": true,
    "scrolled": true
   },
   "outputs": [],
   "source": [
    "normTrMat = normalize(transMat, norm = 'l1', axis = 1)"
   ]
  },
  {
   "cell_type": "code",
   "execution_count": 96,
   "metadata": {},
   "outputs": [],
   "source": [
    "cState = sps.lil_matrix((1,normTrMat.shape[0])) #np.zeros(normTrMat.shape[0])\n",
    "cState[0,gramsToIndex['visit']] = 1"
   ]
  },
  {
   "cell_type": "code",
   "execution_count": 97,
   "metadata": {},
   "outputs": [],
   "source": [
    "predictState = cState.dot(normTrMat)\n",
    "predictState = np.array(cState.dot(normTrMat).todense())[0]\n",
    "probs = np.argsort(predictState)[::-1]"
   ]
  },
  {
   "cell_type": "code",
   "execution_count": 98,
   "metadata": {},
   "outputs": [
    {
     "name": "stdout",
     "output_type": "stream",
     "text": [
      "london 0.086\n",
      "hotel 0.052\n",
      "amsterdam 0.024\n",
      "staff 0.021\n",
      "would 0.018\n"
     ]
    }
   ],
   "source": [
    "for p in probs[:5]:\n",
    "    print(\"%s %.3f\" % (gramSet[p], predictState[p]))\n",
    "    #print "
   ]
  }
 ],
 "metadata": {
  "kernelspec": {
   "display_name": "Python 2",
   "language": "python",
   "name": "python2"
  },
  "language_info": {
   "codemirror_mode": {
    "name": "ipython",
    "version": 2
   },
   "file_extension": ".py",
   "mimetype": "text/x-python",
   "name": "python",
   "nbconvert_exporter": "python",
   "pygments_lexer": "ipython2",
   "version": "2.7.13"
  }
 },
 "nbformat": 4,
 "nbformat_minor": 2
}
