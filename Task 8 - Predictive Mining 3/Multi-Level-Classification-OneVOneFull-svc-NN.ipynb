{
 "cells": [
  {
   "cell_type": "code",
   "execution_count": 1,
   "metadata": {
    "collapsed": true
   },
   "outputs": [],
   "source": [
    "import numpy as np\n",
    "from sklearn import svm\n",
    "from sklearn.model_selection import train_test_split\n",
    "from sklearn.metrics import confusion_matrix\n",
    "import scipy.sparse as sps\n",
    "from sklearn.feature_selection import SelectFromModel\n",
    "import collections\n",
    "from sklearn.linear_model import LogisticRegression\n",
    "from sklearn.multiclass import OneVsRestClassifier\n",
    "from sklearn.svm import LinearSVC\n",
    "from sklearn.preprocessing import MaxAbsScaler\n",
    "import matplotlib.pyplot as plt\n",
    "import itertools\n",
    "from sklearn.neural_network import MLPClassifier"
   ]
  },
  {
   "cell_type": "code",
   "execution_count": 2,
   "metadata": {
    "collapsed": true
   },
   "outputs": [],
   "source": [
    "def plot_confusion_matrix(cm, classes,\n",
    "                          normalize=False,\n",
    "                          title='Confusion matrix',\n",
    "                          cmap=plt.cm.Blues):\n",
    "    \"\"\"\n",
    "    This function prints and plots the confusion matrix.\n",
    "    Normalization can be applied by setting `normalize=True`.\n",
    "    \"\"\"\n",
    "    plt.rcParams['figure.figsize'] = 8, 8\n",
    "    \n",
    "    if normalize:\n",
    "        cm = cm.astype('float') / cm.sum(axis=1)[:, np.newaxis]\n",
    "        print(\"Normalized confusion matrix\")\n",
    "    else:\n",
    "        print('Confusion matrix, without normalization')\n",
    "\n",
    "    print(cm)\n",
    "\n",
    "    plt.imshow(cm, interpolation='nearest', cmap=cmap)\n",
    "    plt.title(title)\n",
    "    #plt.colorbar()\n",
    "    tick_marks = np.arange(len(classes))\n",
    "    plt.xticks(tick_marks, classes, rotation=45)\n",
    "    plt.yticks(tick_marks, classes)\n",
    "\n",
    "    fmt = '.2f' if normalize else 'd'\n",
    "    thresh = cm.max() / 2.\n",
    "    for i, j in itertools.product(range(cm.shape[0]), range(cm.shape[1])):\n",
    "        plt.text(j, i, format(cm[i, j], fmt),\n",
    "                 horizontalalignment=\"center\",\n",
    "                 color=\"white\" if cm[i, j] > thresh else \"black\")\n",
    "\n",
    "    #plt.tight_layout()\n",
    "    plt.ylabel('True label')\n",
    "    plt.xlabel('Predicted label')"
   ]
  },
  {
   "cell_type": "code",
   "execution_count": 21,
   "metadata": {
    "collapsed": true
   },
   "outputs": [],
   "source": [
    "bins0 = [[-np.inf, 7.3710848960051774],\n",
    "        [7.3710848960051774, 7.9191325350755957],\n",
    "        [7.9191325350755957, 9.0152278132164323],\n",
    "        [9.0152278132164323, 9.5632754522868506],\n",
    "        [9.5632754522868506, np.inf]]\n",
    "bnames0 = ['very bad', 'bad', 'average', 'good', 'very good']\n",
    "\n",
    "bins5 = [[-np.inf, 7.3710848960051774],\n",
    "        [7.3710848960051774, 7.9191325350755957],\n",
    "        [7.9191325350755957, 9.0152278132164323],\n",
    "        [9.0152278132164323, 9.9],\n",
    "        [9.9, np.inf]]\n",
    "bnames5 = ['very bad', 'bad', 'average', 'good', 'very good']\n",
    "\n",
    "bins4 = [[-np.inf, 7.3710848960051774],\n",
    "        [7.3710848960051774, 9.0152278132164323],\n",
    "        [9.0152278132164323, 9.9],\n",
    "        [9.9, np.inf]]\n",
    "bnames4 = ['bad', 'average', 'good', 'very good']\n",
    "\n",
    "#bins3 = [[-np.inf, 8],\n",
    "#        [8,9.5],\n",
    "#        [9.5, np.inf]]\n",
    "bins3 = [[-np.inf, 7.3710848960051774],\n",
    "        [7.3710848960051774, 9.5632754522868506],\n",
    "        [9.5632754522868506, np.inf]]\n",
    "bnames3 = ['bad', 'average', 'good']\n",
    "\n",
    "bins2 = [[-np.inf, 9],\n",
    "        [9, np.inf]]\n",
    "\n",
    "bnames2 = ['below', 'above']"
   ]
  },
  {
   "cell_type": "code",
   "execution_count": 4,
   "metadata": {
    "collapsed": true
   },
   "outputs": [],
   "source": [
    "def scoreLabel(x, bins):\n",
    "    for i in range(len(bins)):\n",
    "        if bins[i][0] < x <= bins[i][1]:\n",
    "            return i"
   ]
  },
  {
   "cell_type": "code",
   "execution_count": 22,
   "metadata": {
    "collapsed": true
   },
   "outputs": [],
   "source": [
    "#featureMatrix = sps.load_npz('./Datasets_2/Regression_Features.npz')\n",
    "featureMatrix = sps.load_npz('./Week7Dataset/Regression_Feat_Selection_VarThr.npz')\n",
    "labels = np.load('./Week7Dataset/Regression_Labels.npz')['arr_0']"
   ]
  },
  {
   "cell_type": "code",
   "execution_count": 23,
   "metadata": {},
   "outputs": [
    {
     "name": "stdout",
     "output_type": "stream",
     "text": [
      "bad 0.203876923579\n",
      "average 0.40089134991\n",
      "good 0.395231726511\n"
     ]
    }
   ],
   "source": [
    "bins = bins3\n",
    "bnames = bnames3\n",
    "#fname = 'bin2classification.png'\n",
    "\n",
    "#clsLabels = np.array([scoreLabelOneHot(i, bins) for i in labels])\n",
    "clsLabels = np.array([scoreLabel(i, bins) for i in labels])\n",
    "\n",
    "cnt = collections.Counter(clsLabels)\n",
    "i = 0\n",
    "for c in cnt:\n",
    "    print bnames[i], 1.0 * cnt[c] / len(clsLabels)\n",
    "    i+=1"
   ]
  },
  {
   "cell_type": "code",
   "execution_count": 18,
   "metadata": {
    "collapsed": true
   },
   "outputs": [],
   "source": [
    "train, test, train_labels, test_labels = train_test_split(featureMatrix,clsLabels,test_size=.33,random_state=42)\n",
    "train = MaxAbsScaler().fit_transform(train)\n",
    "test = MaxAbsScaler().fit_transform(test)"
   ]
  },
  {
   "cell_type": "code",
   "execution_count": 25,
   "metadata": {},
   "outputs": [
    {
     "name": "stdout",
     "output_type": "stream",
     "text": [
      "Iteration 1, loss = 0.84989862\n",
      "Validation score: 0.627940\n",
      "Iteration 2, loss = 0.79185420\n",
      "Validation score: 0.629340\n",
      "Iteration 3, loss = 0.77663088\n",
      "Validation score: 0.627758\n",
      "Iteration 4, loss = 0.76101618\n",
      "Validation score: 0.627149\n",
      "Iteration 5, loss = 0.74482349\n",
      "Validation score: 0.626906\n",
      "Validation score did not improve more than tol=0.000100 for two consecutive epochs. Stopping.\n"
     ]
    },
    {
     "data": {
      "text/plain": [
       "MLPClassifier(activation='relu', alpha=1e-05, batch_size='auto', beta_1=0.9,\n",
       "       beta_2=0.999, early_stopping=True, epsilon=1e-08,\n",
       "       hidden_layer_sizes=(100,), learning_rate='constant',\n",
       "       learning_rate_init=0.001, max_iter=200, momentum=0.9,\n",
       "       nesterovs_momentum=True, power_t=0.5, random_state=1, shuffle=True,\n",
       "       solver='adam', tol=0.0001, validation_fraction=0.2, verbose=True,\n",
       "       warm_start=False)"
      ]
     },
     "execution_count": 25,
     "metadata": {},
     "output_type": "execute_result"
    }
   ],
   "source": [
    "#cls = MLPClassifier(solver='lbfgs', alpha=1e-5, hidden_layer_sizes=(100,100,), random_state=1, verbose = True)\n",
    "cls = MLPClassifier(solver='adam', alpha=1e-5, validation_fraction=.20, early_stopping=True, hidden_layer_sizes=(100,), random_state=1, verbose = True)\n",
    "cls.fit(train, train_labels)"
   ]
  },
  {
   "cell_type": "code",
   "execution_count": 26,
   "metadata": {},
   "outputs": [
    {
     "name": "stdout",
     "output_type": "stream",
     "text": [
      "Normalized confusion matrix\n",
      "[[ 0.72373642  0.15596841  0.12029518]\n",
      " [ 0.2786646   0.28856153  0.43277388]\n",
      " [ 0.09887949  0.13424264  0.76687787]]\n"
     ]
    },
    {
     "data": {
      "image/png": "[encoded data removed]",
      "text/plain": [
       "<matplotlib.figure.Figure at 0x1c1346a0>"
      ]
     },
     "metadata": {},
     "output_type": "display_data"
    }
   ],
   "source": [
    "test_predict = cls.predict(test)\n",
    "cm = confusion_matrix(test_labels,test_predict).astype(float)\n",
    "plot_confusion_matrix(cm.astype(np.int),bnames, normalize=True)\n",
    "plt.savefig('MLP_3bins_Full_adam')\n",
    "plt.show()"
   ]
  }
 ],
 "metadata": {
  "kernelspec": {
   "display_name": "Python 2",
   "language": "python",
   "name": "python2"
  },
  "language_info": {
   "codemirror_mode": {
    "name": "ipython",
    "version": 2
   },
   "file_extension": ".py",
   "mimetype": "text/x-python",
   "name": "python",
   "nbconvert_exporter": "python",
   "pygments_lexer": "ipython2",
   "version": "2.7.13"
  }
 },
 "nbformat": 4,
 "nbformat_minor": 2
}
