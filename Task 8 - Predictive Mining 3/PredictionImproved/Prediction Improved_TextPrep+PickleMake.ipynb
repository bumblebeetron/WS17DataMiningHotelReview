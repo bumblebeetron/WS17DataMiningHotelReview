{
 "cells": [
  {
   "cell_type": "code",
   "execution_count": 1,
   "metadata": {
    "collapsed": true
   },
   "outputs": [],
   "source": [
    "import itertools\n",
    "import numpy as np\n",
    "import matplotlib.pyplot as plt\n",
    "import pandas as pd\n",
    "import scipy.sparse as sps\n",
    "import matplotlib.pyplot as plt\n",
    "from sklearn.model_selection import train_test_split\n",
    "from sklearn.preprocessing import normalize, MaxAbsScaler\n",
    "from sklearn.linear_model import LogisticRegression\n",
    "from sklearn.metrics import confusion_matrix\n",
    "from pylab import rcParams\n",
    "from nltk.corpus import stopwords\n",
    "from sklearn.feature_extraction.text import TfidfVectorizer\n",
    "import re\n",
    "from sklearn.feature_selection import SelectKBest\n",
    "from sklearn.feature_selection import chi2\n",
    "from sklearn.svm import LinearSVC\n",
    "from sklearn.feature_selection import SelectFromModel\n",
    "import pickle\n",
    "from sklearn.neural_network import MLPClassifier"
   ]
  },
  {
   "cell_type": "code",
   "execution_count": 2,
   "metadata": {
    "collapsed": true
   },
   "outputs": [],
   "source": [
    "def wordSplit(rev, stop_words = stopwords.words('english')):\n",
    "    s = [item for sublist in [f.lower().split() for f in re.findall('\\d+|\\D+',rev.lower())] for item in sublist]\n",
    "    s = [x for x in s if x not in stop_words]\n",
    "    \n",
    "    return s"
   ]
  },
  {
   "cell_type": "code",
   "execution_count": 3,
   "metadata": {
    "collapsed": true
   },
   "outputs": [],
   "source": [
    "Hotel_Reviews_Filtered=pd.read_csv(\"reorganisedDataRand.csv\")\n"
   ]
  },
  {
   "cell_type": "code",
   "execution_count": 4,
   "metadata": {
    "collapsed": true
   },
   "outputs": [],
   "source": [
    "tfidf = TfidfVectorizer(stop_words=stopwords.words('english'),tokenizer=wordSplit, lowercase=True).fit(Hotel_Reviews_Filtered['TextSummary']+Hotel_Reviews_Filtered['TagSummary'])\n",
    "featureMatrix = tfidf.transform(Hotel_Reviews_Filtered['TextSummary']+Hotel_Reviews_Filtered['TagSummary'])"
   ]
  },
  {
   "cell_type": "code",
   "execution_count": 5,
   "metadata": {},
   "outputs": [
    {
     "data": {
      "text/plain": [
       "0         10.0\n",
       "1          9.0\n",
       "2         10.0\n",
       "3          7.0\n",
       "4         10.0\n",
       "5          8.0\n",
       "6          8.0\n",
       "7         10.0\n",
       "8          8.0\n",
       "9         10.0\n",
       "10         9.0\n",
       "11        10.0\n",
       "12         9.0\n",
       "13         9.0\n",
       "14         9.0\n",
       "15        10.0\n",
       "16         5.0\n",
       "17        10.0\n",
       "18        10.0\n",
       "19         5.0\n",
       "20        10.0\n",
       "21         5.0\n",
       "22         9.0\n",
       "23        10.0\n",
       "24         5.0\n",
       "25        10.0\n",
       "26         4.0\n",
       "27        10.0\n",
       "28         9.0\n",
       "29        10.0\n",
       "          ... \n",
       "490603    10.0\n",
       "490604     8.0\n",
       "490605    10.0\n",
       "490606     5.0\n",
       "490607    10.0\n",
       "490608    10.0\n",
       "490609    10.0\n",
       "490610     8.0\n",
       "490611    10.0\n",
       "490612     9.0\n",
       "490613    10.0\n",
       "490614     5.0\n",
       "490615    10.0\n",
       "490616     7.0\n",
       "490617    10.0\n",
       "490618     4.0\n",
       "490619     5.0\n",
       "490620     8.0\n",
       "490621    10.0\n",
       "490622     8.0\n",
       "490623     8.0\n",
       "490624     9.0\n",
       "490625    10.0\n",
       "490626    10.0\n",
       "490627     8.0\n",
       "490628    10.0\n",
       "490629     8.0\n",
       "490630     3.0\n",
       "490631     6.0\n",
       "490632    10.0\n",
       "Name: Reviewer_Score, Length: 490633, dtype: float64"
      ]
     },
     "execution_count": 5,
     "metadata": {},
     "output_type": "execute_result"
    }
   ],
   "source": [
    "labels=Hotel_Reviews_Filtered[\"Reviewer_Score\"]\n",
    "labels_dim=np.round(labels)\n",
    "labels_dim"
   ]
  },
  {
   "cell_type": "code",
   "execution_count": 23,
   "metadata": {
    "collapsed": true
   },
   "outputs": [],
   "source": [
    "selector = LinearSVC(tol=0.001, penalty=\"l1\", dual=False).fit(featureMatrix,labels_dim)\n",
    "model = SelectFromModel(selector, prefit=True, threshold='2*mean')\n",
    "\n",
    "review_features = model.transform(featureMatrix)\n",
    "\n"
   ]
  },
  {
   "cell_type": "code",
   "execution_count": null,
   "metadata": {
    "collapsed": true
   },
   "outputs": [],
   "source": [
    "review_features"
   ]
  },
  {
   "cell_type": "code",
   "execution_count": 22,
   "metadata": {},
   "outputs": [
    {
     "data": {
      "text/plain": [
       "<490633x75042 sparse matrix of type '<class 'numpy.float64'>'\n",
       "\twith 8589882 stored elements in Compressed Sparse Row format>"
      ]
     },
     "execution_count": 22,
     "metadata": {},
     "output_type": "execute_result"
    }
   ],
   "source": [
    "featureMatrix"
   ]
  },
  {
   "cell_type": "code",
   "execution_count": 24,
   "metadata": {
    "collapsed": true
   },
   "outputs": [],
   "source": [
    "tfidf = TfidfVectorizer(stop_words=stopwords.words('english'),tokenizer=wordSplit, lowercase=True).fit(Hotel_Reviews_Filtered['TagSummary'])\n",
    "featureMatrix = tfidf.transform(Hotel_Reviews_Filtered['TagSummary'])"
   ]
  },
  {
   "cell_type": "code",
   "execution_count": 27,
   "metadata": {
    "collapsed": true
   },
   "outputs": [],
   "source": [
    "tag_features=featureMatrix"
   ]
  },
  {
   "cell_type": "code",
   "execution_count": 28,
   "metadata": {
    "collapsed": true
   },
   "outputs": [],
   "source": [
    "import pickle\n",
    "\n",
    "pickle_target=open('tag_features.pickle','wb')\n",
    "pickle.dump(tag_features,pickle_target)\n",
    "pickle_target.close()\n",
    "\n",
    "pickle_features=open('review_features.pickle','wb')\n",
    "pickle.dump(review_features,pickle_features)\n",
    "pickle_features.close()"
   ]
  },
  {
   "cell_type": "code",
   "execution_count": null,
   "metadata": {
    "collapsed": true
   },
   "outputs": [],
   "source": []
  },
  {
   "cell_type": "code",
   "execution_count": null,
   "metadata": {
    "collapsed": true
   },
   "outputs": [],
   "source": []
  }
 ],
 "metadata": {
  "kernelspec": {
   "display_name": "Python 3",
   "language": "python",
   "name": "python3"
  },
  "language_info": {
   "codemirror_mode": {
    "name": "ipython",
    "version": 3
   },
   "file_extension": ".py",
   "mimetype": "text/x-python",
   "name": "python",
   "nbconvert_exporter": "python",
   "pygments_lexer": "ipython3",
   "version": "3.6.3"
  }
 },
 "nbformat": 4,
 "nbformat_minor": 2
}
