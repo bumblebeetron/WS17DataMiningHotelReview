{
 "cells": [
  {
   "cell_type": "code",
   "execution_count": 29,
   "metadata": {
    "collapsed": true
   },
   "outputs": [],
   "source": [
    "import numpy as np\n",
    "import pandas as pd\n",
    "import matplotlib.pyplot as plt\n",
    "from collections import Counter"
   ]
  },
  {
   "cell_type": "code",
   "execution_count": 30,
   "metadata": {
    "collapsed": true
   },
   "outputs": [],
   "source": [
    "hotelReviews = pd.read_csv('C:\\Users\\deniz\\Documents\\Hotel_Reviews.csv')\n",
    "hotNames = list(hotelReviews['Hotel_Name'])\n",
    "hotNames = [i.lower() for i in hotNames]\n",
    "hotelReviews['Hotel_Name'] = hotNames"
   ]
  },
  {
   "cell_type": "code",
   "execution_count": 31,
   "metadata": {
    "collapsed": true
   },
   "outputs": [],
   "source": [
    "hotNames = hotelReviews['Hotel_Name']\n",
    "hotNames = hotNames.drop_duplicates()\n",
    "hotNames = list(hotNames)"
   ]
  },
  {
   "cell_type": "code",
   "execution_count": null,
   "metadata": {
    "collapsed": true
   },
   "outputs": [],
   "source": [
    "buzzWords = ['Hotel', 'Plaza', 'Grand', 'Suites', 'Spa',\n",
    "             'Paris', 'Amsterdam', 'London', 'Milan', 'Milano','Roma', 'Barcelona', 'Vienna', 'Wien',\n",
    "             'Saint', 'City', 'Elys', 'Champs', 'Eiffel', 'Kensington', 'Palace'\n",
    "             'France', 'Netherlands', 'United Kingdom', 'Italy', 'Spain', 'Austria', 'The', 'tel', 'Park', 'catalonia']\n",
    "buzzWords = [i.lower() for i in buzzWords]\n",
    "\n",
    "allWords = []\n",
    "for h in hotNames:\n",
    "    #if 'marble' in h.lower().split():\n",
    "    #    print h\n",
    "    wordsInName = h.lower().split()\n",
    "    for w in wordsInName:\n",
    "        if len(w) > 2 and not w.isdigit() and w not in buzzWords:\n",
    "            allWords.append(w)"
   ]
  },
  {
   "cell_type": "code",
   "execution_count": null,
   "metadata": {
    "collapsed": true
   },
   "outputs": [],
   "source": [
    "cnt = Counter(allWords)\n",
    "cnt.most_common()"
   ]
  },
  {
   "cell_type": "code",
   "execution_count": null,
   "metadata": {
    "collapsed": true
   },
   "outputs": [],
   "source": [
    "allWords = []\n",
    "for h in hotNames:\n",
    "    wordsInName = h.lower().split()\n",
    "    #twoCombs = [wordsInName[i]+' '+wordsInName[i+1] for i in range(len(wordsInName) - 1)]\n",
    "    for i in range(len(wordsInName) - 1):\n",
    "        w = wordsInName[i]\n",
    "        w_p = wordsInName[i + 1]\n",
    "        #if len(w) > 2 and not w.isdigit(): and w not in buzzWords:\n",
    "        #    allWords.append(w)\n",
    "        if len(w) > 2 and not w.isdigit() and w not in buzzWords and len(w_p) > 2 and not w_p.isdigit() and w_p not in buzzWords:\n",
    "            allWords.append(w+' '+w_p)\n",
    "            \n",
    "cnt = Counter(allWords)\n",
    "cnt.most_common()"
   ]
  },
  {
   "cell_type": "code",
   "execution_count": 32,
   "metadata": {
    "collapsed": true
   },
   "outputs": [],
   "source": [
    "hotelNames = ['Best Western', 'Mercure', 'Hilton','Novotel', 'Marriott', \n",
    "'Holiday Inn', 'Luxury Collection', 'NH Collection', 'Starhotels', \n",
    "'IH Hotels', 'Autograph Collection', 'Radisson Blu']\n",
    "\n",
    "hotelNames = [i.lower() for i in hotelNames]"
   ]
  },
  {
   "cell_type": "code",
   "execution_count": 76,
   "metadata": {
    "collapsed": true
   },
   "outputs": [],
   "source": [
    "ctyDF = pd.DataFrame(index=hotelNames, columns=['Bad', 'Average','Good', 'Excellent'])\n",
    "\n",
    "for h in hotelNames:\n",
    "    hns = list(hotelReviews['Hotel_Name'])\n",
    "    hns = [True if h in hn else False for hn in hns]\n",
    "    hotelMat = hotelReviews[hns]\n",
    "    hotelMat = hotelMat[['Hotel_Name', 'Reviewer_Score']]\n",
    "    reviews = hotelMat['Reviewer_Score']\n",
    "    binRevs = []\n",
    "    for r in reviews:\n",
    "        if 0.0 < r <= 4:\n",
    "            binRevs.append(0)\n",
    "        elif 4 < r <= 6:\n",
    "            binRevs.append(1)\n",
    "        elif 6 < r <= 8:\n",
    "            binRevs.append(2)\n",
    "        elif 8 < r <= 10.0:\n",
    "            binRevs.append(3)\n",
    "            \n",
    "    rArr = np.array(np.array(binRevs))\n",
    "    badR = 1.0 * sum(rArr == 0)\n",
    "    avgR = 1.0 * sum(rArr == 1)\n",
    "    goodR = 1.0 * sum(rArr == 2)\n",
    "    excR = 1.0 * sum(rArr  == 3)\n",
    "\n",
    "        #binRevs = [ np.round(10000 * badR / rArr.shape[0]) / 100, \n",
    "        #            np.round(10000 * avgR / rArr.shape[0]) / 100,\n",
    "        #            np.round(10000 * goodR / rArr.shape[0]) / 100,\n",
    "        #            np.round(10000 * excR / rArr.shape[0]) / 100]\n",
    "\n",
    "    binRevs = [ np.round(100 * badR / rArr.shape[0]),\n",
    "                np.round(100 * avgR / rArr.shape[0]),\n",
    "                np.round(100 * goodR / rArr.shape[0]),\n",
    "                np.round(100 * excR / rArr.shape[0])]\n",
    "\n",
    "\n",
    "    ctyDF['Bad'][h] = binRevs[0]\n",
    "    ctyDF['Average'][h] = binRevs[1]\n",
    "    ctyDF['Good'][h] = binRevs[2]\n",
    "    ctyDF['Excellent'][h] = binRevs[3]\n",
    "        \n",
    "        \n",
    "    #hotelMat['Review_Labels'] = binRevs\n",
    "    #hotelMat['Hotel_Name']\n",
    "    #print h, hotelMat.shape"
   ]
  },
  {
   "cell_type": "code",
   "execution_count": 81,
   "metadata": {
    "scrolled": false
   },
   "outputs": [
    {
     "data": {
      "image/png": "[encoded data removed]",
      "text/plain": [
       "<matplotlib.figure.Figure at 0x12f9f780>"
      ]
     },
     "metadata": {},
     "output_type": "display_data"
    }
   ],
   "source": [
    "ctyDF2= pd.DataFrame(index=['Best Western', 'Mercure', 'Hilton','Novotel', 'Marriott', 'Holiday Inn', 'Luxury Col.', 'NH Collection', 'Starhotels', 'IH Hotels', 'Autograph Col.', 'Radisson Blu'], columns=['Bad', 'Average', 'Good', 'Excellent'])\n",
    "\n",
    "ctyDF2['Bad'] = list(ctyDF['Bad'])\n",
    "ctyDF2['Average'] = list(ctyDF['Average'])\n",
    "ctyDF2['Good'] = list(ctyDF['Good'])\n",
    "ctyDF2['Excellent'] = list(ctyDF['Excellent'])\n",
    "\n",
    "fig_size = plt.rcParams[\"figure.figsize\"]\n",
    " \n",
    "fig_size[0] = 20\n",
    "fig_size[1] = 10\n",
    "\n",
    "\n",
    "ctyDF2.plot.bar()\n",
    "\n",
    "plt.savefig('Franchise Hotel Review Distributions')\n",
    "plt.show()\n"
   ]
  },
  {
   "cell_type": "code",
   "execution_count": 60,
   "metadata": {},
   "outputs": [],
   "source": [
    "ctyDF = pd.DataFrame(index=hotelNames, columns=['No of Hotels'])\n",
    "ctyDF2= pd.DataFrame(index=['Best Western', 'Mercure', 'Hilton','Novotel', 'Marriott', 'Holiday Inn', 'Luxury Col.', 'NH Collection', 'Starhotels', 'IH Hotels', 'Autograph Col.', 'Radisson Blu'], columns=['No of Hotels'])\n",
    "\n",
    "for h in hotelNames:\n",
    "    hns = list(hotelReviews['Hotel_Name'])\n",
    "    hns = [hn if h in hn else False for hn in hns]\n",
    "    totHotels = len(set(hns)) - 1\n",
    "    ctyDF['No of Hotels'][h] = totHotels\n",
    "    #print h, totHotels\n",
    "ctyDF2['No of Hotels'] = list(ctyDF['No of Hotels'])"
   ]
  },
  {
   "cell_type": "code",
   "execution_count": 72,
   "metadata": {
    "scrolled": false
   },
   "outputs": [],
   "source": [
    "fig_size = plt.rcParams[\"figure.figsize\"]\n",
    "fig_size[0] = 18\n",
    "fig_size[1] = 9\n",
    "ctyDF2.plot.bar()\n",
    "plt.title('No of hotels per franchise')\n",
    "#plt.show()\n",
    "plt.savefig('No of hotels per franchise')\n"
   ]
  },
  {
   "cell_type": "code",
   "execution_count": 66,
   "metadata": {},
   "outputs": [],
   "source": []
  },
  {
   "cell_type": "code",
   "execution_count": 68,
   "metadata": {},
   "outputs": [
    {
     "data": {
      "text/html": [
       "<div>\n",
       "<style>\n",
       "    .dataframe thead tr:only-child th {\n",
       "        text-align: right;\n",
       "    }\n",
       "\n",
       "    .dataframe thead th {\n",
       "        text-align: left;\n",
       "    }\n",
       "\n",
       "    .dataframe tbody tr th {\n",
       "        vertical-align: top;\n",
       "    }\n",
       "</style>\n",
       "<table border=\"1\" class=\"dataframe\">\n",
       "  <thead>\n",
       "    <tr style=\"text-align: right;\">\n",
       "      <th></th>\n",
       "      <th>No of Hotels</th>\n",
       "    </tr>\n",
       "  </thead>\n",
       "  <tbody>\n",
       "    <tr>\n",
       "      <th>Best Western</th>\n",
       "      <td>55</td>\n",
       "    </tr>\n",
       "    <tr>\n",
       "      <th>Mercure</th>\n",
       "      <td>50</td>\n",
       "    </tr>\n",
       "    <tr>\n",
       "      <th>Hilton</th>\n",
       "      <td>43</td>\n",
       "    </tr>\n",
       "    <tr>\n",
       "      <th>Novotel</th>\n",
       "      <td>26</td>\n",
       "    </tr>\n",
       "    <tr>\n",
       "      <th>Marriott</th>\n",
       "      <td>25</td>\n",
       "    </tr>\n",
       "    <tr>\n",
       "      <th>Holiday Inn</th>\n",
       "      <td>25</td>\n",
       "    </tr>\n",
       "    <tr>\n",
       "      <th>Luxury Col.</th>\n",
       "      <td>7</td>\n",
       "    </tr>\n",
       "    <tr>\n",
       "      <th>NH Collection</th>\n",
       "      <td>8</td>\n",
       "    </tr>\n",
       "    <tr>\n",
       "      <th>Starhotels</th>\n",
       "      <td>10</td>\n",
       "    </tr>\n",
       "    <tr>\n",
       "      <th>IH Hotels</th>\n",
       "      <td>5</td>\n",
       "    </tr>\n",
       "    <tr>\n",
       "      <th>Autograph Col.</th>\n",
       "      <td>5</td>\n",
       "    </tr>\n",
       "    <tr>\n",
       "      <th>Radisson Blu</th>\n",
       "      <td>14</td>\n",
       "    </tr>\n",
       "  </tbody>\n",
       "</table>\n",
       "</div>"
      ],
      "text/plain": [
       "                No of Hotels\n",
       "Best Western              55\n",
       "Mercure                   50\n",
       "Hilton                    43\n",
       "Novotel                   26\n",
       "Marriott                  25\n",
       "Holiday Inn               25\n",
       "Luxury Col.                7\n",
       "NH Collection              8\n",
       "Starhotels                10\n",
       "IH Hotels                  5\n",
       "Autograph Col.             5\n",
       "Radisson Blu              14"
      ]
     },
     "execution_count": 68,
     "metadata": {},
     "output_type": "execute_result"
    }
   ],
   "source": [
    "ctyDF2"
   ]
  }
 ],
 "metadata": {
  "kernelspec": {
   "display_name": "Python 2",
   "language": "python",
   "name": "python2"
  },
  "language_info": {
   "codemirror_mode": {
    "name": "ipython",
    "version": 2
   },
   "file_extension": ".py",
   "mimetype": "text/x-python",
   "name": "python",
   "nbconvert_exporter": "python",
   "pygments_lexer": "ipython2",
   "version": "2.7.13"
  }
 },
 "nbformat": 4,
 "nbformat_minor": 2
}
