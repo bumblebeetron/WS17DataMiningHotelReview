{
 "cells": [
  {
   "cell_type": "code",
   "execution_count": 2,
   "metadata": {
    "collapsed": true
   },
   "outputs": [],
   "source": [
    "import numpy as np\n",
    "import pandas as pd\n",
    "from geopy.geocoders import Nominatim\n",
    "from collections import Counter\n",
    "from operator import itemgetter\n",
    "import matplotlib.pyplot as plt"
   ]
  },
  {
   "cell_type": "code",
   "execution_count": 3,
   "metadata": {
    "collapsed": true
   },
   "outputs": [],
   "source": [
    "hotelReviews = pd.read_csv('Hotel_Reviews.csv')\n",
    "hotel_info = hotelReviews[['Hotel_Name', 'Hotel_Address']]\n",
    "hotel_info = hotel_info.drop_duplicates()"
   ]
  },
  {
   "cell_type": "markdown",
   "metadata": {},
   "source": [
    "# By Manual Analysis, we found that hotels from only these cities and nationalities are represented in the dataset"
   ]
  },
  {
   "cell_type": "code",
   "execution_count": 15,
   "metadata": {
    "collapsed": true
   },
   "outputs": [],
   "source": [
    "allCities = ['Paris', 'Amsterdam', 'London', 'Milan', 'Roma', 'Barcelona', 'Vienna']\n",
    "allCountries = ['France', 'Netherlands', 'United Kingdom', 'Italy', 'Spain', 'Austria']"
   ]
  },
  {
   "cell_type": "markdown",
   "metadata": {},
   "source": [
    "# Extraction of City and Nation of Hotels and appending them to the dataset for ease of access"
   ]
  },
  {
   "cell_type": "code",
   "execution_count": 5,
   "metadata": {
    "scrolled": true
   },
   "outputs": [],
   "source": [
    "cities = [['Paris'], ['Amsterdam'], ['London'], ['Milan', 'Roma'], ['Barcelona'], ['Vienna']]\n",
    "countries = ['France', 'Netherlands', 'United Kingdom', 'Italy', 'Spain', 'Austria']\n",
    "\n",
    "Country = []\n",
    "City = []\n",
    "\n",
    "for a in hotel_info['Hotel_Address']:\n",
    "    for c_i in range(len(countries)):\n",
    "        if countries[c_i] in a:\n",
    "            Country.append(countries[c_i])\n",
    "            cty = []\n",
    "            for ct_i in cities[c_i]:\n",
    "                if ct_i in a:\n",
    "                    cty.append(ct_i)\n",
    "            City.append(cty[-1])\n",
    "                    \n",
    "hotel_info['Country'] = Country\n",
    "hotel_info['City'] = City\n",
    "\n",
    "hotel_info.to_csv('Hotel_Info_Country_City.csv')\n",
    "\n",
    "citiesDict = dict()\n",
    "countriesDict = dict()\n",
    "\n",
    "i = 0\n",
    "for hn in hotel_info['Hotel_Name']:\n",
    "    citiesDict[hn] = City[i]\n",
    "    countriesDict[hn] = Country[i]\n",
    "    i += 1\n",
    "    \n",
    "hnCities = []\n",
    "hnCountries = []\n",
    "for hName in hotelReviews['Hotel_Name']:\n",
    "    hnCities.append(citiesDict[hName])\n",
    "    hnCountries.append(countriesDict[hName])\n",
    "hotelReviews['Country'] = hnCountries\n",
    "hotelReviews['City'] = hnCities\n",
    "\n",
    "hotelReviews.to_csv('HotelReviewsCountryCity.csv')"
   ]
  },
  {
   "cell_type": "markdown",
   "metadata": {},
   "source": [
    "# Average score of Hotels or Cities or Nations by Reviewer Nationality"
   ]
  },
  {
   "cell_type": "code",
   "execution_count": 273,
   "metadata": {
    "collapsed": true,
    "scrolled": false
   },
   "outputs": [],
   "source": [
    "def plotRelat(hotelReviews, Type = 'Hotel_Name', Nationality = ' United Kingdom ', Threshold = 100):\n",
    "\n",
    "    df = hotelReviews[[Type, 'Reviewer_Nationality', 'Reviewer_Score']]\n",
    "    df = df.loc[df['Reviewer_Nationality'] == Nationality]\n",
    "\n",
    "    relatNames = list(set(df[Type]))\n",
    "\n",
    "    print 'Review Data'\n",
    "    reviewData = []\n",
    "    for rn in relatNames:\n",
    "        ratings = np.array(df.loc[df[Type] == rn]['Reviewer_Score'])\n",
    "        if ratings.shape[0] >= Threshold:\n",
    "            reviewData.append([rn, np.mean(ratings), np.std(ratings), ratings.shape[0]])\n",
    "    \n",
    "    print 'Relative Names and Reviews'\n",
    "    relNames = []\n",
    "    relRevs = []\n",
    "    for i in reversed(sorted(reviewData, key=itemgetter(1))):\n",
    "        relNames.append(i[0])\n",
    "        relRevs.append(i[1])\n",
    "    \n",
    "    print 'Plotting'\n",
    "    \n",
    "    objects = relNames\n",
    "    y_pos = np.arange(len(relNames))\n",
    "    performance = relRevs\n",
    "\n",
    "    fig_size = plt.rcParams[\"figure.figsize\"]\n",
    " \n",
    "    fig_size[0] = 12\n",
    "    fig_size[1] = 12\n",
    "\n",
    "    plt.ylim([0,10])\n",
    "    plt.bar(y_pos, performance, align='center', alpha=0.5)\n",
    "    plt.xticks(y_pos, objects)\n",
    "    plt.ylabel('Mean Reviews')\n",
    "    plt.title('Reviews of'+Nationality+' Nationales by '+Type)\n",
    "\n",
    "    plt.savefig('Reviews of'+Nationality+' Nationales by '+Type)\n",
    "    plt.clf()\n",
    "    #plt.show()"
   ]
  },
  {
   "cell_type": "markdown",
   "metadata": {},
   "source": [
    "# Analysis of Cities and Nations by Reviewer Nationalities"
   ]
  },
  {
   "cell_type": "code",
   "execution_count": 276,
   "metadata": {
    "scrolled": true
   },
   "outputs": [
    {
     "name": "stdout",
     "output_type": "stream",
     "text": [
      "Review Data\n",
      "Relative Names and Reviews\n",
      "Plotting\n",
      "Review Data\n",
      "Relative Names and Reviews\n",
      "Plotting\n",
      "Review Data\n",
      "Relative Names and Reviews\n",
      "Plotting\n",
      "Review Data\n",
      "Relative Names and Reviews\n",
      "Plotting\n",
      "Review Data\n",
      "Relative Names and Reviews\n",
      "Plotting\n",
      "Review Data\n",
      "Relative Names and Reviews\n",
      "Plotting\n",
      "Review Data\n",
      "Relative Names and Reviews\n",
      "Plotting\n",
      "Review Data\n",
      "Relative Names and Reviews\n",
      "Plotting\n"
     ]
    }
   ],
   "source": [
    "Nats = [' United Kingdom ', ' United States of America ', ' Australia ', ' Ireland ']\n",
    "\n",
    "for n in Nats:\n",
    "    plotRelat(hotelReviews, Type = 'Country', Nationality=n, Threshold=0)\n",
    "    plotRelat(hotelReviews, Type = 'City', Nationality=n, Threshold=0)"
   ]
  },
  {
   "cell_type": "markdown",
   "metadata": {},
   "source": [
    "# Average Rating of Hotels From Each City"
   ]
  },
  {
   "cell_type": "code",
   "execution_count": 34,
   "metadata": {},
   "outputs": [
    {
     "data": {
      "image/png": "[encoded data removed]",
      "text/plain": [
       "<matplotlib.figure.Figure at 0x15aea550>"
      ]
     },
     "metadata": {},
     "output_type": "display_data"
    }
   ],
   "source": [
    "cityMeans = []\n",
    "for c in allCities:\n",
    "    hrc = hotelReviews.loc[hotelReviews['City'] == c][['Hotel_Name','Average_Score']]\n",
    "    hrc = hrc.drop_duplicates()\n",
    "    cityMeans.append(np.mean(hrc['Average_Score']))\n",
    "\n",
    "fig_size = plt.rcParams[\"figure.figsize\"]\n",
    " \n",
    "fig_size[0] = 12\n",
    "fig_size[1] = 12\n",
    "\n",
    "objects = allCities\n",
    "y_pos = np.arange(len(allCities))\n",
    "performance = cityMeans\n",
    "\n",
    "plt.ylim([0,10])\n",
    "plt.bar(y_pos, performance, align='center', alpha=0.5)\n",
    "plt.xticks(y_pos, objects)\n",
    "plt.ylabel('Mean Reviews')\n",
    "plt.title('Average Hotel Reviews by City')\n",
    "plt.savefig('Average Hotel Reviews by City')\n",
    "plt.show()"
   ]
  },
  {
   "cell_type": "code",
   "execution_count": 36,
   "metadata": {},
   "outputs": [
    {
     "data": {
      "image/png": "[encoded data removed]",
      "text/plain": [
       "<matplotlib.figure.Figure at 0x19651470>"
      ]
     },
     "metadata": {},
     "output_type": "display_data"
    }
   ],
   "source": [
    "cntMeans = []\n",
    "for c in allCountries:\n",
    "    hrc = hotelReviews.loc[hotelReviews['Country'] == c][['Hotel_Name','Average_Score']]\n",
    "    hrc = hrc.drop_duplicates()\n",
    "    cntMeans.append(np.mean(hrc['Average_Score']))\n",
    "\n",
    "fig_size = plt.rcParams[\"figure.figsize\"]\n",
    " \n",
    "fig_size[0] = 12\n",
    "fig_size[1] = 12\n",
    "\n",
    "objects = allCountries\n",
    "y_pos = np.arange(len(allCountries))\n",
    "performance = cntMeans\n",
    "\n",
    "plt.ylim([0,10])\n",
    "plt.bar(y_pos, performance, align='center', alpha=0.5)\n",
    "plt.xticks(y_pos, objects)\n",
    "plt.ylabel('Mean Reviews')\n",
    "plt.title('Average Hotel Reviews by Country')\n",
    "plt.savefig('Average Hotel Reviews by Country')\n",
    "plt.show()"
   ]
  }
 ],
 "metadata": {
  "kernelspec": {
   "display_name": "Python 2",
   "language": "python",
   "name": "python2"
  },
  "language_info": {
   "codemirror_mode": {
    "name": "ipython",
    "version": 2
   },
   "file_extension": ".py",
   "mimetype": "text/x-python",
   "name": "python",
   "nbconvert_exporter": "python",
   "pygments_lexer": "ipython2",
   "version": "2.7.13"
  }
 },
 "nbformat": 4,
 "nbformat_minor": 2
}
