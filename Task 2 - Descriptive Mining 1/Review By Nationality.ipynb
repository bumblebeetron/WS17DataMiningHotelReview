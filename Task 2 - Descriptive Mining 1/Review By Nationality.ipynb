{
 "cells": [
  {
   "cell_type": "code",
   "execution_count": 6,
   "metadata": {
    "collapsed": true
   },
   "outputs": [],
   "source": [
    "import numpy as np\n",
    "import pandas as pd\n",
    "from geopy.geocoders import Nominatim\n",
    "from collections import Counter\n",
    "from operator import itemgetter\n",
    "import matplotlib.pyplot as plt"
   ]
  },
  {
   "cell_type": "code",
   "execution_count": 7,
   "metadata": {
    "collapsed": true
   },
   "outputs": [],
   "source": [
    "hotelReviews = pd.read_csv('C:\\Users\\deniz\\Documents\\Hotel_Reviews.csv')\n",
    "hotel_info = hotelReviews[['Hotel_Name', 'Hotel_Address']]\n",
    "hotel_info = hotel_info.drop_duplicates()"
   ]
  },
  {
   "cell_type": "markdown",
   "metadata": {},
   "source": [
    "# By Manual Analysis, we found that hotels from only these cities and nationalities are represented in the dataset"
   ]
  },
  {
   "cell_type": "code",
   "execution_count": 13,
   "metadata": {
    "collapsed": true
   },
   "outputs": [],
   "source": [
    "cities = ['Paris', 'Amsterdam', 'London', 'Milan', 'Barcelona', 'Vienna']\n",
    "countries = ['France', 'Netherlands', 'United Kingdom', 'Italy', 'Spain', 'Austria']"
   ]
  },
  {
   "cell_type": "markdown",
   "metadata": {},
   "source": [
    "# Extraction of City and Nation of Hotels and appending them to the dataset for ease of access"
   ]
  },
  {
   "cell_type": "code",
   "execution_count": 14,
   "metadata": {
    "collapsed": true,
    "scrolled": true
   },
   "outputs": [],
   "source": [
    "Country = []\n",
    "City = []\n",
    "\n",
    "for a in hotel_info['Hotel_Address']:\n",
    "    for c_i in range(len(countries)):\n",
    "        if countries[c_i] in a:\n",
    "            Country.append(countries[c_i])\n",
    "            City.append(cities[c_i])        \n",
    "hotel_info['Country'] = Country\n",
    "hotel_info['City'] = City\n",
    "\n",
    "hotel_info.to_csv('C:\\Users\\deniz\\Documents\\Hotel_Info_Country_City.csv')\n",
    "\n",
    "citiesDict = dict()\n",
    "countriesDict = dict()\n",
    "\n",
    "i = 0\n",
    "for hn in hotel_info['Hotel_Name']:\n",
    "    citiesDict[hn] = City[i]\n",
    "    countriesDict[hn] = Country[i]\n",
    "    i += 1\n",
    "    \n",
    "hnCities = []\n",
    "hnCountries = []\n",
    "for hName in hotelReviews['Hotel_Name']:\n",
    "    hnCities.append(citiesDict[hName])\n",
    "    hnCountries.append(countriesDict[hName])\n",
    "hotelReviews['Country'] = hnCountries\n",
    "hotelReviews['City'] = hnCities\n",
    "\n",
    "hotelReviews.to_csv('C:\\Users\\deniz\\Documents\\HotelReviewsCountryCity.csv')"
   ]
  },
  {
   "cell_type": "markdown",
   "metadata": {},
   "source": [
    "# Analysis of Bad, Average, Good and Excellent Reviews By City"
   ]
  },
  {
   "cell_type": "code",
   "execution_count": 15,
   "metadata": {
    "scrolled": true
   },
   "outputs": [
    {
     "name": "stderr",
     "output_type": "stream",
     "text": [
      "C:\\ProgramData\\Anaconda2\\lib\\site-packages\\ipykernel_launcher.py:17: SettingWithCopyWarning: \n",
      "A value is trying to be set on a copy of a slice from a DataFrame.\n",
      "Try using .loc[row_indexer,col_indexer] = value instead\n",
      "\n",
      "See the caveats in the documentation: http://pandas.pydata.org/pandas-docs/stable/indexing.html#indexing-view-versus-copy\n"
     ]
    }
   ],
   "source": [
    "hotRevs = hotelReviews[['Hotel_Name', 'City', 'Reviewer_Score', 'Reviewer_Nationality']]\n",
    "# 0-4: Bad          0\n",
    "# 4-6: Average      0\n",
    "# 6-8: Good         0\n",
    "# 9-10: Excellent   0\n",
    "reviews = hotRevs['Reviewer_Score']\n",
    "binRevs = []\n",
    "for r in reviews:\n",
    "    if 0.0 < r <= 4:\n",
    "        binRevs.append(0)\n",
    "    elif 4 < r <= 6:\n",
    "        binRevs.append(1)\n",
    "    elif 6 < r <= 8:\n",
    "        binRevs.append(2)\n",
    "    elif 8 < r <= 10.0:\n",
    "        binRevs.append(3)\n",
    "hotRevs['Review_Labels'] = binRevs"
   ]
  },
  {
   "cell_type": "code",
   "execution_count": 19,
   "metadata": {
    "collapsed": true,
    "scrolled": false
   },
   "outputs": [],
   "source": [
    "def reviewDistbyCity(cities, hotRevs, nation = ''):\n",
    "    print cities\n",
    "    ctyDF = pd.DataFrame(index=cities, columns=['Bad', 'Average','Good', 'Excellent'])\n",
    "\n",
    "    for c in cities:\n",
    "        if nation is '':\n",
    "            c_Mat = hotRevs.loc[hotRevs['City'] == c]\n",
    "        else:\n",
    "            c_Mat = hotRevs.loc[(hotRevs['City'] == c)].loc[hotRevs['Reviewer_Nationality'] == nation]\n",
    "        \n",
    "        rArr = np.array(c_Mat['Review_Labels'])\n",
    "        badR = 1.0 * sum(rArr == 0)\n",
    "        avgR = 1.0 * sum(rArr == 1)\n",
    "        goodR = 1.0 * sum(rArr == 2)\n",
    "        excR = 1.0 * sum(rArr  == 3)\n",
    "\n",
    "        #binRevs = [ np.round(10000 * badR / rArr.shape[0]) / 100, \n",
    "        #            np.round(10000 * avgR / rArr.shape[0]) / 100,\n",
    "        #            np.round(10000 * goodR / rArr.shape[0]) / 100,\n",
    "        #            np.round(10000 * excR / rArr.shape[0]) / 100]\n",
    "\n",
    "        binRevs = [ np.round(100 * badR / rArr.shape[0]),\n",
    "                    np.round(100 * avgR / rArr.shape[0]),\n",
    "                    np.round(100 * goodR / rArr.shape[0]),\n",
    "                    np.round(100 * excR / rArr.shape[0])]\n",
    "\n",
    "\n",
    "        ctyDF['Bad'][c] = binRevs[0]\n",
    "        ctyDF['Average'][c] = binRevs[1]\n",
    "        ctyDF['Good'][c] = binRevs[2]\n",
    "        ctyDF['Excellent'][c] = binRevs[3]\n",
    "\n",
    "    fig_size = plt.rcParams[\"figure.figsize\"]\n",
    " \n",
    "    fig_size[0] = 15\n",
    "    fig_size[1] = 15\n",
    "    ctyDF.plot.bar()\n",
    "    \n",
    "    figName = 'City by Percentage of Reviews'\n",
    "    if nation is not '':\n",
    "        figName = figName + ' by '+nation+'Nationales'\n",
    "    plt.title('Distribution of Reviews by City')\n",
    "    plt.savefig(figName)\n",
    "    plt.show()"
   ]
  },
  {
   "cell_type": "code",
   "execution_count": 20,
   "metadata": {},
   "outputs": [
    {
     "name": "stdout",
     "output_type": "stream",
     "text": [
      "['Paris', 'Amsterdam', 'London', 'Milan', 'Barcelona', 'Vienna']\n"
     ]
    },
    {
     "data": {
      "image/png": "[encoded data removed]",
      "text/plain": [
       "<matplotlib.figure.Figure at 0x1424eef0>"
      ]
     },
     "metadata": {},
     "output_type": "display_data"
    }
   ],
   "source": [
    "reviewDistbyCity(cities, hotRevs, nation='')"
   ]
  },
  {
   "cell_type": "markdown",
   "metadata": {},
   "source": [
    "# Average score of Hotels or Cities or Nations by Reviewer Nationality"
   ]
  },
  {
   "cell_type": "code",
   "execution_count": 21,
   "metadata": {
    "collapsed": true,
    "scrolled": false
   },
   "outputs": [],
   "source": [
    "def plotRelat(hotelReviews, Type = 'Hotel_Name', Nationality = ' United Kingdom ', Threshold = 100):\n",
    "\n",
    "    df = hotelReviews[[Type, 'Reviewer_Nationality', 'Reviewer_Score']]\n",
    "    df = df.loc[df['Reviewer_Nationality'] == Nationality]\n",
    "\n",
    "    relatNames = list(set(df[Type]))\n",
    "\n",
    "    print 'Review Data'\n",
    "    reviewData = []\n",
    "    for rn in relatNames:\n",
    "        ratings = np.array(df.loc[df[Type] == rn]['Reviewer_Score'])\n",
    "        if ratings.shape[0] >= Threshold:\n",
    "            reviewData.append([rn, np.mean(ratings), np.std(ratings), ratings.shape[0]])\n",
    "    \n",
    "    print 'Relative Names and Reviews'\n",
    "    relNames = []\n",
    "    relRevs = []\n",
    "    relStds = []\n",
    "    for i in reversed(sorted(reviewData, key=itemgetter(1))):\n",
    "        relNames.append(i[0])\n",
    "        relRevs.append(i[1])\n",
    "        relStds.append(i[2])\n",
    "    \n",
    "    print 'Plotting'\n",
    "    \n",
    "    objects = relNames\n",
    "    y_pos = np.arange(len(relNames))\n",
    "    performance = relRevs\n",
    "\n",
    "    fig_size = plt.rcParams[\"figure.figsize\"]\n",
    " \n",
    "    fig_size[0] = 15\n",
    "    fig_size[1] = 7\n",
    "\n",
    "    plt.ylim([0,11])\n",
    "    plt.bar(y_pos, performance, align='center', alpha=0.5, yerr = relStds)\n",
    "    plt.xticks(y_pos, objects)\n",
    "    plt.ylabel('Mean Reviews')\n",
    "    plt.title('Reviews of'+Nationality+' Nationales by '+Type)\n",
    "\n",
    "    plt.savefig('Reviews of'+Nationality+' Nationales by '+Type)\n",
    "    plt.clf()\n",
    "    #plt.show()"
   ]
  },
  {
   "cell_type": "markdown",
   "metadata": {},
   "source": [
    "# Analysis of Cities and Nations by Reviewer Nationalities"
   ]
  },
  {
   "cell_type": "code",
   "execution_count": 22,
   "metadata": {
    "scrolled": true
   },
   "outputs": [
    {
     "name": "stdout",
     "output_type": "stream",
     "text": [
      "Review Data\n",
      "Relative Names and Reviews\n",
      "Plotting\n",
      "Review Data\n",
      "Relative Names and Reviews\n",
      "Plotting\n",
      "Review Data\n",
      "Relative Names and Reviews\n",
      "Plotting\n",
      "Review Data\n",
      "Relative Names and Reviews\n",
      "Plotting\n"
     ]
    }
   ],
   "source": [
    "Nats = [' United Kingdom ', ' United States of America ', ' Australia ', ' Ireland ']\n",
    "\n",
    "for n in Nats:\n",
    "    #plotRelat(hotelReviews, Type = 'Country', Nationality=n, Threshold=0)\n",
    "    plotRelat(hotelReviews, Type = 'City', Nationality=n, Threshold=0)"
   ]
  },
  {
   "cell_type": "markdown",
   "metadata": {},
   "source": [
    "# Average Rating of Hotels From Each City"
   ]
  },
  {
   "cell_type": "code",
   "execution_count": 24,
   "metadata": {},
   "outputs": [
    {
     "data": {
      "image/png": "[encoded data removed]",
      "text/plain": [
       "<matplotlib.figure.Figure at 0x2d154b70>"
      ]
     },
     "metadata": {},
     "output_type": "display_data"
    }
   ],
   "source": [
    "cityMeans = []\n",
    "cityStds = []\n",
    "for c in cities:\n",
    "    hrc = hotelReviews.loc[hotelReviews['City'] == c][['Hotel_Name','Average_Score']]\n",
    "    hrc = hrc.drop_duplicates()\n",
    "    cityMeans.append(np.mean(hrc['Average_Score']))\n",
    "    cityStds.append(np.std(hrc['Average_Score']))\n",
    "    \n",
    "fig_size = plt.rcParams[\"figure.figsize\"]\n",
    " \n",
    "fig_size[0] = 15\n",
    "fig_size[1] = 10\n",
    "\n",
    "objects = cities\n",
    "y_pos = np.arange(len(cities))\n",
    "performance = cityMeans\n",
    "\n",
    "plt.ylim([0,10])\n",
    "plt.bar(y_pos, performance, align='center', alpha=0.5, yerr=cityStds)\n",
    "plt.xticks(y_pos, objects)\n",
    "plt.ylabel('Mean Reviews')\n",
    "plt.title('Average Hotel Reviews by City')\n",
    "plt.savefig('Average Hotel Reviews by City')\n",
    "plt.show()"
   ]
  },
  {
   "cell_type": "code",
   "execution_count": null,
   "metadata": {},
   "outputs": [],
   "source": [
    "cntMeans = []\n",
    "for c in allCountries:\n",
    "    hrc = hotelReviews.loc[hotelReviews['Country'] == c][['Hotel_Name','Average_Score']]\n",
    "    hrc = hrc.drop_duplicates()\n",
    "    cntMeans.append(np.mean(hrc['Average_Score']))\n",
    "\n",
    "fig_size = plt.rcParams[\"figure.figsize\"]\n",
    " \n",
    "fig_size[0] = 12\n",
    "fig_size[1] = 12\n",
    "\n",
    "objects = allCountries\n",
    "y_pos = np.arange(len(allCountries))\n",
    "performance = cntMeans\n",
    "\n",
    "plt.ylim([0,10])\n",
    "plt.bar(y_pos, performance, align='center', alpha=0.5)\n",
    "plt.xticks(y_pos, objects)\n",
    "plt.ylabel('Mean Reviews')\n",
    "plt.title('Average Hotel Reviews by Country')\n",
    "plt.savefig('Average Hotel Reviews by Country')\n",
    "plt.show()"
   ]
  }
 ],
 "metadata": {
  "kernelspec": {
   "display_name": "Python 2",
   "language": "python",
   "name": "python2"
  },
  "language_info": {
   "codemirror_mode": {
    "name": "ipython",
    "version": 2
   },
   "file_extension": ".py",
   "mimetype": "text/x-python",
   "name": "python",
   "nbconvert_exporter": "python",
   "pygments_lexer": "ipython2",
   "version": "2.7.13"
  }
 },
 "nbformat": 4,
 "nbformat_minor": 2
}
