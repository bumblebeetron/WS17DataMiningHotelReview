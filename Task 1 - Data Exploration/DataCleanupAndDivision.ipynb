{
 "cells": [
  {
   "cell_type": "code",
   "execution_count": 29,
   "metadata": {
    "collapsed": true
   },
   "outputs": [],
   "source": [
    "import pandas as pd\n",
    "import numpy as np\n",
    "import pickle\n",
    "import matplotlib.pyplot as plt"
   ]
  },
  {
   "cell_type": "code",
   "execution_count": 2,
   "metadata": {
    "collapsed": true
   },
   "outputs": [],
   "source": [
    "hotelReviews = pd.read_csv('Hotel_Reviews.csv')"
   ]
  },
  {
   "cell_type": "markdown",
   "metadata": {},
   "source": [
    "# Constructing Table 1: Hotel Index Table\n",
    " \n",
    "*** Table 1: Hotel Index Table\n",
    "\n",
    "*** Dict 1: Mapping of Hotel Name to Hotel Index\n",
    "\n",
    "*** List 1: Mapping of Hotel Index to Hotel Name"
   ]
  },
  {
   "cell_type": "code",
   "execution_count": 3,
   "metadata": {
    "scrolled": false
   },
   "outputs": [],
   "source": [
    "hotel_info = hotelReviews[['Hotel_Name', 'Hotel_Address']]\n",
    "hotel_info = hotel_info.drop_duplicates()\n",
    "hotel_info.index = pd.RangeIndex(start=0, stop=len(hotel_info), step=1)\n",
    "hotel_info.to_csv('Hotel_Index.csv')"
   ]
  },
  {
   "cell_type": "code",
   "execution_count": 4,
   "metadata": {},
   "outputs": [],
   "source": [
    "index = 0\n",
    "hotel_name_list = []\n",
    "hotel_name_dict = dict()\n",
    "for h in hotel_info['Hotel_Name']:\n",
    "    hotel_name_list.append(h)\n",
    "    hotel_name_dict[h] = index\n",
    "    index += 1\n",
    "with open('hotel_name_list.pkl', 'wb') as f:\n",
    "    pickle.dump(hotel_name_list, f)\n",
    "with open('hotel_name_dict.pkl', 'wb') as f:\n",
    "    pickle.dump(hotel_name_dict, f)"
   ]
  },
  {
   "cell_type": "markdown",
   "metadata": {},
   "source": [
    "# Constructing Table 2: Reviewer Nationality Table\n",
    "\n",
    "*** Table 1:  Reviewer Nationality Table\n",
    "\n",
    "*** Dict 1: Mapping of Reviewer Nationality Name to Reviewer Nationality Index\n",
    "\n",
    "*** List 1: Mapping of Reviewer Nationality Index to Reviewer Nationalityl Name"
   ]
  },
  {
   "cell_type": "code",
   "execution_count": 5,
   "metadata": {},
   "outputs": [],
   "source": [
    "reviewer_nationality_info = hotelReviews['Reviewer_Nationality']\n",
    "reviewer_nationality_info = reviewer_nationality_info.drop_duplicates()\n",
    "reviewer_nationality_info.index = pd.RangeIndex(start=0, stop=len(reviewer_nationality_info), step=1)"
   ]
  },
  {
   "cell_type": "code",
   "execution_count": 50,
   "metadata": {
    "collapsed": true
   },
   "outputs": [],
   "source": [
    "index = 0\n",
    "reviewer_nationality_dict = dict()\n",
    "reviewer_nationality_list = []\n",
    "for r in reviewer_nationality_info:\n",
    "    reviewer_nationality_list.append(r)\n",
    "    reviewer_nationality_dict[r] = index\n",
    "    index += 1\n",
    "with open('reviewer_nationality_list.pkl', 'wb') as f:\n",
    "    pickle.dump(reviewer_nationality_list, f)\n",
    "with open('reviewer_nationality_dict.pkl', 'wb') as f:\n",
    "    pickle.dump(reviewer_nationality_dict, f)"
   ]
  },
  {
   "cell_type": "markdown",
   "metadata": {},
   "source": [
    "# Construt Table 3: Numeric Hotel Reviews Table"
   ]
  },
  {
   "cell_type": "code",
   "execution_count": 7,
   "metadata": {},
   "outputs": [],
   "source": [
    "hotel_names = hotelReviews['Hotel_Name']\n",
    "hotel_ids = []\n",
    "for h in hotel_names:\n",
    "    hotel_ids.append(hotel_name_dict[h])\n",
    "    \n",
    "reviewer_nationalities = hotelReviews['Reviewer_Nationality']\n",
    "reviewer_nationality_ids = []\n",
    "for r in reviewer_nationalities:\n",
    "    reviewer_nationality_ids.append(reviewer_natioality_dict[r])"
   ]
  },
  {
   "cell_type": "code",
   "execution_count": 8,
   "metadata": {
    "scrolled": true
   },
   "outputs": [
    {
     "name": "stderr",
     "output_type": "stream",
     "text": [
      "C:\\ProgramData\\Anaconda2\\lib\\site-packages\\ipykernel_launcher.py:10: SettingWithCopyWarning: \n",
      "A value is trying to be set on a copy of a slice from a DataFrame.\n",
      "Try using .loc[row_indexer,col_indexer] = value instead\n",
      "\n",
      "See the caveats in the documentation: http://pandas.pydata.org/pandas-docs/stable/indexing.html#indexing-view-versus-copy\n",
      "  # Remove the CWD from sys.path while we load stuff.\n",
      "C:\\ProgramData\\Anaconda2\\lib\\site-packages\\ipykernel_launcher.py:11: SettingWithCopyWarning: \n",
      "A value is trying to be set on a copy of a slice from a DataFrame.\n",
      "Try using .loc[row_indexer,col_indexer] = value instead\n",
      "\n",
      "See the caveats in the documentation: http://pandas.pydata.org/pandas-docs/stable/indexing.html#indexing-view-versus-copy\n",
      "  # This is added back by InteractiveShellApp.init_path()\n"
     ]
    }
   ],
   "source": [
    "numeric_hotel_reviews = hotelReviews[['Average_Score', \n",
    "                                     'Total_Number_of_Reviews', \n",
    "                                     'Additional_Number_of_Scoring', \n",
    "                                     'Review_Total_Negative_Word_Counts',\n",
    "                                     'Review_Total_Positive_Word_Counts',\n",
    "                                     'Total_Number_of_Reviews_Reviewer_Has_Given',\n",
    "                                     'Reviewer_Score',\n",
    "                                     'lat',\n",
    "                                     'lng']]\n",
    "numeric_hotel_reviews['Hotel_ID'] = hotel_ids\n",
    "numeric_hotel_reviews['Reviewer_Nationality_ID'] = reviewer_nationality_ids\n",
    "numeric_hotel_reviews.to_csv('numeric_hotel_reviews.csv')"
   ]
  },
  {
   "cell_type": "markdown",
   "metadata": {},
   "source": [
    "# Construct Table 4: Textual Hotel Reviews Table"
   ]
  },
  {
   "cell_type": "code",
   "execution_count": 9,
   "metadata": {
    "scrolled": false
   },
   "outputs": [
    {
     "name": "stderr",
     "output_type": "stream",
     "text": [
      "C:\\ProgramData\\Anaconda2\\lib\\site-packages\\ipykernel_launcher.py:4: SettingWithCopyWarning: \n",
      "A value is trying to be set on a copy of a slice from a DataFrame.\n",
      "Try using .loc[row_indexer,col_indexer] = value instead\n",
      "\n",
      "See the caveats in the documentation: http://pandas.pydata.org/pandas-docs/stable/indexing.html#indexing-view-versus-copy\n",
      "  after removing the cwd from sys.path.\n"
     ]
    }
   ],
   "source": [
    "textual_hotel_reviews = hotelReviews[['Negative_Review',\n",
    "                                      'Positive_Review',\n",
    "                                      'Reviewer_Score']]\n",
    "textual_hotel_reviews['Hotel_ID'] = hotel_ids\n",
    "textual_hotel_reviews.to_csv('textual_hotel_reviews.csv')"
   ]
  },
  {
   "cell_type": "markdown",
   "metadata": {},
   "source": [
    "# Construct Table 5: Tag Based Hotel Reviews Table"
   ]
  },
  {
   "cell_type": "code",
   "execution_count": 10,
   "metadata": {},
   "outputs": [
    {
     "name": "stderr",
     "output_type": "stream",
     "text": [
      "C:\\ProgramData\\Anaconda2\\lib\\site-packages\\ipykernel_launcher.py:3: SettingWithCopyWarning: \n",
      "A value is trying to be set on a copy of a slice from a DataFrame.\n",
      "Try using .loc[row_indexer,col_indexer] = value instead\n",
      "\n",
      "See the caveats in the documentation: http://pandas.pydata.org/pandas-docs/stable/indexing.html#indexing-view-versus-copy\n",
      "  This is separate from the ipykernel package so we can avoid doing imports until\n"
     ]
    }
   ],
   "source": [
    "tag_based_hotel_reviews = hotelReviews[['Tags',\n",
    "                                        'Reviewer_Score']]\n",
    "tag_based_hotel_reviews['Hotel_ID'] = hotel_ids\n",
    "tag_based_hotel_reviews.to_csv('tag_based_hotel_reviews.csv')"
   ]
  },
  {
   "cell_type": "markdown",
   "metadata": {},
   "source": [
    "# Initial Analysis and Graphs"
   ]
  },
  {
   "cell_type": "code",
   "execution_count": 41,
   "metadata": {},
   "outputs": [
    {
     "name": "stdout",
     "output_type": "stream",
     "text": [
      "\n"
     ]
    }
   ],
   "source": [
    "review_count_by_nation = dict()\n",
    "for nation in hotelReviews['Reviewer_Nationality']:\n",
    "    if nation in review_count_by_nation:\n",
    "        review_count_by_nation[nation] += 1\n",
    "    else:\n",
    "        review_count_by_nation[nation] = 1"
   ]
  },
  {
   "cell_type": "code",
   "execution_count": 49,
   "metadata": {
    "scrolled": false
   },
   "outputs": [
    {
     "name": "stdout",
     "output_type": "stream",
     "text": [
      "515738 Reviews made by unknown number of reviewers from 226 nations.\n",
      "Total of  523 reviewers chose not to share nationality.\n",
      "List of nations by reviewers:\n",
      "      Anguilla : 1\n",
      "      Cape Verde : 1\n",
      "      Comoros : 1\n",
      "      Guinea : 1\n",
      "      Northern Mariana Islands : 1\n",
      "      Palau : 1\n",
      "      Svalbard Jan Mayen : 1\n",
      "      Tuvalu : 1\n",
      "      Vatican City : 1\n",
      "      American Samoa : 2\n",
      "      Cocos K I : 2\n",
      "      Cook Islands : 2\n",
      "      Djibouti : 2\n",
      "      Equatorial Guinea : 2\n",
      "      Eritrea : 2\n",
      "      Kiribati : 2\n",
      "      Montserrat : 2\n",
      "      Niger : 2\n",
      "      Saint Vincent Grenadines : 2\n",
      "      South Sudan : 2\n",
      "      St Pierre and Miquelon : 2\n",
      "      Wallis and Futuna : 2\n",
      "      Antarctica : 3\n",
      "      Bonaire St Eustatius and Saba : 3\n",
      "      Burundi : 3\n",
      "      Central Africa Republic : 3\n",
      "      Congo : 3\n",
      "      French Polynesia : 3\n",
      "      Grenada : 3\n",
      "      Lesotho : 3\n",
      "      Liberia : 3\n",
      "      Saint Barts : 3\n",
      "      San Marino : 3\n",
      "      Somalia : 3\n",
      "      East Timor : 4\n",
      "      French Guiana : 4\n",
      "      Saint Martin : 4\n",
      "      Samoa : 4\n",
      "      Gambia : 5\n",
      "      Guadeloupe : 5\n",
      "      Guyana : 5\n",
      "      Mali : 5\n",
      "      Martinique : 5\n",
      "      Turkmenistan : 5\n",
      "      Benin : 6\n",
      "      Bhutan : 6\n",
      "      Crimea : 6\n",
      "      Falkland Islands Malvinas : 6\n",
      "      Haiti : 6\n",
      "      Reunion : 6\n",
      "      Sierra Leone : 6\n",
      "      Gabon : 7\n",
      "      Togo : 7\n",
      "      Afghanistan : 8\n",
      "      Belize : 8\n",
      "      Madagascar : 8\n",
      "      Mauritania : 8\n",
      "      Saint Lucia : 8\n",
      "      Swaziland : 8\n",
      "      Vanuatu : 8\n",
      "      Cameroon : 9\n",
      "      Democratic Republic of the Congo : 9\n",
      "      Laos : 9\n",
      "      Saint Kitts and Nevis : 9\n",
      "      Malawi : 10\n",
      "      New Caledonia : 10\n",
      "      Dominica : 11\n",
      "      St Maarten : 11\n",
      "      Suriname : 11\n",
      "      Fiji : 12\n",
      "      Rwanda : 13\n",
      "      Antigua Barbuda : 14\n",
      "      Guam : 14\n",
      "      Papua New Guinea : 14\n",
      "      Turks Caicos Islands : 14\n",
      "      Nepal : 15\n",
      "      Nicaragua : 15\n",
      "      British Virgin Islands : 16\n",
      "      Faroe Islands : 16\n",
      "      Tajikistan : 16\n",
      "      Yemen : 16\n",
      "      U S Virgin Islands : 17\n",
      "      Bolivia : 18\n",
      "      Myanmar : 18\n",
      "      Ivory Coast : 19\n",
      "      Liechtenstein : 20\n",
      "      Uzbekistan : 20\n",
      "      Kyrgyzstan : 21\n",
      "      Seychelles : 21\n",
      "      Honduras : 22\n",
      "      El Salvador : 24\n",
      "      Senegal : 24\n",
      "      Paraguay : 28\n",
      "      Aruba : 31\n",
      "      Bahamas : 32\n",
      "      Ethiopia : 32\n",
      "      Syria : 33\n",
      "      Cambodia : 34\n",
      "      Mozambique : 35\n",
      "      Zambia : 37\n",
      "      Mongolia : 39\n",
      "      Cura ao : 41\n",
      "      Jamaica : 41\n",
      "      Botswana : 42\n",
      "      Cayman Islands : 42\n",
      "      Uganda : 47\n",
      "      Maldives : 49\n",
      "      Sudan : 51\n",
      "      Zimbabwe : 51\n",
      "      Dominican Republic : 52\n",
      "      Guatemala : 53\n",
      "      Palestinian Territory : 54\n",
      "      Tanzania : 58\n",
      "      Barbados : 61\n",
      "      Ecuador : 61\n",
      "      Angola : 62\n",
      "      Andorra : 64\n",
      "      Namibia : 67\n",
      "      Kosovo : 72\n",
      "      Libya : 72\n",
      "      United States Minor Outlying Islands : 74\n",
      "      Tunisia : 76\n",
      "      Venezuela : 78\n",
      "      Uruguay : 91\n",
      "      Algeria : 100\n",
      "      Brunei : 100\n",
      "      Bermuda : 103\n",
      "      Moldova : 108\n",
      "      Macau : 109\n",
      "      Peru : 118\n",
      "      Costa Rica : 120\n",
      "      Panama : 122\n",
      "      Armenia : 134\n",
      "      Ghana : 145\n",
      "      Bangladesh : 151\n",
      "      Abkhazia Georgia : 153\n",
      "      Trinidad and Tobago : 154\n",
      "      Puerto Rico : 180\n",
      "      Vietnam : 187\n",
      "      Belarus : 192\n",
      "      Montenegro : 192\n",
      "      Mauritius : 216\n",
      "      Morocco : 229\n",
      "      Bosnia and Herzegovina : 246\n",
      "      Monaco : 250\n",
      "      Kenya : 269\n",
      "      Azerbaijan : 277\n",
      "      Colombia : 277\n",
      "      Kazakhstan : 281\n",
      "      Macedonia : 282\n",
      "      Sri Lanka : 284\n",
      "      Albania : 286\n",
      "      Iraq : 290\n",
      "      Georgia : 294\n",
      "      Chile : 334\n",
      "      Gibraltar : 380\n",
      "      Isle of Man : 405\n",
      "      Argentina : 517\n",
      "      : 523\n",
      "      Guernsey : 543\n",
      "      Mexico : 592\n",
      "      Latvia : 719\n",
      "      Lithuania : 727\n",
      "      Estonia : 757\n",
      "      Jordan : 757\n",
      "      Slovenia : 796\n",
      "      Jersey : 863\n",
      "      Slovakia : 903\n",
      "      Pakistan : 916\n",
      "      Taiwan : 923\n",
      "      Iceland : 933\n",
      "      Nigeria : 977\n",
      "      Philippines : 1073\n",
      "      South Korea : 1078\n",
      "      Iran : 1086\n",
      "      Ukraine : 1102\n",
      "      Serbia : 1124\n",
      "      Japan : 1279\n",
      "      Bulgaria : 1314\n",
      "      Oman : 1334\n",
      "      Croatia : 1340\n",
      "      Luxembourg : 1359\n",
      "      Cyprus : 1381\n",
      "      Indonesia : 1548\n",
      "      Bahrain : 1592\n",
      "      Malta : 1685\n",
      "      Denmark : 1724\n",
      "      Finland : 1829\n",
      "      Portugal : 1839\n",
      "      Brazil : 1865\n",
      "      Thailand : 1880\n",
      "      Malaysia : 1883\n",
      "      Hungary : 2185\n",
      "      Lebanon : 2261\n",
      "      Czech Republic : 2311\n",
      "      Norway : 2383\n",
      "      Egypt : 2388\n",
      "      Austria : 2412\n",
      "      Qatar : 2757\n",
      "      Poland : 2891\n",
      "      Hong Kong : 3013\n",
      "      Singapore : 3091\n",
      "      New Zealand : 3237\n",
      "      Sweden : 3368\n",
      "      China : 3400\n",
      "      Greece : 3406\n",
      "      India : 3437\n",
      "      South Africa : 3821\n",
      "      Russia : 3900\n",
      "      Romania : 4552\n",
      "      Spain : 4737\n",
      "      Kuwait : 4920\n",
      "      Turkey : 5444\n",
      "      Belgium : 6031\n",
      "      Italy : 6114\n",
      "      Israel : 6610\n",
      "      France : 7296\n",
      "      Canada : 7894\n",
      "      Germany : 7941\n",
      "      Switzerland : 8678\n",
      "      Netherlands : 8772\n",
      "      Saudi Arabia : 8951\n",
      "      United Arab Emirates : 10235\n",
      "      Ireland : 14827\n",
      "      Australia : 21686\n",
      "      United States of America : 35437\n",
      "      United Kingdom : 245246\n"
     ]
    }
   ],
   "source": [
    "print len(hotelReviews), 'Reviews made by unknown number of reviewers from', len(review_count_by_nation) - 1, 'nations.'\n",
    "print 'Total of ', review_count_by_nation[' '] , 'reviewers chose not to share nationality.'\n",
    "print 'List of nations by reviewers:'\n",
    "for key, value in sorted(review_count_by_nation.iteritems(), key=lambda (k,v): (v,k)):\n",
    "    print \"     %s: %s\" % (key, value)"
   ]
  }
 ],
 "metadata": {
  "kernelspec": {
   "display_name": "Python 2",
   "language": "python",
   "name": "python2"
  },
  "language_info": {
   "codemirror_mode": {
    "name": "ipython",
    "version": 2
   },
   "file_extension": ".py",
   "mimetype": "text/x-python",
   "name": "python",
   "nbconvert_exporter": "python",
   "pygments_lexer": "ipython2",
   "version": "2.7.13"
  }
 },
 "nbformat": 4,
 "nbformat_minor": 2
}
