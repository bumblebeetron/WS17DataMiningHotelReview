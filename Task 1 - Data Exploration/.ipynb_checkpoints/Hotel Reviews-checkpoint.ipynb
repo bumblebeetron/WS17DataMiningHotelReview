{
 "cells": [
  {
   "cell_type": "markdown",
   "metadata": {},
   "source": [
    "# Hotel Reviews: Basic Statistical Description of Reviews\n"
   ]
  },
  {
   "cell_type": "code",
   "execution_count": 1,
   "metadata": {
    "collapsed": true
   },
   "outputs": [],
   "source": [
    "import pandas as pd\n",
    "import numpy as np"
   ]
  },
  {
   "cell_type": "code",
   "execution_count": 2,
   "metadata": {},
   "outputs": [
    {
     "data": {
      "text/html": [
       "<div>\n",
       "<style>\n",
       "    .dataframe thead tr:only-child th {\n",
       "        text-align: right;\n",
       "    }\n",
       "\n",
       "    .dataframe thead th {\n",
       "        text-align: left;\n",
       "    }\n",
       "\n",
       "    .dataframe tbody tr th {\n",
       "        vertical-align: top;\n",
       "    }\n",
       "</style>\n",
       "<table border=\"1\" class=\"dataframe\">\n",
       "  <thead>\n",
       "    <tr style=\"text-align: right;\">\n",
       "      <th></th>\n",
       "      <th>Hotel_Address</th>\n",
       "      <th>Additional_Number_of_Scoring</th>\n",
       "      <th>Review_Date</th>\n",
       "      <th>Average_Score</th>\n",
       "      <th>Hotel_Name</th>\n",
       "      <th>Reviewer_Nationality</th>\n",
       "      <th>Negative_Review</th>\n",
       "      <th>Review_Total_Negative_Word_Counts</th>\n",
       "      <th>Total_Number_of_Reviews</th>\n",
       "      <th>Positive_Review</th>\n",
       "      <th>Review_Total_Positive_Word_Counts</th>\n",
       "      <th>Total_Number_of_Reviews_Reviewer_Has_Given</th>\n",
       "      <th>Reviewer_Score</th>\n",
       "      <th>Tags</th>\n",
       "      <th>days_since_review</th>\n",
       "      <th>lat</th>\n",
       "      <th>lng</th>\n",
       "    </tr>\n",
       "  </thead>\n",
       "  <tbody>\n",
       "    <tr>\n",
       "      <th>0</th>\n",
       "      <td>s Gravesandestraat 55 Oost 1092 AA Amsterdam ...</td>\n",
       "      <td>194</td>\n",
       "      <td>8/3/2017</td>\n",
       "      <td>7.7</td>\n",
       "      <td>Hotel Arena</td>\n",
       "      <td>Russia</td>\n",
       "      <td>I am so angry that i made this post available...</td>\n",
       "      <td>397</td>\n",
       "      <td>1403</td>\n",
       "      <td>Only the park outside of the hotel was beauti...</td>\n",
       "      <td>11</td>\n",
       "      <td>7</td>\n",
       "      <td>2.9</td>\n",
       "      <td>[' Leisure trip ', ' Couple ', ' Duplex Double...</td>\n",
       "      <td>0 days</td>\n",
       "      <td>52.360576</td>\n",
       "      <td>4.915968</td>\n",
       "    </tr>\n",
       "    <tr>\n",
       "      <th>1</th>\n",
       "      <td>s Gravesandestraat 55 Oost 1092 AA Amsterdam ...</td>\n",
       "      <td>194</td>\n",
       "      <td>8/3/2017</td>\n",
       "      <td>7.7</td>\n",
       "      <td>Hotel Arena</td>\n",
       "      <td>Ireland</td>\n",
       "      <td>No Negative</td>\n",
       "      <td>0</td>\n",
       "      <td>1403</td>\n",
       "      <td>No real complaints the hotel was great great ...</td>\n",
       "      <td>105</td>\n",
       "      <td>7</td>\n",
       "      <td>7.5</td>\n",
       "      <td>[' Leisure trip ', ' Couple ', ' Duplex Double...</td>\n",
       "      <td>0 days</td>\n",
       "      <td>52.360576</td>\n",
       "      <td>4.915968</td>\n",
       "    </tr>\n",
       "    <tr>\n",
       "      <th>2</th>\n",
       "      <td>s Gravesandestraat 55 Oost 1092 AA Amsterdam ...</td>\n",
       "      <td>194</td>\n",
       "      <td>7/31/2017</td>\n",
       "      <td>7.7</td>\n",
       "      <td>Hotel Arena</td>\n",
       "      <td>Australia</td>\n",
       "      <td>Rooms are nice but for elderly a bit difficul...</td>\n",
       "      <td>42</td>\n",
       "      <td>1403</td>\n",
       "      <td>Location was good and staff were ok It is cut...</td>\n",
       "      <td>21</td>\n",
       "      <td>9</td>\n",
       "      <td>7.1</td>\n",
       "      <td>[' Leisure trip ', ' Family with young childre...</td>\n",
       "      <td>3 days</td>\n",
       "      <td>52.360576</td>\n",
       "      <td>4.915968</td>\n",
       "    </tr>\n",
       "    <tr>\n",
       "      <th>3</th>\n",
       "      <td>s Gravesandestraat 55 Oost 1092 AA Amsterdam ...</td>\n",
       "      <td>194</td>\n",
       "      <td>7/31/2017</td>\n",
       "      <td>7.7</td>\n",
       "      <td>Hotel Arena</td>\n",
       "      <td>United Kingdom</td>\n",
       "      <td>My room was dirty and I was afraid to walk ba...</td>\n",
       "      <td>210</td>\n",
       "      <td>1403</td>\n",
       "      <td>Great location in nice surroundings the bar a...</td>\n",
       "      <td>26</td>\n",
       "      <td>1</td>\n",
       "      <td>3.8</td>\n",
       "      <td>[' Leisure trip ', ' Solo traveler ', ' Duplex...</td>\n",
       "      <td>3 days</td>\n",
       "      <td>52.360576</td>\n",
       "      <td>4.915968</td>\n",
       "    </tr>\n",
       "    <tr>\n",
       "      <th>4</th>\n",
       "      <td>s Gravesandestraat 55 Oost 1092 AA Amsterdam ...</td>\n",
       "      <td>194</td>\n",
       "      <td>7/24/2017</td>\n",
       "      <td>7.7</td>\n",
       "      <td>Hotel Arena</td>\n",
       "      <td>New Zealand</td>\n",
       "      <td>You When I booked with your company on line y...</td>\n",
       "      <td>140</td>\n",
       "      <td>1403</td>\n",
       "      <td>Amazing location and building Romantic setting</td>\n",
       "      <td>8</td>\n",
       "      <td>3</td>\n",
       "      <td>6.7</td>\n",
       "      <td>[' Leisure trip ', ' Couple ', ' Suite ', ' St...</td>\n",
       "      <td>10 days</td>\n",
       "      <td>52.360576</td>\n",
       "      <td>4.915968</td>\n",
       "    </tr>\n",
       "  </tbody>\n",
       "</table>\n",
       "</div>"
      ],
      "text/plain": [
       "                                       Hotel_Address  \\\n",
       "0   s Gravesandestraat 55 Oost 1092 AA Amsterdam ...   \n",
       "1   s Gravesandestraat 55 Oost 1092 AA Amsterdam ...   \n",
       "2   s Gravesandestraat 55 Oost 1092 AA Amsterdam ...   \n",
       "3   s Gravesandestraat 55 Oost 1092 AA Amsterdam ...   \n",
       "4   s Gravesandestraat 55 Oost 1092 AA Amsterdam ...   \n",
       "\n",
       "   Additional_Number_of_Scoring Review_Date  Average_Score   Hotel_Name  \\\n",
       "0                           194    8/3/2017            7.7  Hotel Arena   \n",
       "1                           194    8/3/2017            7.7  Hotel Arena   \n",
       "2                           194   7/31/2017            7.7  Hotel Arena   \n",
       "3                           194   7/31/2017            7.7  Hotel Arena   \n",
       "4                           194   7/24/2017            7.7  Hotel Arena   \n",
       "\n",
       "  Reviewer_Nationality                                    Negative_Review  \\\n",
       "0              Russia    I am so angry that i made this post available...   \n",
       "1             Ireland                                         No Negative   \n",
       "2           Australia    Rooms are nice but for elderly a bit difficul...   \n",
       "3      United Kingdom    My room was dirty and I was afraid to walk ba...   \n",
       "4         New Zealand    You When I booked with your company on line y...   \n",
       "\n",
       "   Review_Total_Negative_Word_Counts  Total_Number_of_Reviews  \\\n",
       "0                                397                     1403   \n",
       "1                                  0                     1403   \n",
       "2                                 42                     1403   \n",
       "3                                210                     1403   \n",
       "4                                140                     1403   \n",
       "\n",
       "                                     Positive_Review  \\\n",
       "0   Only the park outside of the hotel was beauti...   \n",
       "1   No real complaints the hotel was great great ...   \n",
       "2   Location was good and staff were ok It is cut...   \n",
       "3   Great location in nice surroundings the bar a...   \n",
       "4    Amazing location and building Romantic setting    \n",
       "\n",
       "   Review_Total_Positive_Word_Counts  \\\n",
       "0                                 11   \n",
       "1                                105   \n",
       "2                                 21   \n",
       "3                                 26   \n",
       "4                                  8   \n",
       "\n",
       "   Total_Number_of_Reviews_Reviewer_Has_Given  Reviewer_Score  \\\n",
       "0                                           7             2.9   \n",
       "1                                           7             7.5   \n",
       "2                                           9             7.1   \n",
       "3                                           1             3.8   \n",
       "4                                           3             6.7   \n",
       "\n",
       "                                                Tags days_since_review  \\\n",
       "0  [' Leisure trip ', ' Couple ', ' Duplex Double...            0 days   \n",
       "1  [' Leisure trip ', ' Couple ', ' Duplex Double...            0 days   \n",
       "2  [' Leisure trip ', ' Family with young childre...            3 days   \n",
       "3  [' Leisure trip ', ' Solo traveler ', ' Duplex...            3 days   \n",
       "4  [' Leisure trip ', ' Couple ', ' Suite ', ' St...           10 days   \n",
       "\n",
       "         lat       lng  \n",
       "0  52.360576  4.915968  \n",
       "1  52.360576  4.915968  \n",
       "2  52.360576  4.915968  \n",
       "3  52.360576  4.915968  \n",
       "4  52.360576  4.915968  "
      ]
     },
     "execution_count": 2,
     "metadata": {},
     "output_type": "execute_result"
    }
   ],
   "source": [
    "Hotel_Reviews=pd.read_csv(\"Hotel_Reviews.csv\")\n",
    "Hotel_Reviews.head()"
   ]
  },
  {
   "cell_type": "markdown",
   "metadata": {},
   "source": [
    "Find all unique Hotel Names"
   ]
  },
  {
   "cell_type": "code",
   "execution_count": 3,
   "metadata": {},
   "outputs": [
    {
     "data": {
      "text/plain": [
       "(515738, 17)"
      ]
     },
     "execution_count": 3,
     "metadata": {},
     "output_type": "execute_result"
    }
   ],
   "source": [
    "Hotel_Reviews.shape"
   ]
  },
  {
   "cell_type": "code",
   "execution_count": 4,
   "metadata": {
    "collapsed": true
   },
   "outputs": [],
   "source": [
    "AllHotels=Hotel_Reviews.Hotel_Name.unique()\n"
   ]
  },
  {
   "cell_type": "code",
   "execution_count": 5,
   "metadata": {},
   "outputs": [
    {
     "data": {
      "text/plain": [
       "1492"
      ]
     },
     "execution_count": 5,
     "metadata": {},
     "output_type": "execute_result"
    }
   ],
   "source": [
    "AllHotels.size\n"
   ]
  },
  {
   "cell_type": "markdown",
   "metadata": {},
   "source": [
    "Preparation to store values for each Hotel as a separate dataframe"
   ]
  },
  {
   "cell_type": "code",
   "execution_count": 6,
   "metadata": {
    "collapsed": true
   },
   "outputs": [],
   "source": [
    "Hotel_name=np.array([])\n",
    "mean_reviewer_rating=np.array([])\n",
    "\n",
    "std_reviewer_rating=np.array([])\n",
    "upper_outlier_threshold=np.array([])\n",
    "lower_outlier_threshold=np.array([])\n",
    "mean_average_score=np.array([])\n",
    "outliers=np.array([])\n",
    "no_of_review=np.array([])\n",
    "min_rating=np.array([])\n",
    "max_rating=np.array([])\n"
   ]
  },
  {
   "cell_type": "code",
   "execution_count": 7,
   "metadata": {},
   "outputs": [],
   "source": [
    "for Hotel in AllHotels:\n",
    "    TEMP=Hotel_Reviews.loc[Hotel_Reviews['Hotel_Name']==Hotel]\n",
    "    \n",
    "    Hotel_name=np.append(Hotel_name,Hotel)\n",
    "    \n",
    "    mean_reviewer_rating=np.append(mean_reviewer_rating,TEMP['Reviewer_Score'].mean())\n",
    "    std_reviewer_rating=np.append(std_reviewer_rating,TEMP['Reviewer_Score'].std())\n",
    "\n",
    "    min_rating=np.append(min_rating,TEMP['Reviewer_Score'].min())\n",
    "    max_rating=np.append(max_rating,TEMP['Reviewer_Score'].max())\n",
    "    \n",
    "    upper_outlier_threshold=np.append(upper_outlier_threshold,TEMP['Reviewer_Score'].mean()+(2*TEMP['Reviewer_Score'].std()))\n",
    "    lower_outlier_threshold=np.append(lower_outlier_threshold,TEMP['Reviewer_Score'].mean()-(2*TEMP['Reviewer_Score'].std()))\n",
    "    \n",
    "    OUTLIERS=len(TEMP.loc[TEMP['Reviewer_Score']>TEMP['Reviewer_Score'].mean()+(2*TEMP['Reviewer_Score'].std())].index)\n",
    "    OUTLIERS+=len(TEMP.loc[TEMP['Reviewer_Score']<TEMP['Reviewer_Score'].mean()-(2*TEMP['Reviewer_Score'].std())].index)\n",
    "    outliers=np.append(outliers,OUTLIERS)\n",
    "    \n",
    "    mean_average_score=np.append(mean_average_score,TEMP['Average_Score'].mean())\n",
    "    \n",
    "    no_of_review=np.append(no_of_review,len(TEMP['Average_Score']))"
   ]
  },
  {
   "cell_type": "markdown",
   "metadata": {},
   "source": [
    "The prepartion of the data frames requires the columns and the data"
   ]
  },
  {
   "cell_type": "code",
   "execution_count": 8,
   "metadata": {
    "collapsed": true
   },
   "outputs": [],
   "source": [
    "columns1=['Hotel_name','no_reviews','mean_reviewer_rating','std_reviewer_rating','min_rating','max_rating']\n",
    "columns2=['Hotel_name','no_reviews','mean_average_score','upper_outlier_threshold','lower_outlier_threshold','no_outlier']\n",
    "\n"
   ]
  },
  {
   "cell_type": "code",
   "execution_count": 9,
   "metadata": {},
   "outputs": [],
   "source": [
    "data1=np.column_stack((Hotel_name,no_of_review,mean_reviewer_rating,std_reviewer_rating,min_rating, max_rating))\n",
    "data2=np.column_stack((Hotel_name,no_of_review, mean_reviewer_rating,upper_outlier_threshold,lower_outlier_threshold,outliers))\n"
   ]
  },
  {
   "cell_type": "code",
   "execution_count": 10,
   "metadata": {
    "collapsed": true
   },
   "outputs": [],
   "source": [
    "HotelReviewsDescriptiveAnalysis=pd.DataFrame(data1,columns=columns1)\n",
    "HotelReviewsOutliers=pd.DataFrame(data2,columns=columns2)"
   ]
  },
  {
   "cell_type": "code",
   "execution_count": 11,
   "metadata": {},
   "outputs": [
    {
     "data": {
      "text/html": [
       "<div>\n",
       "<style>\n",
       "    .dataframe thead tr:only-child th {\n",
       "        text-align: right;\n",
       "    }\n",
       "\n",
       "    .dataframe thead th {\n",
       "        text-align: left;\n",
       "    }\n",
       "\n",
       "    .dataframe tbody tr th {\n",
       "        vertical-align: top;\n",
       "    }\n",
       "</style>\n",
       "<table border=\"1\" class=\"dataframe\">\n",
       "  <thead>\n",
       "    <tr style=\"text-align: right;\">\n",
       "      <th></th>\n",
       "      <th>Hotel_name</th>\n",
       "      <th>no_reviews</th>\n",
       "      <th>mean_reviewer_rating</th>\n",
       "      <th>std_reviewer_rating</th>\n",
       "      <th>min_rating</th>\n",
       "      <th>max_rating</th>\n",
       "    </tr>\n",
       "  </thead>\n",
       "  <tbody>\n",
       "    <tr>\n",
       "      <th>0</th>\n",
       "      <td>Hotel Arena</td>\n",
       "      <td>405.0</td>\n",
       "      <td>7.8362962962962985</td>\n",
       "      <td>1.8965161157600898</td>\n",
       "      <td>2.5</td>\n",
       "      <td>10.0</td>\n",
       "    </tr>\n",
       "    <tr>\n",
       "      <th>1</th>\n",
       "      <td>K K Hotel George</td>\n",
       "      <td>566.0</td>\n",
       "      <td>8.602826855123688</td>\n",
       "      <td>1.417423486428557</td>\n",
       "      <td>3.3</td>\n",
       "      <td>10.0</td>\n",
       "    </tr>\n",
       "    <tr>\n",
       "      <th>2</th>\n",
       "      <td>Apex Temple Court Hotel</td>\n",
       "      <td>1037.0</td>\n",
       "      <td>9.298842815814897</td>\n",
       "      <td>0.9238154323610933</td>\n",
       "      <td>2.5</td>\n",
       "      <td>10.0</td>\n",
       "    </tr>\n",
       "    <tr>\n",
       "      <th>3</th>\n",
       "      <td>The Park Grand London Paddington</td>\n",
       "      <td>1770.0</td>\n",
       "      <td>7.7114689265536525</td>\n",
       "      <td>1.8760152225398532</td>\n",
       "      <td>2.5</td>\n",
       "      <td>10.0</td>\n",
       "    </tr>\n",
       "    <tr>\n",
       "      <th>4</th>\n",
       "      <td>Monhotel Lounge SPA</td>\n",
       "      <td>35.0</td>\n",
       "      <td>8.848571428571429</td>\n",
       "      <td>1.0589593750390962</td>\n",
       "      <td>5.4</td>\n",
       "      <td>10.0</td>\n",
       "    </tr>\n",
       "  </tbody>\n",
       "</table>\n",
       "</div>"
      ],
      "text/plain": [
       "                         Hotel_name no_reviews mean_reviewer_rating  \\\n",
       "0                       Hotel Arena      405.0   7.8362962962962985   \n",
       "1                  K K Hotel George      566.0    8.602826855123688   \n",
       "2           Apex Temple Court Hotel     1037.0    9.298842815814897   \n",
       "3  The Park Grand London Paddington     1770.0   7.7114689265536525   \n",
       "4               Monhotel Lounge SPA       35.0    8.848571428571429   \n",
       "\n",
       "  std_reviewer_rating min_rating max_rating  \n",
       "0  1.8965161157600898        2.5       10.0  \n",
       "1   1.417423486428557        3.3       10.0  \n",
       "2  0.9238154323610933        2.5       10.0  \n",
       "3  1.8760152225398532        2.5       10.0  \n",
       "4  1.0589593750390962        5.4       10.0  "
      ]
     },
     "execution_count": 11,
     "metadata": {},
     "output_type": "execute_result"
    }
   ],
   "source": [
    "HotelReviewsDescriptiveAnalysis.head()"
   ]
  },
  {
   "cell_type": "code",
   "execution_count": 12,
   "metadata": {},
   "outputs": [
    {
     "data": {
      "text/html": [
       "<div>\n",
       "<style>\n",
       "    .dataframe thead tr:only-child th {\n",
       "        text-align: right;\n",
       "    }\n",
       "\n",
       "    .dataframe thead th {\n",
       "        text-align: left;\n",
       "    }\n",
       "\n",
       "    .dataframe tbody tr th {\n",
       "        vertical-align: top;\n",
       "    }\n",
       "</style>\n",
       "<table border=\"1\" class=\"dataframe\">\n",
       "  <thead>\n",
       "    <tr style=\"text-align: right;\">\n",
       "      <th></th>\n",
       "      <th>Hotel_name</th>\n",
       "      <th>no_reviews</th>\n",
       "      <th>mean_average_score</th>\n",
       "      <th>upper_outlier_threshold</th>\n",
       "      <th>lower_outlier_threshold</th>\n",
       "      <th>no_outlier</th>\n",
       "    </tr>\n",
       "  </thead>\n",
       "  <tbody>\n",
       "    <tr>\n",
       "      <th>0</th>\n",
       "      <td>Hotel Arena</td>\n",
       "      <td>405.0</td>\n",
       "      <td>7.8362962962962985</td>\n",
       "      <td>11.629328527816478</td>\n",
       "      <td>4.043264064776119</td>\n",
       "      <td>18.0</td>\n",
       "    </tr>\n",
       "    <tr>\n",
       "      <th>1</th>\n",
       "      <td>K K Hotel George</td>\n",
       "      <td>566.0</td>\n",
       "      <td>8.602826855123688</td>\n",
       "      <td>11.437673827980802</td>\n",
       "      <td>5.767979882266573</td>\n",
       "      <td>27.0</td>\n",
       "    </tr>\n",
       "    <tr>\n",
       "      <th>2</th>\n",
       "      <td>Apex Temple Court Hotel</td>\n",
       "      <td>1037.0</td>\n",
       "      <td>9.298842815814897</td>\n",
       "      <td>11.146473680537083</td>\n",
       "      <td>7.45121195109271</td>\n",
       "      <td>48.0</td>\n",
       "    </tr>\n",
       "    <tr>\n",
       "      <th>3</th>\n",
       "      <td>The Park Grand London Paddington</td>\n",
       "      <td>1770.0</td>\n",
       "      <td>7.7114689265536525</td>\n",
       "      <td>11.46349937163336</td>\n",
       "      <td>3.959438481473946</td>\n",
       "      <td>79.0</td>\n",
       "    </tr>\n",
       "    <tr>\n",
       "      <th>4</th>\n",
       "      <td>Monhotel Lounge SPA</td>\n",
       "      <td>35.0</td>\n",
       "      <td>8.848571428571429</td>\n",
       "      <td>10.966490178649622</td>\n",
       "      <td>6.730652678493236</td>\n",
       "      <td>2.0</td>\n",
       "    </tr>\n",
       "  </tbody>\n",
       "</table>\n",
       "</div>"
      ],
      "text/plain": [
       "                         Hotel_name no_reviews  mean_average_score  \\\n",
       "0                       Hotel Arena      405.0  7.8362962962962985   \n",
       "1                  K K Hotel George      566.0   8.602826855123688   \n",
       "2           Apex Temple Court Hotel     1037.0   9.298842815814897   \n",
       "3  The Park Grand London Paddington     1770.0  7.7114689265536525   \n",
       "4               Monhotel Lounge SPA       35.0   8.848571428571429   \n",
       "\n",
       "  upper_outlier_threshold lower_outlier_threshold no_outlier  \n",
       "0      11.629328527816478       4.043264064776119       18.0  \n",
       "1      11.437673827980802       5.767979882266573       27.0  \n",
       "2      11.146473680537083        7.45121195109271       48.0  \n",
       "3       11.46349937163336       3.959438481473946       79.0  \n",
       "4      10.966490178649622       6.730652678493236        2.0  "
      ]
     },
     "execution_count": 12,
     "metadata": {},
     "output_type": "execute_result"
    }
   ],
   "source": [
    "HotelReviewsOutliers.head()"
   ]
  },
  {
   "cell_type": "markdown",
   "metadata": {},
   "source": [
    "TODO:Some kind of visualisation"
   ]
  },
  {
   "cell_type": "code",
   "execution_count": 13,
   "metadata": {},
   "outputs": [],
   "source": [
    "TEMP=Hotel_Reviews.loc[Hotel_Reviews['Hotel_Name']=='The Park Grand London Paddington']"
   ]
  },
  {
   "cell_type": "code",
   "execution_count": 14,
   "metadata": {
    "collapsed": true
   },
   "outputs": [],
   "source": [
    "import scipy.stats as stats\n",
    "import matplotlib.pyplot as plt\n",
    "%matplotlib inline"
   ]
  },
  {
   "cell_type": "code",
   "execution_count": 15,
   "metadata": {},
   "outputs": [
    {
     "data": {
      "text/plain": [
       "[<matplotlib.lines.Line2D at 0x1e426dd8cf8>]"
      ]
     },
     "execution_count": 15,
     "metadata": {},
     "output_type": "execute_result"
    },
    {
     "data": {
      "image/png": "[encoded data removed]",
      "text/plain": [
       "<matplotlib.figure.Figure at 0x1e42c6b2080>"
      ]
     },
     "metadata": {},
     "output_type": "display_data"
    }
   ],
   "source": [
    "plt.hist(TEMP['Reviewer_Score'],normed=True)\n",
    "plt.xlabel('Review Rating')\n",
    "plt.ylabel('Instances')\n",
    "plt.title(\"The Park Grand London Paddington\");\n",
    "data=TEMP['Reviewer_Score'].values\n",
    "fit = stats.norm.pdf(data, TEMP['Reviewer_Score'].mean(), TEMP['Reviewer_Score'].std())  #this is a fitting indeed\n",
    "\n",
    "plt.plot(TEMP['Reviewer_Score'],fit,'o')\n"
   ]
  },
  {
   "cell_type": "code",
   "execution_count": 16,
   "metadata": {},
   "outputs": [
    {
     "data": {
      "image/png": "[encoded data removed]",
      "text/plain": [
       "<matplotlib.figure.Figure at 0x1e42c48f080>"
      ]
     },
     "metadata": {},
     "output_type": "display_data"
    }
   ],
   "source": [
    "import pylab\n",
    "stats.probplot(data, dist=\"norm\", plot=pylab)\n",
    "pylab.show()"
   ]
  },
  {
   "cell_type": "code",
   "execution_count": 18,
   "metadata": {},
   "outputs": [
    {
     "data": {
      "image/png": "[encoded data removed]",
      "text/plain": [
       "<matplotlib.figure.Figure at 0x1e42cb95dd8>"
      ]
     },
     "metadata": {},
     "output_type": "display_data"
    }
   ],
   "source": [
    "plt.plot(HotelReviewsDescriptiveAnalysis['no_reviews'],'o')\n",
    "plt.xlabel('Hotel ID')\n",
    "plt.ylabel('No. of Reviews')\n",
    "plt.title(\"Reviews Data Hotel wise\");"
   ]
  },
  {
   "cell_type": "code",
   "execution_count": 19,
   "metadata": {},
   "outputs": [
    {
     "data": {
      "image/png": "[encoded data removed]",
      "text/plain": [
       "<matplotlib.figure.Figure at 0x1e42cbeb710>"
      ]
     },
     "metadata": {},
     "output_type": "display_data"
    }
   ],
   "source": [
    "plt.plot(HotelReviewsDescriptiveAnalysis['mean_reviewer_rating'])\n",
    "plt.xlabel('Hotel ID')\n",
    "plt.ylabel('Mean Rating')\n",
    "plt.title(\"Rating with only Review Data Hotel wise\");"
   ]
  },
  {
   "cell_type": "code",
   "execution_count": 22,
   "metadata": {},
   "outputs": [
    {
     "data": {
      "image/png": "[encoded data removed]",
      "text/plain": [
       "<matplotlib.figure.Figure at 0x1e42cbebda0>"
      ]
     },
     "metadata": {},
     "output_type": "display_data"
    }
   ],
   "source": [
    "plt.plot(HotelReviewsOutliers['no_outlier'])\n",
    "plt.xlabel('Hotel ID')\n",
    "plt.ylabel('Outlier')\n",
    "plt.title(\"No. of Outliers Hotel wise\");"
   ]
  },
  {
   "cell_type": "code",
   "execution_count": 23,
   "metadata": {},
   "outputs": [
    {
     "data": {
      "image/png": "[encoded data removed]",
      "text/plain": [
       "<matplotlib.figure.Figure at 0x1e42ce940b8>"
      ]
     },
     "metadata": {},
     "output_type": "display_data"
    }
   ],
   "source": [
    "plt.plot( HotelReviewsOutliers['no_reviews'])\n",
    "plt.plot( HotelReviewsOutliers['no_outlier'],label='No of Outliers')\n",
    "plt.xlabel('Hotel ID')\n",
    "plt.ylabel('Instances')\n",
    "plt.title(\"No. of Reviews compared Outliers Hotel wise\");\n",
    "\n"
   ]
  },
  {
   "cell_type": "code",
   "execution_count": null,
   "metadata": {
    "collapsed": true
   },
   "outputs": [],
   "source": []
  }
 ],
 "metadata": {
  "kernelspec": {
   "display_name": "Python 2",
   "language": "python",
   "name": "python2"
  },
  "language_info": {
   "codemirror_mode": {
    "name": "ipython",
    "version": 2
   },
   "file_extension": ".py",
   "mimetype": "text/x-python",
   "name": "python",
   "nbconvert_exporter": "python",
   "pygments_lexer": "ipython2",
   "version": "2.7.13"
  }
 },
 "nbformat": 4,
 "nbformat_minor": 2
}
