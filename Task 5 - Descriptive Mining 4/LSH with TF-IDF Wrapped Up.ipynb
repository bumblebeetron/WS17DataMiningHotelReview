{
 "cells": [
  {
   "cell_type": "code",
   "execution_count": 5,
   "metadata": {},
   "outputs": [
    {
     "name": "stdout",
     "output_type": "stream",
     "text": [
      "[nltk_data] Downloading package stopwords to\n",
      "[nltk_data]     C:\\Users\\deniz\\AppData\\Roaming\\nltk_data...\n",
      "[nltk_data]   Package stopwords is already up-to-date!\n"
     ]
    }
   ],
   "source": [
    "import numpy as np\n",
    "import pandas as pd\n",
    "import matplotlib.pyplot as plt\n",
    "import scipy.sparse as sps\n",
    "import itertools\n",
    "from sklearn.metrics.pairwise import cosine_similarity\n",
    "import langid\n",
    "import re\n",
    "import nltk\n",
    "nltk.download('stopwords')\n",
    "from nltk.corpus import stopwords\n",
    "#from nltk.stem.porter import PorterStemmer\n",
    "from sklearn.feature_extraction.text import TfidfVectorizer"
   ]
  },
  {
   "cell_type": "code",
   "execution_count": 4,
   "metadata": {
    "collapsed": true
   },
   "outputs": [],
   "source": [
    "# Change this to whichever CSV YOU WANT. But In the 2nd week, I constructed a csv file that also has the 'City' name column.\n",
    "# I'm using this csv for simplicity. You can construct the same by following my code in 2nd week.\n",
    "hotelReviews = pd.read_csv('C:/Users/deniz/Documents/HotelReviewsCountryCity.csv')\n",
    "cities = ['Paris', 'Amsterdam', 'London', 'Milan', 'Barcelona', 'Vienna']"
   ]
  },
  {
   "cell_type": "code",
   "execution_count": 15,
   "metadata": {
    "collapsed": true
   },
   "outputs": [],
   "source": [
    "# For this, I've used Only UK reviews on Barcelona. Change it as you wish.\n",
    "# Don't use more than 30000 texts with the function tho. Because it gets impossible to construct the cos similarity matrix.\n",
    "\n",
    "#allPosRevs = hotelReviews.loc[(hotelReviews['City'] == 'Barcelona') & (hotelReviews['Reviewer_Nationality'] == ' United Kingdom ') & (hotelReviews['Positive_Review'] != 'No Positive')]['Positive_Review']\n",
    "#allPosRevs = hotelReviews.loc[(hotelReviews['City'] == 'Barcelona') & (hotelReviews['Reviewer_Nationality'] == ' United Kingdom ')]['Positive_Review']\n",
    "allPosRevs = hotelReviews['Positive_Review']\n",
    "#allPosWords = hotelReviews.loc[hotelReviews['Positive_Review'] != 'No Positive']['Positive_Review']\n",
    "#allReviews = hotelReviews.loc[(hotelReviews['Positive_Review'] != 'No Positive') & (hotelReviews['Negative_Review'] != 'No Negative')][['Positive_Review', 'Negative_Review']]"
   ]
  },
  {
   "cell_type": "code",
   "execution_count": 7,
   "metadata": {
    "collapsed": true,
    "scrolled": true
   },
   "outputs": [],
   "source": [
    "def reviewWordList(reviews, wordLengthThreshold = 3, stopWordList = stopwords.words('English'), displayProgress = False):\n",
    "    allWords = []\n",
    "    i = 1\n",
    "    for posRev in reviews:\n",
    "        if i % ((len(reviews))/10) == 0 and displayProgress:\n",
    "            print '    ', 100 * (1.0 * i / len(reviews)), '% finished'\n",
    "        i+=1\n",
    "        allWords.append([f.split() for f in re.findall('\\d+|\\D+',posRev.lower())])\n",
    "\n",
    "    allWords = list(itertools.chain.from_iterable(list(itertools.chain.from_iterable(allWords))))\n",
    "    allWords = list(set(allWords))\n",
    "    revWordLst = []\n",
    "    for w in allWords:\n",
    "        if len(w) > wordLengthThreshold and w not in stopWordList:\n",
    "            revWordLst.append(w)\n",
    "    return revWordLst"
   ]
  },
  {
   "cell_type": "code",
   "execution_count": 8,
   "metadata": {
    "collapsed": true
   },
   "outputs": [],
   "source": [
    "def getSimilarIndices(cosSim, simThreshold = .8, displayProgress = False):\n",
    "    simRevs = []\n",
    "\n",
    "    i = 1\n",
    "    for index in range(cosSim.shape[0]):\n",
    "        if i % (cosSim.shape[0]/10) == 0 and displayProgress:\n",
    "            print '    ', 100 * (1.0 * i / cosSim.shape[0]), '% finished'\n",
    "        i+=1\n",
    "        i_0 = np.array(cosSim[index].todense())[0]\n",
    "        sims = []\n",
    "        for where in np.argwhere(i_0 > simThreshold):\n",
    "            if where[0] != index:\n",
    "                #print where[0], lAPR[where[0]]\n",
    "                sims.append(where[0])\n",
    "        simRevs.append([index, sims])\n",
    "    return simRevs"
   ]
  },
  {
   "cell_type": "code",
   "execution_count": 9,
   "metadata": {
    "collapsed": true
   },
   "outputs": [],
   "source": [
    "def getSimilarTexts(reviews, simThreshold = .8, displayProgress = False, wordLengthThreshold = 3, stopWordList = stopwords.words('English')):\n",
    "    if displayProgress:\n",
    "        print \"Extracting Important Texts\"\n",
    "    rwl = reviewWordList(reviews, wordLengthThreshold = 3, stopWordList = stopwords.words('English'), displayProgress=displayProgress)\n",
    "    \n",
    "    if displayProgress:\n",
    "        print \"Constructing TF-IDF Vectorizer\"\n",
    "    vectorizer = TfidfVectorizer(stop_words=stopwords.words('English'), vocabulary=rwl)\n",
    "    \n",
    "    if displayProgress:\n",
    "        print \"Constructing Feature Matrix\"\n",
    "    featureMatrix = vectorizer.fit_transform(reviews)\n",
    "    \n",
    "    if displayProgress:\n",
    "        print \"Constructing Cosine Similarity Matrix\"\n",
    "    cosSim = cosine_similarity(featureMatrix, Y=None, dense_output=False)\n",
    "    \n",
    "    if displayProgress:\n",
    "        print \"Extracting Similar Reviews\"\n",
    "    simRevs = getSimilarIndices(cosSim, simThreshold=simThreshold, displayProgress=displayProgress)\n",
    "    \n",
    "    return simRevs"
   ]
  },
  {
   "cell_type": "code",
   "execution_count": 52,
   "metadata": {},
   "outputs": [
    {
     "name": "stdout",
     "output_type": "stream",
     "text": [
      "Extracting Important Texts\n",
      "     9.9985579003 % finished\n",
      "     19.9971158006 % finished\n",
      "     29.9956737009 % finished\n",
      "     39.9942316012 % finished\n",
      "     49.9927895015 % finished\n",
      "     59.9913474018 % finished\n",
      "     69.9899053021 % finished\n",
      "     79.9884632024 % finished\n",
      "     89.9870211027 % finished\n",
      "     99.985579003 % finished\n",
      "Constructing TF-IDF Vectorizer\n",
      "Constructing Feature Matrix\n",
      "Constructing Cosine Similarity Matrix\n",
      "Extracting Similar Reviews\n",
      "     9.9985579003 % finished\n",
      "     19.9971158006 % finished\n",
      "     29.9956737009 % finished\n",
      "     39.9942316012 % finished\n",
      "     49.9927895015 % finished\n",
      "     59.9913474018 % finished\n",
      "     69.9899053021 % finished\n",
      "     79.9884632024 % finished\n",
      "     89.9870211027 % finished\n",
      "     99.985579003 % finished\n"
     ]
    }
   ],
   "source": [
    "# Usage: \n",
    "# Chagne the displayProgress to False if you don't want to see the progress of the algorithm. \n",
    "# Change the simThreshold as you wish to meet your demands. The higher, the more similar two texts. \n",
    "# Set to 1 if you wanna find duplicates\n",
    "# Change wordLengthThreshold to the maximum length of significant words (for tf-idf). The default is 3. IE: words with length 1 or 2 won't count\n",
    "# Change stopWordList to any language stopowrds you want. The default is stopwords.words('English')\n",
    "\n",
    "# Input 'allPosRevs' is the pandas list of all positive reviews I've extracted in the 3rd block. \n",
    "# It has to be a single column pandas dataframe (This is the equivalent of pandas list)\n",
    "\n",
    "simRevs = getSimilarTexts(allPosRevs, simThreshold = .8, displayProgress=True)"
   ]
  }
 ],
 "metadata": {
  "kernelspec": {
   "display_name": "Python 2",
   "language": "python",
   "name": "python2"
  },
  "language_info": {
   "codemirror_mode": {
    "name": "ipython",
    "version": 2
   },
   "file_extension": ".py",
   "mimetype": "text/x-python",
   "name": "python",
   "nbconvert_exporter": "python",
   "pygments_lexer": "ipython2",
   "version": "2.7.13"
  }
 },
 "nbformat": 4,
 "nbformat_minor": 2
}
