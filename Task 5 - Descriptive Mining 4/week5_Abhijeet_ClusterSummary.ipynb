{
 "cells": [
  {
   "cell_type": "code",
   "execution_count": 1,
   "metadata": {
    "collapsed": true
   },
   "outputs": [],
   "source": [
    "import numpy as np\n",
    "import pandas as pd\n",
    "from scipy.spatial import distance \n",
    "from sklearn.utils import validation\n",
    "from sklearn.metrics import pairwise\n",
    "from scipy.sparse import issparse\n",
    "import random"
   ]
  },
  {
   "cell_type": "code",
   "execution_count": 2,
   "metadata": {
    "collapsed": true
   },
   "outputs": [],
   "source": [
    "\n",
    "\n",
    "def _return_float_dtype(X, Y):\n",
    "    \"\"\"\n",
    "    1. If dtype of X and Y is float32, then dtype float32 is returned.\n",
    "    2. Else dtype float is returned.\n",
    "    \"\"\"\n",
    "    if not issparse(X) and not isinstance(X, np.ndarray):\n",
    "        X = np.asarray(X)\n",
    "\n",
    "    if Y is None:\n",
    "        Y_dtype = X.dtype\n",
    "    elif not issparse(Y) and not isinstance(Y, np.ndarray):\n",
    "        Y = np.asarray(Y)\n",
    "        Y_dtype = Y.dtype\n",
    "    else:\n",
    "        Y_dtype = Y.dtype\n",
    "\n",
    "    if X.dtype == Y_dtype == np.float32:\n",
    "        dtype = np.float32\n",
    "    elif X.dtype == np.object and not issparse(X):\n",
    "        dtype = np.float\n",
    "        for col in range(X.shape[1]):\n",
    "            if not np.issubdtype(type(X[0, col]), np.number):\n",
    "                dtype = np.object\n",
    "                break\n",
    "    else:\n",
    "        dtype = np.float\n",
    "\n",
    "    return X, Y, dtype\n",
    "\n",
    "\n",
    "def check_pairwise_arrays(X, Y, precomputed=False, dtype=None):\n",
    "    X, Y, dtype_float = _return_float_dtype(X, Y)\n",
    "\n",
    "    warn_on_dtype = dtype is not None\n",
    "    estimator = 'check_pairwise_arrays'\n",
    "    if dtype is None:\n",
    "        dtype = dtype_float\n",
    "\n",
    "\n",
    "    if Y is X or Y is None:\n",
    "        X = Y = validation.check_array(X, accept_sparse='csr', dtype=dtype,\n",
    "                            warn_on_dtype=warn_on_dtype, estimator=estimator)\n",
    "    else:\n",
    "        X = validation.check_array(X, accept_sparse='csr', dtype=dtype,\n",
    "                        warn_on_dtype=warn_on_dtype, estimator=estimator)\n",
    "        Y = validation.check_array(Y, accept_sparse='csr', dtype=dtype,\n",
    "                        warn_on_dtype=warn_on_dtype, estimator=estimator)\n",
    "\n",
    "    if precomputed:\n",
    "        if X.shape[1] != Y.shape[0]:\n",
    "            raise ValueError(\"Precomputed metric requires shape \"\n",
    "                             \"(n_queries, n_indexed). Got (%d, %d) \"\n",
    "                             \"for %d indexed.\" %\n",
    "                             (X.shape[0], X.shape[1], Y.shape[0]))\n",
    "    elif X.shape[1] != Y.shape[1]:\n",
    "        raise ValueError(\"Incompatible dimension for X and Y matrices: \"\n",
    "                         \"X.shape[1] == %d while Y.shape[1] == %d\" % (\n",
    "                             X.shape[1], Y.shape[1]))\n",
    "\n",
    "    return X, Y"
   ]
  },
  {
   "cell_type": "code",
   "execution_count": 3,
   "metadata": {
    "collapsed": true
   },
   "outputs": [],
   "source": [
    "def gower_distances(X, Y=None, w=None, categorical_features=None):\n",
    "    \"\"\"\n",
    "    Computes the gower distances between X and Y\n",
    "\n",
    "    Read more in the :ref:`User Guide <metrics>`.\n",
    "\n",
    "    Parameters\n",
    "    ----------\n",
    "    X : array-like, shape (n_samples, n_features)\n",
    "\n",
    "    Y : array-like, shape (n_samples, n_features)\n",
    "\n",
    "    w:  array-like, shape (n_features)\n",
    "    According the Gower formula, w is an attribute weight.\n",
    "\n",
    "    categorical_features: array-like, shape (n_features)\n",
    "    Indicates with True/False wheter a column is a categorical attribute.\n",
    "    This is useful when categorical atributes are represented as integer\n",
    "    values.\n",
    "\n",
    "    Returns\n",
    "    -------\n",
    "    similarities : ndarray, shape (n_samples, )\n",
    "\n",
    "    Notes\n",
    "    ------\n",
    "    Gower is a similarity measure for categorical, boolean and numerical mixed\n",
    "    data.\n",
    "\n",
    "    \"\"\"\n",
    "\n",
    "    X, Y = check_pairwise_arrays(X, Y, dtype=(np.object, None)[issparse(X) or\n",
    "                                                               issparse(Y)])\n",
    "\n",
    "    rows, cols = X.shape\n",
    "\n",
    "    if categorical_features is None:\n",
    "        categorical_features = []\n",
    "        for col in range(cols):\n",
    "            if np.issubdtype(type(X[0, col]), np.number):\n",
    "                categorical_features.append(False)\n",
    "            else:\n",
    "                categorical_features.append(True)\n",
    "    # Calculates the normalized ranges and max values of numeric values\n",
    "    ranges_of_numeric = [0.0] * cols\n",
    "    max_of_numeric = [0.0] * cols\n",
    "    for col in range(cols):\n",
    "        if not categorical_features[col]:\n",
    "            max = None\n",
    "            min = None\n",
    "            if issparse(X):\n",
    "                col_array = X.getcol(col)\n",
    "                max = col_array.max() + 0.0\n",
    "                min = col_array.min() + 0.0\n",
    "            else:\n",
    "                col_array = X[:, col].astype(np.double)\n",
    "                max = np.nanmax(col_array)\n",
    "                min = np.nanmin(col_array)\n",
    "\n",
    "            if np.isnan(max):\n",
    "                max = 0.0\n",
    "            if np.isnan(min):\n",
    "                min = 0.0\n",
    "            max_of_numeric[col] = max\n",
    "            ranges_of_numeric[col] = (1 - min / max) if (max != 0) else 0.0\n",
    "\n",
    "    if w is None:\n",
    "        w = [1] * cols\n",
    "\n",
    "    yrows, ycols = Y.shape\n",
    "\n",
    "    dm = np.zeros((rows, yrows), dtype=np.double)\n",
    "\n",
    "    for i in range(0, rows):\n",
    "        j_start = i\n",
    "\n",
    "        # for non square results\n",
    "        if rows != yrows:\n",
    "            j_start = 0\n",
    "\n",
    "        for j in range(j_start, yrows):\n",
    "            sum_sij = 0.0\n",
    "            sum_wij = 0.0\n",
    "            for col in range(cols):\n",
    "                value_xi = X[i, col]\n",
    "                value_xj = Y[j, col]\n",
    "\n",
    "                if not categorical_features[col]:\n",
    "                    if (max_of_numeric[col] != 0):\n",
    "                        value_xi = value_xi / max_of_numeric[col]\n",
    "                        value_xj = value_xj / max_of_numeric[col]\n",
    "                    else:\n",
    "                        value_xi = 0\n",
    "                        value_xj = 0\n",
    "\n",
    "                    if ranges_of_numeric[col] != 0:\n",
    "                        sij = abs(value_xi - value_xj) / ranges_of_numeric[col]\n",
    "                    else:\n",
    "                        sij = 0\n",
    "                    wij = (w[col], 0)[np.isnan(value_xi) or np.isnan(value_xj)]\n",
    "                else:\n",
    "                    sij = (1.0, 0.0)[value_xi == value_xj]\n",
    "                    wij = (w[col], 0)[value_xi is None and value_xj is None]\n",
    "                sum_sij += (wij * sij)\n",
    "                sum_wij += wij\n",
    "\n",
    "            if sum_wij != 0:\n",
    "                dm[i, j] = (sum_sij / sum_wij)\n",
    "                if j < rows and i < yrows:\n",
    "                    dm[j, i] = dm[i, j]\n",
    "\n",
    "    return dm\n",
    "\n",
    "\n"
   ]
  },
  {
   "cell_type": "code",
   "execution_count": 4,
   "metadata": {
    "collapsed": true
   },
   "outputs": [],
   "source": [
    "def gower_distances(X, Y=None, w=None, categorical_features=None):\n",
    "    \"\"\"\n",
    "    Computes the gower distances between X and Y\n",
    "\n",
    "    Read more in the :ref:`User Guide <metrics>`.\n",
    "\n",
    "    Parameters\n",
    "    ----------\n",
    "    X : array-like, shape (n_samples, n_features)\n",
    "\n",
    "    Y : array-like, shape (n_samples, n_features)\n",
    "\n",
    "    w:  array-like, shape (n_features)\n",
    "    According the Gower formula, w is an attribute weight.\n",
    "\n",
    "    categorical_features: array-like, shape (n_features)\n",
    "    Indicates with True/False wheter a column is a categorical attribute.\n",
    "    This is useful when categorical atributes are represented as integer\n",
    "    values.\n",
    "\n",
    "    Returns\n",
    "    -------\n",
    "    similarities : ndarray, shape (n_samples, )\n",
    "\n",
    "    Notes\n",
    "    ------\n",
    "    Gower is a similarity measure for categorical, boolean and numerical mixed\n",
    "    data.\n",
    "\n",
    "    \"\"\"\n",
    "\n",
    "    X, Y = check_pairwise_arrays(X, Y, dtype=(np.object, None)[issparse(X) or\n",
    "                                                               issparse(Y)])\n",
    "\n",
    "    rows, cols = X.shape\n",
    "\n",
    "    if categorical_features is None:\n",
    "        categorical_features = []\n",
    "        for col in range(cols):\n",
    "            if np.issubdtype(type(X[0, col]), np.number):\n",
    "                categorical_features.append(False)\n",
    "            else:\n",
    "                categorical_features.append(True)\n",
    "    # Calculates the normalized ranges and max values of numeric values\n",
    "    ranges_of_numeric = [0.0] * cols\n",
    "    max_of_numeric = [0.0] * cols\n",
    "    for col in range(cols):\n",
    "        if not categorical_features[col]:\n",
    "            max = None\n",
    "            min = None\n",
    "            if issparse(X):\n",
    "                col_array = X.getcol(col)\n",
    "                max = col_array.max() + 0.0\n",
    "                min = col_array.min() + 0.0\n",
    "            else:\n",
    "                col_array = X[:, col].astype(np.double)\n",
    "                max = np.nanmax(col_array)\n",
    "                min = np.nanmin(col_array)\n",
    "\n",
    "            if np.isnan(max):\n",
    "                max = 0.0\n",
    "            if np.isnan(min):\n",
    "                min = 0.0\n",
    "            max_of_numeric[col] = max\n",
    "            ranges_of_numeric[col] = (1 - min / max) if (max != 0) else 0.0\n",
    "\n",
    "    if w is None:\n",
    "        w = [1] * cols\n",
    "\n",
    "    yrows, ycols = Y.shape\n",
    "\n",
    "    dm = np.zeros((rows, yrows), dtype=np.double)\n",
    "\n",
    "    for i in range(0, rows):\n",
    "        j_start = i\n",
    "\n",
    "        # for non square results\n",
    "        if rows != yrows:\n",
    "            j_start = 0\n",
    "\n",
    "        for j in range(j_start, yrows):\n",
    "            sum_sij = 0.0\n",
    "            sum_wij = 0.0\n",
    "            for col in range(cols):\n",
    "                value_xi = X[i, col]\n",
    "                value_xj = Y[j, col]\n",
    "\n",
    "                if not categorical_features[col]:\n",
    "                    if (max_of_numeric[col] != 0):\n",
    "                        value_xi = value_xi / max_of_numeric[col]\n",
    "                        value_xj = value_xj / max_of_numeric[col]\n",
    "                    else:\n",
    "                        value_xi = 0\n",
    "                        value_xj = 0\n",
    "\n",
    "                    if ranges_of_numeric[col] != 0:\n",
    "                        sij = abs(value_xi - value_xj) / ranges_of_numeric[col]\n",
    "                    else:\n",
    "                        sij = 0\n",
    "                    wij = (w[col], 0)[np.isnan(value_xi) or np.isnan(value_xj)]\n",
    "                else:\n",
    "                    sij = (1.0, 0.0)[value_xi == value_xj]\n",
    "                    wij = (w[col], 0)[value_xi is None and value_xj is None]\n",
    "                sum_sij += (wij * sij)\n",
    "                sum_wij += wij\n",
    "\n",
    "            if sum_wij != 0:\n",
    "                dm[i, j] = (sum_sij / sum_wij)\n",
    "                if j < rows and i < yrows:\n",
    "                    dm[j, i] = dm[i, j]\n",
    "\n",
    "    return dm\n",
    "\n",
    "\n"
   ]
  },
  {
   "cell_type": "code",
   "execution_count": 5,
   "metadata": {
    "collapsed": true
   },
   "outputs": [],
   "source": [
    "HotelUnclustered= pd.read_csv(\"Hotel_Reviews.csv\",usecols=[4,5,7,8,10,11,12,15,16]) \n",
    "HotelUnclustered=HotelUnclustered.dropna() \n"
   ]
  },
  {
   "cell_type": "code",
   "execution_count": 6,
   "metadata": {
    "collapsed": true
   },
   "outputs": [],
   "source": [
    "def kMedoids(D, k, tmax=100):\n",
    "    # determine dimensions of distance matrix D\n",
    "    m, n = D.shape\n",
    "\n",
    "    if k > n:\n",
    "        raise Exception('too many medoids')\n",
    "    # randomly initialize an array of k medoid indices\n",
    "    M = np.arange(n)\n",
    "    np.random.shuffle(M)\n",
    "    M = np.sort(M[:k])\n",
    "\n",
    "    # create a copy of the array of medoid indices\n",
    "    Mnew = np.copy(M)\n",
    "\n",
    "    # initialize a dictionary to represent clusters\n",
    "    C = {}\n",
    "    for t in range(tmax):\n",
    "        # determine clusters, i. e. arrays of data indices\n",
    "        J = np.argmin(D[:,M], axis=1)\n",
    "        for kappa in range(k):\n",
    "            C[kappa] = np.where(J==kappa)[0]\n",
    "        # update cluster medoids\n",
    "        for kappa in range(k):\n",
    "            J = np.mean(D[np.ix_(C[kappa],C[kappa])],axis=1)\n",
    "            j = np.argmin(J)\n",
    "            Mnew[kappa] = C[kappa][j]\n",
    "        np.sort(Mnew)\n",
    "        # check for convergence\n",
    "        if np.array_equal(M, Mnew):\n",
    "            break\n",
    "        M = np.copy(Mnew)\n",
    "    else:\n",
    "        # final update of cluster memberships\n",
    "        J = np.argmin(D[:,M], axis=1)\n",
    "        for kappa in range(k):\n",
    "            C[kappa] = np.where(J==kappa)[0]\n",
    "\n",
    "    # return results\n",
    "    return M, C"
   ]
  },
  {
   "cell_type": "code",
   "execution_count": 7,
   "metadata": {
    "collapsed": true
   },
   "outputs": [],
   "source": [
    "def sampleFromDatFrame(inDataFrame,keyWord, sampleRatio = 0.001, column = 'Hotel_Name'):\n",
    "    odf = inDataFrame.loc[inDataFrame[column] == keyWord]\n",
    "    #odf=inDataFrame\n",
    "    odf = odf.iloc[np.random.choice(odf.shape[0], int(odf.shape[0] * sampleRatio))]\n",
    "    \n",
    "    return odf"
   ]
  },
  {
   "cell_type": "code",
   "execution_count": 8,
   "metadata": {
    "collapsed": true
   },
   "outputs": [],
   "source": [
    "coulmn=HotelUnclustered.columns\n",
    "\n",
    "AllHotels=HotelUnclustered.Hotel_Name.unique()\n",
    "selected_reviews=pd.DataFrame(columns=coulmn)\n",
    "for Hotel in AllHotels:\n",
    "    df=sampleFromDatFrame(HotelUnclustered,Hotel)\n",
    "\n",
    "    selected_reviews = pd.concat([selected_reviews,df])"
   ]
  },
  {
   "cell_type": "code",
   "execution_count": 9,
   "metadata": {},
   "outputs": [
    {
     "data": {
      "text/html": [
       "<div>\n",
       "<style>\n",
       "    .dataframe thead tr:only-child th {\n",
       "        text-align: right;\n",
       "    }\n",
       "\n",
       "    .dataframe thead th {\n",
       "        text-align: left;\n",
       "    }\n",
       "\n",
       "    .dataframe tbody tr th {\n",
       "        vertical-align: top;\n",
       "    }\n",
       "</style>\n",
       "<table border=\"1\" class=\"dataframe\">\n",
       "  <thead>\n",
       "    <tr style=\"text-align: right;\">\n",
       "      <th></th>\n",
       "      <th>Reviewer_Nationality</th>\n",
       "      <th>Review_Total_Negative_Word_Counts</th>\n",
       "      <th>Total_Number_of_Reviews</th>\n",
       "      <th>Review_Total_Positive_Word_Counts</th>\n",
       "      <th>Total_Number_of_Reviews_Reviewer_Has_Given</th>\n",
       "      <th>Reviewer_Score</th>\n",
       "      <th>lat</th>\n",
       "      <th>lng</th>\n",
       "    </tr>\n",
       "  </thead>\n",
       "  <tbody>\n",
       "    <tr>\n",
       "      <th>989</th>\n",
       "      <td>United States of America</td>\n",
       "      <td>15</td>\n",
       "      <td>2619</td>\n",
       "      <td>11</td>\n",
       "      <td>6</td>\n",
       "      <td>9.6</td>\n",
       "      <td>51.513734</td>\n",
       "      <td>-0.108751</td>\n",
       "    </tr>\n",
       "    <tr>\n",
       "      <th>2485</th>\n",
       "      <td>United Kingdom</td>\n",
       "      <td>0</td>\n",
       "      <td>4380</td>\n",
       "      <td>57</td>\n",
       "      <td>4</td>\n",
       "      <td>9.6</td>\n",
       "      <td>51.514218</td>\n",
       "      <td>-0.180903</td>\n",
       "    </tr>\n",
       "    <tr>\n",
       "      <th>4124</th>\n",
       "      <td>Poland</td>\n",
       "      <td>25</td>\n",
       "      <td>3150</td>\n",
       "      <td>15</td>\n",
       "      <td>4</td>\n",
       "      <td>9.2</td>\n",
       "      <td>51.522622</td>\n",
       "      <td>-0.125160</td>\n",
       "    </tr>\n",
       "    <tr>\n",
       "      <th>6720</th>\n",
       "      <td>United Kingdom</td>\n",
       "      <td>6</td>\n",
       "      <td>6117</td>\n",
       "      <td>7</td>\n",
       "      <td>1</td>\n",
       "      <td>8.8</td>\n",
       "      <td>51.501400</td>\n",
       "      <td>-0.116009</td>\n",
       "    </tr>\n",
       "    <tr>\n",
       "      <th>7432</th>\n",
       "      <td>United Kingdom</td>\n",
       "      <td>0</td>\n",
       "      <td>6117</td>\n",
       "      <td>10</td>\n",
       "      <td>2</td>\n",
       "      <td>9.2</td>\n",
       "      <td>51.501400</td>\n",
       "      <td>-0.116009</td>\n",
       "    </tr>\n",
       "  </tbody>\n",
       "</table>\n",
       "</div>"
      ],
      "text/plain": [
       "            Reviewer_Nationality Review_Total_Negative_Word_Counts  \\\n",
       "989    United States of America                                 15   \n",
       "2485             United Kingdom                                  0   \n",
       "4124                     Poland                                 25   \n",
       "6720             United Kingdom                                  6   \n",
       "7432             United Kingdom                                  0   \n",
       "\n",
       "     Total_Number_of_Reviews Review_Total_Positive_Word_Counts  \\\n",
       "989                     2619                                11   \n",
       "2485                    4380                                57   \n",
       "4124                    3150                                15   \n",
       "6720                    6117                                 7   \n",
       "7432                    6117                                10   \n",
       "\n",
       "     Total_Number_of_Reviews_Reviewer_Has_Given  Reviewer_Score        lat  \\\n",
       "989                                           6             9.6  51.513734   \n",
       "2485                                          4             9.6  51.514218   \n",
       "4124                                          4             9.2  51.522622   \n",
       "6720                                          1             8.8  51.501400   \n",
       "7432                                          2             9.2  51.501400   \n",
       "\n",
       "           lng  \n",
       "989  -0.108751  \n",
       "2485 -0.180903  \n",
       "4124 -0.125160  \n",
       "6720 -0.116009  \n",
       "7432 -0.116009  "
      ]
     },
     "execution_count": 9,
     "metadata": {},
     "output_type": "execute_result"
    }
   ],
   "source": [
    "\n",
    "selected_reviews=selected_reviews.take([1,2,3,4,5,6,7,8],axis=1)\n",
    "selected_reviews.head()"
   ]
  },
  {
   "cell_type": "code",
   "execution_count": 10,
   "metadata": {},
   "outputs": [
    {
     "data": {
      "text/plain": [
       "128"
      ]
     },
     "execution_count": 10,
     "metadata": {},
     "output_type": "execute_result"
    }
   ],
   "source": [
    "selected_reviews.shape[0]"
   ]
  },
  {
   "cell_type": "code",
   "execution_count": 11,
   "metadata": {},
   "outputs": [
    {
     "name": "stdout",
     "output_type": "stream",
     "text": [
      "[[ 0.          0.20987718  0.15500231 ...,  0.34838169  0.18241054\n",
      "   0.19360618]\n",
      " [ 0.20987718  0.          0.20973881 ...,  0.35491485  0.2275589\n",
      "   0.19944796]\n",
      " [ 0.15500231  0.20973881  0.         ...,  0.33071589  0.18970416\n",
      "   0.19347881]\n",
      " ..., \n",
      " [ 0.34838169  0.35491485  0.33071589 ...,  0.          0.3171535\n",
      "   0.34990625]\n",
      " [ 0.18241054  0.2275589   0.18970416 ...,  0.3171535   0.          0.18430141]\n",
      " [ 0.19360618  0.19944796  0.19347881 ...,  0.34990625  0.18430141  0.        ]]\n"
     ]
    }
   ],
   "source": [
    "D = gower_distances(selected_reviews)\n",
    "print(D)\n"
   ]
  },
  {
   "cell_type": "code",
   "execution_count": 12,
   "metadata": {
    "collapsed": true
   },
   "outputs": [],
   "source": [
    "import seaborn as sns\n",
    "import matplotlib.pyplot as plt"
   ]
  },
  {
   "cell_type": "code",
   "execution_count": 13,
   "metadata": {},
   "outputs": [
    {
     "data": {
      "image/png": "[encoded data removed]",
      "text/plain": [
       "<matplotlib.figure.Figure at 0x7fdd8fe25940>"
      ]
     },
     "metadata": {},
     "output_type": "display_data"
    }
   ],
   "source": [
    "sns.heatmap(D)\n",
    "plt.title(\"Heat Map Distances\")\n",
    "plt.show()"
   ]
  },
  {
   "cell_type": "code",
   "execution_count": 14,
   "metadata": {
    "collapsed": true
   },
   "outputs": [],
   "source": [
    "\n",
    "from sklearn.metrics import silhouette_score"
   ]
  },
  {
   "cell_type": "code",
   "execution_count": 15,
   "metadata": {
    "collapsed": true
   },
   "outputs": [],
   "source": [
    "labels=np.zeros(D.shape[0])\n",
    "sil_rating=np.array([])\n",
    "for no_cluster in range(2, 15):\n",
    "    M, C = kMedoids(D, no_cluster)\n",
    "    \n",
    "    for label in C:\n",
    "        for point_idx in C[label]:\n",
    "            labels[point_idx]=label\n",
    "    \n",
    "    sil_rating=np.append(sil_rating,silhouette_score(D,labels))"
   ]
  },
  {
   "cell_type": "code",
   "execution_count": 16,
   "metadata": {
    "collapsed": true
   },
   "outputs": [],
   "source": [
    "import matplotlib.pyplot as plt\n",
    "%matplotlib inline"
   ]
  },
  {
   "cell_type": "code",
   "execution_count": 17,
   "metadata": {},
   "outputs": [
    {
     "data": {
      "image/png": "[encoded data removed]",
      "text/plain": [
       "<matplotlib.figure.Figure at 0x7fdd896e2ba8>"
      ]
     },
     "metadata": {},
     "output_type": "display_data"
    }
   ],
   "source": [
    "plt.plot(range(2, 15),sil_rating)\n",
    "plt.xlabel('No. of Cluster')\n",
    "plt.ylabel('Silhouette Score')\n",
    "plt.title(\"Silhoutte Score v/s Clusters\");\n",
    "plt.show()"
   ]
  },
  {
   "cell_type": "code",
   "execution_count": 18,
   "metadata": {},
   "outputs": [
    {
     "data": {
      "text/plain": [
       "3"
      ]
     },
     "execution_count": 18,
     "metadata": {},
     "output_type": "execute_result"
    }
   ],
   "source": [
    "optimum_no_cluster=sil_rating.argmax()+2\n",
    "optimum_no_cluster"
   ]
  },
  {
   "cell_type": "code",
   "execution_count": 19,
   "metadata": {
    "collapsed": true
   },
   "outputs": [],
   "source": [
    "M, C = kMedoids(D, 5)\n",
    "for label in C:\n",
    "    for point_idx in C[label]:\n",
    "        labels[point_idx]=label"
   ]
  },
  {
   "cell_type": "code",
   "execution_count": 20,
   "metadata": {
    "collapsed": true
   },
   "outputs": [],
   "source": [
    "from sklearn.manifold import MDS\n",
    "import matplotlib.pyplot as plt\n",
    "model = MDS(n_components=3, dissimilarity='precomputed', random_state=1)\n",
    "out = model.fit_transform(D)\n"
   ]
  },
  {
   "cell_type": "code",
   "execution_count": 21,
   "metadata": {},
   "outputs": [
    {
     "data": {
      "image/png": "[encoded data removed]",
      "text/plain": [
       "<matplotlib.figure.Figure at 0x7fdd8974d518>"
      ]
     },
     "metadata": {},
     "output_type": "display_data"
    }
   ],
   "source": [
    "%matplotlib inline\n",
    "from mpl_toolkits.mplot3d import Axes3D\n",
    "Axes3D\n",
    "\n",
    "fig = plt.figure(figsize=(70, 30))\n",
    "ax = fig.add_subplot(251, projection='3d')\n",
    "ax.scatter(out[:, 0], out[:, 1], out[:, 2], c=labels, cmap=plt.cm.Dark2, s=40)\n",
    "ax.view_init(4, -72)\n",
    "plt.title(\"Clusters Visualised in 3D\")\n",
    "plt.show()"
   ]
  },
  {
   "cell_type": "code",
   "execution_count": 22,
   "metadata": {
    "collapsed": true
   },
   "outputs": [],
   "source": [
    "from sklearn.manifold import MDS\n",
    "import matplotlib.pyplot as plt\n",
    "model = MDS(n_components=2, dissimilarity='precomputed', random_state=1)\n",
    "out = model.fit_transform(D)\n"
   ]
  },
  {
   "cell_type": "code",
   "execution_count": 23,
   "metadata": {},
   "outputs": [
    {
     "data": {
      "image/png": "[encoded data removed]",
      "text/plain": [
       "<matplotlib.figure.Figure at 0x7fdd7aa036a0>"
      ]
     },
     "metadata": {},
     "output_type": "display_data"
    }
   ],
   "source": [
    "fig = plt.figure(figsize=(40, 10))\n",
    "ax = fig.add_subplot(251)\n",
    "ax.scatter(out[:, 0], out[:, 1], c=labels, cmap=plt.cm.tab10, s=40)\n",
    "\n",
    "plt.title(\"Clusters Visualised in 2D\")\n",
    "plt.show()"
   ]
  },
  {
   "cell_type": "code",
   "execution_count": 31,
   "metadata": {},
   "outputs": [
    {
     "name": "stdout",
     "output_type": "stream",
     "text": [
      "Reviewer_Nationality                           Malaysia \n",
      "Review_Total_Negative_Word_Counts                     10\n",
      "Total_Number_of_Reviews                             7105\n",
      "Review_Total_Positive_Word_Counts                      9\n",
      "Total_Number_of_Reviews_Reviewer_Has_Given             5\n",
      "Reviewer_Score                                       7.9\n",
      "lat                                               51.499\n",
      "lng                                            -0.191707\n",
      "Name: 444555, dtype: object\n",
      "Reviewer_Nationality                           United Kingdom \n",
      "Review_Total_Negative_Word_Counts                           11\n",
      "Total_Number_of_Reviews                                   3826\n",
      "Review_Total_Positive_Word_Counts                            6\n",
      "Total_Number_of_Reviews_Reviewer_Has_Given                   1\n",
      "Reviewer_Score                                             6.7\n",
      "lat                                                    51.5043\n",
      "lng                                                 -0.0334436\n",
      "Name: 125875, dtype: object\n",
      "Reviewer_Nationality                           United Kingdom \n",
      "Review_Total_Negative_Word_Counts                            6\n",
      "Total_Number_of_Reviews                                   4802\n",
      "Review_Total_Positive_Word_Counts                           16\n",
      "Total_Number_of_Reviews_Reviewer_Has_Given                   2\n",
      "Reviewer_Score                                              10\n",
      "lat                                                    51.5278\n",
      "lng                                                 -0.0889473\n",
      "Name: 58612, dtype: object\n",
      "Reviewer_Nationality                           Germany \n",
      "Review_Total_Negative_Word_Counts                     9\n",
      "Total_Number_of_Reviews                            2768\n",
      "Review_Total_Positive_Word_Counts                    10\n",
      "Total_Number_of_Reviews_Reviewer_Has_Given            1\n",
      "Reviewer_Score                                      8.3\n",
      "lat                                             51.5084\n",
      "lng                                           0.0198855\n",
      "Name: 437437, dtype: object\n",
      "Reviewer_Nationality                           Malaysia \n",
      "Review_Total_Negative_Word_Counts                     20\n",
      "Total_Number_of_Reviews                             7491\n",
      "Review_Total_Positive_Word_Counts                     20\n",
      "Total_Number_of_Reviews_Reviewer_Has_Given            11\n",
      "Reviewer_Score                                       8.3\n",
      "lat                                              51.5108\n",
      "lng                                           -0.0780581\n",
      "Name: 236545, dtype: object\n"
     ]
    }
   ],
   "source": [
    "for point_idx in M:\n",
    "    print( selected_reviews.iloc[point_idx,:] )"
   ]
  },
  {
   "cell_type": "code",
   "execution_count": 32,
   "metadata": {
    "collapsed": true
   },
   "outputs": [],
   "source": [
    "column=selected_reviews.columns\n",
    "ClusterCentroid = pd.DataFrame(columns=column)"
   ]
  },
  {
   "cell_type": "code",
   "execution_count": 131,
   "metadata": {},
   "outputs": [],
   "source": [
    "ClusterCentroid =selected_reviews.iloc[M]\n",
    "ClusterCentroidSummary=ClusterCentroid.reset_index()"
   ]
  },
  {
   "cell_type": "code",
   "execution_count": 132,
   "metadata": {
    "collapsed": true
   },
   "outputs": [],
   "source": [
    "Cluster0 =selected_reviews.iloc[C[0]]\n",
    "Cluster1 =selected_reviews.iloc[C[1]]\n",
    "Cluster2 =selected_reviews.iloc[C[2]]\n",
    "Cluster3 =selected_reviews.iloc[C[3]]\n",
    "Cluster4 =selected_reviews.iloc[C[4]]"
   ]
  },
  {
   "cell_type": "code",
   "execution_count": 133,
   "metadata": {},
   "outputs": [],
   "source": [
    "avg_neg_word=np.array([Cluster0['Review_Total_Negative_Word_Counts'].mean(),Cluster1['Review_Total_Negative_Word_Counts'].mean(),Cluster2['Review_Total_Negative_Word_Counts'].mean(),Cluster3['Review_Total_Negative_Word_Counts'].mean(),Cluster4['Review_Total_Negative_Word_Counts'].mean()])\n",
    "avg_pos_word=np.array([Cluster0['Review_Total_Positive_Word_Counts'].mean(),Cluster1['Review_Total_Positive_Word_Counts'].mean(),Cluster2['Review_Total_Positive_Word_Counts'].mean(),Cluster3['Review_Total_Positive_Word_Counts'].mean(),Cluster4['Review_Total_Positive_Word_Counts'].mean()])"
   ]
  },
  {
   "cell_type": "code",
   "execution_count": 134,
   "metadata": {
    "collapsed": true
   },
   "outputs": [],
   "source": [
    "avg_totalreview=np.array([Cluster0['Total_Number_of_Reviews'].mean(),Cluster1['Total_Number_of_Reviews'].mean(),Cluster2['Total_Number_of_Reviews'].mean(),Cluster3['Total_Number_of_Reviews'].mean(),Cluster4['Total_Number_of_Reviews'].mean()])\n",
    "avg_reviewGivenByReviver=np.array([Cluster0['Total_Number_of_Reviews_Reviewer_Has_Given'].mean(),Cluster1['Total_Number_of_Reviews_Reviewer_Has_Given'].mean(),Cluster2['Total_Number_of_Reviews_Reviewer_Has_Given'].mean(),Cluster3['Total_Number_of_Reviews_Reviewer_Has_Given'].mean(),Cluster4['Total_Number_of_Reviews_Reviewer_Has_Given'].mean()])"
   ]
  },
  {
   "cell_type": "code",
   "execution_count": 135,
   "metadata": {
    "collapsed": true
   },
   "outputs": [],
   "source": [
    "avg_review_score=np.array([Cluster0['Reviewer_Score'].mean(),Cluster1['Reviewer_Score'].mean(),Cluster2['Reviewer_Score'].mean(),Cluster3['Reviewer_Score'].mean(),Cluster4['Reviewer_Score'].mean()])\n",
    "avg_lat=np.array([Cluster0['lat'].mean(),Cluster1['lat'].mean(),Cluster2['lat'].mean(),Cluster3['lat'].mean(),Cluster4['lat'].mean()])\n",
    "avg_lng=np.array([Cluster0['lng'].mean(),Cluster1['lng'].mean(),Cluster2['lng'].mean(),Cluster3['lng'].mean(),Cluster4['lng'].mean()])"
   ]
  },
  {
   "cell_type": "code",
   "execution_count": 136,
   "metadata": {
    "collapsed": true
   },
   "outputs": [],
   "source": [
    "column=['Neg_Word_Count',\n",
    " 'Total_Review',\n",
    " 'Pos_Word_Count',\n",
    " 'Reviews_givenby_Reviewer',\n",
    " 'Score',\n",
    " 'lat',\n",
    " 'lng']"
   ]
  },
  {
   "cell_type": "code",
   "execution_count": 137,
   "metadata": {},
   "outputs": [],
   "source": [
    "ClusterSummaryAvg=pd.DataFrame(np.column_stack((avg_neg_word,avg_totalreview,avg_pos_word,avg_reviewGivenByReviver,avg_review_score,avg_lat,avg_lng)),columns=column)"
   ]
  },
  {
   "cell_type": "code",
   "execution_count": 106,
   "metadata": {
    "collapsed": true
   },
   "outputs": [],
   "source": [
    "avg_neg_word=np.array([Cluster0['Review_Total_Negative_Word_Counts'].max(),Cluster1['Review_Total_Negative_Word_Counts'].max(),Cluster2['Review_Total_Negative_Word_Counts'].max(),Cluster3['Review_Total_Negative_Word_Counts'].max(),Cluster4['Review_Total_Negative_Word_Counts'].max()])\n",
    "avg_pos_word=np.array([Cluster0['Review_Total_Positive_Word_Counts'].max(),Cluster1['Review_Total_Positive_Word_Counts'].max(),Cluster2['Review_Total_Positive_Word_Counts'].max(),Cluster3['Review_Total_Positive_Word_Counts'].max(),Cluster4['Review_Total_Positive_Word_Counts'].max()])"
   ]
  },
  {
   "cell_type": "code",
   "execution_count": 107,
   "metadata": {
    "collapsed": true
   },
   "outputs": [],
   "source": [
    "avg_totalreview=np.array([Cluster0['Total_Number_of_Reviews'].max(),Cluster1['Total_Number_of_Reviews'].max(),Cluster2['Total_Number_of_Reviews'].max(),Cluster3['Total_Number_of_Reviews'].max(),Cluster4['Total_Number_of_Reviews'].max()])\n",
    "avg_reviewGivenByReviver=np.array([Cluster0['Total_Number_of_Reviews_Reviewer_Has_Given'].max(),Cluster1['Total_Number_of_Reviews_Reviewer_Has_Given'].max(),Cluster2['Total_Number_of_Reviews_Reviewer_Has_Given'].max(),Cluster3['Total_Number_of_Reviews_Reviewer_Has_Given'].max(),Cluster4['Total_Number_of_Reviews_Reviewer_Has_Given'].max()])"
   ]
  },
  {
   "cell_type": "code",
   "execution_count": 140,
   "metadata": {
    "collapsed": true
   },
   "outputs": [],
   "source": [
    "avg_review_score=np.array([Cluster0['Reviewer_Score'].max(),Cluster1['Reviewer_Score'].max(),Cluster2['Reviewer_Score'].max(),Cluster3['Reviewer_Score'].max(),Cluster4['Reviewer_Score'].max()])\n",
    "avg_lat=np.array([Cluster0['lat'].max(),Cluster1['lat'].max(),Cluster2['lat'].max(),Cluster3['lat'].max(),Cluster4['lat'].max()])\n",
    "avg_lng=np.array([Cluster0['lng'].max(),Cluster1['lng'].max(),Cluster2['lng'].max(),Cluster3['lng'].max(),Cluster4['lng'].max()])"
   ]
  },
  {
   "cell_type": "code",
   "execution_count": 141,
   "metadata": {
    "collapsed": true
   },
   "outputs": [],
   "source": [
    "ClusterSummaryMax=pd.DataFrame(np.column_stack((avg_neg_word,avg_totalreview,avg_pos_word,avg_reviewGivenByReviver,avg_review_score,avg_lat,avg_lng)),columns=column)"
   ]
  },
  {
   "cell_type": "code",
   "execution_count": 142,
   "metadata": {
    "collapsed": true
   },
   "outputs": [],
   "source": [
    "avg_neg_word=np.array([Cluster0['Review_Total_Negative_Word_Counts'].min(),Cluster1['Review_Total_Negative_Word_Counts'].min(),Cluster2['Review_Total_Negative_Word_Counts'].min(),Cluster3['Review_Total_Negative_Word_Counts'].min(),Cluster4['Review_Total_Negative_Word_Counts'].min()])\n",
    "avg_pos_word=np.array([Cluster0['Review_Total_Positive_Word_Counts'].min(),Cluster1['Review_Total_Positive_Word_Counts'].min(),Cluster2['Review_Total_Positive_Word_Counts'].min(),Cluster3['Review_Total_Positive_Word_Counts'].min(),Cluster4['Review_Total_Positive_Word_Counts'].min()])"
   ]
  },
  {
   "cell_type": "code",
   "execution_count": 143,
   "metadata": {
    "collapsed": true
   },
   "outputs": [],
   "source": [
    "avg_totalreview=np.array([Cluster0['Total_Number_of_Reviews'].min(),Cluster1['Total_Number_of_Reviews'].min(),Cluster2['Total_Number_of_Reviews'].min(),Cluster3['Total_Number_of_Reviews'].min(),Cluster4['Total_Number_of_Reviews'].min()])\n",
    "avg_reviewGivenByReviver=np.array([Cluster0['Total_Number_of_Reviews_Reviewer_Has_Given'].min(),Cluster1['Total_Number_of_Reviews_Reviewer_Has_Given'].min(),Cluster2['Total_Number_of_Reviews_Reviewer_Has_Given'].min(),Cluster3['Total_Number_of_Reviews_Reviewer_Has_Given'].min(),Cluster4['Total_Number_of_Reviews_Reviewer_Has_Given'].min()])"
   ]
  },
  {
   "cell_type": "code",
   "execution_count": 144,
   "metadata": {
    "collapsed": true
   },
   "outputs": [],
   "source": [
    "avg_review_score=np.array([Cluster0['Reviewer_Score'].min(),Cluster1['Reviewer_Score'].min(),Cluster2['Reviewer_Score'].min(),Cluster3['Reviewer_Score'].min(),Cluster4['Reviewer_Score'].min()])\n",
    "avg_lat=np.array([Cluster0['lat'].min(),Cluster1['lat'].min(),Cluster2['lat'].min(),Cluster3['lat'].min(),Cluster4['lat'].min()])\n",
    "avg_lng=np.array([Cluster0['lng'].min(),Cluster1['lng'].min(),Cluster2['lng'].min(),Cluster3['lng'].min(),Cluster4['lng'].min()])"
   ]
  },
  {
   "cell_type": "code",
   "execution_count": 146,
   "metadata": {
    "collapsed": true
   },
   "outputs": [],
   "source": [
    "ClusterSummaryMin=pd.DataFrame(np.column_stack((avg_neg_word,avg_totalreview,avg_pos_word,avg_reviewGivenByReviver,avg_review_score,avg_lat,avg_lng)),columns=column)"
   ]
  },
  {
   "cell_type": "code",
   "execution_count": 148,
   "metadata": {
    "collapsed": true
   },
   "outputs": [],
   "source": [
    "avg_neg_word=np.array([Cluster0['Review_Total_Negative_Word_Counts'].std(),Cluster1['Review_Total_Negative_Word_Counts'].std(),Cluster2['Review_Total_Negative_Word_Counts'].std(),Cluster3['Review_Total_Negative_Word_Counts'].std(),Cluster4['Review_Total_Negative_Word_Counts'].std()])\n",
    "avg_pos_word=np.array([Cluster0['Review_Total_Positive_Word_Counts'].std(),Cluster1['Review_Total_Positive_Word_Counts'].std(),Cluster2['Review_Total_Positive_Word_Counts'].std(),Cluster3['Review_Total_Positive_Word_Counts'].std(),Cluster4['Review_Total_Positive_Word_Counts'].std()])"
   ]
  },
  {
   "cell_type": "code",
   "execution_count": 147,
   "metadata": {
    "collapsed": true
   },
   "outputs": [],
   "source": [
    "avg_totalreview=np.array([Cluster0['Total_Number_of_Reviews'].std(),Cluster1['Total_Number_of_Reviews'].std(),Cluster2['Total_Number_of_Reviews'].std(),Cluster3['Total_Number_of_Reviews'].std(),Cluster4['Total_Number_of_Reviews'].std()])\n",
    "avg_reviewGivenByReviver=np.array([Cluster0['Total_Number_of_Reviews_Reviewer_Has_Given'].std(),Cluster1['Total_Number_of_Reviews_Reviewer_Has_Given'].std(),Cluster2['Total_Number_of_Reviews_Reviewer_Has_Given'].std(),Cluster3['Total_Number_of_Reviews_Reviewer_Has_Given'].std(),Cluster4['Total_Number_of_Reviews_Reviewer_Has_Given'].std()])"
   ]
  },
  {
   "cell_type": "code",
   "execution_count": 149,
   "metadata": {
    "collapsed": true
   },
   "outputs": [],
   "source": [
    "avg_review_score=np.array([Cluster0['Reviewer_Score'].min(),Cluster1['Reviewer_Score'].std(),Cluster2['Reviewer_Score'].std(),Cluster3['Reviewer_Score'].std(),Cluster4['Reviewer_Score'].std()])\n",
    "avg_lat=np.array([Cluster0['lat'].std(),Cluster1['lat'].std(),Cluster2['lat'].std(),Cluster3['lat'].std(),Cluster4['lat'].std()])\n",
    "avg_lng=np.array([Cluster0['lng'].std(),Cluster1['lng'].std(),Cluster2['lng'].std(),Cluster3['lng'].std(),Cluster4['lng'].std()])"
   ]
  },
  {
   "cell_type": "code",
   "execution_count": 155,
   "metadata": {
    "collapsed": true
   },
   "outputs": [],
   "source": [
    "ClusterSummaryStd=pd.DataFrame(np.column_stack((avg_neg_word,avg_totalreview,avg_pos_word,avg_reviewGivenByReviver,avg_review_score,avg_lat,avg_lng)),columns=column)"
   ]
  },
  {
   "cell_type": "code",
   "execution_count": 151,
   "metadata": {},
   "outputs": [
    {
     "data": {
      "text/html": [
       "<div>\n",
       "<style>\n",
       "    .dataframe thead tr:only-child th {\n",
       "        text-align: right;\n",
       "    }\n",
       "\n",
       "    .dataframe thead th {\n",
       "        text-align: left;\n",
       "    }\n",
       "\n",
       "    .dataframe tbody tr th {\n",
       "        vertical-align: top;\n",
       "    }\n",
       "</style>\n",
       "<table border=\"1\" class=\"dataframe\">\n",
       "  <thead>\n",
       "    <tr style=\"text-align: right;\">\n",
       "      <th></th>\n",
       "      <th>Neg_Word_Count</th>\n",
       "      <th>Total_Review</th>\n",
       "      <th>Pos_Word_Count</th>\n",
       "      <th>Reviews_givenby_Reviewer</th>\n",
       "      <th>Score</th>\n",
       "      <th>lat</th>\n",
       "      <th>lng</th>\n",
       "    </tr>\n",
       "  </thead>\n",
       "  <tbody>\n",
       "    <tr>\n",
       "      <th>0</th>\n",
       "      <td>19.237098</td>\n",
       "      <td>1315.538566</td>\n",
       "      <td>16.167394</td>\n",
       "      <td>2.312175</td>\n",
       "      <td>3.800000</td>\n",
       "      <td>3.128204</td>\n",
       "      <td>3.018784</td>\n",
       "    </tr>\n",
       "    <tr>\n",
       "      <th>1</th>\n",
       "      <td>35.789397</td>\n",
       "      <td>2268.610462</td>\n",
       "      <td>19.470995</td>\n",
       "      <td>6.687873</td>\n",
       "      <td>1.685886</td>\n",
       "      <td>1.700808</td>\n",
       "      <td>1.821008</td>\n",
       "    </tr>\n",
       "    <tr>\n",
       "      <th>2</th>\n",
       "      <td>12.570823</td>\n",
       "      <td>3034.591698</td>\n",
       "      <td>16.171784</td>\n",
       "      <td>5.182852</td>\n",
       "      <td>0.339855</td>\n",
       "      <td>1.155373</td>\n",
       "      <td>2.054227</td>\n",
       "    </tr>\n",
       "    <tr>\n",
       "      <th>3</th>\n",
       "      <td>11.771306</td>\n",
       "      <td>1073.766921</td>\n",
       "      <td>15.238110</td>\n",
       "      <td>4.319091</td>\n",
       "      <td>0.665378</td>\n",
       "      <td>1.902651</td>\n",
       "      <td>3.213737</td>\n",
       "    </tr>\n",
       "    <tr>\n",
       "      <th>4</th>\n",
       "      <td>28.694366</td>\n",
       "      <td>3529.431366</td>\n",
       "      <td>7.678976</td>\n",
       "      <td>6.377042</td>\n",
       "      <td>0.591326</td>\n",
       "      <td>0.346948</td>\n",
       "      <td>2.050480</td>\n",
       "    </tr>\n",
       "  </tbody>\n",
       "</table>\n",
       "</div>"
      ],
      "text/plain": [
       "   Neg_Word_Count  Total_Review  Pos_Word_Count  Reviews_givenby_Reviewer  \\\n",
       "0       19.237098   1315.538566       16.167394                  2.312175   \n",
       "1       35.789397   2268.610462       19.470995                  6.687873   \n",
       "2       12.570823   3034.591698       16.171784                  5.182852   \n",
       "3       11.771306   1073.766921       15.238110                  4.319091   \n",
       "4       28.694366   3529.431366        7.678976                  6.377042   \n",
       "\n",
       "      Score       lat       lng  \n",
       "0  3.800000  3.128204  3.018784  \n",
       "1  1.685886  1.700808  1.821008  \n",
       "2  0.339855  1.155373  2.054227  \n",
       "3  0.665378  1.902651  3.213737  \n",
       "4  0.591326  0.346948  2.050480  "
      ]
     },
     "execution_count": 151,
     "metadata": {},
     "output_type": "execute_result"
    }
   ],
   "source": [
    "ClusterSummaryMin"
   ]
  },
  {
   "cell_type": "code",
   "execution_count": 152,
   "metadata": {},
   "outputs": [
    {
     "data": {
      "text/html": [
       "<div>\n",
       "<style>\n",
       "    .dataframe thead tr:only-child th {\n",
       "        text-align: right;\n",
       "    }\n",
       "\n",
       "    .dataframe thead th {\n",
       "        text-align: left;\n",
       "    }\n",
       "\n",
       "    .dataframe tbody tr th {\n",
       "        vertical-align: top;\n",
       "    }\n",
       "</style>\n",
       "<table border=\"1\" class=\"dataframe\">\n",
       "  <thead>\n",
       "    <tr style=\"text-align: right;\">\n",
       "      <th></th>\n",
       "      <th>Neg_Word_Count</th>\n",
       "      <th>Total_Review</th>\n",
       "      <th>Pos_Word_Count</th>\n",
       "      <th>Reviews_givenby_Reviewer</th>\n",
       "      <th>Score</th>\n",
       "      <th>lat</th>\n",
       "      <th>lng</th>\n",
       "    </tr>\n",
       "  </thead>\n",
       "  <tbody>\n",
       "    <tr>\n",
       "      <th>0</th>\n",
       "      <td>24.285714</td>\n",
       "      <td>6588.785714</td>\n",
       "      <td>17.000000</td>\n",
       "      <td>4.500000</td>\n",
       "      <td>7.214286</td>\n",
       "      <td>50.537179</td>\n",
       "      <td>1.755150</td>\n",
       "    </tr>\n",
       "    <tr>\n",
       "      <th>1</th>\n",
       "      <td>29.261905</td>\n",
       "      <td>4442.500000</td>\n",
       "      <td>12.380952</td>\n",
       "      <td>4.833333</td>\n",
       "      <td>5.878571</td>\n",
       "      <td>51.268811</td>\n",
       "      <td>0.752467</td>\n",
       "    </tr>\n",
       "    <tr>\n",
       "      <th>2</th>\n",
       "      <td>7.581818</td>\n",
       "      <td>5096.454545</td>\n",
       "      <td>16.745455</td>\n",
       "      <td>4.090909</td>\n",
       "      <td>9.752727</td>\n",
       "      <td>51.337503</td>\n",
       "      <td>0.486821</td>\n",
       "    </tr>\n",
       "    <tr>\n",
       "      <th>3</th>\n",
       "      <td>12.181818</td>\n",
       "      <td>3517.000000</td>\n",
       "      <td>15.000000</td>\n",
       "      <td>4.636364</td>\n",
       "      <td>8.754545</td>\n",
       "      <td>51.124081</td>\n",
       "      <td>1.620487</td>\n",
       "    </tr>\n",
       "    <tr>\n",
       "      <th>4</th>\n",
       "      <td>29.166667</td>\n",
       "      <td>7093.833333</td>\n",
       "      <td>19.166667</td>\n",
       "      <td>11.666667</td>\n",
       "      <td>8.483333</td>\n",
       "      <td>51.646612</td>\n",
       "      <td>0.729046</td>\n",
       "    </tr>\n",
       "  </tbody>\n",
       "</table>\n",
       "</div>"
      ],
      "text/plain": [
       "   Neg_Word_Count  Total_Review  Pos_Word_Count  Reviews_givenby_Reviewer  \\\n",
       "0       24.285714   6588.785714       17.000000                  4.500000   \n",
       "1       29.261905   4442.500000       12.380952                  4.833333   \n",
       "2        7.581818   5096.454545       16.745455                  4.090909   \n",
       "3       12.181818   3517.000000       15.000000                  4.636364   \n",
       "4       29.166667   7093.833333       19.166667                 11.666667   \n",
       "\n",
       "      Score        lat       lng  \n",
       "0  7.214286  50.537179  1.755150  \n",
       "1  5.878571  51.268811  0.752467  \n",
       "2  9.752727  51.337503  0.486821  \n",
       "3  8.754545  51.124081  1.620487  \n",
       "4  8.483333  51.646612  0.729046  "
      ]
     },
     "execution_count": 152,
     "metadata": {},
     "output_type": "execute_result"
    }
   ],
   "source": [
    "ClusterSummaryAvg"
   ]
  },
  {
   "cell_type": "code",
   "execution_count": 153,
   "metadata": {},
   "outputs": [
    {
     "data": {
      "text/html": [
       "<div>\n",
       "<style>\n",
       "    .dataframe thead tr:only-child th {\n",
       "        text-align: right;\n",
       "    }\n",
       "\n",
       "    .dataframe thead th {\n",
       "        text-align: left;\n",
       "    }\n",
       "\n",
       "    .dataframe tbody tr th {\n",
       "        vertical-align: top;\n",
       "    }\n",
       "</style>\n",
       "<table border=\"1\" class=\"dataframe\">\n",
       "  <thead>\n",
       "    <tr style=\"text-align: right;\">\n",
       "      <th></th>\n",
       "      <th>Neg_Word_Count</th>\n",
       "      <th>Total_Review</th>\n",
       "      <th>Pos_Word_Count</th>\n",
       "      <th>Reviews_givenby_Reviewer</th>\n",
       "      <th>Score</th>\n",
       "      <th>lat</th>\n",
       "      <th>lng</th>\n",
       "    </tr>\n",
       "  </thead>\n",
       "  <tbody>\n",
       "    <tr>\n",
       "      <th>0</th>\n",
       "      <td>4.0</td>\n",
       "      <td>3609.0</td>\n",
       "      <td>2.0</td>\n",
       "      <td>1.0</td>\n",
       "      <td>3.8</td>\n",
       "      <td>41.411006</td>\n",
       "      <td>-0.192879</td>\n",
       "    </tr>\n",
       "    <tr>\n",
       "      <th>1</th>\n",
       "      <td>0.0</td>\n",
       "      <td>2061.0</td>\n",
       "      <td>0.0</td>\n",
       "      <td>1.0</td>\n",
       "      <td>2.5</td>\n",
       "      <td>41.371308</td>\n",
       "      <td>-0.286495</td>\n",
       "    </tr>\n",
       "    <tr>\n",
       "      <th>2</th>\n",
       "      <td>0.0</td>\n",
       "      <td>1827.0</td>\n",
       "      <td>2.0</td>\n",
       "      <td>1.0</td>\n",
       "      <td>8.8</td>\n",
       "      <td>45.525722</td>\n",
       "      <td>-0.283526</td>\n",
       "    </tr>\n",
       "    <tr>\n",
       "      <th>3</th>\n",
       "      <td>0.0</td>\n",
       "      <td>2485.0</td>\n",
       "      <td>2.0</td>\n",
       "      <td>1.0</td>\n",
       "      <td>7.5</td>\n",
       "      <td>45.482669</td>\n",
       "      <td>-0.224423</td>\n",
       "    </tr>\n",
       "    <tr>\n",
       "      <th>4</th>\n",
       "      <td>0.0</td>\n",
       "      <td>2898.0</td>\n",
       "      <td>12.0</td>\n",
       "      <td>7.0</td>\n",
       "      <td>7.5</td>\n",
       "      <td>51.495666</td>\n",
       "      <td>-0.175737</td>\n",
       "    </tr>\n",
       "  </tbody>\n",
       "</table>\n",
       "</div>"
      ],
      "text/plain": [
       "   Neg_Word_Count  Total_Review  Pos_Word_Count  Reviews_givenby_Reviewer  \\\n",
       "0             4.0        3609.0             2.0                       1.0   \n",
       "1             0.0        2061.0             0.0                       1.0   \n",
       "2             0.0        1827.0             2.0                       1.0   \n",
       "3             0.0        2485.0             2.0                       1.0   \n",
       "4             0.0        2898.0            12.0                       7.0   \n",
       "\n",
       "   Score        lat       lng  \n",
       "0    3.8  41.411006 -0.192879  \n",
       "1    2.5  41.371308 -0.286495  \n",
       "2    8.8  45.525722 -0.283526  \n",
       "3    7.5  45.482669 -0.224423  \n",
       "4    7.5  51.495666 -0.175737  "
      ]
     },
     "execution_count": 153,
     "metadata": {},
     "output_type": "execute_result"
    }
   ],
   "source": [
    "ClusterSummaryMax"
   ]
  },
  {
   "cell_type": "code",
   "execution_count": 156,
   "metadata": {},
   "outputs": [
    {
     "data": {
      "text/html": [
       "<div>\n",
       "<style>\n",
       "    .dataframe thead tr:only-child th {\n",
       "        text-align: right;\n",
       "    }\n",
       "\n",
       "    .dataframe thead th {\n",
       "        text-align: left;\n",
       "    }\n",
       "\n",
       "    .dataframe tbody tr th {\n",
       "        vertical-align: top;\n",
       "    }\n",
       "</style>\n",
       "<table border=\"1\" class=\"dataframe\">\n",
       "  <thead>\n",
       "    <tr style=\"text-align: right;\">\n",
       "      <th></th>\n",
       "      <th>Neg_Word_Count</th>\n",
       "      <th>Total_Review</th>\n",
       "      <th>Pos_Word_Count</th>\n",
       "      <th>Reviews_givenby_Reviewer</th>\n",
       "      <th>Score</th>\n",
       "      <th>lat</th>\n",
       "      <th>lng</th>\n",
       "    </tr>\n",
       "  </thead>\n",
       "  <tbody>\n",
       "    <tr>\n",
       "      <th>0</th>\n",
       "      <td>19.237098</td>\n",
       "      <td>1315.538566</td>\n",
       "      <td>16.167394</td>\n",
       "      <td>2.312175</td>\n",
       "      <td>3.800000</td>\n",
       "      <td>3.128204</td>\n",
       "      <td>3.018784</td>\n",
       "    </tr>\n",
       "    <tr>\n",
       "      <th>1</th>\n",
       "      <td>35.789397</td>\n",
       "      <td>2268.610462</td>\n",
       "      <td>19.470995</td>\n",
       "      <td>6.687873</td>\n",
       "      <td>1.685886</td>\n",
       "      <td>1.700808</td>\n",
       "      <td>1.821008</td>\n",
       "    </tr>\n",
       "    <tr>\n",
       "      <th>2</th>\n",
       "      <td>12.570823</td>\n",
       "      <td>3034.591698</td>\n",
       "      <td>16.171784</td>\n",
       "      <td>5.182852</td>\n",
       "      <td>0.339855</td>\n",
       "      <td>1.155373</td>\n",
       "      <td>2.054227</td>\n",
       "    </tr>\n",
       "    <tr>\n",
       "      <th>3</th>\n",
       "      <td>11.771306</td>\n",
       "      <td>1073.766921</td>\n",
       "      <td>15.238110</td>\n",
       "      <td>4.319091</td>\n",
       "      <td>0.665378</td>\n",
       "      <td>1.902651</td>\n",
       "      <td>3.213737</td>\n",
       "    </tr>\n",
       "    <tr>\n",
       "      <th>4</th>\n",
       "      <td>28.694366</td>\n",
       "      <td>3529.431366</td>\n",
       "      <td>7.678976</td>\n",
       "      <td>6.377042</td>\n",
       "      <td>0.591326</td>\n",
       "      <td>0.346948</td>\n",
       "      <td>2.050480</td>\n",
       "    </tr>\n",
       "  </tbody>\n",
       "</table>\n",
       "</div>"
      ],
      "text/plain": [
       "   Neg_Word_Count  Total_Review  Pos_Word_Count  Reviews_givenby_Reviewer  \\\n",
       "0       19.237098   1315.538566       16.167394                  2.312175   \n",
       "1       35.789397   2268.610462       19.470995                  6.687873   \n",
       "2       12.570823   3034.591698       16.171784                  5.182852   \n",
       "3       11.771306   1073.766921       15.238110                  4.319091   \n",
       "4       28.694366   3529.431366        7.678976                  6.377042   \n",
       "\n",
       "      Score       lat       lng  \n",
       "0  3.800000  3.128204  3.018784  \n",
       "1  1.685886  1.700808  1.821008  \n",
       "2  0.339855  1.155373  2.054227  \n",
       "3  0.665378  1.902651  3.213737  \n",
       "4  0.591326  0.346948  2.050480  "
      ]
     },
     "execution_count": 156,
     "metadata": {},
     "output_type": "execute_result"
    }
   ],
   "source": [
    "ClusterSummaryStd"
   ]
  },
  {
   "cell_type": "code",
   "execution_count": 158,
   "metadata": {},
   "outputs": [],
   "source": [
    "ClusterSummaryDistance=ClusterSummaryStd.divide(ClusterSummaryAvg, axis='columns', level=None, fill_value=None)"
   ]
  },
  {
   "cell_type": "code",
   "execution_count": 159,
   "metadata": {},
   "outputs": [
    {
     "data": {
      "text/html": [
       "<div>\n",
       "<style>\n",
       "    .dataframe thead tr:only-child th {\n",
       "        text-align: right;\n",
       "    }\n",
       "\n",
       "    .dataframe thead th {\n",
       "        text-align: left;\n",
       "    }\n",
       "\n",
       "    .dataframe tbody tr th {\n",
       "        vertical-align: top;\n",
       "    }\n",
       "</style>\n",
       "<table border=\"1\" class=\"dataframe\">\n",
       "  <thead>\n",
       "    <tr style=\"text-align: right;\">\n",
       "      <th></th>\n",
       "      <th>Neg_Word_Count</th>\n",
       "      <th>Total_Review</th>\n",
       "      <th>Pos_Word_Count</th>\n",
       "      <th>Reviews_givenby_Reviewer</th>\n",
       "      <th>Score</th>\n",
       "      <th>lat</th>\n",
       "      <th>lng</th>\n",
       "    </tr>\n",
       "  </thead>\n",
       "  <tbody>\n",
       "    <tr>\n",
       "      <th>0</th>\n",
       "      <td>0.792116</td>\n",
       "      <td>0.199663</td>\n",
       "      <td>0.951023</td>\n",
       "      <td>0.513817</td>\n",
       "      <td>0.526733</td>\n",
       "      <td>0.061899</td>\n",
       "      <td>1.719958</td>\n",
       "    </tr>\n",
       "    <tr>\n",
       "      <th>1</th>\n",
       "      <td>1.223071</td>\n",
       "      <td>0.510661</td>\n",
       "      <td>1.572657</td>\n",
       "      <td>1.383698</td>\n",
       "      <td>0.286785</td>\n",
       "      <td>0.033174</td>\n",
       "      <td>2.420052</td>\n",
       "    </tr>\n",
       "    <tr>\n",
       "      <th>2</th>\n",
       "      <td>1.658022</td>\n",
       "      <td>0.595432</td>\n",
       "      <td>0.965742</td>\n",
       "      <td>1.266919</td>\n",
       "      <td>0.034847</td>\n",
       "      <td>0.022505</td>\n",
       "      <td>4.219677</td>\n",
       "    </tr>\n",
       "    <tr>\n",
       "      <th>3</th>\n",
       "      <td>0.966301</td>\n",
       "      <td>0.305308</td>\n",
       "      <td>1.015874</td>\n",
       "      <td>0.931569</td>\n",
       "      <td>0.076004</td>\n",
       "      <td>0.037216</td>\n",
       "      <td>1.983191</td>\n",
       "    </tr>\n",
       "    <tr>\n",
       "      <th>4</th>\n",
       "      <td>0.983807</td>\n",
       "      <td>0.497535</td>\n",
       "      <td>0.400642</td>\n",
       "      <td>0.546604</td>\n",
       "      <td>0.069704</td>\n",
       "      <td>0.006718</td>\n",
       "      <td>2.812552</td>\n",
       "    </tr>\n",
       "  </tbody>\n",
       "</table>\n",
       "</div>"
      ],
      "text/plain": [
       "   Neg_Word_Count  Total_Review  Pos_Word_Count  Reviews_givenby_Reviewer  \\\n",
       "0        0.792116      0.199663        0.951023                  0.513817   \n",
       "1        1.223071      0.510661        1.572657                  1.383698   \n",
       "2        1.658022      0.595432        0.965742                  1.266919   \n",
       "3        0.966301      0.305308        1.015874                  0.931569   \n",
       "4        0.983807      0.497535        0.400642                  0.546604   \n",
       "\n",
       "      Score       lat       lng  \n",
       "0  0.526733  0.061899  1.719958  \n",
       "1  0.286785  0.033174  2.420052  \n",
       "2  0.034847  0.022505  4.219677  \n",
       "3  0.076004  0.037216  1.983191  \n",
       "4  0.069704  0.006718  2.812552  "
      ]
     },
     "execution_count": 159,
     "metadata": {},
     "output_type": "execute_result"
    }
   ],
   "source": [
    "ClusterSummaryDistance"
   ]
  },
  {
   "cell_type": "code",
   "execution_count": 179,
   "metadata": {},
   "outputs": [
    {
     "data": {
      "image/png": "[encoded data removed]",
      "text/plain": [
       "<matplotlib.figure.Figure at 0x7fdd79a91b00>"
      ]
     },
     "metadata": {},
     "output_type": "display_data"
    }
   ],
   "source": [
    "plt.pcolor(ClusterSummaryDistance)\n",
    "plt.yticks(np.arange(0.5, len(ClusterSummaryDistance.index), 1), ClusterSummaryDistance.index)\n",
    "plt.xticks(np.arange(0.5, len(ClusterSummaryDistance.columns), 1), ClusterSummaryDistance.columns,rotation=90)\n",
    "plt.title(\"Heat Map Showing Variation of Parameters in Each Cluster\")\n",
    "plt.ylabel(\"Cluster\")\n",
    "plt.xlabel(\"Features\")\n",
    "plt.show()"
   ]
  },
  {
   "cell_type": "code",
   "execution_count": 184,
   "metadata": {},
   "outputs": [],
   "source": [
    "ClusterCentroidSummary=ClusterCentroidSummary.take([1,2,3,4,5,6,7,8],axis=1)\n",
    "column=['Nationality','Neg_Word_Count',\n",
    " 'Total_Review',\n",
    " 'Pos_Word_Count',\n",
    " 'Reviews_givenby_Reviewer',\n",
    " 'Score',\n",
    " 'lat',\n",
    " 'lng']\n",
    "\n",
    "ClusterCentroidSummary.columns=column"
   ]
  },
  {
   "cell_type": "code",
   "execution_count": 185,
   "metadata": {},
   "outputs": [
    {
     "data": {
      "text/html": [
       "<div>\n",
       "<style>\n",
       "    .dataframe thead tr:only-child th {\n",
       "        text-align: right;\n",
       "    }\n",
       "\n",
       "    .dataframe thead th {\n",
       "        text-align: left;\n",
       "    }\n",
       "\n",
       "    .dataframe tbody tr th {\n",
       "        vertical-align: top;\n",
       "    }\n",
       "</style>\n",
       "<table border=\"1\" class=\"dataframe\">\n",
       "  <thead>\n",
       "    <tr style=\"text-align: right;\">\n",
       "      <th></th>\n",
       "      <th>Nationality</th>\n",
       "      <th>Neg_Word_Count</th>\n",
       "      <th>Total_Review</th>\n",
       "      <th>Pos_Word_Count</th>\n",
       "      <th>Reviews_givenby_Reviewer</th>\n",
       "      <th>Score</th>\n",
       "      <th>lat</th>\n",
       "      <th>lng</th>\n",
       "    </tr>\n",
       "  </thead>\n",
       "  <tbody>\n",
       "    <tr>\n",
       "      <th>0</th>\n",
       "      <td>Malaysia</td>\n",
       "      <td>10</td>\n",
       "      <td>7105</td>\n",
       "      <td>9</td>\n",
       "      <td>5</td>\n",
       "      <td>7.9</td>\n",
       "      <td>51.499046</td>\n",
       "      <td>-0.191707</td>\n",
       "    </tr>\n",
       "    <tr>\n",
       "      <th>1</th>\n",
       "      <td>United Kingdom</td>\n",
       "      <td>11</td>\n",
       "      <td>3826</td>\n",
       "      <td>6</td>\n",
       "      <td>1</td>\n",
       "      <td>6.7</td>\n",
       "      <td>51.504348</td>\n",
       "      <td>-0.033444</td>\n",
       "    </tr>\n",
       "    <tr>\n",
       "      <th>2</th>\n",
       "      <td>United Kingdom</td>\n",
       "      <td>6</td>\n",
       "      <td>4802</td>\n",
       "      <td>16</td>\n",
       "      <td>2</td>\n",
       "      <td>10.0</td>\n",
       "      <td>51.527847</td>\n",
       "      <td>-0.088947</td>\n",
       "    </tr>\n",
       "    <tr>\n",
       "      <th>3</th>\n",
       "      <td>Germany</td>\n",
       "      <td>9</td>\n",
       "      <td>2768</td>\n",
       "      <td>10</td>\n",
       "      <td>1</td>\n",
       "      <td>8.3</td>\n",
       "      <td>51.508354</td>\n",
       "      <td>0.019886</td>\n",
       "    </tr>\n",
       "    <tr>\n",
       "      <th>4</th>\n",
       "      <td>Malaysia</td>\n",
       "      <td>20</td>\n",
       "      <td>7491</td>\n",
       "      <td>20</td>\n",
       "      <td>11</td>\n",
       "      <td>8.3</td>\n",
       "      <td>51.510841</td>\n",
       "      <td>-0.078058</td>\n",
       "    </tr>\n",
       "  </tbody>\n",
       "</table>\n",
       "</div>"
      ],
      "text/plain": [
       "        Nationality Neg_Word_Count Total_Review Pos_Word_Count  \\\n",
       "0         Malaysia              10         7105              9   \n",
       "1   United Kingdom              11         3826              6   \n",
       "2   United Kingdom               6         4802             16   \n",
       "3          Germany               9         2768             10   \n",
       "4         Malaysia              20         7491             20   \n",
       "\n",
       "  Reviews_givenby_Reviewer  Score        lat       lng  \n",
       "0                        5    7.9  51.499046 -0.191707  \n",
       "1                        1    6.7  51.504348 -0.033444  \n",
       "2                        2   10.0  51.527847 -0.088947  \n",
       "3                        1    8.3  51.508354  0.019886  \n",
       "4                       11    8.3  51.510841 -0.078058  "
      ]
     },
     "execution_count": 185,
     "metadata": {},
     "output_type": "execute_result"
    }
   ],
   "source": [
    "ClusterCentroidSummary"
   ]
  },
  {
   "cell_type": "code",
   "execution_count": null,
   "metadata": {
    "collapsed": true
   },
   "outputs": [],
   "source": []
  }
 ],
 "metadata": {
  "kernelspec": {
   "display_name": "Python 3",
   "language": "python",
   "name": "python3"
  },
  "language_info": {
   "codemirror_mode": {
    "name": "ipython",
    "version": 3
   },
   "file_extension": ".py",
   "mimetype": "text/x-python",
   "name": "python",
   "nbconvert_exporter": "python",
   "pygments_lexer": "ipython3",
   "version": "3.6.3"
  }
 },
 "nbformat": 4,
 "nbformat_minor": 2
}
