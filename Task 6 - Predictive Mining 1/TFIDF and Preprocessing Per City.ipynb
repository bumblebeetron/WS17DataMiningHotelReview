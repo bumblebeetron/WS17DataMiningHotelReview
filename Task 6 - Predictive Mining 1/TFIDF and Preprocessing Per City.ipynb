{
 "cells": [
  {
   "cell_type": "code",
   "execution_count": 2,
   "metadata": {
    "collapsed": true
   },
   "outputs": [],
   "source": [
    "import numpy as np\n",
    "import pandas as pd\n",
    "import matplotlib.pyplot as plt\n",
    "import scipy.sparse as sps\n",
    "import itertools\n",
    "from sklearn.metrics.pairwise import cosine_similarity\n",
    "from nltk.corpus import stopwords\n",
    "from sklearn.feature_extraction.text import TfidfVectorizer\n",
    "from PIL import Image\n",
    "import re"
   ]
  },
  {
   "cell_type": "code",
   "execution_count": 12,
   "metadata": {
    "collapsed": true
   },
   "outputs": [],
   "source": [
    "englishReviews = pd.read_csv('UKReviewsWordCounted.csv')\n",
    "cities = ['Paris', 'Amsterdam', 'London', 'Milan', 'Barcelona', 'Vienna']\n",
    "nationality = ' United Kingdom '"
   ]
  },
  {
   "cell_type": "code",
   "execution_count": 4,
   "metadata": {
    "collapsed": true
   },
   "outputs": [],
   "source": [
    "wordThreshold = 3"
   ]
  },
  {
   "cell_type": "code",
   "execution_count": 5,
   "metadata": {
    "collapsed": true
   },
   "outputs": [],
   "source": [
    "def wordSplit(rev, stop_words = stopwords.words('English')):\n",
    "    s = [item for sublist in [rev.lower().split() for f in re.findall('\\d+|\\D+',rev.lower())] for item in sublist]\n",
    "    s = [x for x in s if x not in stop_words]\n",
    "    return s\n",
    "\n",
    "def bagOfWordsShingles(review, k=3, stop_words = stopwords.words('English')):\n",
    "    s = wordSplit(review, stop_words)\n",
    "    if len(s) < k:\n",
    "        tokens = ['']\n",
    "        for s_ in s:\n",
    "            tokens[0] += s_ + ' '\n",
    "        tokens[0] = tokens[0][:-1]\n",
    "        return tokens\n",
    "        \n",
    "    tokens = []\n",
    "    for i in range(len(s) - k + 1):\n",
    "        bag = ''\n",
    "        for j in range(i, i + k):\n",
    "            bag += s[j]+' '\n",
    "        tokens.append(bag[:-1])\n",
    "    return tokens\n",
    "\n",
    "def bagOfWordsShingles2(review, k=3, stop_words = stopwords.words('English')):\n",
    "    s = wordSplit(review, stop_words)\n",
    "    tokens = []\n",
    "    for K in range(0,k):\n",
    "        for i in range(len(s) - (k-K) + 1):\n",
    "            bag = ''\n",
    "            for j in range(i, i + k-K):\n",
    "                bag += s[j]+' '\n",
    "            tokens.append(bag[:-1])\n",
    "\n",
    "    return tokens"
   ]
  },
  {
   "cell_type": "code",
   "execution_count": 19,
   "metadata": {},
   "outputs": [
    {
     "name": "stdout",
     "output_type": "stream",
     "text": [
      "City:  Paris\n",
      "    Thresholded BOW3\n",
      "    Thresholded BOW123\n",
      "    Raw BOW3\n",
      "    Raw BOW123\n",
      "City:  Amsterdam\n",
      "    Thresholded BOW3\n",
      "    Thresholded BOW123\n",
      "    Raw BOW3\n",
      "    Raw BOW123\n",
      "City:  London\n",
      "    Thresholded BOW3\n",
      "    Thresholded BOW123\n",
      "    Raw BOW3\n",
      "    Raw BOW123\n",
      "City:  Milan\n",
      "    Thresholded BOW3\n",
      "    Thresholded BOW123\n",
      "    Raw BOW3\n",
      "    Raw BOW123\n",
      "City:  Barcelona\n",
      "    Thresholded BOW3\n",
      "    Thresholded BOW123\n",
      "    Raw BOW3\n",
      "    Raw BOW123\n",
      "City:  Vienna\n",
      "    Thresholded BOW3\n",
      "    Thresholded BOW123\n",
      "    Raw BOW3\n",
      "    Raw BOW123\n"
     ]
    }
   ],
   "source": [
    "for c in cities:\n",
    "    print \"City: \", c\n",
    "    cityRevs = englishReviews.loc[englishReviews['City']==c]\n",
    "    \n",
    "    #Thresholded BOW3\n",
    "    print \"    Thresholded BOW3\"\n",
    "    \n",
    "    thrPosEngRevs = cityRevs.loc[cityRevs['Positive_Processed_Word_Count'] > wordThreshold]['Positive_Review']\n",
    "    thrNegEngRevs = cityRevs.loc[cityRevs['Negative_Processed_Word_Count'] > wordThreshold]['Negative_Review']\n",
    "\n",
    "    allReviews = pd.concat([thrPosEngRevs, thrNegEngRevs])\n",
    "    labels = np.hstack([np.ones(thrPosEngRevs.shape[0]), np.zeros(thrNegEngRevs.shape[0])])\n",
    "    featureMatrix = TfidfVectorizer(stop_words=stopwords.words('English'),tokenizer=bagOfWordsShingles, lowercase=True).fit_transform(allReviews)\n",
    "\n",
    "    sps.save_npz(c+'_UkReviews_Thresholded_BOW3_Features', featureMatrix)\n",
    "    np.savez(c+'_UkReviews_Thresholded_BOW3_Labels',labels)\n",
    "    \n",
    "    #Thresholded BOW123\n",
    "    print \"    Thresholded BOW123\"\n",
    "    \n",
    "    thrPosEngRevs = cityRevs.loc[cityRevs['Positive_Processed_Word_Count'] > wordThreshold]['Positive_Review']\n",
    "    thrNegEngRevs = cityRevs.loc[cityRevs['Negative_Processed_Word_Count'] > wordThreshold]['Negative_Review']\n",
    "\n",
    "    allReviews = pd.concat([thrPosEngRevs, thrNegEngRevs])\n",
    "    labels = np.hstack([np.ones(thrPosEngRevs.shape[0]), np.zeros(thrNegEngRevs.shape[0])])\n",
    "    featureMatrix = TfidfVectorizer(stop_words=stopwords.words('English'),tokenizer=bagOfWordsShingles2, lowercase=True).fit_transform(allReviews)\n",
    "\n",
    "    sps.save_npz(c+'_UkReviews_Thresholded_BOW123_Features', featureMatrix)\n",
    "    np.savez(c+'_UkReviews_Thresholded_BOW123_Labels',labels)\n",
    "    \n",
    "    #Raw BOW3\n",
    "    print \"    Raw BOW3\"\n",
    "    \n",
    "    thrPosEngRevs = cityRevs['Positive_Review']\n",
    "    thrNegEngRevs = cityRevs['Negative_Review']\n",
    "\n",
    "    allReviews = pd.concat([thrPosEngRevs, thrNegEngRevs])\n",
    "    labels = np.hstack([np.ones(thrPosEngRevs.shape[0]), np.zeros(thrNegEngRevs.shape[0])])\n",
    "    featureMatrix = TfidfVectorizer(stop_words=stopwords.words('English'),tokenizer=bagOfWordsShingles, lowercase=True).fit_transform(allReviews)\n",
    "\n",
    "    sps.save_npz(c+'_UkReviews_Raw_BOW3_Features', featureMatrix)\n",
    "    np.savez(c+'_UkReviews_Raw_BOW3_Labels',labels)\n",
    "    \n",
    "    #Raw BOW123\n",
    "    print \"    Raw BOW123\"\n",
    "    \n",
    "    thrPosEngRevs = cityRevs['Positive_Review']\n",
    "    thrNegEngRevs = cityRevs['Negative_Review']\n",
    "\n",
    "    allReviews = pd.concat([thrPosEngRevs, thrNegEngRevs])\n",
    "    labels = np.hstack([np.ones(thrPosEngRevs.shape[0]), np.zeros(thrNegEngRevs.shape[0])])\n",
    "    featureMatrix = TfidfVectorizer(stop_words=stopwords.words('English'),tokenizer=bagOfWordsShingles2, lowercase=True).fit_transform(allReviews)\n",
    "\n",
    "    sps.save_npz(c+'_UkReviews_Raw_BOW123_Features', featureMatrix)\n",
    "    np.savez(c+'_UkReviews_Raw_BOW123_Labels',labels)"
   ]
  }
 ],
 "metadata": {
  "kernelspec": {
   "display_name": "Python 2",
   "language": "python",
   "name": "python2"
  },
  "language_info": {
   "codemirror_mode": {
    "name": "ipython",
    "version": 2
   },
   "file_extension": ".py",
   "mimetype": "text/x-python",
   "name": "python",
   "nbconvert_exporter": "python",
   "pygments_lexer": "ipython2",
   "version": "2.7.13"
  }
 },
 "nbformat": 4,
 "nbformat_minor": 2
}
