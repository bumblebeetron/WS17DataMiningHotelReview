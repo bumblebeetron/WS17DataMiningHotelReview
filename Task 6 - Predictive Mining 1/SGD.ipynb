{
 "cells": [
  {
   "cell_type": "code",
   "execution_count": 1,
   "metadata": {
    "collapsed": true
   },
   "outputs": [],
   "source": [
    "import numpy as np\n",
    "import scipy.sparse as sps\n",
    "import matplotlib.pyplot as plt\n",
    "from sklearn.model_selection import train_test_split\n",
    "from sklearn.preprocessing import normalize, MaxAbsScaler\n",
    "from sklearn.linear_model import LogisticRegression\n",
    "from sklearn.metrics import confusion_matrix\n",
    "from sklearn import svm\n",
    "from sklearn.decomposition import TruncatedSVD\n",
    "from sklearn import linear_model"
   ]
  },
  {
   "cell_type": "code",
   "execution_count": 24,
   "metadata": {
    "collapsed": true
   },
   "outputs": [],
   "source": [
    "def train_test_LR(featMap, trueLabels, testSize=.33):\n",
    "    train, test, train_labels, test_labels = train_test_split(featMap,trueLabels,test_size=testSize,random_state=42)\n",
    "    train = MaxAbsScaler().fit_transform(train)\n",
    "    test = MaxAbsScaler().fit_transform(test)\n",
    "    \n",
    "    clf = linear_model.SGDClassifier()#(verbose=True)\n",
    "    clf.fit(train, train_labels)\n",
    "    test_predict = clf.predict(test)\n",
    "    \n",
    "    confMat = confusion_matrix(test_labels,test_predict).astype(float)\n",
    "    normConfMat = confMat.copy()\n",
    "    normConfMat[0,:] /= confMat[0,:].sum()\n",
    "    normConfMat[1,:] /= confMat[1,:].sum()\n",
    "    return confMat, normConfMat, clf.score(test, test_labels)"
   ]
  },
  {
   "cell_type": "code",
   "execution_count": 3,
   "metadata": {
    "collapsed": true
   },
   "outputs": [],
   "source": [
    "city = 'London_'\n",
    "prefix = './Datasets/'\n",
    "datasets1 = [prefix + '3WordThresholdedEnglishReviews', \n",
    "             prefix + '3WordThresholdedEnglishReviews_k123', \n",
    "             prefix + 'EnglishReviews', \n",
    "             prefix + 'EnglishReviews_k123']\n",
    "\n",
    "prefix = './Datasets_City/'+city\n",
    "datasets2 = [prefix + 'UkReviews_Thresholded_BOW3', \n",
    "             prefix + 'UkReviews_Thresholded_BOW123', \n",
    "             prefix + 'UkReviews_Raw_BOW3', \n",
    "             prefix + 'UkReviews_Raw_BOW123']"
   ]
  },
  {
   "cell_type": "markdown",
   "metadata": {},
   "source": [
    "# For the Entire Dataset"
   ]
  },
  {
   "cell_type": "code",
   "execution_count": 26,
   "metadata": {},
   "outputs": [
    {
     "name": "stdout",
     "output_type": "stream",
     "text": [
      "\n",
      "\n",
      "\n",
      "Loading and normalizing dataset: ./Datasets_City/London_UkReviews_Thresholded_BOW3\n",
      "SGD on ./Datasets_City/London_UkReviews_Thresholded_BOW3\n",
      "    Normalized Confusion Matrix:\n",
      "     0.651887717966 0.348112282034\n",
      "     0.0410298282769 0.958970171723\n",
      "    Accuracy:  0.821895747987\n",
      "\n",
      "\n",
      "\n",
      "Loading and normalizing dataset: ./Datasets_City/London_UkReviews_Thresholded_BOW123\n",
      "SGD on ./Datasets_City/London_UkReviews_Thresholded_BOW123\n",
      "    Normalized Confusion Matrix:\n",
      "     0.963448210386 0.0365517896136\n",
      "     0.0563139496313 0.943686050369\n",
      "    Accuracy:  0.952507416302\n",
      "\n",
      "\n",
      "\n",
      "Loading and normalizing dataset: ./Datasets_City/London_UkReviews_Raw_BOW3\n",
      "SGD on ./Datasets_City/London_UkReviews_Raw_BOW3\n",
      "    Normalized Confusion Matrix:\n",
      "     0.455207963029 0.544792036971\n",
      "     0.01412123685 0.98587876315\n",
      "    Accuracy:  0.720800149162\n",
      "\n",
      "\n",
      "\n",
      "Loading and normalizing dataset: ./Datasets_City/London_UkReviews_Raw_BOW123\n",
      "SGD on ./Datasets_City/London_UkReviews_Raw_BOW123\n",
      "    Normalized Confusion Matrix:\n",
      "     0.958229648063 0.0417703519374\n",
      "     0.0706239244975 0.929376075502\n",
      "    Accuracy:  0.943788899839\n"
     ]
    }
   ],
   "source": [
    "results = []\n",
    "for i in range(len(datasets1)):\n",
    "    min_max_scaler = MaxAbsScaler()\n",
    "    print \"\\n\\n\"\n",
    "    print \"Loading and normalizing dataset: \"+ datasets2[i]\n",
    "    featureMatrix = sps.load_npz(datasets2[i]+'_Features.npz')\n",
    "    #featureMatrix = min_max_scaler.fit_transform(featureMatrix)\n",
    "    labels = np.load(datasets2[i]+'_Labels.npz')['arr_0']\n",
    "    print \"SGD on \"+ datasets2[i]\n",
    "    cm, ncm, sc = train_test_LR(featureMatrix, labels)\n",
    "    print \"    Normalized Confusion Matrix:\"\n",
    "    print \"    \", ncm[0,0], ncm[0,1]\n",
    "    print \"    \", ncm[1,0], ncm[1,1]\n",
    "    print \"    Accuracy: \", sc\n",
    "    results.append([datasets2[i], cm.copy(), ncm.copy(), sc])"
   ]
  },
  {
   "cell_type": "markdown",
   "metadata": {},
   "source": [
    "# For Cities"
   ]
  },
  {
   "cell_type": "code",
   "execution_count": 25,
   "metadata": {},
   "outputs": [
    {
     "name": "stdout",
     "output_type": "stream",
     "text": [
      "\n",
      "\n",
      "\n",
      "Loading and normalizing dataset: ./Datasets_City/London_UkReviews_Thresholded_BOW3\n",
      "SGD on ./Datasets_City/London_UkReviews_Thresholded_BOW3\n",
      "    Normalized Confusion Matrix:\n",
      "     0.630652868762 0.369347131238\n",
      "     0.0374575795463 0.962542420454\n",
      "    Accuracy:  0.814394688515\n",
      "\n",
      "\n",
      "\n",
      "Loading and normalizing dataset: ./Datasets_City/London_UkReviews_Thresholded_BOW123\n",
      "SGD on ./Datasets_City/London_UkReviews_Thresholded_BOW123\n",
      "    Normalized Confusion Matrix:\n",
      "     0.963131744675 0.0368682553245\n",
      "     0.0568753030032 0.943124696997\n",
      "    Accuracy:  0.952055375053\n",
      "\n",
      "\n",
      "\n",
      "Loading and normalizing dataset: ./Datasets_City/London_UkReviews_Raw_BOW3\n",
      "SGD on ./Datasets_City/London_UkReviews_Raw_BOW3\n",
      "    Normalized Confusion Matrix:\n",
      "     0.457767507999 0.542232492001\n",
      "     0.0141921978392 0.985807802161\n",
      "    Accuracy:  0.722043168278\n",
      "\n",
      "\n",
      "\n",
      "Loading and normalizing dataset: ./Datasets_City/London_UkReviews_Raw_BOW123\n",
      "SGD on ./Datasets_City/London_UkReviews_Raw_BOW123\n",
      "    Normalized Confusion Matrix:\n",
      "     0.957891930323 0.0421080696765\n",
      "     0.0701449378204 0.92985506218\n",
      "    Accuracy:  0.943859929503\n"
     ]
    }
   ],
   "source": [
    "results = []\n",
    "for i in range(len(datasets2)):\n",
    "    min_max_scaler = MaxAbsScaler()\n",
    "    print \"\\n\\n\"\n",
    "    print \"Loading and normalizing dataset: \"+ datasets2[i]\n",
    "    featureMatrix = sps.load_npz(datasets2[i]+'_Features.npz')\n",
    "    #featureMatrix = min_max_scaler.fit_transform(featureMatrix)\n",
    "    labels = np.load(datasets2[i]+'_Labels.npz')['arr_0']\n",
    "    print \"SGD on \"+ datasets2[i]\n",
    "    cm, ncm, sc = train_test_LR(featureMatrix, labels)\n",
    "    print \"    Normalized Confusion Matrix:\"\n",
    "    print \"    \", ncm[0,0], ncm[0,1]\n",
    "    print \"    \", ncm[1,0], ncm[1,1]\n",
    "    print \"    Accuracy: \", sc\n",
    "    results.append([datasets2[i], cm.copy(), ncm.copy(), sc])"
   ]
  }
 ],
 "metadata": {
  "kernelspec": {
   "display_name": "Python 2",
   "language": "python",
   "name": "python2"
  },
  "language_info": {
   "codemirror_mode": {
    "name": "ipython",
    "version": 2
   },
   "file_extension": ".py",
   "mimetype": "text/x-python",
   "name": "python",
   "nbconvert_exporter": "python",
   "pygments_lexer": "ipython2",
   "version": "2.7.13"
  }
 },
 "nbformat": 4,
 "nbformat_minor": 2
}
