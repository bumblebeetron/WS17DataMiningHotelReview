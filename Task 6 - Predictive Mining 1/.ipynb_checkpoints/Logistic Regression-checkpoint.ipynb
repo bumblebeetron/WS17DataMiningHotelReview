{
 "cells": [
  {
   "cell_type": "code",
   "execution_count": 83,
   "metadata": {},
   "outputs": [],
   "source": [
    "import numpy as np\n",
    "import scipy.sparse as sps\n",
    "import matplotlib.pyplot as plt\n",
    "from sklearn.decomposition import TruncatedSVD\n",
    "from sklearn.model_selection import train_test_split\n",
    "from sklearn.feature_selection import SelectKBest\n",
    "from sklearn.feature_selection import chi2\n",
    "from sklearn.preprocessing import normalize, MaxAbsScaler\n",
    "from sklearn.feature_selection import VarianceThreshold\n",
    "from sklearn.linear_model import LogisticRegression\n",
    "from sklearn.metrics import confusion_matrix"
   ]
  },
  {
   "cell_type": "code",
   "execution_count": 197,
   "metadata": {
    "collapsed": true
   },
   "outputs": [],
   "source": [
    "def train_test_LR(featMap, trueLabels, testSize=.33):\n",
    "    train, test, train_labels, test_labels = train_test_split(featMap,trueLabels,test_size=testSize,random_state=42)\n",
    "    lreg = LogisticRegression(tol=0.001)\n",
    "    lreg.fit(train,train_labels)\n",
    "    test_predict = lreg.predict(test)\n",
    "    confMat = confusion_matrix(test_labels,test_predict).astype(float)\n",
    "    normConfMat = confMat.copy()\n",
    "    normConfMat[0,:] /= confMat[0,:].sum()\n",
    "    normConfMat[1,:] /= confMat[1,:].sum()\n",
    "    return confMat, normConfMat, lreg.score(test, test_labels)"
   ]
  },
  {
   "cell_type": "code",
   "execution_count": 166,
   "metadata": {
    "collapsed": true
   },
   "outputs": [],
   "source": [
    "datasets=['3WordThresholdedEnglishReviews', '3WordThresholdedEnglishReviews_k123', 'EnglishReviews', 'EnglishReviews_k123']"
   ]
  },
  {
   "cell_type": "code",
   "execution_count": 198,
   "metadata": {},
   "outputs": [
    {
     "name": "stdout",
     "output_type": "stream",
     "text": [
      "\n",
      "\n",
      "\n",
      "Loading and normalizing dataset: 3WordThresholdedEnglishReviews\n",
      "LR on 3WordThresholdedEnglishReviews\n",
      "    Normalized Confusion Matrix:\n",
      "     0.900292992776 0.0997070072242\n",
      "     0.122076586996 0.877923413004\n",
      "    Accuracy:  0.887626605611\n",
      "\n",
      "\n",
      "\n",
      "Loading and normalizing dataset: 3WordThresholdedEnglishReviews_k123\n",
      "LR on 3WordThresholdedEnglishReviews_k123\n",
      "    Normalized Confusion Matrix:\n",
      "     0.960993938852 0.0390060611483\n",
      "     0.0526685513578 0.947331448642\n",
      "    Accuracy:  0.953257790368\n",
      "\n",
      "\n",
      "\n",
      "Loading and normalizing dataset: EnglishReviews\n",
      "LR on EnglishReviews\n",
      "    Normalized Confusion Matrix:\n",
      "     0.771038346181 0.228961653819\n",
      "     0.0432881234833 0.956711876517\n",
      "    Accuracy:  0.864156725132\n",
      "\n",
      "\n",
      "\n",
      "Loading and normalizing dataset: EnglishReviews_k123\n",
      "LR on EnglishReviews_k123\n",
      "    Normalized Confusion Matrix:\n",
      "     0.959658428972 0.0403415710284\n",
      "     0.0631829212708 0.936817078729\n",
      "    Accuracy:  0.948203110038\n"
     ]
    }
   ],
   "source": [
    "results = []\n",
    "for i in range(len(datasets)):\n",
    "    min_max_scaler = MaxAbsScaler()\n",
    "    print \"\\n\\n\"\n",
    "    print \"Loading and normalizing dataset: \"+ datasets[i]\n",
    "    featureMatrix = sps.load_npz('./Datasets/'+datasets[i]+'_Features.npz')\n",
    "    featureMatrix = min_max_scaler.fit_transform(featureMatrix)\n",
    "    labels = np.load('./Datasets/'+datasets[i]+'_Labels.npz')['arr_0']\n",
    "    print \"LR on \"+ datasets[i]\n",
    "    cm, ncm, sc = train_test_LR(featureMatrix, labels)\n",
    "    print \"    Normalized Confusion Matrix:\"\n",
    "    print \"    \", ncm[0,0], ncm[0,1]\n",
    "    print \"    \", ncm[1,0], ncm[1,1]\n",
    "    print \"    Accuracy: \", sc\n",
    "    results.append([datasets[i], cm.copy(), ncm.copy(), sc])"
   ]
  }
 ],
 "metadata": {
  "kernelspec": {
   "display_name": "Python 2",
   "language": "python",
   "name": "python2"
  },
  "language_info": {
   "codemirror_mode": {
    "name": "ipython",
    "version": 2
   },
   "file_extension": ".py",
   "mimetype": "text/x-python",
   "name": "python",
   "nbconvert_exporter": "python",
   "pygments_lexer": "ipython2",
   "version": "2.7.13"
  }
 },
 "nbformat": 4,
 "nbformat_minor": 2
}
