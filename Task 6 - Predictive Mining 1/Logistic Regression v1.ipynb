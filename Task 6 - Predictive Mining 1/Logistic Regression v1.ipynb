{
 "cells": [
  {
   "cell_type": "code",
   "execution_count": null,
   "metadata": {
    "collapsed": true
   },
   "outputs": [],
   "source": [
    "import numpy as np\n",
    "import scipy.sparse as sps\n",
    "import matplotlib.pyplot as plt\n",
    "from sklearn.model_selection import train_test_split\n",
    "from sklearn.preprocessing import normalize, MaxAbsScaler\n",
    "from sklearn.linear_model import LogisticRegression\n",
    "from sklearn.metrics import confusion_matrix"
   ]
  },
  {
   "cell_type": "code",
   "execution_count": 2,
   "metadata": {
    "collapsed": true
   },
   "outputs": [],
   "source": [
    "def train_test_LR(featMap, trueLabels, testSize=.33):\n",
    "    train, test, train_labels, test_labels = train_test_split(featMap,trueLabels,test_size=testSize,random_state=42)\n",
    "    train = MaxAbsScaler().fit_transform(train)\n",
    "    test = MaxAbsScaler().fit_transform(test)\n",
    "    \n",
    "    lreg = LogisticRegression(tol=0.001)\n",
    "    lreg.fit(train,train_labels)\n",
    "    test_predict = lreg.predict(test)\n",
    "    confMat = confusion_matrix(test_labels,test_predict).astype(float)\n",
    "    normConfMat = confMat.copy()\n",
    "    normConfMat[0,:] /= confMat[0,:].sum()\n",
    "    normConfMat[1,:] /= confMat[1,:].sum()\n",
    "    return confMat, normConfMat, lreg.score(test, test_labels)"
   ]
  },
  {
   "cell_type": "code",
   "execution_count": 7,
   "metadata": {
    "collapsed": true
   },
   "outputs": [],
   "source": [
    "prefix = './Datasets/'\n",
    "datasets1 = [prefix + '3WordThresholdedEnglishReviews', \n",
    "             prefix + '3WordThresholdedEnglishReviews_k123', \n",
    "             prefix + 'EnglishReviews', \n",
    "             prefix + 'EnglishReviews_k123']\n",
    "\n",
    "prefix = './Datasets_2/'\n",
    "datasets2 = [prefix + 'UkReviews_Thresholded_BOW3', \n",
    "             prefix + 'UkReviews_Thresholded_BOW123', \n",
    "             prefix + 'UkReviews_Raw_BOW3', \n",
    "             prefix + 'UkReviews_Raw_BOW123']"
   ]
  },
  {
   "cell_type": "code",
   "execution_count": 8,
   "metadata": {},
   "outputs": [
    {
     "name": "stdout",
     "output_type": "stream",
     "text": [
      "\n",
      "\n",
      "\n",
      "Loading and normalizing dataset: ./Datasets/3WordThresholdedEnglishReviews\n",
      "LR on ./Datasets/3WordThresholdedEnglishReviews\n",
      "    Normalized Confusion Matrix:\n",
      "     0.900411136435 0.0995888635653\n",
      "     0.122102592237 0.877897407763\n",
      "    Accuracy:  0.887671950486\n",
      "\n",
      "\n",
      "\n",
      "Loading and normalizing dataset: ./Datasets/3WordThresholdedEnglishReviews_k123\n",
      "LR on ./Datasets/3WordThresholdedEnglishReviews_k123\n",
      "    Normalized Confusion Matrix:\n",
      "     0.960696250614 0.0393037493855\n",
      "     0.0522562062817 0.947743793718\n",
      "    Accuracy:  0.953367222211\n",
      "\n",
      "\n",
      "\n",
      "Loading and normalizing dataset: ./Datasets/EnglishReviews\n",
      "LR on ./Datasets/EnglishReviews\n",
      "    Normalized Confusion Matrix:\n",
      "     0.786778375431 0.213221624569\n",
      "     0.0475134582456 0.952486541754\n",
      "    Accuracy:  0.869883790613\n",
      "\n",
      "\n",
      "\n",
      "Loading and normalizing dataset: ./Datasets/EnglishReviews_k123\n",
      "LR on ./Datasets/EnglishReviews_k123\n",
      "    Normalized Confusion Matrix:\n",
      "     0.958877624371 0.041122375629\n",
      "     0.0634416152358 0.936558384764\n",
      "    Accuracy:  0.947684152648\n"
     ]
    }
   ],
   "source": [
    "results = []\n",
    "for i in range(len(datasets)):\n",
    "    min_max_scaler = MaxAbsScaler()\n",
    "    print \"\\n\\n\"\n",
    "    print \"Loading and normalizing dataset: \"+ datasets[i]\n",
    "    featureMatrix = sps.load_npz(datasets2[i]+'_Features.npz')\n",
    "    #featureMatrix = min_max_scaler.fit_transform(featureMatrix)\n",
    "    labels = np.load(datasets2[i]+'_Labels.npz')['arr_0']\n",
    "    print \"LR on \"+ datasets[i]\n",
    "    cm, ncm, sc = train_test_LR(featureMatrix, labels)\n",
    "    print \"    Normalized Confusion Matrix:\"\n",
    "    print \"    \", ncm[0,0], ncm[0,1]\n",
    "    print \"    \", ncm[1,0], ncm[1,1]\n",
    "    print \"    Accuracy: \", sc\n",
    "    results.append([datasets[i], cm.copy(), ncm.copy(), sc])"
   ]
  }
 ],
 "metadata": {
  "kernelspec": {
   "display_name": "Python 2",
   "language": "python",
   "name": "python2"
  },
  "language_info": {
   "codemirror_mode": {
    "name": "ipython",
    "version": 2
   },
   "file_extension": ".py",
   "mimetype": "text/x-python",
   "name": "python",
   "nbconvert_exporter": "python",
   "pygments_lexer": "ipython2",
   "version": "2.7.13"
  }
 },
 "nbformat": 4,
 "nbformat_minor": 2
}
