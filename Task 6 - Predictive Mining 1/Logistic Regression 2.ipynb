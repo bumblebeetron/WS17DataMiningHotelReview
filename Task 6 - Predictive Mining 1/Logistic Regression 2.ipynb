{
 "cells": [
  {
   "cell_type": "code",
   "execution_count": 16,
   "metadata": {
    "collapsed": true
   },
   "outputs": [],
   "source": [
    "import itertools\n",
    "import numpy as np\n",
    "import matplotlib.pyplot as plt\n",
    "import scipy.sparse as sps\n",
    "import matplotlib.pyplot as plt\n",
    "from sklearn.model_selection import train_test_split\n",
    "from sklearn.preprocessing import normalize, MaxAbsScaler\n",
    "from sklearn.linear_model import LogisticRegression\n",
    "from sklearn.metrics import confusion_matrix\n",
    "from pylab import rcParams"
   ]
  },
  {
   "cell_type": "code",
   "execution_count": 35,
   "metadata": {
    "collapsed": true
   },
   "outputs": [],
   "source": [
    "def plot_confusion_matrix(cm, classes,\n",
    "                          normalize=False,\n",
    "                          title='Confusion matrix',\n",
    "                          cmap=plt.cm.Blues):\n",
    "    \"\"\"\n",
    "    This function prints and plots the confusion matrix.\n",
    "    Normalization can be applied by setting `normalize=True`.\n",
    "    \"\"\"\n",
    "    #rcParams['figure.figsize'] = 6, 6\n",
    "    \n",
    "    if normalize:\n",
    "        cm = cm.astype('float') / cm.sum(axis=1)[:, np.newaxis]\n",
    "        print(\"Normalized confusion matrix\")\n",
    "    else:\n",
    "        print('Confusion matrix, without normalization')\n",
    "\n",
    "    print(cm)\n",
    "\n",
    "    plt.imshow(cm, interpolation='nearest', cmap=cmap)\n",
    "    plt.title(title)\n",
    "    #plt.colorbar()\n",
    "    tick_marks = np.arange(len(classes))\n",
    "    plt.xticks(tick_marks, classes, rotation=45)\n",
    "    plt.yticks(tick_marks, classes)\n",
    "\n",
    "    fmt = '.2f' if normalize else 'd'\n",
    "    thresh = cm.max() / 2.\n",
    "    for i, j in itertools.product(range(cm.shape[0]), range(cm.shape[1])):\n",
    "        plt.text(j, i, format(cm[i, j], fmt),\n",
    "                 horizontalalignment=\"center\",\n",
    "                 color=\"white\" if cm[i, j] > thresh else \"black\")\n",
    "\n",
    "    plt.tight_layout()\n",
    "    plt.ylabel('True label')\n",
    "    plt.xlabel('Predicted label')"
   ]
  },
  {
   "cell_type": "code",
   "execution_count": 7,
   "metadata": {
    "collapsed": true
   },
   "outputs": [],
   "source": [
    "def train_test_LR(featMap, trueLabels, testSize=.33):\n",
    "    train, test, train_labels, test_labels = train_test_split(featMap,trueLabels,test_size=testSize,random_state=42)\n",
    "    train = MaxAbsScaler().fit_transform(train)\n",
    "    test = MaxAbsScaler().fit_transform(test)\n",
    "    \n",
    "    lreg = LogisticRegression(tol=0.001)\n",
    "    lreg.fit(train,train_labels)\n",
    "    test_predict = lreg.predict(test)\n",
    "    \n",
    "    confMat = confusion_matrix(test_labels,test_predict).astype(float)\n",
    "    normConfMat = confMat.copy()\n",
    "    normConfMat[0,:] /= confMat[0,:].sum()\n",
    "    normConfMat[1,:] /= confMat[1,:].sum()\n",
    "    return confMat, normConfMat, lreg.score(test, test_labels)"
   ]
  },
  {
   "cell_type": "code",
   "execution_count": 41,
   "metadata": {
    "collapsed": true
   },
   "outputs": [],
   "source": [
    "city = 'Barcelona_'\n",
    "cname =\"Barcelona\"\n",
    "prefix = './Datasets/'\n",
    "datasets1 = [prefix + '3WordThresholdedEnglishReviews', \n",
    "             prefix + '3WordThresholdedEnglishReviews_k123', \n",
    "             prefix + 'EnglishReviews', \n",
    "             prefix + 'EnglishReviews_k123']\n",
    "\n",
    "prefix = './Datasets_City/'+city\n",
    "datasets2 = [prefix + 'UkReviews_Thresholded_BOW3', \n",
    "             prefix + 'UkReviews_Thresholded_BOW123', \n",
    "             prefix + 'UkReviews_Raw_BOW3', \n",
    "             prefix + 'UkReviews_Raw_BOW123']\n",
    "figNames = [ 'Uk Reviews Thresholded BOW3', \n",
    "             'Uk Reviews Thresholded BOW123', \n",
    "             'Uk Reviews Raw BOW3', \n",
    "             'Uk Reviews Raw BOW123']"
   ]
  },
  {
   "cell_type": "markdown",
   "metadata": {},
   "source": [
    "# For the Entire Dataset"
   ]
  },
  {
   "cell_type": "code",
   "execution_count": 42,
   "metadata": {},
   "outputs": [
    {
     "name": "stdout",
     "output_type": "stream",
     "text": [
      "\n",
      "\n",
      "\n",
      "Loading and normalizing dataset: ./Datasets_City/Barcelona_UkReviews_Thresholded_BOW3\n",
      "LR on ./Datasets_City/Barcelona_UkReviews_Thresholded_BOW3\n",
      "Normalized confusion matrix\n",
      "[[ 0.2771855   0.7228145 ]\n",
      " [ 0.01171439  0.98828561]]\n",
      "\n",
      "\n",
      "\n",
      "Loading and normalizing dataset: ./Datasets_City/Barcelona_UkReviews_Thresholded_BOW123\n",
      "LR on ./Datasets_City/Barcelona_UkReviews_Thresholded_BOW123\n",
      "Normalized confusion matrix\n",
      "[[ 0.93949893  0.06050107]\n",
      " [ 0.05243585  0.94756415]]\n",
      "\n",
      "\n",
      "\n",
      "Loading and normalizing dataset: ./Datasets_City/Barcelona_UkReviews_Raw_BOW3\n",
      "LR on ./Datasets_City/Barcelona_UkReviews_Raw_BOW3\n",
      "Normalized confusion matrix\n",
      "[[ 0.54112177  0.45887823]\n",
      " [ 0.02000584  0.97999416]]\n",
      "\n",
      "\n",
      "\n",
      "Loading and normalizing dataset: ./Datasets_City/Barcelona_UkReviews_Raw_BOW123\n",
      "LR on ./Datasets_City/Barcelona_UkReviews_Raw_BOW123\n",
      "Normalized confusion matrix\n",
      "[[ 0.9405696   0.0594304 ]\n",
      " [ 0.05724299  0.94275701]]\n"
     ]
    }
   ],
   "source": [
    "results = []\n",
    "for i in range(len(datasets1)):\n",
    "    min_max_scaler = MaxAbsScaler()\n",
    "    print \"\\n\\n\"\n",
    "    print \"Loading and normalizing dataset: \"+ datasets2[i]\n",
    "    featureMatrix = sps.load_npz(datasets2[i]+'_Features.npz')\n",
    "    #featureMatrix = min_max_scaler.fit_transform(featureMatrix)\n",
    "    labels = np.load(datasets2[i]+'_Labels.npz')['arr_0']\n",
    "    print \"LR on \"+ datasets2[i]\n",
    "    cm, ncm, sc = train_test_LR(featureMatrix, labels)\n",
    "    #print \"    Normalized Confusion Matrix:\"\n",
    "    #print \"    \", ncm[0,0], ncm[0,1]\n",
    "    #print \"    \", ncm[1,0], ncm[1,1]\n",
    "    #print \"    Accuracy: \", sc\n",
    "    results.append([datasets2[i], cm.copy(), ncm.copy(), sc])\n",
    "    \n",
    "    #plt.figure()\n",
    "    plot_confusion_matrix(cm, classes=['Positive', 'Negative'], normalize=True,title='Normalized confusion matrix '+ figNames[i])\n",
    "    #plt.show()\n",
    "    plt.savefig(figNames[i]+'.png', bbox_inches='tight')\n",
    "    #plt.show()\n",
    "    plt.clf()"
   ]
  },
  {
   "cell_type": "markdown",
   "metadata": {},
   "source": [
    "# For Cities"
   ]
  },
  {
   "cell_type": "code",
   "execution_count": 40,
   "metadata": {},
   "outputs": [
    {
     "name": "stdout",
     "output_type": "stream",
     "text": [
      "\n",
      "\n",
      "\n",
      "Loading and normalizing dataset: ./Datasets_City/London_UkReviews_Thresholded_BOW3\n",
      "SGD on ./Datasets_City/London_UkReviews_Thresholded_BOW3\n",
      "    Normalized Confusion Matrix:\n",
      "     0.693756131523 0.306243868477\n",
      "     0.0505728356 0.9494271644\n",
      "    Accuracy:  0.835301596271\n",
      "Normalized confusion matrix\n",
      "[[ 0.69375613  0.30624387]\n",
      " [ 0.05057284  0.94942716]]\n",
      "\n",
      "\n",
      "\n",
      "Loading and normalizing dataset: ./Datasets_City/London_UkReviews_Thresholded_BOW123\n",
      "SGD on ./Datasets_City/London_UkReviews_Thresholded_BOW123\n",
      "    Normalized Confusion Matrix:\n",
      "     0.963068451533 0.0369315484667\n",
      "     0.0572580439387 0.942741956061\n",
      "    Accuracy:  0.95181522814\n",
      "Normalized confusion matrix\n",
      "[[ 0.96306845  0.03693155]\n",
      " [ 0.05725804  0.94274196]]\n",
      "\n",
      "\n",
      "\n",
      "Loading and normalizing dataset: ./Datasets_City/London_UkReviews_Raw_BOW3\n",
      "SGD on ./Datasets_City/London_UkReviews_Raw_BOW3\n",
      "    Normalized Confusion Matrix:\n",
      "     0.749555634554 0.250444365446\n",
      "     0.0432862034097 0.95671379659\n",
      "    Accuracy:  0.853234957249\n",
      "Normalized confusion matrix\n",
      "[[ 0.74955563  0.25044437]\n",
      " [ 0.0432862   0.9567138 ]]\n",
      "\n",
      "\n",
      "\n",
      "Loading and normalizing dataset: ./Datasets_City/London_UkReviews_Raw_BOW123\n",
      "SGD on ./Datasets_City/London_UkReviews_Raw_BOW123\n",
      "    Normalized Confusion Matrix:\n",
      "     0.956701030928 0.0432989690722\n",
      "     0.064840603878 0.935159396122\n",
      "    Accuracy:  0.945919789752\n",
      "Normalized confusion matrix\n",
      "[[ 0.95670103  0.04329897]\n",
      " [ 0.0648406   0.9351594 ]]\n"
     ]
    }
   ],
   "source": [
    "results = []\n",
    "for i in range(len(datasets2)):\n",
    "    min_max_scaler = MaxAbsScaler()\n",
    "    print \"\\n\\n\"\n",
    "    print \"Loading and normalizing dataset: \"+ datasets2[i]\n",
    "    featureMatrix = sps.load_npz(datasets2[i]+'_Features.npz')\n",
    "    #featureMatrix = min_max_scaler.fit_transform(featureMatrix)\n",
    "    labels = np.load(datasets2[i]+'_Labels.npz')['arr_0']\n",
    "    print \"SGD on \"+ datasets2[i]\n",
    "    cm, ncm, sc = train_test_LR(featureMatrix, labels)\n",
    "    print \"    Normalized Confusion Matrix:\"\n",
    "    print \"    \", ncm[0,0], ncm[0,1]\n",
    "    print \"    \", ncm[1,0], ncm[1,1]\n",
    "    print \"    Accuracy: \", sc\n",
    "    results.append([datasets2[i], cm.copy(), ncm.copy(), sc])\n",
    "    \n",
    "    #plt.figure()\n",
    "    plot_confusion_matrix(cm, classes=['Positive', 'Negative'], normalize=True,title=cname + ' Normalized confusion matrix '+ figNames[i])\n",
    "    #plt.show()\n",
    "    plt.savefig(cname + ' Normalized confusion matrix '+ figNames[i] + '.png', bbox_inches='tight')\n",
    "    #plt.show()\n",
    "    plt.clf()"
   ]
  }
 ],
 "metadata": {
  "kernelspec": {
   "display_name": "Python 2",
   "language": "python",
   "name": "python2"
  },
  "language_info": {
   "codemirror_mode": {
    "name": "ipython",
    "version": 2
   },
   "file_extension": ".py",
   "mimetype": "text/x-python",
   "name": "python",
   "nbconvert_exporter": "python",
   "pygments_lexer": "ipython2",
   "version": "2.7.13"
  }
 },
 "nbformat": 4,
 "nbformat_minor": 2
}
