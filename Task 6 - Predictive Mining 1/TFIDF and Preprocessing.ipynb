{
 "cells": [
  {
   "cell_type": "markdown",
   "metadata": {},
   "source": [
    "# This is the code for constructing the TF-IDF vector for classification"
   ]
  },
  {
   "cell_type": "code",
   "execution_count": 1,
   "metadata": {
    "collapsed": true
   },
   "outputs": [],
   "source": [
    "import numpy as np\n",
    "import pandas as pd\n",
    "import matplotlib.pyplot as plt\n",
    "import scipy.sparse as sps\n",
    "import itertools\n",
    "from sklearn.metrics.pairwise import cosine_similarity\n",
    "from nltk.corpus import stopwords\n",
    "from sklearn.feature_extraction.text import TfidfVectorizer\n",
    "from PIL import Image\n",
    "import re"
   ]
  },
  {
   "cell_type": "code",
   "execution_count": 2,
   "metadata": {
    "collapsed": true
   },
   "outputs": [],
   "source": [
    "hotelReviews = pd.read_csv('C:/Users/deniz/Documents/HotelReviewsCountryCity.csv')\n",
    "cities = ['Paris', 'Amsterdam', 'London', 'Milan', 'Barcelona', 'Vienna']\n",
    "nationality = ' United Kingdom '"
   ]
  },
  {
   "cell_type": "markdown",
   "metadata": {},
   "source": [
    "## This parameter represents the threshold for word count. \n",
    "## Note that 3 means reviews with MORE than 3 words will be in the dataset"
   ]
  },
  {
   "cell_type": "code",
   "execution_count": 3,
   "metadata": {
    "collapsed": true
   },
   "outputs": [],
   "source": [
    "wordThreshold = 3"
   ]
  },
  {
   "cell_type": "markdown",
   "metadata": {},
   "source": [
    "## This is the split and Bag-Of-Words Shingling functions\n",
    "## Change k according to your wish. But 3-shingles should work fine for English Language"
   ]
  },
  {
   "cell_type": "code",
   "execution_count": 4,
   "metadata": {
    "collapsed": true
   },
   "outputs": [],
   "source": [
    "def wordSplit(rev, stop_words = stopwords.words('English')):\n",
    "    s = [item for sublist in [rev.lower().split() for f in re.findall('\\d+|\\D+',rev.lower())] for item in sublist]\n",
    "    s = [x for x in s if x not in stop_words]\n",
    "    return s\n",
    "\n",
    "def bagOfWordsShingles(review, k=3, stop_words = stopwords.words('English')):\n",
    "    s = wordSplit(review, stop_words)\n",
    "    if len(s) < k:\n",
    "        tokens = ['']\n",
    "        for s_ in s:\n",
    "            tokens[0] += s_ + ' '\n",
    "        tokens[0] = tokens[0][:-1]\n",
    "        return tokens\n",
    "        \n",
    "    tokens = []\n",
    "    for i in range(len(s) - k + 1):\n",
    "        bag = ''\n",
    "        for j in range(i, i + k):\n",
    "            bag += s[j]+' '\n",
    "        tokens.append(bag[:-1])\n",
    "    return tokens\n",
    "\n",
    "def bagOfWordsShingles2(review, k=3, stop_words = stopwords.words('English')):\n",
    "    s = wordSplit(review, stop_words)\n",
    "    tokens = []\n",
    "    for K in range(0,k):\n",
    "        for i in range(len(s) - (k-K) + 1):\n",
    "            bag = ''\n",
    "            for j in range(i, i + k-K):\n",
    "                bag += s[j]+' '\n",
    "            tokens.append(bag[:-1])\n",
    "\n",
    "    return tokens"
   ]
  },
  {
   "cell_type": "code",
   "execution_count": 5,
   "metadata": {
    "collapsed": true
   },
   "outputs": [],
   "source": [
    "#englishReviews = hotelReviews.loc[(hotelReviews['Reviewer_Nationality']==nationality) & (hotelReviews['City']=='Barcelona')]\n",
    "englishReviews = hotelReviews.loc[(hotelReviews['Reviewer_Nationality']==nationality)]\n",
    "#posEnglishReviews = englishReviews.loc[englishReviews['Review_Total_Positive_Word_Counts'] > wordThreshold]\n",
    "#negEnglishReviews = englishReviews.loc[englishReviews['Review_Total_Negative_Word_Counts'] > wordThreshold]"
   ]
  },
  {
   "cell_type": "code",
   "execution_count": 8,
   "metadata": {
    "collapsed": true
   },
   "outputs": [],
   "source": [
    "posRevs = englishReviews['Positive_Review']\n",
    "negRevs = englishReviews['Negative_Review']"
   ]
  },
  {
   "cell_type": "code",
   "execution_count": 15,
   "metadata": {
    "collapsed": true
   },
   "outputs": [
    {
     "name": "stdout",
     "output_type": "stream",
     "text": [
      "     0.0 % finished\n",
      "     4.99987767385 % finished\n",
      "     9.99975534769 % finished\n",
      "     14.9996330215 % finished\n",
      "     19.9995106954 % finished\n",
      "     24.9993883692 % finished\n",
      "     29.9992660431 % finished\n",
      "     34.9991437169 % finished\n",
      "     39.9990213908 % finished\n",
      "     44.9988990646 % finished\n",
      "     49.9987767385 % finished\n",
      "     54.9986544123 % finished\n",
      "     59.9985320862 % finished\n",
      "     64.99840976 % finished\n",
      "     69.9982874338 % finished\n",
      "     74.9981651077 % finished\n",
      "     79.9980427815 % finished\n",
      "     84.9979204554 % finished\n",
      "     89.9977981292 % finished\n",
      "     94.9976758031 % finished\n",
      "     99.9975534769 % finished\n"
     ]
    },
    {
     "name": "stderr",
     "output_type": "stream",
     "text": [
      "C:\\ProgramData\\Anaconda2\\lib\\site-packages\\ipykernel_launcher.py:14: SettingWithCopyWarning: \n",
      "A value is trying to be set on a copy of a slice from a DataFrame.\n",
      "Try using .loc[row_indexer,col_indexer] = value instead\n",
      "\n",
      "See the caveats in the documentation: http://pandas.pydata.org/pandas-docs/stable/indexing.html#indexing-view-versus-copy\n",
      "  \n",
      "C:\\ProgramData\\Anaconda2\\lib\\site-packages\\ipykernel_launcher.py:15: SettingWithCopyWarning: \n",
      "A value is trying to be set on a copy of a slice from a DataFrame.\n",
      "Try using .loc[row_indexer,col_indexer] = value instead\n",
      "\n",
      "See the caveats in the documentation: http://pandas.pydata.org/pandas-docs/stable/indexing.html#indexing-view-versus-copy\n",
      "  from ipykernel import kernelapp as app\n"
     ]
    }
   ],
   "source": [
    "Positive_Processed_Word_Count = []\n",
    "Negative_Processed_Word_Count = []\n",
    "\n",
    "for i in range(posRevs.shape[0]):\n",
    "    if i % (posRevs.shape[0]/20) == 0:\n",
    "        print '    ', 100 * (1.0 * i / posRevs.shape[0]), '% finished'\n",
    "        \n",
    "    sPos = wordSplit(posRevs.iloc[i])\n",
    "    sNeg = wordSplit(negRevs.iloc[i])\n",
    "    \n",
    "    Positive_Processed_Word_Count.append(len(sPos))\n",
    "    Negative_Processed_Word_Count.append(len(sNeg))\n",
    "    \n",
    "englishReviews['Positive_Processed_Word_Count'] = Positive_Processed_Word_Count\n",
    "englishReviews['Negative_Processed_Word_Count'] = Negative_Processed_Word_Count\n",
    "#thrPosEngRevs = posEnglishReviews.loc[posEnglishReviews['Positive_Processed_Word_Count'] > wordThreshold]['Positive_Review']\n",
    "englishReviews.to_csv('UKReviewsWordCounted.csv')"
   ]
  },
  {
   "cell_type": "code",
   "execution_count": 34,
   "metadata": {
    "collapsed": true
   },
   "outputs": [],
   "source": [
    "thrPosEngRevs = englishReviews.loc[englishReviews['Positive_Processed_Word_Count'] > wordThreshold]['Positive_Review']\n",
    "thrNegEngRevs = englishReviews.loc[englishReviews['Negative_Processed_Word_Count'] > wordThreshold]['Negative_Review']\n",
    "\n",
    "allReviews = pd.concat([thrPosEngRevs, thrNegEngRevs])\n",
    "labels = np.hstack([np.ones(thrPosEngRevs.shape[0]), np.zeros(thrNegEngRevs.shape[0])])\n",
    "featureMatrix = TfidfVectorizer(stop_words=stopwords.words('English'),tokenizer=bagOfWordsShingles, lowercase=True).fit_transform(allReviews)\n",
    "\n",
    "sps.save_npz('UkReviews_Thresholded_BOW3_Features', featureMatrix)\n",
    "np.savez('UkReviews_Thresholded_BOW3_Labels',labels)"
   ]
  },
  {
   "cell_type": "code",
   "execution_count": 35,
   "metadata": {
    "collapsed": true
   },
   "outputs": [],
   "source": [
    "thrPosEngRevs = englishReviews.loc[englishReviews['Positive_Processed_Word_Count'] > wordThreshold]['Positive_Review']\n",
    "thrNegEngRevs = englishReviews.loc[englishReviews['Negative_Processed_Word_Count'] > wordThreshold]['Negative_Review']\n",
    "\n",
    "allReviews = pd.concat([thrPosEngRevs, thrNegEngRevs])\n",
    "labels = np.hstack([np.ones(thrPosEngRevs.shape[0]), np.zeros(thrNegEngRevs.shape[0])])\n",
    "featureMatrix = TfidfVectorizer(stop_words=stopwords.words('English'),tokenizer=bagOfWordsShingles2, lowercase=True).fit_transform(allReviews)\n",
    "\n",
    "sps.save_npz('UkReviews_Thresholded_BOW123_Features', featureMatrix)\n",
    "np.savez('UkReviews_Thresholded_BOW123_Labels',labels)"
   ]
  },
  {
   "cell_type": "code",
   "execution_count": 36,
   "metadata": {
    "collapsed": true
   },
   "outputs": [],
   "source": [
    "thrPosEngRevs = englishReviews['Positive_Review']\n",
    "thrNegEngRevs = englishReviews['Negative_Review']\n",
    "\n",
    "allReviews = pd.concat([thrPosEngRevs, thrNegEngRevs])\n",
    "labels = np.hstack([np.ones(thrPosEngRevs.shape[0]), np.zeros(thrNegEngRevs.shape[0])])\n",
    "featureMatrix = TfidfVectorizer(stop_words=stopwords.words('English'),tokenizer=bagOfWordsShingles, lowercase=True).fit_transform(allReviews)\n",
    "\n",
    "sps.save_npz('UkReviews_Raw_BOW3_Features', featureMatrix)\n",
    "np.savez('UkReviews_Raw_BOW3_Labels',labels)"
   ]
  },
  {
   "cell_type": "code",
   "execution_count": 37,
   "metadata": {
    "collapsed": true
   },
   "outputs": [],
   "source": [
    "thrPosEngRevs = englishReviews['Positive_Review']\n",
    "thrNegEngRevs = englishReviews['Negative_Review']\n",
    "\n",
    "allReviews = pd.concat([thrPosEngRevs, thrNegEngRevs])\n",
    "labels = np.hstack([np.ones(thrPosEngRevs.shape[0]), np.zeros(thrNegEngRevs.shape[0])])\n",
    "featureMatrix = TfidfVectorizer(stop_words=stopwords.words('English'),tokenizer=bagOfWordsShingles2, lowercase=True).fit_transform(allReviews)\n",
    "\n",
    "sps.save_npz('UkReviews_Raw_BOW123_Features', featureMatrix)\n",
    "np.savez('UkReviews_Raw_BOW123_Labels',labels)"
   ]
  }
 ],
 "metadata": {
  "kernelspec": {
   "display_name": "Python 2",
   "language": "python",
   "name": "python2"
  },
  "language_info": {
   "codemirror_mode": {
    "name": "ipython",
    "version": 2
   },
   "file_extension": ".py",
   "mimetype": "text/x-python",
   "name": "python",
   "nbconvert_exporter": "python",
   "pygments_lexer": "ipython2",
   "version": "2.7.13"
  }
 },
 "nbformat": 4,
 "nbformat_minor": 2
}
