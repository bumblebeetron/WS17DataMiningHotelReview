{
 "cells": [
  {
   "cell_type": "markdown",
   "metadata": {},
   "source": [
    "# This is the code for constructing the TF-IDF vector for calssification"
   ]
  },
  {
   "cell_type": "code",
   "execution_count": 3,
   "metadata": {
    "collapsed": true
   },
   "outputs": [],
   "source": [
    "import numpy as np\n",
    "import pandas as pd\n",
    "import matplotlib.pyplot as plt\n",
    "import scipy.sparse as sps\n",
    "import itertools\n",
    "from sklearn.metrics.pairwise import cosine_similarity\n",
    "from nltk.corpus import stopwords\n",
    "from sklearn.feature_extraction.text import TfidfVectorizer\n",
    "from PIL import Image\n",
    "import re"
   ]
  },
  {
   "cell_type": "code",
   "execution_count": 4,
   "metadata": {
    "collapsed": true
   },
   "outputs": [],
   "source": [
    "hotelReviews = pd.read_csv('C:/Users/deniz/Documents/HotelReviewsCountryCity.csv')\n",
    "cities = ['Paris', 'Amsterdam', 'London', 'Milan', 'Barcelona', 'Vienna']\n",
    "nationality = ' United Kingdom '"
   ]
  },
  {
   "cell_type": "markdown",
   "metadata": {},
   "source": [
    "## This parameter represents the threshold for word count. \n",
    "## Note that 3 means reviews with MORE than 3 words will be in the dataset"
   ]
  },
  {
   "cell_type": "code",
   "execution_count": 5,
   "metadata": {
    "collapsed": true
   },
   "outputs": [],
   "source": [
    "wordThreshold = 3"
   ]
  },
  {
   "cell_type": "markdown",
   "metadata": {},
   "source": [
    "## This is the split and Bag-Of-Words Shingling functions\n",
    "## Change k according to your wish. But 3-shingles should work fine for English Language"
   ]
  },
  {
   "cell_type": "code",
   "execution_count": 6,
   "metadata": {
    "collapsed": true
   },
   "outputs": [],
   "source": [
    "def wordSplit(rev, stop_words = stopwords.words('English')):\n",
    "    s = [item for sublist in [rev.lower().split() for f in re.findall('\\d+|\\D+',rev.lower())] for item in sublist]\n",
    "    s = [x for x in s if x not in stop_words]\n",
    "    return s"
   ]
  },
  {
   "cell_type": "code",
   "execution_count": 7,
   "metadata": {},
   "outputs": [],
   "source": [
    "def bagOfWordsShingles(review, k=3, stop_words = stopwords.words('English')):\n",
    "    s = wordSplit(review, stop_words)\n",
    "    if len(s) < k:\n",
    "        tokens = ['']\n",
    "        for s_ in s:\n",
    "            tokens[0] += s_ + ' '\n",
    "        tokens[0] = tokens[0][:-1]\n",
    "        return tokens\n",
    "        \n",
    "    tokens = []\n",
    "    for i in range(len(s) - k + 1):\n",
    "        bag = ''\n",
    "        for j in range(i, i + k):\n",
    "            bag += s[j]+' '\n",
    "        tokens.append(bag[:-1])\n",
    "    return tokens\n",
    "\n",
    "def bagOfWordsShingles2(review, k=3, stop_words = stopwords.words('English')):\n",
    "    s = wordSplit(review, stop_words)\n",
    "    tokens = []\n",
    "    for K in range(0,k):\n",
    "        for i in range(len(s) - (k-K) + 1):\n",
    "            bag = ''\n",
    "            for j in range(i, i + k-K):\n",
    "                bag += s[j]+' '\n",
    "            tokens.append(bag[:-1])\n",
    "\n",
    "    return tokens"
   ]
  },
  {
   "cell_type": "code",
   "execution_count": 18,
   "metadata": {
    "collapsed": true
   },
   "outputs": [],
   "source": [
    "#englishReviews = hotelReviews.loc[(hotelReviews['Reviewer_Nationality']==nationality) & (hotelReviews['City']=='Barcelona')]\n",
    "englishReviews = hotelReviews.loc[(hotelReviews['Reviewer_Nationality']==nationality)]\n",
    "posEnglishReviews = englishReviews.loc[englishReviews['Review_Total_Positive_Word_Counts'] > wordThreshold]\n",
    "negEnglishReviews = englishReviews.loc[englishReviews['Review_Total_Negative_Word_Counts'] > wordThreshold]"
   ]
  },
  {
   "cell_type": "markdown",
   "metadata": {},
   "source": [
    "## Counting the word count (after preprocessing) for the Positive Reviews and Thresholding"
   ]
  },
  {
   "cell_type": "code",
   "execution_count": 104,
   "metadata": {
    "scrolled": false
   },
   "outputs": [
    {
     "name": "stdout",
     "output_type": "stream",
     "text": [
      "     0.0 % finished\n",
      "     9.99966839889 % finished\n",
      "     19.9993367978 % finished\n",
      "     29.9990051967 % finished\n",
      "     39.9986735956 % finished\n",
      "     49.9983419944 % finished\n",
      "     59.9980103933 % finished\n",
      "     69.9976787922 % finished\n",
      "     79.9973471911 % finished\n",
      "     89.99701559 % finished\n",
      "     99.9966839889 % finished\n"
     ]
    },
    {
     "name": "stderr",
     "output_type": "stream",
     "text": [
      "C:\\ProgramData\\Anaconda2\\lib\\site-packages\\ipykernel_launcher.py:10: SettingWithCopyWarning: \n",
      "A value is trying to be set on a copy of a slice from a DataFrame.\n",
      "Try using .loc[row_indexer,col_indexer] = value instead\n",
      "\n",
      "See the caveats in the documentation: http://pandas.pydata.org/pandas-docs/stable/indexing.html#indexing-view-versus-copy\n",
      "  # Remove the CWD from sys.path while we load stuff.\n"
     ]
    }
   ],
   "source": [
    "Positive_Processed_Word_Count = []\n",
    "i = 0\n",
    "for rev in posEnglishReviews['Positive_Review']:\n",
    "    if i % (posEnglishReviews.shape[0]/10) == 0:\n",
    "        print '    ', 100 * (1.0 * i / posEnglishReviews.shape[0]), '% finished'\n",
    "    i+=1\n",
    "    s = wordSplit(rev)\n",
    "    Positive_Processed_Word_Count.append(len(s))\n",
    "    \n",
    "posEnglishReviews['Positive_Processed_Word_Count'] = Positive_Processed_Word_Count\n",
    "thrPosEngRevs = posEnglishReviews.loc[posEnglishReviews['Positive_Processed_Word_Count'] > wordThreshold]['Positive_Review']"
   ]
  },
  {
   "cell_type": "markdown",
   "metadata": {},
   "source": [
    "## Counting the word count (after preprocessing) for the Negative Reviews and Thresholding"
   ]
  },
  {
   "cell_type": "code",
   "execution_count": 105,
   "metadata": {
    "scrolled": true
   },
   "outputs": [
    {
     "name": "stdout",
     "output_type": "stream",
     "text": [
      "     0.0 % finished\n",
      "     9.99951829863 % finished\n",
      "     19.9990365973 % finished\n",
      "     29.9985548959 % finished\n",
      "     39.9980731945 % finished\n",
      "     49.9975914932 % finished\n",
      "     59.9971097918 % finished\n",
      "     69.9966280904 % finished\n",
      "     79.996146389 % finished\n",
      "     89.9956646877 % finished\n",
      "     99.9951829863 % finished\n"
     ]
    },
    {
     "name": "stderr",
     "output_type": "stream",
     "text": [
      "C:\\ProgramData\\Anaconda2\\lib\\site-packages\\ipykernel_launcher.py:10: SettingWithCopyWarning: \n",
      "A value is trying to be set on a copy of a slice from a DataFrame.\n",
      "Try using .loc[row_indexer,col_indexer] = value instead\n",
      "\n",
      "See the caveats in the documentation: http://pandas.pydata.org/pandas-docs/stable/indexing.html#indexing-view-versus-copy\n",
      "  # Remove the CWD from sys.path while we load stuff.\n"
     ]
    }
   ],
   "source": [
    "Negative_Processed_Word_Count = []\n",
    "i = 0\n",
    "for rev in negEnglishReviews['Negative_Review']:\n",
    "    if i % (negEnglishReviews.shape[0]/10) == 0:\n",
    "        print '    ', 100 * (1.0 * i / negEnglishReviews.shape[0]), '% finished'\n",
    "    i+=1\n",
    "    s = wordSplit(rev)\n",
    "    Negative_Processed_Word_Count.append(len(s))\n",
    "    \n",
    "negEnglishReviews['Negative_Processed_Word_Count'] = Negative_Processed_Word_Count\n",
    "thrNegEngRevs = negEnglishReviews.loc[negEnglishReviews['Negative_Processed_Word_Count'] > wordThreshold]['Negative_Review']"
   ]
  },
  {
   "cell_type": "code",
   "execution_count": 20,
   "metadata": {
    "collapsed": true
   },
   "outputs": [],
   "source": [
    "thrPosEngRevs = englishReviews['Positive_Review']\n",
    "thrNegEngRevs = englishReviews['Negative_Review']"
   ]
  },
  {
   "cell_type": "markdown",
   "metadata": {},
   "source": [
    "## Just to see how many reviews were removed from the dataset after thresholding"
   ]
  },
  {
   "cell_type": "code",
   "execution_count": 117,
   "metadata": {
    "scrolled": true
   },
   "outputs": [
    {
     "name": "stdout",
     "output_type": "stream",
     "text": [
      "245246 211097\n",
      "245246 166078\n",
      "Percentage of Negative Reviews:  0.5\n",
      "Percentage of Positive Reviews:  0.5\n"
     ]
    }
   ],
   "source": [
    "print thrPosEngRevs.shape[0], posEnglishReviews.shape[0]\n",
    "print thrNegEngRevs.shape[0], negEnglishReviews.shape[0]\n",
    "print \"Percentage of Negative Reviews: \", 1.0*thrNegEngRevs.shape[0] / (thrPosEngRevs.shape[0] + thrNegEngRevs.shape[0])\n",
    "print \"Percentage of Positive Reviews: \", 1.0*thrPosEngRevs.shape[0] / (thrPosEngRevs.shape[0] + thrNegEngRevs.shape[0])"
   ]
  },
  {
   "cell_type": "markdown",
   "metadata": {},
   "source": [
    "# This part takes some time\n",
    "# BE PATIENT!"
   ]
  },
  {
   "cell_type": "code",
   "execution_count": 21,
   "metadata": {},
   "outputs": [],
   "source": [
    "allReviews = pd.concat([thrPosEngRevs, thrNegEngRevs])\n",
    "labels = np.hstack([np.ones(thrPosEngRevs.shape[0]), np.zeros(thrNegEngRevs.shape[0])])\n",
    "featureMatrix = TfidfVectorizer(stop_words=stopwords.words('English'),tokenizer=bagOfWordsShingles, lowercase=True).fit_transform(allReviews)"
   ]
  },
  {
   "cell_type": "code",
   "execution_count": 124,
   "metadata": {
    "collapsed": true
   },
   "outputs": [],
   "source": [
    "allReviews = pd.concat([thrPosEngRevs, thrNegEngRevs])\n",
    "labels = np.hstack([np.ones(thrPosEngRevs.shape[0]), np.zeros(thrNegEngRevs.shape[0])])\n",
    "featureMatrix = TfidfVectorizer(stop_words=stopwords.words('English'),tokenizer=bagOfWordsShingles2, lowercase=True).fit_transform(allReviews)"
   ]
  },
  {
   "cell_type": "markdown",
   "metadata": {},
   "source": [
    "## Saving the results for later use"
   ]
  },
  {
   "cell_type": "code",
   "execution_count": 109,
   "metadata": {
    "collapsed": true
   },
   "outputs": [],
   "source": [
    "sps.save_npz('3WordThresholdedEnglishReviews_k123_Features', featureMatrix)\n",
    "np.savez('3WordThresholdedEnglishReviews_k123_Labels',labels)"
   ]
  },
  {
   "cell_type": "code",
   "execution_count": 22,
   "metadata": {
    "collapsed": true
   },
   "outputs": [],
   "source": [
    "sps.save_npz('EnglishReviews_Features', featureMatrix)\n",
    "np.savez('EnglishReviews_Labels',labels)"
   ]
  },
  {
   "cell_type": "code",
   "execution_count": 110,
   "metadata": {
    "collapsed": true
   },
   "outputs": [],
   "source": [
    "thrPosEngRevs.to_csv('3WordThresholdedEnglishReviews_k123_Positive')\n",
    "thrNegEngRevs.to_csv('3WordThresholdedEnglishReviews_k123_Negative')"
   ]
  },
  {
   "cell_type": "markdown",
   "metadata": {},
   "source": [
    "To load the fetureMatrix use sps.load_npz\n",
    "\n",
    "Otherwise you will probably run out of memory.\n",
    "\n",
    "To load the labels use np.loadz('file_name.npz')['arr_0']"
   ]
  }
 ],
 "metadata": {
  "kernelspec": {
   "display_name": "Python 2",
   "language": "python",
   "name": "python2"
  },
  "language_info": {
   "codemirror_mode": {
    "name": "ipython",
    "version": 2
   },
   "file_extension": ".py",
   "mimetype": "text/x-python",
   "name": "python",
   "nbconvert_exporter": "python",
   "pygments_lexer": "ipython2",
   "version": "2.7.13"
  }
 },
 "nbformat": 4,
 "nbformat_minor": 2
}
