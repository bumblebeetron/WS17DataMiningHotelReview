{
 "cells": [
  {
   "cell_type": "code",
   "execution_count": 13,
   "metadata": {
    "collapsed": true
   },
   "outputs": [],
   "source": [
    "import re\n",
    "import os\n",
    "import pickle\n",
    "from nltk.corpus import stopwords\n",
    "import numpy as np\n",
    "import pandas as pd\n",
    "from nltk import ngrams\n",
    "from collections import Counter\n",
    "import random\n",
    "from markov_autocomplete.autocomplete import Autocomplete"
   ]
  },
  {
   "cell_type": "markdown",
   "metadata": {},
   "source": [
    "# These two functions are necessary for preprocessing of the sentence"
   ]
  },
  {
   "cell_type": "code",
   "execution_count": 31,
   "metadata": {
    "collapsed": true
   },
   "outputs": [],
   "source": [
    "def preprocess(rev, punctuations=\"\"\"!\"#$%&\\'()*+,./:;<=>?@[\\\\]^_{|}~-\"\"\"):\n",
    "    rev = re.sub('[' + punctuations + ']', ' ', rev).strip()\n",
    "    s = [item for sublist in [rev.lower().split()] for item in sublist if item != '']\n",
    "    #s = [x for x in s if x not in stop_words]\n",
    "    s = ' '.join(s)\n",
    "    return s"
   ]
  },
  {
   "cell_type": "code",
   "execution_count": 63,
   "metadata": {
    "collapsed": true
   },
   "outputs": [],
   "source": [
    "def preprocess_and_last_ngram(rev, ngram = 3):\n",
    "    s = preprocess(rev)\n",
    "    s = s.split(' ')\n",
    "    if len(s) < ngram:\n",
    "        return ' '.join(s)\n",
    "    return [' '.join(s[i:i+ngram]) for i in range(len(s) - ngram + 1)][-1]"
   ]
  },
  {
   "cell_type": "markdown",
   "metadata": {},
   "source": [
    "# You MUST initialize ac before you do prediction\n",
    "# The folder ngram_application and its components must be accessible"
   ]
  },
  {
   "cell_type": "code",
   "execution_count": 6,
   "metadata": {},
   "outputs": [],
   "source": [
    "ac = Autocomplete(model_path=\"ngram_application\",\n",
    "                  n_model=3,\n",
    "                  n_candidates=10,\n",
    "                  match_model=\"start\",\n",
    "                  min_freq=0,\n",
    "                  punctuations=\"\",\n",
    "                  lowercase=True)"
   ]
  },
  {
   "cell_type": "markdown",
   "metadata": {},
   "source": [
    "# To get the top 10 predictions of any input sentence execute the following code\n",
    "# Pred is the actual predictions, you will print these\n",
    "# Pro are the corresponding probabilities, you don't really need these"
   ]
  },
  {
   "cell_type": "code",
   "execution_count": 69,
   "metadata": {},
   "outputs": [
    {
     "name": "stdout",
     "output_type": "stream",
     "text": [
      "['The hotel was', 'The hotel was very', 'The hotel was in', 'The hotel was clean', 'The hotel was lovely', 'The hotel was excellent', 'The hotel was a', 'The hotel was great', 'The hotel was perfect', 'The hotel was beautiful']\n"
     ]
    }
   ],
   "source": [
    "inSentence = 'the hotel was'\n",
    "pred, pro = ac.predictions(preprocess_and_last_ngram(inSentence))\n",
    "print pred"
   ]
  }
 ],
 "metadata": {
  "kernelspec": {
   "display_name": "Python 2",
   "language": "python",
   "name": "python2"
  },
  "language_info": {
   "codemirror_mode": {
    "name": "ipython",
    "version": 2
   },
   "file_extension": ".py",
   "mimetype": "text/x-python",
   "name": "python",
   "nbconvert_exporter": "python",
   "pygments_lexer": "ipython2",
   "version": "2.7.13"
  }
 },
 "nbformat": 4,
 "nbformat_minor": 2
}
