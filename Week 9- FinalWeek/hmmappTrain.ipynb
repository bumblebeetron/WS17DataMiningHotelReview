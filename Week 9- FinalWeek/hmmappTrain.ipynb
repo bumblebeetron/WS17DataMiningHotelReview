{
 "cells": [
  {
   "cell_type": "code",
   "execution_count": 6,
   "metadata": {
    "collapsed": true
   },
   "outputs": [],
   "source": [
    "import re\n",
    "import os\n",
    "import pickle\n",
    "from nltk.corpus import stopwords\n",
    "import numpy as np\n",
    "import pandas as pd\n",
    "from nltk import ngrams\n",
    "from collections import Counter\n",
    "import random\n",
    "from markov_autocomplete.autocomplete import Autocomplete"
   ]
  },
  {
   "cell_type": "code",
   "execution_count": 7,
   "metadata": {},
   "outputs": [],
   "source": [
    "hotelReviews = pd.read_csv('C:/Users/deniz/Documents/Hotel_Reviews.csv')\n",
    "nationality = ' United Kingdom '\n",
    "engReviews = hotelReviews.loc[hotelReviews['Reviewer_Nationality'] == nationality][['Positive_Review','Negative_Review']]\n",
    "allReviews = list(engReviews['Positive_Review'].append(engReviews['Negative_Review']))"
   ]
  },
  {
   "cell_type": "code",
   "execution_count": 3,
   "metadata": {
    "collapsed": true
   },
   "outputs": [],
   "source": [
    "def preprocess(rev, punctuations=\"\"\"!\"#$%&\\'()*+,./:;<=>?@[\\\\]^_{|}~-\"\"\"):\n",
    "    rev = re.sub('[' + punctuations + ']', ' ', rev).strip()\n",
    "    s = [item for sublist in [rev.lower().split()] for item in sublist]\n",
    "    #s = [x for x in s if x not in stop_words]\n",
    "    s = ' '.join(s)\n",
    "    return s"
   ]
  },
  {
   "cell_type": "code",
   "execution_count": 28,
   "metadata": {
    "collapsed": true
   },
   "outputs": [],
   "source": [
    "def preprocess_and_last_ngram(rev, ngram = 3):\n",
    "    s = preprocess(rev)\n",
    "    s = s.split(' ')\n",
    "    s = [' '.join(s[i:i+ngram]) for i in range(len(s) - ngram + 1)][-1]\n",
    "    return s"
   ]
  },
  {
   "cell_type": "code",
   "execution_count": 31,
   "metadata": {},
   "outputs": [
    {
     "data": {
      "text/plain": [
       "'staff'"
      ]
     },
     "execution_count": 31,
     "metadata": {},
     "output_type": "execute_result"
    }
   ],
   "source": [
    "preprocess_and_last_ngram(testSentences[0],ngram=1)"
   ]
  },
  {
   "cell_type": "code",
   "execution_count": 8,
   "metadata": {},
   "outputs": [],
   "source": [
    "processedReviews = []\n",
    "for rev in allReviews:\n",
    "    processedReviews.append(preprocess(rev))"
   ]
  },
  {
   "cell_type": "code",
   "execution_count": 9,
   "metadata": {},
   "outputs": [],
   "source": [
    "ac = Autocomplete(model_path=\"ngram_application\",\n",
    "                  sentences=processedReviews,\n",
    "                  n_model=3,\n",
    "                  n_candidates=10,\n",
    "                  match_model=\"start\",\n",
    "                  min_freq=0,\n",
    "                  punctuations=\"\",\n",
    "                  lowercase=True)"
   ]
  },
  {
   "cell_type": "code",
   "execution_count": 11,
   "metadata": {},
   "outputs": [],
   "source": [
    "testSentences = [\"What an amazing experience with really over the top friendly staff!\",\n",
    "                \"This was one of my first stays with Marriott and they really did everything right\",\n",
    "                \"Special bedding orders - everything was arranged.\",\n",
    "                \"Room size wishes - I was upgraded.\",\n",
    "                \"The room service was fast and the portion really big with reasonable prices.\",\n",
    "                \"No need to go somewhere else after a stressful day!\",\n",
    "                \"Standard decent Marriott hotel.\",\n",
    "                \"The staff are efficient and the room we had was really quite good - large, clean and comfortable beds.\",\n",
    "                \"The hotel bar - Champions - is the standard American type bar that Marriotts have.\",\n",
    "                \"The wait staff at the bar were very nice.\",\n",
    "                \"An emblematic hotel in the center of Athens.\",\n",
    "                \"This will take into account the meetings that take place in this hotel.\",\n",
    "                \"It is a great hotel with excellent modern decoration and clean spaces.\",\n",
    "                \"The staff is courteous and willing to serve you all with a smile.\",\n",
    "                \"The meeting rooms are quite large with comfortable seating and a good acoustic.\",\n",
    "                \"The food is very delicious and it is definitely worth visiting for a meal or a stay.\",\n",
    "                \"Probably one of the top hotels in Athens, with a top roof bar (Galaxy bar) overlooking the Acropolis and Lycabetus hills.\",\n",
    "                \"The hotel offers a number of restaurants and boasts an impressive outdoor swimming pool.\",\n",
    "                \"A great choice to stay while in Athens or visit for drinks or dinner.\",\n",
    "                \"What amazing views from the Terrace Suite at Four Seasons New York.\",\n",
    "                \"The staff were all friendly, courteous, and discrete. The hotel lobby, bar, and lounge were beautiful and welcoming.\",\n",
    "                \"The room in which I stayed, had spectacular views.\",\n",
    "                \"I will look forward to many returns at this particular Four Seasons Hotel, New York.\",\n",
    "                \"Super nice staff and rooms are not bad.\",\n",
    "                \"Redone suite was super nice.\",\n",
    "                \"Club room has drinks and good snacks.\",\n",
    "                \"Hotel works as a stop for a night.\",\n",
    "                \"Not sure I'd book if you want to be in the heart of Munich.\",\n",
    "                \"It does have shops and restaurants around and good access to mass transit.\",\n",
    "                \"Room was clean, and was set up nicely.\",\n",
    "                \"Pool was really nice, and the view from the pool was fantastic.\",\n",
    "                \"At this point though, not having free wifi in the rooms (even though I'm a member of the club) is completely unacceptable.\",\n",
    "                \"This is my favorite hotel when visiting London.\",\n",
    "                \"The accommodations are excellent and the staff is very friendly and efficient.\",\n",
    "                \"The location is prime with superb views and adjacent parks for walking.\",\n",
    "                \"Oh yes a near by resistance is Buckingham Palace !!\",\n",
    "                \"Superior place , enjoyed our stay to the max , the location is excellent , just few minutes walking  to public transportation , there are quite nice good food restaurants and coffee shops very near the hotel ، Lebanese and Turkish restaurants too.\",\n",
    "                \"Hotel staff and service is great and is clean.\",\n",
    "                \"Only problem is the decor in lobby and restaurant area.\",\n",
    "                \"Instead of walking into a hotel in Greece, I felt like I was walking into a hotel in China.\",\n",
    "                \"I would prefer the greek experience when in Greece.\",\n",
    "                \"They do book a very large amount of Asians.\",\n",
    "                \"I guess money talks.\",\n",
    "                \"This hotel had a nice breakfast and clean rooms.\",\n",
    "                \"Staff was also helpful.\",\n",
    "                \"The pool closes at 7.\",\n",
    "                \"Wonderful bakery across the street!\"]"
   ]
  },
  {
   "cell_type": "code",
   "execution_count": null,
   "metadata": {
    "scrolled": false
   },
   "outputs": [],
   "source": [
    "for t in testSentences:\n",
    "    ngrams = preprocess_and_ngram(t)\n",
    "    for n in range(len(ngrams) - 1):\n",
    "        pred, prob = ac.predictions(ngrams[n])\n",
    "        print ngrams[n], '->',ngrams[n+1].split(' ')[-1]\n",
    "        print pred[:5]\n",
    "        print"
   ]
  }
 ],
 "metadata": {
  "kernelspec": {
   "display_name": "Python 2",
   "language": "python",
   "name": "python2"
  },
  "language_info": {
   "codemirror_mode": {
    "name": "ipython",
    "version": 2
   },
   "file_extension": ".py",
   "mimetype": "text/x-python",
   "name": "python",
   "nbconvert_exporter": "python",
   "pygments_lexer": "ipython2",
   "version": "2.7.13"
  }
 },
 "nbformat": 4,
 "nbformat_minor": 2
}
