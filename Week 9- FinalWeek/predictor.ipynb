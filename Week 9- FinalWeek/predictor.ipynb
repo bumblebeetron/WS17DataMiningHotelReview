{
 "cells": [
  {
   "cell_type": "code",
   "execution_count": 1,
   "metadata": {
    "collapsed": true
   },
   "outputs": [],
   "source": [
    "import re\n",
    "import os\n",
    "import pickle\n",
    "from nltk.corpus import stopwords\n",
    "import numpy as np\n",
    "import pandas as pd\n",
    "from nltk import ngrams\n",
    "from collections import Counter\n",
    "import random\n",
    "from markov_autocomplete.autocomplete import Autocomplete  "
   ]
  },
  {
   "cell_type": "code",
   "execution_count": 2,
   "metadata": {
    "collapsed": true
   },
   "outputs": [],
   "source": [
    "def preprocess(rev, punctuations=\"\"\"!\"#$%&\\'()*+,./:;<=>?@[\\\\]^_{|}~-\"\"\"):\n",
    "    rev = re.sub('[' + punctuations + ']', ' ', rev).strip()\n",
    "    s = [item for sublist in [rev.lower().split()] for item in sublist if item != '']\n",
    "    #s = [x for x in s if x not in stop_words]\n",
    "    s = ' '.join(s)\n",
    "    return s"
   ]
  },
  {
   "cell_type": "code",
   "execution_count": 3,
   "metadata": {
    "collapsed": true
   },
   "outputs": [],
   "source": [
    "def preprocess_and_last_ngram(rev, ngram = 3):\n",
    "    s = preprocess(rev)\n",
    "    s = s.split(' ')\n",
    "    if len(s) < ngram:\n",
    "        return ' '.join(s)\n",
    "    return [' '.join(s[i:i+ngram]) for i in range(len(s) - ngram + 1)][-1]\n"
   ]
  },
  {
   "cell_type": "code",
   "execution_count": 4,
   "metadata": {
    "collapsed": true
   },
   "outputs": [],
   "source": [
    "ac = Autocomplete(model_path=\"ngram_application\",\n",
    "                  n_model=3,\n",
    "                  n_candidates=10,\n",
    "                  match_model=\"start\",\n",
    "                  min_freq=0,\n",
    "                  punctuations=\"\",\n",
    "                  lowercase=True)"
   ]
  },
  {
   "cell_type": "code",
   "execution_count": 5,
   "metadata": {
    "collapsed": true
   },
   "outputs": [],
   "source": [
    "def kp(event):\n",
    "    i=1\n",
    "    app.create_widgets(1) "
   ]
  },
  {
   "cell_type": "code",
   "execution_count": 6,
   "metadata": {
    "collapsed": true
   },
   "outputs": [],
   "source": [
    "def getFromScript(text):\n",
    "    ## text- the input for the hidden markov\n",
    "    #########THIS IS A PLACE HOLDER FOR ACTUAL IMPLEMENTATION\n",
    "    pred, pro = ac.predictions(preprocess_and_last_ngram(text))\n",
    "    #########################################################\n",
    "    return pred ### return the predicted words list"
   ]
  },
  {
   "cell_type": "code",
   "execution_count": 10,
   "metadata": {},
   "outputs": [
    {
     "name": "stdout",
     "output_type": "stream",
     "text": [
      "['Excellent', 'Excellently', 'Excellent location', 'Excellent breakfast', 'Excellent staff', 'Excellent service', 'Excellent hotel', 'Excellent value', 'Excellent room', 'Excellent facilities']\n",
      "['Excellent staff', 'Excellent service', 'Excellent shower', 'Excellent stay', 'Excellent standard', 'Excellent selection', 'Excellent size', 'Excellent spa', 'Excellent situation', 'Excellent soundproofing']\n",
      "['Excellent staff', 'Excellent stay', 'Excellent standard', 'Excellent standards', 'Excellent steak', 'Excellent staffs', 'Excellent staff very', 'Excellent staff and', 'Excellent staff were', 'Excellent staff friendly']\n",
      "['Excellent staff', 'Excellent stay', 'Excellent standard', 'Excellent standards', 'Excellent staffs', 'Excellent staff very', 'Excellent staff and', 'Excellent staff were', 'Excellent staff friendly', 'Excellent staff great']\n",
      "['Excellent staff', 'Excellent staffs', 'Excellent staff very', 'Excellent staff and', 'Excellent staff were', 'Excellent staff friendly', 'Excellent staff great', 'Excellent staff who', 'Excellent staff good', 'Excellent staff excellent']\n",
      "['Excellent staff', 'Excellent staffs', 'Excellent staff very', 'Excellent staff and', 'Excellent staff were', 'Excellent staff friendly', 'Excellent staff great', 'Excellent staff who', 'Excellent staff good', 'Excellent staff excellent']\n",
      "['Excellent staff', 'Excellent staffs', 'Excellent staff very', 'Excellent staff and', 'Excellent staff were', 'Excellent staff friendly', 'Excellent staff great', 'Excellent staff who', 'Excellent staff good', 'Excellent staff excellent']\n",
      "['Excellent staff', 'Excellent staffs', 'Excellent staff very', 'Excellent staff and', 'Excellent staff were', 'Excellent staff friendly', 'Excellent staff great', 'Excellent staff who', 'Excellent staff good', 'Excellent staff excellent']\n"
     ]
    },
    {
     "name": "stderr",
     "output_type": "stream",
     "text": [
      "/home/a_parida/anaconda3/lib/python3.6/site-packages/markov_autocomplete/autocomplete.py:172: RuntimeWarning: divide by zero encountered in log10\n",
      "  piece_prob = np.log10(num/den)\n"
     ]
    },
    {
     "name": "stdout",
     "output_type": "stream",
     "text": [
      "['Excellent staff lovely', 'Excellent staff location', 'Excellent staff loveley', 'Excellent staff lovely room', 'Excellent staff lovely breakfast', 'Excellent staff lovely and', 'Excellent staff lovely hotel', 'Excellent staff location and', 'Excellent staff lovely rooms', 'Excellent staff lovely clean']\n",
      "['Excellent staff lovely', 'Excellent staff location', 'Excellent staff loveley', 'Excellent staff lovely room', 'Excellent staff lovely breakfast', 'Excellent staff lovely and', 'Excellent staff lovely hotel', 'Excellent staff location and', 'Excellent staff lovely rooms', 'Excellent staff lovely clean']\n",
      "['Excellent staff lovely', 'Excellent staff location', 'Excellent staff loveley', 'Excellent staff lovely room', 'Excellent staff lovely breakfast', 'Excellent staff lovely and', 'Excellent staff lovely hotel', 'Excellent staff location and', 'Excellent staff lovely rooms', 'Excellent staff lovely clean']\n",
      "['Excellent staff lovely', 'Excellent staff location', 'Excellent staff loveley', 'Excellent staff lovely room', 'Excellent staff lovely breakfast', 'Excellent staff lovely and', 'Excellent staff lovely hotel', 'Excellent staff location and', 'Excellent staff lovely rooms', 'Excellent staff lovely clean']\n",
      "['Excellent staff lovely', 'Excellent staff loveley', 'Excellent staff lovely room', 'Excellent staff lovely breakfast', 'Excellent staff lovely and', 'Excellent staff lovely hotel', 'Excellent staff lovely rooms', 'Excellent staff lovely clean', 'Excellent staff lovely food', 'Excellent staff lovely comfortable']\n",
      "['Excellent staff lovely', 'Excellent staff loveley', 'Excellent staff lovely room', 'Excellent staff lovely breakfast', 'Excellent staff lovely and', 'Excellent staff lovely hotel', 'Excellent staff lovely rooms', 'Excellent staff lovely clean', 'Excellent staff lovely food', 'Excellent staff lovely comfortable']\n",
      "['Excellent staff lovely', 'Excellent staff loveley', 'Excellent staff lovely room', 'Excellent staff lovely breakfast', 'Excellent staff lovely and', 'Excellent staff lovely hotel', 'Excellent staff lovely rooms', 'Excellent staff lovely clean', 'Excellent staff lovely food', 'Excellent staff lovely comfortable']\n",
      "['Excellent staff lovely', 'Excellent staff loveley', 'Excellent staff lovely room', 'Excellent staff lovely breakfast', 'Excellent staff lovely and', 'Excellent staff lovely hotel', 'Excellent staff lovely rooms', 'Excellent staff lovely clean', 'Excellent staff lovely food', 'Excellent staff lovely comfortable']\n",
      "['Excellent staff loved the', 'Excellent staff loved it', 'Excellent staff loved our', 'Excellent staff loved my', 'Excellent staff loved th', 'Excellent staff loved interior', 'Excellent staff loved staying', 'Excellent staff loved all', 'Excellent staff loved every', 'Excellent staff loved that']\n",
      "['Excellent staff loved the', 'Excellent staff loved it', 'Excellent staff loved our', 'Excellent staff loved my', 'Excellent staff loved th', 'Excellent staff loved interior', 'Excellent staff loved staying', 'Excellent staff loved all', 'Excellent staff loved every', 'Excellent staff loved that']\n",
      "['Excellent staff loved the', 'Excellent staff loved it', 'Excellent staff loved our', 'Excellent staff loved my', 'Excellent staff loved th', 'Excellent staff loved interior', 'Excellent staff loved staying', 'Excellent staff loved all', 'Excellent staff loved every', 'Excellent staff loved that']\n",
      "['Excellent staff loved the', 'Excellent staff loved it', 'Excellent staff loved our', 'Excellent staff loved my', 'Excellent staff loved th', 'Excellent staff loved interior', 'Excellent staff loved staying', 'Excellent staff loved all', 'Excellent staff loved every', 'Excellent staff loved that']\n",
      "['Excellent staff loved the', 'Excellent staff loved it', 'Excellent staff loved our', 'Excellent staff loved my', 'Excellent staff loved th', 'Excellent staff loved interior', 'Excellent staff loved staying', 'Excellent staff loved all', 'Excellent staff loved every', 'Excellent staff loved that']\n",
      "['Staff loved staying', 'Staff loved staying here', 'Staff loved staying in', 'Staff loved staying at', 'Staff loved staying there', 'Staff loved staying a', 'Staff loved staying however', 'Staff loved shower', 'Staff loved sitting out', 'Staff loved some tea']\n",
      "['Staff loved staying', 'Staff loved staying here', 'Staff loved staying in', 'Staff loved staying at', 'Staff loved staying there', 'Staff loved staying a', 'Staff loved staying however', 'Staff loved shower', 'Staff loved sitting out', 'Staff loved some tea']\n",
      "['Staff loved staying', 'Staff loved staying here', 'Staff loved staying in', 'Staff loved staying at', 'Staff loved staying there', 'Staff loved staying a', 'Staff loved staying however', 'Staff loved shower', 'Staff loved sitting out', 'Staff loved some tea']\n",
      "['Staff loved staying', 'Staff loved staying here', 'Staff loved staying in', 'Staff loved staying at', 'Staff loved staying however', 'Staff loved staying a', 'Staff loved staying there', 'Staff loved staff attitude', 'Staff loved stay here', 'Staff loved staff were']\n",
      "['Staff loved staying', 'Staff loved staying here', 'Staff loved staying in', 'Staff loved staying at', 'Staff loved staying however', 'Staff loved staying a', 'Staff loved staying there', 'Staff loved staff attitude', 'Staff loved stay here', 'Staff loved staff were']\n",
      "['Staff loved staying', 'Staff loved staying here', 'Staff loved staying in', 'Staff loved staying at', 'Staff loved staying however', 'Staff loved staying a', 'Staff loved staying there', 'Staff loved staff attitude', 'Staff loved stay here', 'Staff loved staff were']\n",
      "['Staff loved staying', 'Staff loved staying here', 'Staff loved staying in', 'Staff loved staying at', 'Staff loved staying however', 'Staff loved staying a', 'Staff loved staying there', 'Staff loved staff attitude', 'Staff loved stay here', 'Staff loved staff were']\n",
      "['Staff loved staying', 'Staff loved staying here', 'Staff loved staying in', 'Staff loved staying at', 'Staff loved staying however', 'Staff loved staying a', 'Staff loved staying there', 'Staff loved staff attitude', 'Staff loved stay here', 'Staff loved staff were']\n",
      "['Staff loved staying', 'Staff loved staying here', 'Staff loved staying in', 'Staff loved staying at', 'Staff loved staying however', 'Staff loved staying a', 'Staff loved staying there', 'Staff loved staff attitude', 'Staff loved stay here', 'Staff loved staff were']\n",
      "['Staff loved staying', 'Staff loved staying here', 'Staff loved staying in', 'Staff loved staying at', 'Staff loved staying however', 'Staff loved staying a', 'Staff loved staying there', 'Staff loved stay here']\n",
      "['Staff loved staying', 'Staff loved staying here', 'Staff loved staying in', 'Staff loved staying at', 'Staff loved staying however', 'Staff loved staying a', 'Staff loved staying there', 'Staff loved stay here']\n",
      "['Staff loved staying', 'Staff loved staying here', 'Staff loved staying in', 'Staff loved staying at', 'Staff loved staying however', 'Staff loved staying a', 'Staff loved staying there', 'Staff loved stay here']\n",
      "['Staff loved staying', 'Staff loved staying here', 'Staff loved staying in', 'Staff loved staying at', 'Staff loved staying however', 'Staff loved staying a', 'Staff loved staying there']\n",
      "['Staff loved staying', 'Staff loved staying here', 'Staff loved staying in', 'Staff loved staying at', 'Staff loved staying however', 'Staff loved staying a', 'Staff loved staying there']\n",
      "['Staff loved staying', 'Staff loved staying here', 'Staff loved staying in', 'Staff loved staying at', 'Staff loved staying however', 'Staff loved staying a', 'Staff loved staying there']\n",
      "['Staff loved staying', 'Staff loved staying here', 'Staff loved staying in', 'Staff loved staying at', 'Staff loved staying however', 'Staff loved staying a', 'Staff loved staying there']\n",
      "['Staff loved staying', 'Staff loved staying here', 'Staff loved staying in', 'Staff loved staying at', 'Staff loved staying however', 'Staff loved staying a', 'Staff loved staying there']\n",
      "['Staff loved staying', 'Staff loved staying here', 'Staff loved staying in', 'Staff loved staying at', 'Staff loved staying however', 'Staff loved staying a', 'Staff loved staying there']\n",
      "['Staff loved staying', 'Staff loved staying here', 'Staff loved staying in', 'Staff loved staying at', 'Staff loved staying however', 'Staff loved staying a', 'Staff loved staying there']\n"
     ]
    },
    {
     "name": "stdout",
     "output_type": "stream",
     "text": [
      "['Staff loved staying', 'Staff loved staying here', 'Staff loved staying in', 'Staff loved staying at', 'Staff loved staying however', 'Staff loved staying a', 'Staff loved staying there']\n",
      "['Staff loved staying', 'Staff loved staying here', 'Staff loved staying in', 'Staff loved staying at', 'Staff loved staying however', 'Staff loved staying a', 'Staff loved staying there']\n",
      "['Staff loved staying', 'Staff loved staying here', 'Staff loved staying in', 'Staff loved staying at', 'Staff loved staying however', 'Staff loved staying a', 'Staff loved staying there']\n",
      "['Staff loved staying', 'Staff loved staying here', 'Staff loved staying in', 'Staff loved staying at', 'Staff loved staying however', 'Staff loved staying a', 'Staff loved staying there']\n",
      "['Staff loved staying', 'Staff loved staying here', 'Staff loved staying in', 'Staff loved staying at', 'Staff loved staying however', 'Staff loved staying a', 'Staff loved staying there']\n",
      "['Staff loved staying', 'Staff loved staying here', 'Staff loved staying in', 'Staff loved staying at', 'Staff loved staying however', 'Staff loved staying a', 'Staff loved staying there']\n",
      "['Loved staying there', 'Loved staying there again', 'Loved staying there for', 'Loved staying there and', 'Loved staying there i', 'Loved staying there was', 'Loved staying there as', 'Loved staying there the', 'Loved staying there in', 'Loved staying there if']\n",
      "['Loved staying there', 'Loved staying there again', 'Loved staying there for', 'Loved staying there and', 'Loved staying there i', 'Loved staying there was', 'Loved staying there as', 'Loved staying there the', 'Loved staying there in', 'Loved staying there if']\n",
      "['Loved staying there', 'Loved staying there again', 'Loved staying there for', 'Loved staying there and', 'Loved staying there i', 'Loved staying there was', 'Loved staying there as', 'Loved staying there the', 'Loved staying there in', 'Loved staying there if']\n",
      "['Loved staying there', 'Loved staying there again', 'Loved staying there for', 'Loved staying there and', 'Loved staying there i', 'Loved staying there was', 'Loved staying there as', 'Loved staying there the', 'Loved staying there in', 'Loved staying there if']\n",
      "['Loved staying there', 'Loved staying there again', 'Loved staying there for', 'Loved staying there and', 'Loved staying there i', 'Loved staying there as', 'Loved staying there was', 'Loved staying there the', 'Loved staying there in', 'Loved staying there if']\n",
      "['Loved staying there', 'Loved staying there again', 'Loved staying there for', 'Loved staying there and', 'Loved staying there i', 'Loved staying there as', 'Loved staying there was', 'Loved staying there the', 'Loved staying there in', 'Loved staying there if']\n",
      "['Loved staying there', 'Loved staying there again', 'Loved staying there for', 'Loved staying there and', 'Loved staying there i', 'Loved staying there as', 'Loved staying there was', 'Loved staying there the', 'Loved staying there in', 'Loved staying there if']\n",
      "['Loved staying there', 'Loved staying there again', 'Loved staying there for', 'Loved staying there and', 'Loved staying there i', 'Loved staying there as', 'Loved staying there was', 'Loved staying there the', 'Loved staying there in', 'Loved staying there if']\n",
      "['Loved staying there', 'Loved staying there again', 'Loved staying there for', 'Loved staying there and', 'Loved staying there i', 'Loved staying there was', 'Loved staying there as', 'Loved staying there the', 'Loved staying there in', 'Loved staying there if']\n",
      "['Loved staying there', 'Loved staying there again', 'Loved staying there for', 'Loved staying there and', 'Loved staying there i', 'Loved staying there was', 'Loved staying there as', 'Loved staying there the', 'Loved staying there in', 'Loved staying there if']\n",
      "['Loved staying there', 'Loved staying there again', 'Loved staying there for', 'Loved staying there and', 'Loved staying there i', 'Loved staying there was', 'Loved staying there as', 'Loved staying there the', 'Loved staying there in', 'Loved staying there if']\n",
      "['Loved staying there', 'Loved staying there again', 'Loved staying there for', 'Loved staying there and', 'Loved staying there i', 'Loved staying there was', 'Loved staying there as', 'Loved staying there the', 'Loved staying there in', 'Loved staying there if']\n",
      "['Loved staying there', 'Loved staying there again', 'Loved staying there for', 'Loved staying there and', 'Loved staying there i', 'Loved staying there as', 'Loved staying there was', 'Loved staying there the', 'Loved staying there in', 'Loved staying there if']\n",
      "['Loved staying there', 'Loved staying there again', 'Loved staying there for', 'Loved staying there and', 'Loved staying there i', 'Loved staying there as', 'Loved staying there was', 'Loved staying there the', 'Loved staying there in', 'Loved staying there if']\n",
      "['Loved staying there', 'Loved staying there again', 'Loved staying there for', 'Loved staying there and', 'Loved staying there i', 'Loved staying there as', 'Loved staying there was', 'Loved staying there the', 'Loved staying there in', 'Loved staying there if']\n",
      "['Loved staying there', 'Loved staying there again', 'Loved staying there for', 'Loved staying there and', 'Loved staying there i', 'Loved staying there as', 'Loved staying there was', 'Loved staying there the', 'Loved staying there in', 'Loved staying there if']\n",
      "['Loved staying there', 'Loved staying there again', 'Loved staying there for', 'Loved staying there and', 'Loved staying there i', 'Loved staying there as', 'Loved staying there was', 'Loved staying there the', 'Loved staying there in', 'Loved staying there if']\n",
      "['Loved staying there', 'Loved staying there again', 'Loved staying there for', 'Loved staying there and', 'Loved staying there i', 'Loved staying there as', 'Loved staying there was', 'Loved staying there the', 'Loved staying there in', 'Loved staying there if']\n",
      "['Loved staying there', 'Loved staying there again', 'Loved staying there for', 'Loved staying there and', 'Loved staying there i', 'Loved staying there as', 'Loved staying there was', 'Loved staying there the', 'Loved staying there in', 'Loved staying there if']\n",
      "['Loved staying there', 'Loved staying there again', 'Loved staying there for', 'Loved staying there and', 'Loved staying there i', 'Loved staying there as', 'Loved staying there was', 'Loved staying there the', 'Loved staying there in', 'Loved staying there if']\n",
      "['Loved staying there', 'Loved staying there again', 'Loved staying there for', 'Loved staying there and', 'Loved staying there i', 'Loved staying there as', 'Loved staying there was', 'Loved staying there the', 'Loved staying there in', 'Loved staying there if']\n",
      "['Loved staying there', 'Loved staying there again', 'Loved staying there for', 'Loved staying there and', 'Loved staying there i', 'Loved staying there as', 'Loved staying there was', 'Loved staying there the', 'Loved staying there in', 'Loved staying there if']\n",
      "['Loved staying there', 'Loved staying there again', 'Loved staying there for', 'Loved staying there and', 'Loved staying there i', 'Loved staying there as', 'Loved staying there was', 'Loved staying there the', 'Loved staying there in', 'Loved staying there if']\n",
      "['Loved staying there', 'Loved staying there again', 'Loved staying there for', 'Loved staying there and', 'Loved staying there i', 'Loved staying there as', 'Loved staying there was', 'Loved staying there the', 'Loved staying there in', 'Loved staying there if']\n",
      "['Loved staying there', 'Loved staying there again', 'Loved staying there for', 'Loved staying there and', 'Loved staying there i', 'Loved staying there as', 'Loved staying there was', 'Loved staying there the', 'Loved staying there in', 'Loved staying there if']\n"
     ]
    }
   ],
   "source": [
    "from tkinter import *\n",
    "\n",
    "# First create application class\n",
    "\n",
    "class Application(Frame):\n",
    "\n",
    "    def __init__(self, master=None):\n",
    "        Frame.__init__(self, master)\n",
    "        self.search_var = StringVar()\n",
    "        self.pack()\n",
    "        self.create_widgets(0)\n",
    "        \n",
    "        \n",
    "    # Create main GUI window\n",
    "    def create_widgets(self,i):\n",
    "        #self.search_var = StringVar()\n",
    "        self.search_var.trace(\"w\", lambda name, index, mode: self.update_list(i))\n",
    "\n",
    "        self.lbox = Listbox(self, width=45, height=15)\n",
    "\n",
    "        if i==0:\n",
    "            self.entry = Entry(self, textvariable=self.search_var, width=30)\n",
    "            self.entry.grid(row=0, column=0, padx=10, pady=3)\n",
    "\n",
    "        self.lbox.grid(row=1, column=0, padx=10, pady=3)\n",
    "\n",
    "        # Function for updating the list/doing the search.\n",
    "        # It needs to be called here to populate the listbox.\n",
    "        self.update_list(i)\n",
    "\n",
    "    \n",
    " \n",
    "    def update_list(self,i):\n",
    "\n",
    "        search_term = self.search_var.get()#### THIS LINE SHOULD READ THE TEXT\n",
    "    \n",
    "        # Just a generic list to populate the listbox\n",
    "        if(i==0):\n",
    "            lbox_list = ['Excellent','Very Good','Shabby', 'Unpolite']\n",
    "        if(i==1):\n",
    "            lbox_list = getFromScript(search_term)####### PASS TEXT HERE\n",
    "            print(lbox_list)\n",
    "        #self.lbox.delete(0, END)\n",
    "        for item in lbox_list:\n",
    "                if search_term.lower() in item.lower():\n",
    "                    self.lbox.insert(END, item)\n",
    "\n",
    "\n",
    "root = Tk()\n",
    "root.title('Autocomplete')\n",
    "root.bind_all('<space>', kp)\n",
    "\n",
    "app = Application(master=root)\n",
    "\n",
    "app.mainloop()"
   ]
  },
  {
   "cell_type": "code",
   "execution_count": null,
   "metadata": {
    "collapsed": true
   },
   "outputs": [],
   "source": []
  },
  {
   "cell_type": "code",
   "execution_count": null,
   "metadata": {
    "collapsed": true
   },
   "outputs": [],
   "source": []
  }
 ],
 "metadata": {
  "kernelspec": {
   "display_name": "Python 3",
   "language": "python",
   "name": "python3"
  },
  "language_info": {
   "codemirror_mode": {
    "name": "ipython",
    "version": 3
   },
   "file_extension": ".py",
   "mimetype": "text/x-python",
   "name": "python",
   "nbconvert_exporter": "python",
   "pygments_lexer": "ipython3",
   "version": "3.6.3"
  }
 },
 "nbformat": 4,
 "nbformat_minor": 2
}
