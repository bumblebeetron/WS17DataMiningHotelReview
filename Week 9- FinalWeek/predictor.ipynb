{
 "cells": [
  {
   "cell_type": "code",
   "execution_count": null,
   "metadata": {
    "collapsed": true
   },
   "outputs": [],
   "source": [
    "def kp(event):\n",
    "    i=1\n",
    "    app.create_widgets(1)    "
   ]
  },
  {
   "cell_type": "code",
   "execution_count": null,
   "metadata": {
    "collapsed": true
   },
   "outputs": [],
   "source": [
    "def getFromScript(text):\n",
    "    ## text- the input for the hidden markov\n",
    "    #########THIS IS A PLACE HOLDER FOR ACTUAL IMPLEMENTATION\n",
    "    \n",
    "    #########################################################\n",
    "    return listofPrediction ### return the predicted words list"
   ]
  },
  {
   "cell_type": "code",
   "execution_count": null,
   "metadata": {},
   "outputs": [],
   "source": [
    "from tkinter import *\n",
    "\n",
    "# First create application class\n",
    "\n",
    "class Application(Frame):\n",
    "\n",
    "    def __init__(self, master=None):\n",
    "        Frame.__init__(self, master)\n",
    "        self.search_var = StringVar()\n",
    "        self.pack()\n",
    "        self.create_widgets(0)\n",
    "        \n",
    "        \n",
    "    # Create main GUI window\n",
    "    def create_widgets(self,i):\n",
    "        #self.search_var = StringVar()\n",
    "        self.search_var.trace(\"w\", lambda name, index, mode: self.update_list(i))\n",
    "\n",
    "        self.lbox = Listbox(self, width=45, height=15)\n",
    "\n",
    "        if i==0:\n",
    "            self.entry = Entry(self, textvariable=self.search_var, width=13)\n",
    "            self.entry.grid(row=0, column=0, padx=10, pady=3)\n",
    "\n",
    "        self.lbox.grid(row=1, column=0, padx=10, pady=3)\n",
    "\n",
    "        # Function for updating the list/doing the search.\n",
    "        # It needs to be called here to populate the listbox.\n",
    "        self.update_list(i)\n",
    "\n",
    "    \n",
    " \n",
    "    def update_list(self,i):\n",
    "\n",
    "        search_term = self.search_var.get()#### THIS LINE SHOULD READ THE TEXT\n",
    "    \n",
    "        # Just a generic list to populate the listbox\n",
    "        if(i==0):\n",
    "            lbox_list = ['Excellent','Very Good','Shabby', 'Unpolite']\n",
    "        if(i==1):\n",
    "            lbox_list = getFromScript(search_term)####### PASS TEXT HERE\n",
    "            print(lbox_list)\n",
    "        #self.lbox.delete(0, END)\n",
    "        for item in lbox_list:\n",
    "                if search_term.lower() in item.lower():\n",
    "                    self.lbox.insert(END, item)\n",
    "\n",
    "\n",
    "root = Tk()\n",
    "root.title('Filter Listbox Test')\n",
    "root.bind_all('<space>', kp)\n",
    "\n",
    "app = Application(master=root)\n",
    "\n",
    "app.mainloop()"
   ]
  },
  {
   "cell_type": "code",
   "execution_count": null,
   "metadata": {
    "collapsed": true
   },
   "outputs": [],
   "source": []
  },
  {
   "cell_type": "code",
   "execution_count": null,
   "metadata": {
    "collapsed": true
   },
   "outputs": [],
   "source": []
  }
 ],
 "metadata": {
  "kernelspec": {
   "display_name": "Python 3",
   "language": "python",
   "name": "python3"
  },
  "language_info": {
   "codemirror_mode": {
    "name": "ipython",
    "version": 3
   },
   "file_extension": ".py",
   "mimetype": "text/x-python",
   "name": "python",
   "nbconvert_exporter": "python",
   "pygments_lexer": "ipython3",
   "version": "3.6.3"
  }
 },
 "nbformat": 4,
 "nbformat_minor": 2
}
