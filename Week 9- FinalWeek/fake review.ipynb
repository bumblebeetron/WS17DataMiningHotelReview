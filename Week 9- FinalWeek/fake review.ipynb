{
 "cells": [
  {
   "cell_type": "code",
   "execution_count": 1,
   "metadata": {
    "collapsed": true
   },
   "outputs": [],
   "source": [
    "import tkinter\n",
    "from tkinter import *\n",
    "from sklearn.externals import joblib\n",
    "import pickle\n",
    "from sklearn.feature_extraction.text import TfidfVectorizer\n",
    "from nltk.corpus import stopwords\n"
   ]
  },
  {
   "cell_type": "code",
   "execution_count": 2,
   "metadata": {
    "collapsed": true
   },
   "outputs": [],
   "source": [
    "def wordSplit(rev, stop_words = stopwords.words('english')):\n",
    "    s = [item for sublist in [f.lower().split() for f in re.findall('\\d+|\\D+',rev.lower())] for item in sublist]\n",
    "    s = [x for x in s if x not in stop_words]\n",
    "    \n",
    "    return s"
   ]
  },
  {
   "cell_type": "code",
   "execution_count": 24,
   "metadata": {
    "collapsed": true
   },
   "outputs": [],
   "source": [
    "clf = joblib.load('AuthenticClassifier.pkl') \n",
    "train=pickle.load(open('allReviews.pickle','rb'))\n",
    "#train=train.values()\n",
    "def isAuthentic(text):\n",
    "    train.iloc[10]=text\n",
    "    tfidf = TfidfVectorizer(stop_words=stopwords.words('english'),tokenizer=wordSplit, lowercase=True).fit(train)\n",
    "    featureMatrix = tfidf.transform(train)\n",
    "    inputmat=featureMatrix[10,:].todense()\n",
    "    \n",
    "    return clf.predict(inputmat[0,0:11469])"
   ]
  },
  {
   "cell_type": "code",
   "execution_count": 31,
   "metadata": {},
   "outputs": [],
   "source": [
    "#alu=isAuthentic('helloe asdnasfn af')\n",
    "def onok():\n",
    "    reviewText = entry.get()\n",
    "    toplevel = Toplevel()\n",
    "    review=isAuthentic(reviewText)\n",
    " \n",
    "    if review[0]==0:\n",
    "        label1 = Label(toplevel, text=\"Fake!!\",height=5,width=20)\n",
    "    if review[0]==1:\n",
    "        label1 = Label(toplevel, text=\"Authentic!!\",height=5,width=20)\n",
    "    label1.pack()\n",
    "   "
   ]
  },
  {
   "cell_type": "code",
   "execution_count": 36,
   "metadata": {},
   "outputs": [
    {
     "name": "stdout",
     "output_type": "stream",
     "text": [
      "[1]\n",
      "[0]\n"
     ]
    }
   ],
   "source": [
    "root = Tk()\n",
    "root.title('Review Authenticator')\n",
    "Label(text='Enter Your review text here').pack(side=TOP,padx=10,pady=10)\n",
    "Button(root, text='Submit', command=onok).pack(side=BOTTOM)\n",
    "entry = Entry(root, width=40)\n",
    "entry.pack(side=TOP,padx=10,pady=10)\n",
    "\n",
    "#Button(root, text='CLOSE').pack(side= RIGHT)\n",
    "root.mainloop()"
   ]
  },
  {
   "cell_type": "code",
   "execution_count": null,
   "metadata": {
    "collapsed": true
   },
   "outputs": [],
   "source": []
  }
 ],
 "metadata": {
  "kernelspec": {
   "display_name": "Python 3",
   "language": "python",
   "name": "python3"
  },
  "language_info": {
   "codemirror_mode": {
    "name": "ipython",
    "version": 3
   },
   "file_extension": ".py",
   "mimetype": "text/x-python",
   "name": "python",
   "nbconvert_exporter": "python",
   "pygments_lexer": "ipython3",
   "version": "3.6.3"
  }
 },
 "nbformat": 4,
 "nbformat_minor": 2
}
