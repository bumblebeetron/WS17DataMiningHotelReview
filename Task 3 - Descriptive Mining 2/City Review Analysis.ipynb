{
 "cells": [
  {
   "cell_type": "code",
   "execution_count": 1,
   "metadata": {
    "collapsed": true
   },
   "outputs": [],
   "source": [
    "import numpy as np\n",
    "import pandas as pd\n",
    "from collections import Counter\n",
    "from operator import itemgetter\n",
    "import matplotlib.pyplot as plt\n",
    "import scipy.stats as stats"
   ]
  },
  {
   "cell_type": "code",
   "execution_count": 38,
   "metadata": {
    "collapsed": true
   },
   "outputs": [],
   "source": [
    "hotelReviews = pd.read_csv('HotelReviewsCountryCity.csv')\n",
    "cities = ['Paris', 'Amsterdam', 'London', 'Milan', 'Barcelona', 'Vienna']\n",
    "countries = ['France', 'Netherlands', 'United Kingdom', 'Italy', 'Spain', 'Austria']"
   ]
  },
  {
   "cell_type": "markdown",
   "metadata": {},
   "source": [
    "# MULTIPLE HOTELS WITH DIFFERENT NAMES"
   ]
  },
  {
   "cell_type": "code",
   "execution_count": null,
   "metadata": {
    "collapsed": true
   },
   "outputs": [],
   "source": [
    "### Same Name, Different Hotel:::\n",
    "len(list(hotelReviews['Hotel_Name'].drop_duplicates())), len(list(hotelReviews[['Hotel_Name', 'Hotel_Address']].drop_duplicates()['Hotel_Name']))"
   ]
  },
  {
   "cell_type": "code",
   "execution_count": null,
   "metadata": {},
   "outputs": [],
   "source": [
    "# Hotel_Name\n",
    "# City\n",
    "# Reviewer_Score\n",
    "# Reviewer_Nationality\n",
    "# Average_Reviewer_Score\n",
    "# Average_Non_Reviewer_Score\n",
    "# Average_General\n",
    "\n",
    "revScoreTable = hotelReviews[[ 'Hotel_Name', \n",
    "                               'Reviewer_Score']]\n",
    "\n",
    "genScoreTable = hotelReviews[[ 'Hotel_Name', \n",
    "                               'Average_Score']].drop_duplicates()\n",
    "\n",
    "hotelNames = list(hotelReviews['Hotel_Name'].drop_duplicates())\n",
    "plt.figure(figsize=(15,7))\n",
    "\n",
    "plt.hist(genScoreTable['Average_Score'], normed=True)\n",
    "data=genScoreTable['Average_Score'].values\n",
    "fit = stats.norm.pdf(data, data.mean(), data.std())\n",
    "plt.title('Distribution of Average Scores of Hotels and Associated Normal Curve')\n",
    "plt.xlabel('Average Ratings')\n",
    "plt.ylabel('PDF / Percentile')\n",
    "#print relCities['Reviewer_Score'].std(), relCities['Reviewer_Score'].mean()\n",
    "plt.plot(genScoreTable['Average_Score'],fit,'o')\n",
    "\n",
    "#plt.show()\n",
    "plt.savefig('AVG_Rat')\n",
    "#print cityName\n",
    "#for p in [5, 40, 60, 80, 90, 95]:\n",
    "#    print '\\t', p, np.percentile(relCities['Reviewer_Score'], p)"
   ]
  },
  {
   "cell_type": "code",
   "execution_count": null,
   "metadata": {},
   "outputs": [],
   "source": [
    "plt.figure(figsize=(15,7))\n",
    "\n",
    "plt.hist(revScoreTable['Reviewer_Score'], normed=True)\n",
    "data=revScoreTable['Reviewer_Score'].values\n",
    "fit = stats.norm.pdf(data, data.mean(), data.std())\n",
    "\n",
    "plt.title('Distribution of Reviewer Scores of Hotels and Associated Normal Curve')\n",
    "plt.xlabel('Scores')\n",
    "plt.ylabel('PDF / Percentile')\n",
    "#print relCities['Reviewer_Score'].std(), relCities['Reviewer_Score'].mean()\n",
    "plt.plot(revScoreTable['Reviewer_Score'],fit,'o')\n",
    "#plt.show()\n",
    "plt.savefig('Rev_Rat')"
   ]
  },
  {
   "cell_type": "code",
   "execution_count": 32,
   "metadata": {
    "scrolled": true
   },
   "outputs": [],
   "source": [
    "# CRIT PLOT!\n",
    "revScores = hotelReviews['Reviewer_Score']\n",
    "allRevPercs = []\n",
    "allRats = np.sort(np.array(list(set(revScores))))\n",
    "p = 0\n",
    "for rat in np.arange(0,10.1,0.1):#allRats:\n",
    "    while(np.percentile(revScores, p) < rat):\n",
    "        p += .1\n",
    "        \n",
    "    allRevPercs.append([p, rat])\n",
    "    #for p in np.arange(0,100,0.1):\n",
    "    #print p, np.percentile(allRatings, p)\n",
    "    #pltPts.append([p, np.percentile(allRatings, p)])\n",
    "    \n",
    "allRevPercs = np.array(allRevPercs)\n",
    "plt.figure(figsize=(15,7))\n",
    "plt.title('Reviewers Ratings Distributions : Globally')\n",
    "plt.xlabel('Rating')\n",
    "plt.ylabel('Percentile')\n",
    "plt.bar(allRevPercs[:,1], allRevPercs[:,0],width=0.3)\n",
    "plt.xticks([i for i in range(11)])\n",
    "#plt.yticks([])\n",
    "plt.show()\n",
    "#plt.savefig('Rev_Rat_Dist')"
   ]
  },
  {
   "cell_type": "code",
   "execution_count": 36,
   "metadata": {},
   "outputs": [],
   "source": [
    "\n",
    "plt.figure(figsize=(15,7))\n",
    "plt.title('Reviewers Ratings Distributions : Globally')\n",
    "plt.xlabel('Rating')\n",
    "plt.ylabel('Percentile')\n",
    "plt.bar(allRevPercs[:,1], allRevPercs[:,0],width=0.1)\n",
    "plt.xticks([i for i in range(11)])\n",
    "#plt.yticks([])\n",
    "#plt.show()\n",
    "plt.savefig('Rev_Rat_Dist')"
   ]
  },
  {
   "cell_type": "code",
   "execution_count": null,
   "metadata": {
    "scrolled": false
   },
   "outputs": [],
   "source": [
    "# CRIT PLOT!\n",
    "\n",
    "allRevPercs = []\n",
    "avgScores = genScoreTable['Average_Score'].values\n",
    "allRats = np.sort(np.array(list(set(genScoreTable['Average_Score']))))\n",
    "p = 0\n",
    "for rat in np.arange(0,9.8,0.1):#allRats:\n",
    "    while(np.percentile(avgScores, p) < rat):\n",
    "        p += .1\n",
    "        \n",
    "    allRevPercs.append([p, rat])\n",
    "    #for p in np.arange(0,100,0.1):\n",
    "    #print p, np.percentile(allRatings, p)\n",
    "    #pltPts.append([p, np.percentile(allRatings, p)])\n",
    "    \n",
    "allRevPercs = np.array(allRevPercs)\n",
    "plt.figure(figsize=(15,7))\n",
    "plt.title('Percentile of All given Ratings')\n",
    "plt.xlabel('Rating')\n",
    "plt.ylabel('Percentile')\n",
    "plt.bar(allRevPercs[:,1], allRevPercs[:,0])\n",
    "plt.xticks([i for i in range(11)])\n",
    "#plt.yticks([])\n",
    "#plt.show()\n",
    "plt.savefig('Perc_avg_Scores')\n",
    "#print allRevPercs"
   ]
  },
  {
   "cell_type": "markdown",
   "metadata": {},
   "source": [
    "# Analysis of Bad, Average, Good and Excellent Reviews By City"
   ]
  },
  {
   "cell_type": "code",
   "execution_count": 46,
   "metadata": {
    "scrolled": false
   },
   "outputs": [
    {
     "data": {
      "image/png": "[encoded data removed]",
      "text/plain": [
       "<matplotlib.figure.Figure at 0x1b9248d0>"
      ]
     },
     "metadata": {},
     "output_type": "display_data"
    },
    {
     "data": {
      "text/html": [
       "<div>\n",
       "<style>\n",
       "    .dataframe thead tr:only-child th {\n",
       "        text-align: right;\n",
       "    }\n",
       "\n",
       "    .dataframe thead th {\n",
       "        text-align: left;\n",
       "    }\n",
       "\n",
       "    .dataframe tbody tr th {\n",
       "        vertical-align: top;\n",
       "    }\n",
       "</style>\n",
       "<table border=\"1\" class=\"dataframe\">\n",
       "  <thead>\n",
       "    <tr style=\"text-align: right;\">\n",
       "      <th></th>\n",
       "      <th>Bad</th>\n",
       "      <th>Average</th>\n",
       "      <th>Good</th>\n",
       "      <th>Very Good</th>\n",
       "    </tr>\n",
       "  </thead>\n",
       "  <tbody>\n",
       "    <tr>\n",
       "      <th>Paris</th>\n",
       "      <td>3</td>\n",
       "      <td>34</td>\n",
       "      <td>62</td>\n",
       "      <td>1</td>\n",
       "    </tr>\n",
       "    <tr>\n",
       "      <th>Amsterdam</th>\n",
       "      <td>5</td>\n",
       "      <td>40</td>\n",
       "      <td>54</td>\n",
       "      <td>1</td>\n",
       "    </tr>\n",
       "    <tr>\n",
       "      <th>London</th>\n",
       "      <td>6</td>\n",
       "      <td>35</td>\n",
       "      <td>58</td>\n",
       "      <td>2</td>\n",
       "    </tr>\n",
       "    <tr>\n",
       "      <th>Milan</th>\n",
       "      <td>4</td>\n",
       "      <td>47</td>\n",
       "      <td>48</td>\n",
       "      <td>0</td>\n",
       "    </tr>\n",
       "    <tr>\n",
       "      <th>Barcelona</th>\n",
       "      <td>3</td>\n",
       "      <td>38</td>\n",
       "      <td>58</td>\n",
       "      <td>2</td>\n",
       "    </tr>\n",
       "    <tr>\n",
       "      <th>Vienna</th>\n",
       "      <td>0</td>\n",
       "      <td>34</td>\n",
       "      <td>64</td>\n",
       "      <td>1</td>\n",
       "    </tr>\n",
       "  </tbody>\n",
       "</table>\n",
       "</div>"
      ],
      "text/plain": [
       "          Bad Average Good Very Good\n",
       "Paris       3      34   62         1\n",
       "Amsterdam   5      40   54         1\n",
       "London      6      35   58         2\n",
       "Milan       4      47   48         0\n",
       "Barcelona   3      38   58         2\n",
       "Vienna      0      34   64         1"
      ]
     },
     "execution_count": 46,
     "metadata": {},
     "output_type": "execute_result"
    }
   ],
   "source": [
    "#hotRevs = hotelReviews[['Hotel_Name', 'City', 'Reviewer_Score', 'Reviewer_Nationality']]\n",
    "hotRevs = hotelReviews[['Hotel_Name', 'City', 'Average_Score']].drop_duplicates()\n",
    "# 0   - 6.3   Bad\n",
    "# 6.3 - 8.0   Sufficient\n",
    "# 8.0 - 8.9   Satisfactory\n",
    "# 8.9 - 9.6   Good\n",
    "# 9.6 - 10    Very Good\n",
    "\n",
    "######\n",
    "# Redo This by Average Scores\n",
    "# \n",
    "\n",
    "#0 – 8.1​\n",
    "#8.2 - 8.4​\n",
    "#8.4 - 8.6​\n",
    "#8.6 - 9.0​\n",
    "#9.1 - 10​\n",
    "\n",
    "reviews = hotRevs['Average_Score']\n",
    "binRevs = []\n",
    "for r in reviews:\n",
    "    if r < 7.5:\n",
    "        binRevs.append(0)\n",
    "    elif r < 8.4:\n",
    "        binRevs.append(1)\n",
    "    elif r < 9.5:\n",
    "        binRevs.append(2)\n",
    "    #elif r < 9.5:\n",
    "    #    binRevs.append(3)\n",
    "    else:\n",
    "        binRevs.append(3)\n",
    "hotRevs['Review_Labels'] = binRevs\n",
    "reviewDistbyCity(cities, hotRevs, pltTitle = 'Distribution of Average Ratings by City')"
   ]
  },
  {
   "cell_type": "code",
   "execution_count": 45,
   "metadata": {},
   "outputs": [
    {
     "name": "stderr",
     "output_type": "stream",
     "text": [
      "C:\\Users\\bingoel\\AppData\\Local\\Continuum\\Anaconda2\\lib\\site-packages\\ipykernel_launcher.py:32: SettingWithCopyWarning: \n",
      "A value is trying to be set on a copy of a slice from a DataFrame.\n",
      "Try using .loc[row_indexer,col_indexer] = value instead\n",
      "\n",
      "See the caveats in the documentation: http://pandas.pydata.org/pandas-docs/stable/indexing.html#indexing-view-versus-copy\n"
     ]
    },
    {
     "data": {
      "image/png": "[encoded data removed]",
      "text/plain": [
       "<matplotlib.figure.Figure at 0x1b935198>"
      ]
     },
     "metadata": {},
     "output_type": "display_data"
    }
   ],
   "source": [
    "hotRevs = hotelReviews[['Hotel_Name', 'City', 'Reviewer_Score', 'Reviewer_Nationality']]\n",
    "#hotRevs = hotelReviews[['Hotel_Name', 'City', 'Average_Score']].drop_duplicates()\n",
    "# 0   - 6.3   Bad\n",
    "# 6.3 - 8.0   Sufficient\n",
    "# 8.0 - 8.9   Satisfactory\n",
    "# 8.9 - 9.6   Good\n",
    "# 9.6 - 10    Very Good\n",
    "\n",
    "######\n",
    "# Redo This by Average Scores\n",
    "# \n",
    "\n",
    "#0 – 8.1​\n",
    "#8.2 - 8.4​\n",
    "#8.4 - 8.6​\n",
    "#8.6 - 9.0​\n",
    "#9.1 - 10​\n",
    "\n",
    "reviews = hotRevs['Reviewer_Score']\n",
    "binRevs = []\n",
    "for r in reviews:\n",
    "    if r < 7.5:\n",
    "        binRevs.append(0)\n",
    "    elif r < 8.4:\n",
    "        binRevs.append(1)\n",
    "    #elif r < 9.1:\n",
    "    #    binRevs.append(2)\n",
    "    elif r < 9.5:\n",
    "        binRevs.append(2)\n",
    "    else:\n",
    "        binRevs.append(3)\n",
    "hotRevs['Review_Labels'] = binRevs\n",
    "cdf = reviewDistbyCity(cities, hotRevs, pltTitle = 'Distribution of Reviewer Ratings by City')"
   ]
  },
  {
   "cell_type": "code",
   "execution_count": 43,
   "metadata": {
    "collapsed": true,
    "scrolled": false
   },
   "outputs": [],
   "source": [
    "def reviewDistbyCity(allCities, hotRevs, nation = '', pltTitle = ''):\n",
    "    #ctyDF = pd.DataFrame(index=allCities, columns=['Bad', 'Sufficient','Satisfactory', 'Good', 'Very Good'])\n",
    "    ctyDF = pd.DataFrame(index=allCities, columns=['Bad', 'Average', 'Good', 'Very Good'])\n",
    "\n",
    "    for c in allCities:\n",
    "        if nation is '':\n",
    "            c_Mat = hotRevs.loc[hotRevs['City'] == c]\n",
    "        else:\n",
    "            c_Mat = hotRevs.loc[(hotRevs['City'] == c)].loc[hotRevs['Reviewer_Nationality'] == nation]\n",
    "            \n",
    "        rArr = np.array(c_Mat['Review_Labels'])\n",
    "        r1 = 1.0 * sum(rArr == 0)\n",
    "        r2 = 1.0 * sum(rArr == 1)\n",
    "        r3 = 1.0 * sum(rArr == 2)\n",
    "        r4 = 1.0 * sum(rArr == 3)\n",
    "        #r5 = 1.0 * sum(rArr == 4)\n",
    "\n",
    "        #binRevs = [ np.round(10000 * badR / rArr.shape[0]) / 100, \n",
    "        #            np.round(10000 * avgR / rArr.shape[0]) / 100,\n",
    "        #            np.round(10000 * goodR / rArr.shape[0]) / 100,\n",
    "        #            np.round(10000 * excR / rArr.shape[0]) / 100]\n",
    "\n",
    "        binRevs = [ np.round(100 * r1 / rArr.shape[0]),\n",
    "                    np.round(100 * r2 / rArr.shape[0]),\n",
    "                    np.round(100 * r3 / rArr.shape[0]),\n",
    "                    np.round(100 * r4 / rArr.shape[0])]\n",
    "                    #np.round(100 * r5 / rArr.shape[0])]\n",
    "\n",
    "\n",
    "        ctyDF['Bad'][c] = binRevs[0]\n",
    "        ctyDF['Average'][c] = binRevs[1]\n",
    "        ctyDF['Good'][c] = binRevs[2]\n",
    "        ctyDF['Very Good'][c] = binRevs[3]\n",
    "        #ctyDF['Very Good'][c] = binRevs[4]\n",
    "\n",
    "    fig_size = plt.rcParams[\"figure.figsize\"]\n",
    " \n",
    "    fig_size[0] = 15\n",
    "    fig_size[1] = 7\n",
    "    ctyDF.plot.bar()\n",
    "    \n",
    "    figName = 'City by Percentage of Reviews2'\n",
    "    if nation is not '':\n",
    "        figName = figName + ' by '+nation+'Nationales'\n",
    "    plt.title(pltTitle)\n",
    "    plt.savefig(figName)\n",
    "    plt.show()\n",
    "    return ctyDF"
   ]
  },
  {
   "cell_type": "markdown",
   "metadata": {},
   "source": [
    "# Franchise Analysis"
   ]
  },
  {
   "cell_type": "code",
   "execution_count": null,
   "metadata": {},
   "outputs": [],
   "source": [
    "h, list(hotelReviews['Hotel_Name'])"
   ]
  },
  {
   "cell_type": "code",
   "execution_count": 48,
   "metadata": {
    "scrolled": false
   },
   "outputs": [],
   "source": [
    "hotelReviews = pd.read_csv('Hotel_Reviews.csv')\n",
    "hotNames = list(hotelReviews['Hotel_Name'])\n",
    "hotNames = [i.lower() for i in hotNames]\n",
    "hotelReviews['Hotel_Name'] = hotNames\n",
    "\n",
    "hotelNames = ['Best Western', 'Mercure', 'Hilton','Novotel', 'Marriott', \n",
    "'Holiday Inn', 'Luxury Collection', 'NH Collection', 'Starhotels', \n",
    "'IH Hotels', 'Autograph Collection', 'Radisson Blu']\n",
    "\n",
    "hotelNames = [i.lower() for i in hotelNames]\n",
    "ctyDF = pd.DataFrame(index=hotelNames, columns=['Bad', 'Average','Good', 'Very Good'])\n",
    "\n",
    "for h in hotelNames:\n",
    "    hns = list(hotelReviews['Hotel_Name'])\n",
    "    hns = [True if h in hn else False for hn in hns]\n",
    "    hotelMat = hotelReviews[hns]\n",
    "    hotelMat = hotelMat[['Hotel_Name', 'Reviewer_Score']]\n",
    "    reviews = hotelMat['Reviewer_Score']\n",
    "    binRevs = []\n",
    "    for r in reviews:\n",
    "        if r < 7.5:\n",
    "            binRevs.append(0)\n",
    "        elif r < 8.4:\n",
    "            binRevs.append(1)\n",
    "        #elif r < 9.1:\n",
    "        #    binRevs.append(2)\n",
    "        elif r < 9.5:\n",
    "            binRevs.append(2)\n",
    "        else:\n",
    "            binRevs.append(3)\n",
    "    rArr = np.array(binRevs)\n",
    "    r1 = 1.0 * sum(rArr == 0)\n",
    "    r2 = 1.0 * sum(rArr == 1)\n",
    "    r3 = 1.0 * sum(rArr == 2)\n",
    "    r4 = 1.0 * sum(rArr  == 3)\n",
    "    #r5 = 1.0 * sum(rArr == 4)\n",
    "\n",
    "    binRevs = [ np.round(100 * r1 / rArr.shape[0]),\n",
    "                    np.round(100 * r2 / rArr.shape[0]),\n",
    "                    np.round(100 * r3 / rArr.shape[0]),\n",
    "                    np.round(100 * r4 / rArr.shape[0])]\n",
    "                    #np.round(100 * r5 / rArr.shape[0])]\n",
    "\n",
    "\n",
    "    ctyDF['Bad'][h] = binRevs[0]\n",
    "    ctyDF['Average'][h] = binRevs[1]\n",
    "    ctyDF['Good'][h] = binRevs[2]\n",
    "    ctyDF['Very Good'][h] = binRevs[3]\n",
    "\n",
    "        \n",
    "        \n",
    "    #hotelMat['Review_Labels'] = binRevs\n",
    "    #hotelMat['Hotel_Name']\n",
    "    #print h, hotelMat.shape\n"
   ]
  },
  {
   "cell_type": "code",
   "execution_count": 50,
   "metadata": {},
   "outputs": [
    {
     "data": {
      "image/png": "[encoded data removed]",
      "text/plain": [
       "<matplotlib.figure.Figure at 0x1545c470>"
      ]
     },
     "metadata": {},
     "output_type": "display_data"
    }
   ],
   "source": [
    "    \n",
    "ctyDF2= pd.DataFrame(index=['Best Western', 'Mercure', 'Hilton','Novotel', 'Marriott', 'Holiday Inn', 'Luxury Col.', 'NH Collection', 'Starhotels', 'IH Hotels', 'Autograph Col.', 'Radisson Blu'], columns=['Bad', 'Average','Good', 'Very Good'])\n",
    "\n",
    "ctyDF2['Bad'] = list(ctyDF['Bad'])\n",
    "ctyDF2['Average'] = list(ctyDF['Average'])\n",
    "ctyDF2['Good'] = list(ctyDF['Good'])\n",
    "ctyDF2['Very Good'] = list(ctyDF['Very Good'])\n",
    "\n",
    "fig_size = plt.rcParams[\"figure.figsize\"]\n",
    " \n",
    "fig_size[0] = 15\n",
    "fig_size[1] = 7\n",
    "ctyDF2.plot.bar()\n",
    "\n",
    "plt.savefig('Franchise Hotel Review Distributions')\n",
    "plt.show()\n"
   ]
  }
 ],
 "metadata": {
  "kernelspec": {
   "display_name": "Python 2",
   "language": "python",
   "name": "python2"
  },
  "language_info": {
   "codemirror_mode": {
    "name": "ipython",
    "version": 2
   },
   "file_extension": ".py",
   "mimetype": "text/x-python",
   "name": "python",
   "nbconvert_exporter": "python",
   "pygments_lexer": "ipython2",
   "version": "2.7.13"
  }
 },
 "nbformat": 4,
 "nbformat_minor": 2
}
