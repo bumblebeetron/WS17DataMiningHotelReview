{
 "cells": [
  {
   "cell_type": "code",
   "execution_count": 1,
   "metadata": {
    "collapsed": true
   },
   "outputs": [],
   "source": [
    "import numpy as np\n",
    "import pandas as pd\n",
    "from geopy.geocoders import Nominatim\n",
    "from collections import Counter\n",
    "from operator import itemgetter\n",
    "import matplotlib.pyplot as plt\n",
    "import scipy.stats as stats"
   ]
  },
  {
   "cell_type": "code",
   "execution_count": 6,
   "metadata": {
    "collapsed": true
   },
   "outputs": [],
   "source": [
    "hotelReviews = pd.read_csv('C:\\Users\\deniz\\Documents\\HotelReviewsCountryCity.csv')\n",
    "cities = ['Paris', 'Amsterdam', 'London', 'Milan', 'Barcelona', 'Vienna']\n",
    "countries = ['France', 'Netherlands', 'United Kingdom', 'Italy', 'Spain', 'Austria']"
   ]
  },
  {
   "cell_type": "markdown",
   "metadata": {},
   "source": [
    "# MULTIPLE HOTELS WITH DIFFERENT NAMES"
   ]
  },
  {
   "cell_type": "markdown",
   "metadata": {},
   "source": [
    "1 - Do the non-reviewer average\n",
    "\n",
    "    Check if reviewer averages align with non-reviewer averages\n",
    "\n",
    "2 - Look at the distribution of averages (Globally and City Wise)\n",
    "    \n",
    "    Bar Plot for each city\n",
    "    Line Plot for each city with different color in the same plot\n",
    "    \n",
    "3 - Look at the distribution of reviewer scores (Globally and City Wise)\n",
    "    \n",
    "    Bar Plot for each city\n",
    "    Line Plot for each city with different color in the same plot\n",
    "    \n",
    "4 - Decide on the bins\n",
    "    \n",
    "    Based on new plots. Explain the logic in the wiki.\n",
    "\n",
    "5 - Re-Plot last week's graphs by the new bins\n",
    "\n",
    "    Fill the wiki but don't put a lot of plots in the wiki, Just add them and add the link"
   ]
  },
  {
   "cell_type": "code",
   "execution_count": 122,
   "metadata": {},
   "outputs": [
    {
     "data": {
      "text/plain": [
       "(1492, 1494)"
      ]
     },
     "execution_count": 122,
     "metadata": {},
     "output_type": "execute_result"
    }
   ],
   "source": [
    "### Same Name, Different Hotel:::\n",
    "len(list(hotelReviews['Hotel_Name'].drop_duplicates())), len(list(hotelReviews[['Hotel_Name', 'Hotel_Address']].drop_duplicates()['Hotel_Name']))"
   ]
  },
  {
   "cell_type": "code",
   "execution_count": 92,
   "metadata": {
    "collapsed": true
   },
   "outputs": [],
   "source": [
    "# Hotel_Name\n",
    "# City\n",
    "# Reviewer_Score\n",
    "# Reviewer_Nationality\n",
    "# Average_Reviewer_Score\n",
    "# Average_Non_Reviewer_Score\n",
    "# Average_General\n",
    "\n",
    "revScoreTable = hotelReviews[[ 'Hotel_Name', \n",
    "                               'Reviewer_Score']]\n",
    "\n",
    "genScoreTable = hotelReviews[[ 'Hotel_Name', \n",
    "                               'Average_Score', \n",
    "                               'Total_Number_of_Reviews',\n",
    "                               'Additional_Number_of_Scoring']].drop_duplicates()\n",
    "\n",
    "hotelNames = list(hotelReviews['Hotel_Name'].drop_duplicates())"
   ]
  },
  {
   "cell_type": "code",
   "execution_count": 103,
   "metadata": {
    "collapsed": true
   },
   "outputs": [
    {
     "name": "stdout",
     "output_type": "stream",
     "text": [
      "0.0\n",
      "10.0536193029\n",
      "20.1072386059\n",
      "30.1608579088\n",
      "40.2144772118\n",
      "50.2680965147\n"
     ]
    },
    {
     "ename": "TypeError",
     "evalue": "cannot convert the series to <type 'float'>",
     "output_type": "error",
     "traceback": [
      "\u001b[1;31m---------------------------------------------------------------------------\u001b[0m",
      "\u001b[1;31mTypeError\u001b[0m                                 Traceback (most recent call last)",
      "\u001b[1;32m<ipython-input-103-53939d7ef1a9>\u001b[0m in \u001b[0;36m<module>\u001b[1;34m()\u001b[0m\n\u001b[0;32m     10\u001b[0m     \u001b[0mrevScores\u001b[0m \u001b[1;33m=\u001b[0m \u001b[0mnp\u001b[0m\u001b[1;33m.\u001b[0m\u001b[0marray\u001b[0m\u001b[1;33m(\u001b[0m\u001b[0mrevScoreTable\u001b[0m\u001b[1;33m.\u001b[0m\u001b[0mloc\u001b[0m\u001b[1;33m[\u001b[0m\u001b[0mrevScoreTable\u001b[0m\u001b[1;33m[\u001b[0m\u001b[1;34m'Hotel_Name'\u001b[0m\u001b[1;33m]\u001b[0m \u001b[1;33m==\u001b[0m \u001b[0mh\u001b[0m\u001b[1;33m]\u001b[0m\u001b[1;33m[\u001b[0m\u001b[1;34m'Reviewer_Score'\u001b[0m\u001b[1;33m]\u001b[0m\u001b[1;33m)\u001b[0m\u001b[1;33m\u001b[0m\u001b[0m\n\u001b[0;32m     11\u001b[0m     \u001b[0mrss\u001b[0m \u001b[1;33m=\u001b[0m \u001b[0mgenScoreTable\u001b[0m\u001b[1;33m.\u001b[0m\u001b[0mloc\u001b[0m\u001b[1;33m[\u001b[0m\u001b[0mgenScoreTable\u001b[0m\u001b[1;33m[\u001b[0m\u001b[1;34m'Hotel_Name'\u001b[0m\u001b[1;33m]\u001b[0m \u001b[1;33m==\u001b[0m \u001b[0mh\u001b[0m\u001b[1;33m]\u001b[0m\u001b[1;33m\u001b[0m\u001b[0m\n\u001b[1;32m---> 12\u001b[1;33m     \u001b[0mgenAvg\u001b[0m \u001b[1;33m=\u001b[0m \u001b[0mnp\u001b[0m\u001b[1;33m.\u001b[0m\u001b[0mfloat\u001b[0m\u001b[1;33m(\u001b[0m\u001b[0mrss\u001b[0m\u001b[1;33m[\u001b[0m\u001b[1;34m'Average_Score'\u001b[0m\u001b[1;33m]\u001b[0m\u001b[1;33m)\u001b[0m\u001b[1;33m\u001b[0m\u001b[0m\n\u001b[0m\u001b[0;32m     13\u001b[0m     \u001b[0mtotRev\u001b[0m \u001b[1;33m=\u001b[0m \u001b[0mnp\u001b[0m\u001b[1;33m.\u001b[0m\u001b[0mint\u001b[0m\u001b[1;33m(\u001b[0m\u001b[0mrss\u001b[0m\u001b[1;33m[\u001b[0m\u001b[1;34m'Total_Number_of_Reviews'\u001b[0m\u001b[1;33m]\u001b[0m\u001b[1;33m)\u001b[0m\u001b[1;33m\u001b[0m\u001b[0m\n\u001b[0;32m     14\u001b[0m     \u001b[0mans\u001b[0m \u001b[1;33m=\u001b[0m \u001b[0mnp\u001b[0m\u001b[1;33m.\u001b[0m\u001b[0mint\u001b[0m\u001b[1;33m(\u001b[0m\u001b[0mrss\u001b[0m\u001b[1;33m[\u001b[0m\u001b[1;34m'Additional_Number_of_Scoring'\u001b[0m\u001b[1;33m]\u001b[0m\u001b[1;33m)\u001b[0m\u001b[1;33m\u001b[0m\u001b[0m\n",
      "\u001b[1;32mC:\\ProgramData\\Anaconda2\\lib\\site-packages\\pandas\\core\\series.py\u001b[0m in \u001b[0;36mwrapper\u001b[1;34m(self)\u001b[0m\n\u001b[0;32m     95\u001b[0m             \u001b[1;32mreturn\u001b[0m \u001b[0mconverter\u001b[0m\u001b[1;33m(\u001b[0m\u001b[0mself\u001b[0m\u001b[1;33m.\u001b[0m\u001b[0miloc\u001b[0m\u001b[1;33m[\u001b[0m\u001b[1;36m0\u001b[0m\u001b[1;33m]\u001b[0m\u001b[1;33m)\u001b[0m\u001b[1;33m\u001b[0m\u001b[0m\n\u001b[0;32m     96\u001b[0m         raise TypeError(\"cannot convert the series to \"\n\u001b[1;32m---> 97\u001b[1;33m                         \"{0}\".format(str(converter)))\n\u001b[0m\u001b[0;32m     98\u001b[0m \u001b[1;33m\u001b[0m\u001b[0m\n\u001b[0;32m     99\u001b[0m     \u001b[1;32mreturn\u001b[0m \u001b[0mwrapper\u001b[0m\u001b[1;33m\u001b[0m\u001b[0m\n",
      "\u001b[1;31mTypeError\u001b[0m: cannot convert the series to <type 'float'>"
     ]
    }
   ],
   "source": [
    "revAvg = []\n",
    "nonRevAvg = []\n",
    "\n",
    "for i in range(len(hotelNames)):\n",
    "    if i % 150 == 0:\n",
    "        print (100.0 * i) / len(hotelNames)\n",
    "    \n",
    "    h = hotelNames[i]\n",
    "    \n",
    "    revScores = np.array(revScoreTable.loc[revScoreTable['Hotel_Name'] == h]['Reviewer_Score'])\n",
    "    rss = genScoreTable.loc[genScoreTable['Hotel_Name'] == h]\n",
    "    genAvg = np.float(rss['Average_Score'])\n",
    "    totRev = np.int(rss['Total_Number_of_Reviews'])\n",
    "    ans = np.int(rss['Additional_Number_of_Scoring'])\n",
    "    \n",
    "    revAvg.append(revScores.mean())\n",
    "    nonRevAvg.append((genAvg * (totRev + ans) - revScores.sum()) / ans)"
   ]
  },
  {
   "cell_type": "code",
   "execution_count": 7,
   "metadata": {},
   "outputs": [
    {
     "name": "stdout",
     "output_type": "stream",
     "text": [
      "1.64584929985 8.3500275728\n"
     ]
    },
    {
     "data": {
      "image/png": "[encoded data removed]",
      "text/plain": [
       "<matplotlib.figure.Figure at 0x1faf0da0>"
      ]
     },
     "metadata": {},
     "output_type": "display_data"
    },
    {
     "name": "stdout",
     "output_type": "stream",
     "text": [
      "Milan\n",
      "\t5 5.0\n",
      "\t40 8.3\n",
      "\t60 9.2\n",
      "\t80 10.0\n",
      "\t90 10.0\n",
      "\t95 10.0\n"
     ]
    }
   ],
   "source": [
    "for cityName in ['Milan']:\n",
    "    relCities = hotelReviews[hotelReviews['City'] == cityName]\n",
    "    plt.hist(relCities['Reviewer_Score'], normed=True)\n",
    "\n",
    "    data=relCities['Reviewer_Score'].values\n",
    "    fit = stats.norm.pdf(data, relCities['Reviewer_Score'].mean(), relCities['Reviewer_Score'].std())\n",
    "\n",
    "    print relCities['Reviewer_Score'].std(), relCities['Reviewer_Score'].mean()\n",
    "\n",
    "    plt.plot(relCities['Reviewer_Score'],fit,'o')\n",
    "    plt.show()\n",
    "    print cityName\n",
    "    for p in [5, 40, 60, 80, 90, 95]:\n",
    "        print '\\t', p, np.percentile(relCities['Reviewer_Score'], p)"
   ]
  },
  {
   "cell_type": "markdown",
   "metadata": {},
   "source": [
    "00 - 40 : Bad\n",
    "\n",
    "40 - 60 : Sufficient\n",
    "\n",
    "60 - 80 : Satisfactory\n",
    "\n",
    "80 - 90 : Good\n",
    "\n",
    "90 - 100: Very Good"
   ]
  },
  {
   "cell_type": "code",
   "execution_count": 119,
   "metadata": {
    "collapsed": true
   },
   "outputs": [],
   "source": [
    "relCities = hotelReviews['Reviewer_Score']\n",
    "\n",
    "cntRat = Counter(np.array(relCities))\n",
    "ratMat = []\n",
    "for c in cntRat:\n",
    "    ratMat.append([c, cntRat[c]])\n",
    "ratMat = np.array(ratMat)\n",
    "ratMat = ratMat[np.lexsort((ratMat[:,1], ratMat[:,0])),:]\n",
    "\n",
    "#plotDF = pd.DataFrame(index=ratMat[:,0], columns=['Counts'])\n",
    "#plotDF['Counts'] = ratMat[:,1]\n",
    "#fig_size = plt.rcParams[\"figure.figsize\"]\n",
    "#fig_size[0] = 15\n",
    "#fig_size[1] = 7\n",
    "#plotDF.plot.bar()\n",
    "#plt.show()"
   ]
  },
  {
   "cell_type": "code",
   "execution_count": 120,
   "metadata": {
    "scrolled": false
   },
   "outputs": [
    {
     "data": {
      "image/png": "[encoded data removed]",
      "text/plain": [
       "<matplotlib.figure.Figure at 0x150e6898>"
      ]
     },
     "metadata": {},
     "output_type": "display_data"
    }
   ],
   "source": [
    "allRatings = np.array(relCities)\n",
    "plt.hist(allRatings, normed=True)\n",
    "fit = stats.norm.pdf(allRatings, allRatings.mean(), allRatings.std())\n",
    "\n",
    "plt.plot(allRatings,fit,'o')\n",
    "plt.show()"
   ]
  },
  {
   "cell_type": "code",
   "execution_count": 61,
   "metadata": {
    "scrolled": false
   },
   "outputs": [
    {
     "data": {
      "image/png": "[encoded data removed]",
      "text/plain": [
       "<matplotlib.figure.Figure at 0x13ceebe0>"
      ]
     },
     "metadata": {},
     "output_type": "display_data"
    }
   ],
   "source": [
    "allRevPercs = []\n",
    "for rat in range(11):\n",
    "    p = 0\n",
    "    while(np.percentile(allRatings, p) < rat):\n",
    "        p += .1\n",
    "        \n",
    "    allRevPercs.append([p, rat])\n",
    "    #for p in np.arange(0,100,0.1):\n",
    "    #print p, np.percentile(allRatings, p)\n",
    "    #pltPts.append([p, np.percentile(allRatings, p)])\n",
    "    \n",
    "allRevPercs = np.array(allRevPercs)\n",
    "plt.bar(allRevPercs[:,1], allRevPercs[:,0])\n",
    "plt.xticks([i for i in range(11)])\n",
    "plt.show()"
   ]
  },
  {
   "cell_type": "code",
   "execution_count": 121,
   "metadata": {},
   "outputs": [
    {
     "data": {
      "image/png": "[encoded data removed]",
      "text/plain": [
       "<matplotlib.figure.Figure at 0x150c5eb8>"
      ]
     },
     "metadata": {},
     "output_type": "display_data"
    }
   ],
   "source": [
    "# CRIT PLOT!\n",
    "\n",
    "allRevPercs = []\n",
    "allRats = np.sort(np.array(list(set(allRatings))))\n",
    "p = 0\n",
    "for rat in np.arange(0,10,0.1):#allRats:\n",
    "    while(np.percentile(allRatings, p) < rat):\n",
    "        p += .1\n",
    "        \n",
    "    allRevPercs.append([p, rat])\n",
    "    #for p in np.arange(0,100,0.1):\n",
    "    #print p, np.percentile(allRatings, p)\n",
    "    #pltPts.append([p, np.percentile(allRatings, p)])\n",
    "    \n",
    "allRevPercs = np.array(allRevPercs)\n",
    "plt.bar(allRevPercs[:,1], allRevPercs[:,0])\n",
    "plt.xticks([i for i in range(11)])\n",
    "#plt.yticks([])\n",
    "plt.show()\n",
    "\n",
    "print allRevPercs"
   ]
  },
  {
   "cell_type": "markdown",
   "metadata": {},
   "source": [
    "# Analysis of Bad, Average, Good and Excellent Reviews By City"
   ]
  },
  {
   "cell_type": "code",
   "execution_count": 5,
   "metadata": {},
   "outputs": [
    {
     "name": "stderr",
     "output_type": "stream",
     "text": [
      "C:\\ProgramData\\Anaconda2\\lib\\site-packages\\ipykernel_launcher.py:17: SettingWithCopyWarning: \n",
      "A value is trying to be set on a copy of a slice from a DataFrame.\n",
      "Try using .loc[row_indexer,col_indexer] = value instead\n",
      "\n",
      "See the caveats in the documentation: http://pandas.pydata.org/pandas-docs/stable/indexing.html#indexing-view-versus-copy\n"
     ]
    }
   ],
   "source": [
    "hotRevs = hotelReviews[['Hotel_Name', 'City', 'Reviewer_Score', 'Reviewer_Nationality']]\n",
    "# 0-4: Bad          0\n",
    "# 4-6: Average      0\n",
    "# 6-8: Good         0\n",
    "# 9-10: Excellent   0\n",
    "reviews = hotRevs['Reviewer_Score']\n",
    "binRevs = []\n",
    "for r in reviews:\n",
    "    if 0.0 < r <= 4:\n",
    "        binRevs.append(0)\n",
    "    elif 4 < r <= 6:\n",
    "        binRevs.append(1)\n",
    "    elif 6 < r <= 8:\n",
    "        binRevs.append(2)\n",
    "    elif 8 < r <= 10.0:\n",
    "        binRevs.append(3)\n",
    "hotRevs['Review_Labels'] = binRevs"
   ]
  },
  {
   "cell_type": "code",
   "execution_count": 7,
   "metadata": {
    "collapsed": true,
    "scrolled": false
   },
   "outputs": [],
   "source": [
    "def reviewDistbyCity(allCities, hotRevs, nation = ''):\n",
    "    ctyDF = pd.DataFrame(index=allCities, columns=['Bad', 'Average','Good', 'Excellent'])\n",
    "\n",
    "    for c in allCities:\n",
    "        if nation is '':\n",
    "            c_Mat = hotRevs.loc[hotRevs['City'] == c]\n",
    "        else:\n",
    "            c_Mat = hotRevs.loc[(hotRevs['City'] == c)].loc[hotRevs['Reviewer_Nationality'] == nation]\n",
    "            \n",
    "        rArr = np.array(c_Mat['Review_Labels'])\n",
    "        badR = 1.0 * sum(rArr == 0)\n",
    "        avgR = 1.0 * sum(rArr == 1)\n",
    "        goodR = 1.0 * sum(rArr == 2)\n",
    "        excR = 1.0 * sum(rArr  == 3)\n",
    "\n",
    "        #binRevs = [ np.round(10000 * badR / rArr.shape[0]) / 100, \n",
    "        #            np.round(10000 * avgR / rArr.shape[0]) / 100,\n",
    "        #            np.round(10000 * goodR / rArr.shape[0]) / 100,\n",
    "        #            np.round(10000 * excR / rArr.shape[0]) / 100]\n",
    "\n",
    "        binRevs = [ np.round(100 * badR / rArr.shape[0]),\n",
    "                    np.round(100 * avgR / rArr.shape[0]),\n",
    "                    np.round(100 * goodR / rArr.shape[0]),\n",
    "                    np.round(100 * excR / rArr.shape[0])]\n",
    "\n",
    "\n",
    "        ctyDF['Bad'][c] = binRevs[0]\n",
    "        ctyDF['Average'][c] = binRevs[1]\n",
    "        ctyDF['Good'][c] = binRevs[2]\n",
    "        ctyDF['Excellent'][c] = binRevs[3]\n",
    "\n",
    "    fig_size = plt.rcParams[\"figure.figsize\"]\n",
    " \n",
    "    fig_size[0] = 15\n",
    "    fig_size[1] = 7\n",
    "    ctyDF.plot.bar()\n",
    "    \n",
    "    figName = 'City by Percentage of Reviews'\n",
    "    if nation is not '':\n",
    "        figName = figName + ' by '+nation+'Nationales'\n",
    "    plt.title('Distribution of Reviews by City')\n",
    "    plt.savefig(figName)\n",
    "    plt.show()"
   ]
  },
  {
   "cell_type": "markdown",
   "metadata": {},
   "source": [
    "# Average score of Hotels or Cities or Nations by Reviewer Nationality"
   ]
  },
  {
   "cell_type": "code",
   "execution_count": 8,
   "metadata": {
    "collapsed": true,
    "scrolled": false
   },
   "outputs": [],
   "source": [
    "def plotRelat(hotelReviews, Type = 'Hotel_Name', Nationality = ' United Kingdom ', Threshold = 100):\n",
    "\n",
    "    df = hotelReviews[[Type, 'Reviewer_Nationality', 'Reviewer_Score']]\n",
    "    df = df.loc[df['Reviewer_Nationality'] == Nationality]\n",
    "\n",
    "    relatNames = list(set(df[Type]))\n",
    "\n",
    "    print 'Review Data'\n",
    "    reviewData = []\n",
    "    for rn in relatNames:\n",
    "        ratings = np.array(df.loc[df[Type] == rn]['Reviewer_Score'])\n",
    "        if ratings.shape[0] >= Threshold:\n",
    "            reviewData.append([rn, np.mean(ratings), np.std(ratings), ratings.shape[0]])\n",
    "    \n",
    "    print 'Relative Names and Reviews'\n",
    "    relNames = []\n",
    "    relRevs = []\n",
    "    relStds = []\n",
    "    for i in reversed(sorted(reviewData, key=itemgetter(1))):\n",
    "        relNames.append(i[0])\n",
    "        relRevs.append(i[1])\n",
    "        relStds.append(i[2])\n",
    "    \n",
    "    print 'Plotting'\n",
    "    \n",
    "    objects = relNames\n",
    "    y_pos = np.arange(len(relNames))\n",
    "    performance = relRevs\n",
    "\n",
    "    fig_size = plt.rcParams[\"figure.figsize\"]\n",
    " \n",
    "    fig_size[0] = 15\n",
    "    fig_size[1] = 7\n",
    "\n",
    "    plt.ylim([0,11])\n",
    "    plt.bar(y_pos, performance, align='center', alpha=0.5, yerr = relStds)\n",
    "    plt.xticks(y_pos, objects)\n",
    "    plt.ylabel('Mean Reviews')\n",
    "    plt.title('Reviews of'+Nationality+' Nationales by '+Type)\n",
    "\n",
    "    plt.savefig('Reviews of'+Nationality+' Nationales by '+Type)\n",
    "    plt.clf()\n",
    "    #plt.show()"
   ]
  }
 ],
 "metadata": {
  "kernelspec": {
   "display_name": "Python 2",
   "language": "python",
   "name": "python2"
  },
  "language_info": {
   "codemirror_mode": {
    "name": "ipython",
    "version": 2
   },
   "file_extension": ".py",
   "mimetype": "text/x-python",
   "name": "python",
   "nbconvert_exporter": "python",
   "pygments_lexer": "ipython2",
   "version": "2.7.13"
  }
 },
 "nbformat": 4,
 "nbformat_minor": 2
}
