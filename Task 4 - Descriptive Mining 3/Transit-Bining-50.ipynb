{
 "cells": [
  {
   "cell_type": "code",
   "execution_count": 2,
   "metadata": {
    "collapsed": true
   },
   "outputs": [],
   "source": [
    "import pandas as pd\n",
    "import numpy as np\n",
    "import matplotlib.pyplot as plt\n",
    "import matplotlib.pylab as pylab\n",
    "import seaborn as sns\n",
    "from pylab import rcParams\n",
    "from sklearn import preprocessing\n",
    "\n",
    "import scipy\n",
    "from scipy.stats.stats import pearsonr"
   ]
  },
  {
   "cell_type": "code",
   "execution_count": 3,
   "metadata": {
    "collapsed": true
   },
   "outputs": [],
   "source": [
    "%matplotlib inline\n",
    "pylab.rcParams[ 'figure.figsize' ] = 5 , 4\n",
    "sns.set_style('whitegrid')"
   ]
  },
  {
   "cell_type": "code",
   "execution_count": 4,
   "metadata": {
    "collapsed": true
   },
   "outputs": [],
   "source": [
    "Transit_Reviews=pd.read_csv(\"transitfinal3and.csv\", usecols=['Hotel_Name','transit_count','Review_Count'])\n",
    "Transit_Reviews = Transit_Reviews.drop_duplicates()\n",
    "Transit_Reviews.index = pd.RangeIndex(start=0, stop=len(Transit_Reviews), step=1)\n",
    "Transit_Reviews.to_csv('transitfinal3and.csv')\n",
    "Transit=pd.read_csv(\"transitfinal3and.csv\", usecols=['Hotel_Name','transit_count','Review_Count'])\n",
    "\n"
   ]
  },
  {
   "cell_type": "code",
   "execution_count": 5,
   "metadata": {},
   "outputs": [
    {
     "data": {
      "text/html": [
       "<div>\n",
       "<style>\n",
       "    .dataframe thead tr:only-child th {\n",
       "        text-align: right;\n",
       "    }\n",
       "\n",
       "    .dataframe thead th {\n",
       "        text-align: left;\n",
       "    }\n",
       "\n",
       "    .dataframe tbody tr th {\n",
       "        vertical-align: top;\n",
       "    }\n",
       "</style>\n",
       "<table border=\"1\" class=\"dataframe\">\n",
       "  <thead>\n",
       "    <tr style=\"text-align: right;\">\n",
       "      <th></th>\n",
       "      <th>Hotel_Name</th>\n",
       "      <th>Reviewer_Score</th>\n",
       "    </tr>\n",
       "  </thead>\n",
       "  <tbody>\n",
       "    <tr>\n",
       "      <th>0</th>\n",
       "      <td>Hotel Arena</td>\n",
       "      <td>2.9</td>\n",
       "    </tr>\n",
       "    <tr>\n",
       "      <th>1</th>\n",
       "      <td>Hotel Arena</td>\n",
       "      <td>7.5</td>\n",
       "    </tr>\n",
       "    <tr>\n",
       "      <th>2</th>\n",
       "      <td>Hotel Arena</td>\n",
       "      <td>7.1</td>\n",
       "    </tr>\n",
       "    <tr>\n",
       "      <th>3</th>\n",
       "      <td>Hotel Arena</td>\n",
       "      <td>3.8</td>\n",
       "    </tr>\n",
       "    <tr>\n",
       "      <th>4</th>\n",
       "      <td>Hotel Arena</td>\n",
       "      <td>6.7</td>\n",
       "    </tr>\n",
       "  </tbody>\n",
       "</table>\n",
       "</div>"
      ],
      "text/plain": [
       "    Hotel_Name  Reviewer_Score\n",
       "0  Hotel Arena             2.9\n",
       "1  Hotel Arena             7.5\n",
       "2  Hotel Arena             7.1\n",
       "3  Hotel Arena             3.8\n",
       "4  Hotel Arena             6.7"
      ]
     },
     "execution_count": 5,
     "metadata": {},
     "output_type": "execute_result"
    }
   ],
   "source": [
    "Hotel_Reviews=pd.read_csv(\"Hotel_Reviews.csv\",usecols=['Hotel_Name','Reviewer_Score'])\n",
    "Hotel_Reviews.head()"
   ]
  },
  {
   "cell_type": "code",
   "execution_count": 6,
   "metadata": {
    "collapsed": true
   },
   "outputs": [],
   "source": [
    "Hotel_name=np.array([])\n",
    "mean_reviewer_score=np.array([])"
   ]
  },
  {
   "cell_type": "code",
   "execution_count": 7,
   "metadata": {
    "collapsed": true
   },
   "outputs": [],
   "source": [
    "Hotels=Hotel_Reviews.Hotel_Name.unique()"
   ]
  },
  {
   "cell_type": "code",
   "execution_count": 8,
   "metadata": {
    "collapsed": true
   },
   "outputs": [],
   "source": [
    "for Hotel in Hotels:\n",
    "    TEMP=Hotel_Reviews.loc[Hotel_Reviews['Hotel_Name']==Hotel]\n",
    "    TEMP=TEMP.reset_index()\n",
    "    Hotel_name=np.append(Hotel_name,Hotel)\n",
    "    \n",
    "    mean_reviewer_score=np.append(mean_reviewer_score, TEMP['Reviewer_Score'].mean())"
   ]
  },
  {
   "cell_type": "code",
   "execution_count": 9,
   "metadata": {
    "collapsed": true
   },
   "outputs": [],
   "source": [
    "column1=['Hotel_name','mean_reviewer_score']"
   ]
  },
  {
   "cell_type": "code",
   "execution_count": 10,
   "metadata": {
    "collapsed": true
   },
   "outputs": [],
   "source": [
    "data1=np.column_stack((Hotel_name, mean_reviewer_score))"
   ]
  },
  {
   "cell_type": "code",
   "execution_count": 11,
   "metadata": {},
   "outputs": [
    {
     "data": {
      "text/html": [
       "<div>\n",
       "<style>\n",
       "    .dataframe thead tr:only-child th {\n",
       "        text-align: right;\n",
       "    }\n",
       "\n",
       "    .dataframe thead th {\n",
       "        text-align: left;\n",
       "    }\n",
       "\n",
       "    .dataframe tbody tr th {\n",
       "        vertical-align: top;\n",
       "    }\n",
       "</style>\n",
       "<table border=\"1\" class=\"dataframe\">\n",
       "  <thead>\n",
       "    <tr style=\"text-align: right;\">\n",
       "      <th></th>\n",
       "      <th>mean_reviewer_score</th>\n",
       "    </tr>\n",
       "  </thead>\n",
       "  <tbody>\n",
       "    <tr>\n",
       "      <th>0</th>\n",
       "      <td>7.836296</td>\n",
       "    </tr>\n",
       "    <tr>\n",
       "      <th>1</th>\n",
       "      <td>8.602827</td>\n",
       "    </tr>\n",
       "    <tr>\n",
       "      <th>2</th>\n",
       "      <td>9.298843</td>\n",
       "    </tr>\n",
       "    <tr>\n",
       "      <th>3</th>\n",
       "      <td>7.711469</td>\n",
       "    </tr>\n",
       "    <tr>\n",
       "      <th>4</th>\n",
       "      <td>8.848571</td>\n",
       "    </tr>\n",
       "  </tbody>\n",
       "</table>\n",
       "</div>"
      ],
      "text/plain": [
       "   mean_reviewer_score\n",
       "0             7.836296\n",
       "1             8.602827\n",
       "2             9.298843\n",
       "3             7.711469\n",
       "4             8.848571"
      ]
     },
     "execution_count": 11,
     "metadata": {},
     "output_type": "execute_result"
    }
   ],
   "source": [
    "HotelReviews=pd.DataFrame(data1, columns=column1)\n",
    "HotelReviews['mean_reviewer_score']=pd.to_numeric(HotelReviews['mean_reviewer_score'])\n",
    "HotelReviews=HotelReviews[['mean_reviewer_score']]\n",
    "HotelReviews.head()"
   ]
  },
  {
   "cell_type": "code",
   "execution_count": null,
   "metadata": {
    "collapsed": true
   },
   "outputs": [],
   "source": []
  },
  {
   "cell_type": "code",
   "execution_count": 12,
   "metadata": {
    "scrolled": true
   },
   "outputs": [
    {
     "name": "stderr",
     "output_type": "stream",
     "text": [
      "/anaconda3/lib/python3.6/site-packages/ipykernel_launcher.py:4: SettingWithCopyWarning: \n",
      "A value is trying to be set on a copy of a slice from a DataFrame.\n",
      "Try using .loc[row_indexer,col_indexer] = value instead\n",
      "\n",
      "See the caveats in the documentation: http://pandas.pydata.org/pandas-docs/stable/indexing.html#indexing-view-versus-copy\n",
      "  after removing the cwd from sys.path.\n"
     ]
    },
    {
     "data": {
      "text/html": [
       "<div>\n",
       "<style>\n",
       "    .dataframe thead tr:only-child th {\n",
       "        text-align: right;\n",
       "    }\n",
       "\n",
       "    .dataframe thead th {\n",
       "        text-align: left;\n",
       "    }\n",
       "\n",
       "    .dataframe tbody tr th {\n",
       "        vertical-align: top;\n",
       "    }\n",
       "</style>\n",
       "<table border=\"1\" class=\"dataframe\">\n",
       "  <thead>\n",
       "    <tr style=\"text-align: right;\">\n",
       "      <th></th>\n",
       "      <th>Hotel_Name</th>\n",
       "      <th>transit_count</th>\n",
       "      <th>Review_Count</th>\n",
       "      <th>mean_reviewer_score</th>\n",
       "    </tr>\n",
       "  </thead>\n",
       "  <tbody>\n",
       "    <tr>\n",
       "      <th>0</th>\n",
       "      <td>Hotel Arena</td>\n",
       "      <td>0</td>\n",
       "      <td>405.0</td>\n",
       "      <td>7.836296</td>\n",
       "    </tr>\n",
       "    <tr>\n",
       "      <th>1</th>\n",
       "      <td>K K Hotel George</td>\n",
       "      <td>1</td>\n",
       "      <td>566.0</td>\n",
       "      <td>8.602827</td>\n",
       "    </tr>\n",
       "    <tr>\n",
       "      <th>2</th>\n",
       "      <td>Apex Temple Court Hotel</td>\n",
       "      <td>0</td>\n",
       "      <td>1037.0</td>\n",
       "      <td>9.298843</td>\n",
       "    </tr>\n",
       "    <tr>\n",
       "      <th>3</th>\n",
       "      <td>The Park Grand London Paddington</td>\n",
       "      <td>0</td>\n",
       "      <td>1770.0</td>\n",
       "      <td>7.711469</td>\n",
       "    </tr>\n",
       "    <tr>\n",
       "      <th>4</th>\n",
       "      <td>Monhotel Lounge SPA</td>\n",
       "      <td>0</td>\n",
       "      <td>35.0</td>\n",
       "      <td>8.848571</td>\n",
       "    </tr>\n",
       "    <tr>\n",
       "      <th>5</th>\n",
       "      <td>Kube Hotel Ice Bar</td>\n",
       "      <td>0</td>\n",
       "      <td>19.0</td>\n",
       "      <td>5.852632</td>\n",
       "    </tr>\n",
       "    <tr>\n",
       "      <th>6</th>\n",
       "      <td>The Principal London</td>\n",
       "      <td>0</td>\n",
       "      <td>1425.0</td>\n",
       "      <td>8.029333</td>\n",
       "    </tr>\n",
       "    <tr>\n",
       "      <th>7</th>\n",
       "      <td>Park Plaza County Hall London</td>\n",
       "      <td>0</td>\n",
       "      <td>2223.0</td>\n",
       "      <td>8.369546</td>\n",
       "    </tr>\n",
       "    <tr>\n",
       "      <th>8</th>\n",
       "      <td>One Aldwych</td>\n",
       "      <td>1</td>\n",
       "      <td>136.0</td>\n",
       "      <td>9.144853</td>\n",
       "    </tr>\n",
       "    <tr>\n",
       "      <th>9</th>\n",
       "      <td>Splendid Etoile</td>\n",
       "      <td>2</td>\n",
       "      <td>127.0</td>\n",
       "      <td>9.142520</td>\n",
       "    </tr>\n",
       "    <tr>\n",
       "      <th>10</th>\n",
       "      <td>Hotel Trianon Rive Gauche</td>\n",
       "      <td>0</td>\n",
       "      <td>218.0</td>\n",
       "      <td>8.330275</td>\n",
       "    </tr>\n",
       "    <tr>\n",
       "      <th>11</th>\n",
       "      <td>InterContinental London Park Lane</td>\n",
       "      <td>0</td>\n",
       "      <td>160.0</td>\n",
       "      <td>8.292500</td>\n",
       "    </tr>\n",
       "    <tr>\n",
       "      <th>12</th>\n",
       "      <td>Novotel Suites Paris Nord 18 me</td>\n",
       "      <td>0</td>\n",
       "      <td>180.0</td>\n",
       "      <td>7.029444</td>\n",
       "    </tr>\n",
       "    <tr>\n",
       "      <th>13</th>\n",
       "      <td>Grand Royale London Hyde Park</td>\n",
       "      <td>0</td>\n",
       "      <td>2958.0</td>\n",
       "      <td>7.615619</td>\n",
       "    </tr>\n",
       "    <tr>\n",
       "      <th>14</th>\n",
       "      <td>Milestone Hotel Kensington</td>\n",
       "      <td>0</td>\n",
       "      <td>86.0</td>\n",
       "      <td>9.572093</td>\n",
       "    </tr>\n",
       "    <tr>\n",
       "      <th>15</th>\n",
       "      <td>Crowne Plaza London Kings Cross</td>\n",
       "      <td>0</td>\n",
       "      <td>1007.0</td>\n",
       "      <td>7.958292</td>\n",
       "    </tr>\n",
       "    <tr>\n",
       "      <th>16</th>\n",
       "      <td>Select Hotel</td>\n",
       "      <td>0</td>\n",
       "      <td>256.0</td>\n",
       "      <td>8.961328</td>\n",
       "    </tr>\n",
       "    <tr>\n",
       "      <th>17</th>\n",
       "      <td>H tel De Vend me</td>\n",
       "      <td>0</td>\n",
       "      <td>89.0</td>\n",
       "      <td>8.385393</td>\n",
       "    </tr>\n",
       "    <tr>\n",
       "      <th>18</th>\n",
       "      <td>Pullman Paris Centre Bercy</td>\n",
       "      <td>1</td>\n",
       "      <td>224.0</td>\n",
       "      <td>8.758482</td>\n",
       "    </tr>\n",
       "    <tr>\n",
       "      <th>19</th>\n",
       "      <td>Gardette Park Hotel</td>\n",
       "      <td>0</td>\n",
       "      <td>179.0</td>\n",
       "      <td>8.141341</td>\n",
       "    </tr>\n",
       "    <tr>\n",
       "      <th>20</th>\n",
       "      <td>Hotel Panache</td>\n",
       "      <td>0</td>\n",
       "      <td>82.0</td>\n",
       "      <td>8.489024</td>\n",
       "    </tr>\n",
       "    <tr>\n",
       "      <th>21</th>\n",
       "      <td>H tel des Ducs D Anjou</td>\n",
       "      <td>0</td>\n",
       "      <td>108.0</td>\n",
       "      <td>7.820370</td>\n",
       "    </tr>\n",
       "    <tr>\n",
       "      <th>22</th>\n",
       "      <td>Hotel Scribe Paris Opera by Sofitel</td>\n",
       "      <td>3</td>\n",
       "      <td>135.0</td>\n",
       "      <td>8.777778</td>\n",
       "    </tr>\n",
       "    <tr>\n",
       "      <th>23</th>\n",
       "      <td>Novotel London West</td>\n",
       "      <td>0</td>\n",
       "      <td>1283.0</td>\n",
       "      <td>8.242245</td>\n",
       "    </tr>\n",
       "    <tr>\n",
       "      <th>24</th>\n",
       "      <td>Haymarket Hotel</td>\n",
       "      <td>0</td>\n",
       "      <td>121.0</td>\n",
       "      <td>9.590909</td>\n",
       "    </tr>\n",
       "    <tr>\n",
       "      <th>25</th>\n",
       "      <td>Intercontinental London The O2</td>\n",
       "      <td>0</td>\n",
       "      <td>2551.0</td>\n",
       "      <td>9.451196</td>\n",
       "    </tr>\n",
       "    <tr>\n",
       "      <th>26</th>\n",
       "      <td>H tel Juliana Paris</td>\n",
       "      <td>0</td>\n",
       "      <td>169.0</td>\n",
       "      <td>8.577515</td>\n",
       "    </tr>\n",
       "    <tr>\n",
       "      <th>27</th>\n",
       "      <td>Hotel L Antoine</td>\n",
       "      <td>0</td>\n",
       "      <td>171.0</td>\n",
       "      <td>9.142105</td>\n",
       "    </tr>\n",
       "    <tr>\n",
       "      <th>28</th>\n",
       "      <td>Belfast</td>\n",
       "      <td>0</td>\n",
       "      <td>86.0</td>\n",
       "      <td>7.752326</td>\n",
       "    </tr>\n",
       "    <tr>\n",
       "      <th>29</th>\n",
       "      <td>Shangri La Hotel Paris</td>\n",
       "      <td>1</td>\n",
       "      <td>46.0</td>\n",
       "      <td>9.102174</td>\n",
       "    </tr>\n",
       "    <tr>\n",
       "      <th>...</th>\n",
       "      <td>...</td>\n",
       "      <td>...</td>\n",
       "      <td>...</td>\n",
       "      <td>...</td>\n",
       "    </tr>\n",
       "    <tr>\n",
       "      <th>1462</th>\n",
       "      <td>Hotel Vilamar</td>\n",
       "      <td>0</td>\n",
       "      <td>352.0</td>\n",
       "      <td>7.651420</td>\n",
       "    </tr>\n",
       "    <tr>\n",
       "      <th>1463</th>\n",
       "      <td>Vilana Hotel</td>\n",
       "      <td>1</td>\n",
       "      <td>28.0</td>\n",
       "      <td>8.771429</td>\n",
       "    </tr>\n",
       "    <tr>\n",
       "      <th>1464</th>\n",
       "      <td>Acevi Villarroel</td>\n",
       "      <td>1</td>\n",
       "      <td>522.0</td>\n",
       "      <td>8.078544</td>\n",
       "    </tr>\n",
       "    <tr>\n",
       "      <th>1465</th>\n",
       "      <td>Hotel Arkadenhof</td>\n",
       "      <td>0</td>\n",
       "      <td>223.0</td>\n",
       "      <td>8.030045</td>\n",
       "    </tr>\n",
       "    <tr>\n",
       "      <th>1466</th>\n",
       "      <td>Hotel Vondel Amsterdam</td>\n",
       "      <td>0</td>\n",
       "      <td>389.0</td>\n",
       "      <td>7.695630</td>\n",
       "    </tr>\n",
       "    <tr>\n",
       "      <th>1469</th>\n",
       "      <td>Park Inn by Radisson Uno City Vienna</td>\n",
       "      <td>1</td>\n",
       "      <td>41.0</td>\n",
       "      <td>9.126829</td>\n",
       "    </tr>\n",
       "    <tr>\n",
       "      <th>1470</th>\n",
       "      <td>NH Danube City</td>\n",
       "      <td>1</td>\n",
       "      <td>143.0</td>\n",
       "      <td>8.465035</td>\n",
       "    </tr>\n",
       "    <tr>\n",
       "      <th>1471</th>\n",
       "      <td>Strandhotel Alte Donau</td>\n",
       "      <td>0</td>\n",
       "      <td>151.0</td>\n",
       "      <td>8.231126</td>\n",
       "    </tr>\n",
       "    <tr>\n",
       "      <th>1472</th>\n",
       "      <td>ARCOTEL Kaiserwasser Superior</td>\n",
       "      <td>0</td>\n",
       "      <td>390.0</td>\n",
       "      <td>8.048718</td>\n",
       "    </tr>\n",
       "    <tr>\n",
       "      <th>1473</th>\n",
       "      <td>Mercure Hotel Raphael Wien</td>\n",
       "      <td>0</td>\n",
       "      <td>150.0</td>\n",
       "      <td>8.880667</td>\n",
       "    </tr>\n",
       "    <tr>\n",
       "      <th>1474</th>\n",
       "      <td>Arthotel ANA Boutique Six</td>\n",
       "      <td>0</td>\n",
       "      <td>388.0</td>\n",
       "      <td>9.217268</td>\n",
       "    </tr>\n",
       "    <tr>\n",
       "      <th>1475</th>\n",
       "      <td>Austria Trend Hotel Anatol Wien</td>\n",
       "      <td>0</td>\n",
       "      <td>657.0</td>\n",
       "      <td>8.545053</td>\n",
       "    </tr>\n",
       "    <tr>\n",
       "      <th>1476</th>\n",
       "      <td>Hotel Kaiserin Elisabeth</td>\n",
       "      <td>0</td>\n",
       "      <td>413.0</td>\n",
       "      <td>8.505811</td>\n",
       "    </tr>\n",
       "    <tr>\n",
       "      <th>1477</th>\n",
       "      <td>Boutique Hotel Notting Hill</td>\n",
       "      <td>1</td>\n",
       "      <td>541.0</td>\n",
       "      <td>8.122181</td>\n",
       "    </tr>\n",
       "    <tr>\n",
       "      <th>1478</th>\n",
       "      <td>Crowne Plaza London Ealing</td>\n",
       "      <td>0</td>\n",
       "      <td>4169.0</td>\n",
       "      <td>8.652866</td>\n",
       "    </tr>\n",
       "    <tr>\n",
       "      <th>1479</th>\n",
       "      <td>Good Hotel London</td>\n",
       "      <td>0</td>\n",
       "      <td>289.0</td>\n",
       "      <td>8.308997</td>\n",
       "    </tr>\n",
       "    <tr>\n",
       "      <th>1480</th>\n",
       "      <td>Park Plaza Westminster Bridge London</td>\n",
       "      <td>0</td>\n",
       "      <td>67.0</td>\n",
       "      <td>8.408955</td>\n",
       "    </tr>\n",
       "    <tr>\n",
       "      <th>1481</th>\n",
       "      <td>Hotel du Vin Cannizaro House Wimbledon</td>\n",
       "      <td>0</td>\n",
       "      <td>467.0</td>\n",
       "      <td>8.429122</td>\n",
       "    </tr>\n",
       "    <tr>\n",
       "      <th>1482</th>\n",
       "      <td>Amsterdam Canal Residence</td>\n",
       "      <td>0</td>\n",
       "      <td>213.0</td>\n",
       "      <td>9.486854</td>\n",
       "    </tr>\n",
       "    <tr>\n",
       "      <th>1483</th>\n",
       "      <td>Thistle Trafalgar Square The Royal Trafalgar</td>\n",
       "      <td>0</td>\n",
       "      <td>1576.0</td>\n",
       "      <td>8.820241</td>\n",
       "    </tr>\n",
       "    <tr>\n",
       "      <th>1484</th>\n",
       "      <td>Corinthia Hotel London</td>\n",
       "      <td>1</td>\n",
       "      <td>511.0</td>\n",
       "      <td>8.425636</td>\n",
       "    </tr>\n",
       "    <tr>\n",
       "      <th>1485</th>\n",
       "      <td>The Student Hotel Amsterdam City</td>\n",
       "      <td>0</td>\n",
       "      <td>601.0</td>\n",
       "      <td>8.830616</td>\n",
       "    </tr>\n",
       "    <tr>\n",
       "      <th>1486</th>\n",
       "      <td>Hotel Prinz Eugen</td>\n",
       "      <td>0</td>\n",
       "      <td>42.0</td>\n",
       "      <td>8.045238</td>\n",
       "    </tr>\n",
       "    <tr>\n",
       "      <th>1487</th>\n",
       "      <td>Hotel Erzherzog Rainer</td>\n",
       "      <td>0</td>\n",
       "      <td>439.0</td>\n",
       "      <td>8.021185</td>\n",
       "    </tr>\n",
       "    <tr>\n",
       "      <th>1488</th>\n",
       "      <td>Das Triest Hotel</td>\n",
       "      <td>0</td>\n",
       "      <td>144.0</td>\n",
       "      <td>8.929861</td>\n",
       "    </tr>\n",
       "    <tr>\n",
       "      <th>1489</th>\n",
       "      <td>Suite Hotel 900 m zur Oper</td>\n",
       "      <td>0</td>\n",
       "      <td>100.0</td>\n",
       "      <td>9.064000</td>\n",
       "    </tr>\n",
       "    <tr>\n",
       "      <th>1490</th>\n",
       "      <td>Hotel Amadeus</td>\n",
       "      <td>0</td>\n",
       "      <td>2768.0</td>\n",
       "      <td>7.723591</td>\n",
       "    </tr>\n",
       "    <tr>\n",
       "      <th>1491</th>\n",
       "      <td>The Berkeley</td>\n",
       "      <td>0</td>\n",
       "      <td>325.0</td>\n",
       "      <td>7.760000</td>\n",
       "    </tr>\n",
       "    <tr>\n",
       "      <th>1492</th>\n",
       "      <td>Holiday Inn London Kensington</td>\n",
       "      <td>0</td>\n",
       "      <td>NaN</td>\n",
       "      <td>NaN</td>\n",
       "    </tr>\n",
       "    <tr>\n",
       "      <th>1493</th>\n",
       "      <td>Atlantis Hotel Vienna</td>\n",
       "      <td>0</td>\n",
       "      <td>NaN</td>\n",
       "      <td>NaN</td>\n",
       "    </tr>\n",
       "  </tbody>\n",
       "</table>\n",
       "<p>1477 rows × 4 columns</p>\n",
       "</div>"
      ],
      "text/plain": [
       "                                        Hotel_Name  transit_count  \\\n",
       "0                                      Hotel Arena              0   \n",
       "1                                 K K Hotel George              1   \n",
       "2                          Apex Temple Court Hotel              0   \n",
       "3                 The Park Grand London Paddington              0   \n",
       "4                              Monhotel Lounge SPA              0   \n",
       "5                               Kube Hotel Ice Bar              0   \n",
       "6                             The Principal London              0   \n",
       "7                    Park Plaza County Hall London              0   \n",
       "8                                      One Aldwych              1   \n",
       "9                                  Splendid Etoile              2   \n",
       "10                       Hotel Trianon Rive Gauche              0   \n",
       "11               InterContinental London Park Lane              0   \n",
       "12                 Novotel Suites Paris Nord 18 me              0   \n",
       "13                   Grand Royale London Hyde Park              0   \n",
       "14                      Milestone Hotel Kensington              0   \n",
       "15                 Crowne Plaza London Kings Cross              0   \n",
       "16                                    Select Hotel              0   \n",
       "17                                H tel De Vend me              0   \n",
       "18                      Pullman Paris Centre Bercy              1   \n",
       "19                             Gardette Park Hotel              0   \n",
       "20                                   Hotel Panache              0   \n",
       "21                          H tel des Ducs D Anjou              0   \n",
       "22             Hotel Scribe Paris Opera by Sofitel              3   \n",
       "23                             Novotel London West              0   \n",
       "24                                 Haymarket Hotel              0   \n",
       "25                  Intercontinental London The O2              0   \n",
       "26                             H tel Juliana Paris              0   \n",
       "27                                 Hotel L Antoine              0   \n",
       "28                                         Belfast              0   \n",
       "29                          Shangri La Hotel Paris              1   \n",
       "...                                            ...            ...   \n",
       "1462                                Hotel Vilamar               0   \n",
       "1463                                  Vilana Hotel              1   \n",
       "1464                              Acevi Villarroel              1   \n",
       "1465                              Hotel Arkadenhof              0   \n",
       "1466                        Hotel Vondel Amsterdam              0   \n",
       "1469          Park Inn by Radisson Uno City Vienna              1   \n",
       "1470                                NH Danube City              1   \n",
       "1471                        Strandhotel Alte Donau              0   \n",
       "1472                 ARCOTEL Kaiserwasser Superior              0   \n",
       "1473                    Mercure Hotel Raphael Wien              0   \n",
       "1474                     Arthotel ANA Boutique Six              0   \n",
       "1475               Austria Trend Hotel Anatol Wien              0   \n",
       "1476                      Hotel Kaiserin Elisabeth              0   \n",
       "1477                   Boutique Hotel Notting Hill              1   \n",
       "1478                    Crowne Plaza London Ealing              0   \n",
       "1479                             Good Hotel London              0   \n",
       "1480          Park Plaza Westminster Bridge London              0   \n",
       "1481        Hotel du Vin Cannizaro House Wimbledon              0   \n",
       "1482                     Amsterdam Canal Residence              0   \n",
       "1483  Thistle Trafalgar Square The Royal Trafalgar              0   \n",
       "1484                        Corinthia Hotel London              1   \n",
       "1485              The Student Hotel Amsterdam City              0   \n",
       "1486                             Hotel Prinz Eugen              0   \n",
       "1487                        Hotel Erzherzog Rainer              0   \n",
       "1488                              Das Triest Hotel              0   \n",
       "1489                    Suite Hotel 900 m zur Oper              0   \n",
       "1490                                 Hotel Amadeus              0   \n",
       "1491                                  The Berkeley              0   \n",
       "1492                 Holiday Inn London Kensington              0   \n",
       "1493                         Atlantis Hotel Vienna              0   \n",
       "\n",
       "      Review_Count  mean_reviewer_score  \n",
       "0            405.0             7.836296  \n",
       "1            566.0             8.602827  \n",
       "2           1037.0             9.298843  \n",
       "3           1770.0             7.711469  \n",
       "4             35.0             8.848571  \n",
       "5             19.0             5.852632  \n",
       "6           1425.0             8.029333  \n",
       "7           2223.0             8.369546  \n",
       "8            136.0             9.144853  \n",
       "9            127.0             9.142520  \n",
       "10           218.0             8.330275  \n",
       "11           160.0             8.292500  \n",
       "12           180.0             7.029444  \n",
       "13          2958.0             7.615619  \n",
       "14            86.0             9.572093  \n",
       "15          1007.0             7.958292  \n",
       "16           256.0             8.961328  \n",
       "17            89.0             8.385393  \n",
       "18           224.0             8.758482  \n",
       "19           179.0             8.141341  \n",
       "20            82.0             8.489024  \n",
       "21           108.0             7.820370  \n",
       "22           135.0             8.777778  \n",
       "23          1283.0             8.242245  \n",
       "24           121.0             9.590909  \n",
       "25          2551.0             9.451196  \n",
       "26           169.0             8.577515  \n",
       "27           171.0             9.142105  \n",
       "28            86.0             7.752326  \n",
       "29            46.0             9.102174  \n",
       "...            ...                  ...  \n",
       "1462         352.0             7.651420  \n",
       "1463          28.0             8.771429  \n",
       "1464         522.0             8.078544  \n",
       "1465         223.0             8.030045  \n",
       "1466         389.0             7.695630  \n",
       "1469          41.0             9.126829  \n",
       "1470         143.0             8.465035  \n",
       "1471         151.0             8.231126  \n",
       "1472         390.0             8.048718  \n",
       "1473         150.0             8.880667  \n",
       "1474         388.0             9.217268  \n",
       "1475         657.0             8.545053  \n",
       "1476         413.0             8.505811  \n",
       "1477         541.0             8.122181  \n",
       "1478        4169.0             8.652866  \n",
       "1479         289.0             8.308997  \n",
       "1480          67.0             8.408955  \n",
       "1481         467.0             8.429122  \n",
       "1482         213.0             9.486854  \n",
       "1483        1576.0             8.820241  \n",
       "1484         511.0             8.425636  \n",
       "1485         601.0             8.830616  \n",
       "1486          42.0             8.045238  \n",
       "1487         439.0             8.021185  \n",
       "1488         144.0             8.929861  \n",
       "1489         100.0             9.064000  \n",
       "1490        2768.0             7.723591  \n",
       "1491         325.0             7.760000  \n",
       "1492           NaN                  NaN  \n",
       "1493           NaN                  NaN  \n",
       "\n",
       "[1477 rows x 4 columns]"
      ]
     },
     "execution_count": 12,
     "metadata": {},
     "output_type": "execute_result"
    }
   ],
   "source": [
    "Connections=pd.concat([Transit_Reviews, HotelReviews], ignore_index=False, axis=1)\n",
    "Connect = Connections[Connections.transit_count!='-']\n",
    "\n",
    "Connect['transit_count']=Connect['transit_count'].astype(str).astype(int)\n",
    "Connect"
   ]
  },
  {
   "cell_type": "code",
   "execution_count": 13,
   "metadata": {
    "collapsed": true
   },
   "outputs": [],
   "source": [
    "TransitGroups=Connect.transit_count.unique()"
   ]
  },
  {
   "cell_type": "code",
   "execution_count": 14,
   "metadata": {},
   "outputs": [
    {
     "data": {
      "text/plain": [
       "7"
      ]
     },
     "execution_count": 14,
     "metadata": {},
     "output_type": "execute_result"
    }
   ],
   "source": [
    "TransitGroups.size"
   ]
  },
  {
   "cell_type": "code",
   "execution_count": 15,
   "metadata": {},
   "outputs": [
    {
     "data": {
      "text/plain": [
       "0    1103\n",
       "1     220\n",
       "2      74\n",
       "3      41\n",
       "4      29\n",
       "5       9\n",
       "9       1\n",
       "Name: transit_count, dtype: int64"
      ]
     },
     "execution_count": 15,
     "metadata": {},
     "output_type": "execute_result"
    }
   ],
   "source": [
    "Connect['transit_count'].value_counts().sort_values(ascending=False)"
   ]
  },
  {
   "cell_type": "code",
   "execution_count": 39,
   "metadata": {},
   "outputs": [
    {
     "data": {
      "text/plain": [
       "transit_count\n",
       "(-1, 2]    1397.0\n",
       "(2, 4]       70.0\n",
       "(4, 6]        9.0\n",
       "(8, 20]       1.0\n",
       "dtype: float64"
      ]
     },
     "execution_count": 39,
     "metadata": {},
     "output_type": "execute_result"
    }
   ],
   "source": [
    "bins = [-1, 2, 4,6,8, 20]\n",
    "groups=Connect.groupby(['transit_count',pd.cut(Connect.transit_count, bins)])\n",
    "Transits = groups.size().unstack().sum()\n",
    "Transits"
   ]
  },
  {
   "cell_type": "code",
   "execution_count": 40,
   "metadata": {},
   "outputs": [
    {
     "data": {
      "image/png": "[encoded data removed]",
      "text/plain": [
       "<matplotlib.figure.Figure at 0x1a16da2da0>"
      ]
     },
     "metadata": {},
     "output_type": "display_data"
    }
   ],
   "source": [
    "Transits.plot('bar')\n",
    "plt.show()"
   ]
  },
  {
   "cell_type": "code",
   "execution_count": 41,
   "metadata": {},
   "outputs": [
    {
     "data": {
      "text/plain": [
       "8.469292033870431"
      ]
     },
     "execution_count": 41,
     "metadata": {},
     "output_type": "execute_result"
    }
   ],
   "source": [
    "Con1 = Connect[Connect.transit_count<3].mean_reviewer_score.mean()\n",
    "Con1"
   ]
  },
  {
   "cell_type": "code",
   "execution_count": 42,
   "metadata": {},
   "outputs": [
    {
     "data": {
      "text/plain": [
       "8.419216200055471"
      ]
     },
     "execution_count": 42,
     "metadata": {},
     "output_type": "execute_result"
    }
   ],
   "source": [
    "Con2 = Connect[(Connect['transit_count']>2) & (Connect['transit_count']<5)].mean_reviewer_score.mean()\n",
    "Con2"
   ]
  },
  {
   "cell_type": "code",
   "execution_count": 43,
   "metadata": {},
   "outputs": [
    {
     "data": {
      "text/plain": [
       "8.714067213824121"
      ]
     },
     "execution_count": 43,
     "metadata": {},
     "output_type": "execute_result"
    }
   ],
   "source": [
    "Con3 = Connect[(Connect['transit_count']>4) & (Connect['transit_count']<7)].mean_reviewer_score.mean()\n",
    "Con3"
   ]
  },
  {
   "cell_type": "code",
   "execution_count": 44,
   "metadata": {},
   "outputs": [
    {
     "data": {
      "text/plain": [
       "nan"
      ]
     },
     "execution_count": 44,
     "metadata": {},
     "output_type": "execute_result"
    }
   ],
   "source": [
    "Con4 = Connect[(Connect['transit_count']>6) & (Connect['transit_count']<9)].mean_reviewer_score.mean()\n",
    "Con4"
   ]
  },
  {
   "cell_type": "code",
   "execution_count": 45,
   "metadata": {},
   "outputs": [
    {
     "data": {
      "text/plain": [
       "8.271559633027525"
      ]
     },
     "execution_count": 45,
     "metadata": {},
     "output_type": "execute_result"
    }
   ],
   "source": [
    "Con5 = Connect[(Connect['transit_count']>8) & (Connect['transit_count']<11)].mean_reviewer_score.mean()\n",
    "Con5"
   ]
  },
  {
   "cell_type": "code",
   "execution_count": 49,
   "metadata": {
    "scrolled": true
   },
   "outputs": [
    {
     "data": {
      "text/plain": [
       "Text(0,0.5,'Number of Hotels')"
      ]
     },
     "execution_count": 49,
     "metadata": {},
     "output_type": "execute_result"
    },
    {
     "data": {
      "image/png": "[encoded data removed]",
      "text/plain": [
       "<matplotlib.figure.Figure at 0x1a21142160>"
      ]
     },
     "metadata": {},
     "output_type": "display_data"
    }
   ],
   "source": [
    "hist_plot = Connect['transit_count'].hist(bins=15)\n",
    "hist_plot.set_title('Transit Points Histogram (50 meters)')\n",
    "hist_plot.set_xlabel('Number of Transit Points')\n",
    "hist_plot.set_ylabel('Number of Hotels')"
   ]
  },
  {
   "cell_type": "code",
   "execution_count": null,
   "metadata": {
    "collapsed": true
   },
   "outputs": [],
   "source": []
  },
  {
   "cell_type": "code",
   "execution_count": null,
   "metadata": {
    "collapsed": true
   },
   "outputs": [],
   "source": []
  },
  {
   "cell_type": "code",
   "execution_count": null,
   "metadata": {
    "collapsed": true
   },
   "outputs": [],
   "source": []
  },
  {
   "cell_type": "code",
   "execution_count": null,
   "metadata": {
    "collapsed": true
   },
   "outputs": [],
   "source": []
  },
  {
   "cell_type": "code",
   "execution_count": null,
   "metadata": {
    "collapsed": true
   },
   "outputs": [],
   "source": []
  },
  {
   "cell_type": "code",
   "execution_count": null,
   "metadata": {
    "collapsed": true
   },
   "outputs": [],
   "source": []
  },
  {
   "cell_type": "code",
   "execution_count": null,
   "metadata": {
    "collapsed": true
   },
   "outputs": [],
   "source": []
  },
  {
   "cell_type": "code",
   "execution_count": null,
   "metadata": {
    "collapsed": true
   },
   "outputs": [],
   "source": []
  },
  {
   "cell_type": "code",
   "execution_count": null,
   "metadata": {
    "collapsed": true
   },
   "outputs": [],
   "source": []
  },
  {
   "cell_type": "code",
   "execution_count": null,
   "metadata": {
    "collapsed": true
   },
   "outputs": [],
   "source": []
  },
  {
   "cell_type": "code",
   "execution_count": null,
   "metadata": {
    "collapsed": true
   },
   "outputs": [],
   "source": []
  }
 ],
 "metadata": {
  "kernelspec": {
   "display_name": "Python 3",
   "language": "python",
   "name": "python3"
  },
  "language_info": {
   "codemirror_mode": {
    "name": "ipython",
    "version": 3
   },
   "file_extension": ".py",
   "mimetype": "text/x-python",
   "name": "python",
   "nbconvert_exporter": "python",
   "pygments_lexer": "ipython3",
   "version": "3.6.3"
  }
 },
 "nbformat": 4,
 "nbformat_minor": 2
}
